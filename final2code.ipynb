{
  "nbformat": 4,
  "nbformat_minor": 0,
  "metadata": {
    "colab": {
      "provenance": [],
      "gpuType": "A100"
    },
    "kernelspec": {
      "name": "python3",
      "display_name": "Python 3"
    },
    "language_info": {
      "name": "python"
    },
    "accelerator": "GPU"
  },
  "cells": [
    {
      "cell_type": "code",
      "execution_count": null,
      "metadata": {
        "id": "oqMABOkBwlqs"
      },
      "outputs": [],
      "source": []
    },
    {
      "cell_type": "code",
      "execution_count": null,
      "metadata": {
        "colab": {
          "base_uri": "https://localhost:8080/"
        },
        "id": "uJfhHv34D5vp",
        "outputId": "f3d3e2f8-84ac-43cf-f553-923ff3ea0a09"
      },
      "outputs": [
        {
          "output_type": "stream",
          "name": "stdout",
          "text": [
            "Drive already mounted at /content/drive; to attempt to forcibly remount, call drive.mount(\"/content/drive\", force_remount=True).\n"
          ]
        }
      ],
      "source": [
        "from google.colab import drive\n",
        "drive.mount('/content/drive')"
      ]
    },
    {
      "cell_type": "code",
      "execution_count": null,
      "metadata": {
        "id": "STLo_fRQEIEf"
      },
      "outputs": [],
      "source": [
        "from transformers import Wav2Vec2Processor, Wav2Vec2Model\n",
        "import torch.nn as nn\n",
        "import torch.optim as optim\n",
        "from torch.utils.data import Dataset, DataLoader"
      ]
    },
    {
      "cell_type": "code",
      "execution_count": null,
      "metadata": {
        "id": "4YF1S_-QEc2m"
      },
      "outputs": [],
      "source": [
        "import librosa\n",
        "import librosa.display\n",
        "import numpy as np\n",
        "import matplotlib.pyplot as plt\n",
        "import scipy.signal as signal\n",
        "from transformers import Wav2Vec2Processor, Wav2Vec2Model\n",
        "import torch.nn as nn\n",
        "import torch.optim as optim\n",
        "from torch.utils.data import Dataset, DataLoader"
      ]
    },
    {
      "cell_type": "code",
      "source": [
        "labels_file = '/content/drive/MyDrive/ICBHI_final_database/labels.txt'\n"
      ],
      "metadata": {
        "id": "08dGkPDG3v91"
      },
      "execution_count": null,
      "outputs": []
    },
    {
      "cell_type": "code",
      "execution_count": null,
      "metadata": {
        "id": "49PeRgRCPprf"
      },
      "outputs": [],
      "source": [
        "def load_name_to_dataframe(embedding_dir):\n",
        "    labels_df = pd.read_csv(labels_file, sep='\\t', header=None, names=['id', 'label'])\n",
        "\n",
        "    # Create a dictionary mapping from ID to label\n",
        "    id_to_label = dict(zip(labels_df['id'], labels_df['label']))\n",
        "\n",
        "    data = []\n",
        "    for root, _, files in os.walk(embedding_dir):\n",
        "        for file in files:\n",
        "            if file.endswith(\".wav\"):\n",
        "                file_id = int(file.split('_')[0])\n",
        "                label = id_to_label[file_id]\n",
        "                file_path = os.path.join(root, file)\n",
        "                data.append({\n",
        "                    \"id\": file_id,\n",
        "                    \"file_path\": file_path,\n",
        "                    \"label\": label\n",
        "                })\n",
        "\n",
        "    df = pd.DataFrame(data)\n",
        "    return df"
      ]
    },
    {
      "cell_type": "code",
      "source": [
        "df_names = load_name_to_dataframe(\"/content/drive/MyDrive/ICBHI_final_database/ICBHI_final_database\")"
      ],
      "metadata": {
        "id": "0Dbzj3bG4U7c"
      },
      "execution_count": null,
      "outputs": []
    },
    {
      "cell_type": "code",
      "source": [
        "df_names.head()"
      ],
      "metadata": {
        "colab": {
          "base_uri": "https://localhost:8080/",
          "height": 206
        },
        "id": "p13tsPh94Yas",
        "outputId": "9bb5b8d5-3150-476f-b898-2e928e60fff2"
      },
      "execution_count": null,
      "outputs": [
        {
          "output_type": "execute_result",
          "data": {
            "text/plain": [
              "    id                                          file_path label\n",
              "0  204  /content/drive/MyDrive/ICBHI_final_database/IC...  COPD\n",
              "1  204  /content/drive/MyDrive/ICBHI_final_database/IC...  COPD\n",
              "2  204  /content/drive/MyDrive/ICBHI_final_database/IC...  COPD\n",
              "3  204  /content/drive/MyDrive/ICBHI_final_database/IC...  COPD\n",
              "4  204  /content/drive/MyDrive/ICBHI_final_database/IC...  COPD"
            ],
            "text/html": [
              "\n",
              "  <div id=\"df-8afb812d-99b0-4f7e-acf4-098699e4ab2b\" class=\"colab-df-container\">\n",
              "    <div>\n",
              "<style scoped>\n",
              "    .dataframe tbody tr th:only-of-type {\n",
              "        vertical-align: middle;\n",
              "    }\n",
              "\n",
              "    .dataframe tbody tr th {\n",
              "        vertical-align: top;\n",
              "    }\n",
              "\n",
              "    .dataframe thead th {\n",
              "        text-align: right;\n",
              "    }\n",
              "</style>\n",
              "<table border=\"1\" class=\"dataframe\">\n",
              "  <thead>\n",
              "    <tr style=\"text-align: right;\">\n",
              "      <th></th>\n",
              "      <th>id</th>\n",
              "      <th>file_path</th>\n",
              "      <th>label</th>\n",
              "    </tr>\n",
              "  </thead>\n",
              "  <tbody>\n",
              "    <tr>\n",
              "      <th>0</th>\n",
              "      <td>204</td>\n",
              "      <td>/content/drive/MyDrive/ICBHI_final_database/IC...</td>\n",
              "      <td>COPD</td>\n",
              "    </tr>\n",
              "    <tr>\n",
              "      <th>1</th>\n",
              "      <td>204</td>\n",
              "      <td>/content/drive/MyDrive/ICBHI_final_database/IC...</td>\n",
              "      <td>COPD</td>\n",
              "    </tr>\n",
              "    <tr>\n",
              "      <th>2</th>\n",
              "      <td>204</td>\n",
              "      <td>/content/drive/MyDrive/ICBHI_final_database/IC...</td>\n",
              "      <td>COPD</td>\n",
              "    </tr>\n",
              "    <tr>\n",
              "      <th>3</th>\n",
              "      <td>204</td>\n",
              "      <td>/content/drive/MyDrive/ICBHI_final_database/IC...</td>\n",
              "      <td>COPD</td>\n",
              "    </tr>\n",
              "    <tr>\n",
              "      <th>4</th>\n",
              "      <td>204</td>\n",
              "      <td>/content/drive/MyDrive/ICBHI_final_database/IC...</td>\n",
              "      <td>COPD</td>\n",
              "    </tr>\n",
              "  </tbody>\n",
              "</table>\n",
              "</div>\n",
              "    <div class=\"colab-df-buttons\">\n",
              "\n",
              "  <div class=\"colab-df-container\">\n",
              "    <button class=\"colab-df-convert\" onclick=\"convertToInteractive('df-8afb812d-99b0-4f7e-acf4-098699e4ab2b')\"\n",
              "            title=\"Convert this dataframe to an interactive table.\"\n",
              "            style=\"display:none;\">\n",
              "\n",
              "  <svg xmlns=\"http://www.w3.org/2000/svg\" height=\"24px\" viewBox=\"0 -960 960 960\">\n",
              "    <path d=\"M120-120v-720h720v720H120Zm60-500h600v-160H180v160Zm220 220h160v-160H400v160Zm0 220h160v-160H400v160ZM180-400h160v-160H180v160Zm440 0h160v-160H620v160ZM180-180h160v-160H180v160Zm440 0h160v-160H620v160Z\"/>\n",
              "  </svg>\n",
              "    </button>\n",
              "\n",
              "  <style>\n",
              "    .colab-df-container {\n",
              "      display:flex;\n",
              "      gap: 12px;\n",
              "    }\n",
              "\n",
              "    .colab-df-convert {\n",
              "      background-color: #E8F0FE;\n",
              "      border: none;\n",
              "      border-radius: 50%;\n",
              "      cursor: pointer;\n",
              "      display: none;\n",
              "      fill: #1967D2;\n",
              "      height: 32px;\n",
              "      padding: 0 0 0 0;\n",
              "      width: 32px;\n",
              "    }\n",
              "\n",
              "    .colab-df-convert:hover {\n",
              "      background-color: #E2EBFA;\n",
              "      box-shadow: 0px 1px 2px rgba(60, 64, 67, 0.3), 0px 1px 3px 1px rgba(60, 64, 67, 0.15);\n",
              "      fill: #174EA6;\n",
              "    }\n",
              "\n",
              "    .colab-df-buttons div {\n",
              "      margin-bottom: 4px;\n",
              "    }\n",
              "\n",
              "    [theme=dark] .colab-df-convert {\n",
              "      background-color: #3B4455;\n",
              "      fill: #D2E3FC;\n",
              "    }\n",
              "\n",
              "    [theme=dark] .colab-df-convert:hover {\n",
              "      background-color: #434B5C;\n",
              "      box-shadow: 0px 1px 3px 1px rgba(0, 0, 0, 0.15);\n",
              "      filter: drop-shadow(0px 1px 2px rgba(0, 0, 0, 0.3));\n",
              "      fill: #FFFFFF;\n",
              "    }\n",
              "  </style>\n",
              "\n",
              "    <script>\n",
              "      const buttonEl =\n",
              "        document.querySelector('#df-8afb812d-99b0-4f7e-acf4-098699e4ab2b button.colab-df-convert');\n",
              "      buttonEl.style.display =\n",
              "        google.colab.kernel.accessAllowed ? 'block' : 'none';\n",
              "\n",
              "      async function convertToInteractive(key) {\n",
              "        const element = document.querySelector('#df-8afb812d-99b0-4f7e-acf4-098699e4ab2b');\n",
              "        const dataTable =\n",
              "          await google.colab.kernel.invokeFunction('convertToInteractive',\n",
              "                                                    [key], {});\n",
              "        if (!dataTable) return;\n",
              "\n",
              "        const docLinkHtml = 'Like what you see? Visit the ' +\n",
              "          '<a target=\"_blank\" href=https://colab.research.google.com/notebooks/data_table.ipynb>data table notebook</a>'\n",
              "          + ' to learn more about interactive tables.';\n",
              "        element.innerHTML = '';\n",
              "        dataTable['output_type'] = 'display_data';\n",
              "        await google.colab.output.renderOutput(dataTable, element);\n",
              "        const docLink = document.createElement('div');\n",
              "        docLink.innerHTML = docLinkHtml;\n",
              "        element.appendChild(docLink);\n",
              "      }\n",
              "    </script>\n",
              "  </div>\n",
              "\n",
              "\n",
              "<div id=\"df-05ba6c22-ebe6-4e35-a829-9c1ea39ca62d\">\n",
              "  <button class=\"colab-df-quickchart\" onclick=\"quickchart('df-05ba6c22-ebe6-4e35-a829-9c1ea39ca62d')\"\n",
              "            title=\"Suggest charts\"\n",
              "            style=\"display:none;\">\n",
              "\n",
              "<svg xmlns=\"http://www.w3.org/2000/svg\" height=\"24px\"viewBox=\"0 0 24 24\"\n",
              "     width=\"24px\">\n",
              "    <g>\n",
              "        <path d=\"M19 3H5c-1.1 0-2 .9-2 2v14c0 1.1.9 2 2 2h14c1.1 0 2-.9 2-2V5c0-1.1-.9-2-2-2zM9 17H7v-7h2v7zm4 0h-2V7h2v10zm4 0h-2v-4h2v4z\"/>\n",
              "    </g>\n",
              "</svg>\n",
              "  </button>\n",
              "\n",
              "<style>\n",
              "  .colab-df-quickchart {\n",
              "      --bg-color: #E8F0FE;\n",
              "      --fill-color: #1967D2;\n",
              "      --hover-bg-color: #E2EBFA;\n",
              "      --hover-fill-color: #174EA6;\n",
              "      --disabled-fill-color: #AAA;\n",
              "      --disabled-bg-color: #DDD;\n",
              "  }\n",
              "\n",
              "  [theme=dark] .colab-df-quickchart {\n",
              "      --bg-color: #3B4455;\n",
              "      --fill-color: #D2E3FC;\n",
              "      --hover-bg-color: #434B5C;\n",
              "      --hover-fill-color: #FFFFFF;\n",
              "      --disabled-bg-color: #3B4455;\n",
              "      --disabled-fill-color: #666;\n",
              "  }\n",
              "\n",
              "  .colab-df-quickchart {\n",
              "    background-color: var(--bg-color);\n",
              "    border: none;\n",
              "    border-radius: 50%;\n",
              "    cursor: pointer;\n",
              "    display: none;\n",
              "    fill: var(--fill-color);\n",
              "    height: 32px;\n",
              "    padding: 0;\n",
              "    width: 32px;\n",
              "  }\n",
              "\n",
              "  .colab-df-quickchart:hover {\n",
              "    background-color: var(--hover-bg-color);\n",
              "    box-shadow: 0 1px 2px rgba(60, 64, 67, 0.3), 0 1px 3px 1px rgba(60, 64, 67, 0.15);\n",
              "    fill: var(--button-hover-fill-color);\n",
              "  }\n",
              "\n",
              "  .colab-df-quickchart-complete:disabled,\n",
              "  .colab-df-quickchart-complete:disabled:hover {\n",
              "    background-color: var(--disabled-bg-color);\n",
              "    fill: var(--disabled-fill-color);\n",
              "    box-shadow: none;\n",
              "  }\n",
              "\n",
              "  .colab-df-spinner {\n",
              "    border: 2px solid var(--fill-color);\n",
              "    border-color: transparent;\n",
              "    border-bottom-color: var(--fill-color);\n",
              "    animation:\n",
              "      spin 1s steps(1) infinite;\n",
              "  }\n",
              "\n",
              "  @keyframes spin {\n",
              "    0% {\n",
              "      border-color: transparent;\n",
              "      border-bottom-color: var(--fill-color);\n",
              "      border-left-color: var(--fill-color);\n",
              "    }\n",
              "    20% {\n",
              "      border-color: transparent;\n",
              "      border-left-color: var(--fill-color);\n",
              "      border-top-color: var(--fill-color);\n",
              "    }\n",
              "    30% {\n",
              "      border-color: transparent;\n",
              "      border-left-color: var(--fill-color);\n",
              "      border-top-color: var(--fill-color);\n",
              "      border-right-color: var(--fill-color);\n",
              "    }\n",
              "    40% {\n",
              "      border-color: transparent;\n",
              "      border-right-color: var(--fill-color);\n",
              "      border-top-color: var(--fill-color);\n",
              "    }\n",
              "    60% {\n",
              "      border-color: transparent;\n",
              "      border-right-color: var(--fill-color);\n",
              "    }\n",
              "    80% {\n",
              "      border-color: transparent;\n",
              "      border-right-color: var(--fill-color);\n",
              "      border-bottom-color: var(--fill-color);\n",
              "    }\n",
              "    90% {\n",
              "      border-color: transparent;\n",
              "      border-bottom-color: var(--fill-color);\n",
              "    }\n",
              "  }\n",
              "</style>\n",
              "\n",
              "  <script>\n",
              "    async function quickchart(key) {\n",
              "      const quickchartButtonEl =\n",
              "        document.querySelector('#' + key + ' button');\n",
              "      quickchartButtonEl.disabled = true;  // To prevent multiple clicks.\n",
              "      quickchartButtonEl.classList.add('colab-df-spinner');\n",
              "      try {\n",
              "        const charts = await google.colab.kernel.invokeFunction(\n",
              "            'suggestCharts', [key], {});\n",
              "      } catch (error) {\n",
              "        console.error('Error during call to suggestCharts:', error);\n",
              "      }\n",
              "      quickchartButtonEl.classList.remove('colab-df-spinner');\n",
              "      quickchartButtonEl.classList.add('colab-df-quickchart-complete');\n",
              "    }\n",
              "    (() => {\n",
              "      let quickchartButtonEl =\n",
              "        document.querySelector('#df-05ba6c22-ebe6-4e35-a829-9c1ea39ca62d button');\n",
              "      quickchartButtonEl.style.display =\n",
              "        google.colab.kernel.accessAllowed ? 'block' : 'none';\n",
              "    })();\n",
              "  </script>\n",
              "</div>\n",
              "\n",
              "    </div>\n",
              "  </div>\n"
            ],
            "application/vnd.google.colaboratory.intrinsic+json": {
              "type": "dataframe",
              "variable_name": "df_names",
              "summary": "{\n  \"name\": \"df_names\",\n  \"rows\": 920,\n  \"fields\": [\n    {\n      \"column\": \"id\",\n      \"properties\": {\n        \"dtype\": \"number\",\n        \"std\": 32,\n        \"min\": 101,\n        \"max\": 226,\n        \"num_unique_values\": 126,\n        \"samples\": [\n          166,\n          224,\n          164\n        ],\n        \"semantic_type\": \"\",\n        \"description\": \"\"\n      }\n    },\n    {\n      \"column\": \"file_path\",\n      \"properties\": {\n        \"dtype\": \"string\",\n        \"num_unique_values\": 920,\n        \"samples\": [\n          \"/content/drive/MyDrive/ICBHI_final_database/ICBHI_final_database/172_1b4_Pl_mc_AKGC417L.wav\",\n          \"/content/drive/MyDrive/ICBHI_final_database/ICBHI_final_database/181_1b2_Ar_mc_LittC2SE.wav\",\n          \"/content/drive/MyDrive/ICBHI_final_database/ICBHI_final_database/113_1b1_Lr_sc_Litt3200.wav\"\n        ],\n        \"semantic_type\": \"\",\n        \"description\": \"\"\n      }\n    },\n    {\n      \"column\": \"label\",\n      \"properties\": {\n        \"dtype\": \"category\",\n        \"num_unique_values\": 8,\n        \"samples\": [\n          \"Bronchiolitis\",\n          \"Pneumonia\",\n          \"COPD\"\n        ],\n        \"semantic_type\": \"\",\n        \"description\": \"\"\n      }\n    }\n  ]\n}"
            }
          },
          "metadata": {},
          "execution_count": 25
        }
      ]
    },
    {
      "cell_type": "code",
      "source": [
        "copd_df = df_names[df_names['label'] == 'COPD']"
      ],
      "metadata": {
        "id": "elN_grpD5Vty"
      },
      "execution_count": null,
      "outputs": []
    },
    {
      "cell_type": "code",
      "source": [
        "copd_df['label'].value_counts()"
      ],
      "metadata": {
        "colab": {
          "base_uri": "https://localhost:8080/",
          "height": 147
        },
        "id": "uN0ryx5f5Y6K",
        "outputId": "a35091e0-5c06-44eb-8fe6-46f130575e10"
      },
      "execution_count": null,
      "outputs": [
        {
          "output_type": "execute_result",
          "data": {
            "text/plain": [
              "label\n",
              "COPD    793\n",
              "Name: count, dtype: int64"
            ],
            "text/html": [
              "<div>\n",
              "<style scoped>\n",
              "    .dataframe tbody tr th:only-of-type {\n",
              "        vertical-align: middle;\n",
              "    }\n",
              "\n",
              "    .dataframe tbody tr th {\n",
              "        vertical-align: top;\n",
              "    }\n",
              "\n",
              "    .dataframe thead th {\n",
              "        text-align: right;\n",
              "    }\n",
              "</style>\n",
              "<table border=\"1\" class=\"dataframe\">\n",
              "  <thead>\n",
              "    <tr style=\"text-align: right;\">\n",
              "      <th></th>\n",
              "      <th>count</th>\n",
              "    </tr>\n",
              "    <tr>\n",
              "      <th>label</th>\n",
              "      <th></th>\n",
              "    </tr>\n",
              "  </thead>\n",
              "  <tbody>\n",
              "    <tr>\n",
              "      <th>COPD</th>\n",
              "      <td>793</td>\n",
              "    </tr>\n",
              "  </tbody>\n",
              "</table>\n",
              "</div><br><label><b>dtype:</b> int64</label>"
            ]
          },
          "metadata": {},
          "execution_count": 27
        }
      ]
    },
    {
      "cell_type": "code",
      "source": [
        "# prompt: extract the rows with copd label andcopy the audios in file path to another folder with a custom name\n",
        "\n",
        "import pandas as pd\n",
        "import os\n",
        "import shutil\n",
        "\n",
        "# Assuming df_names is already defined as in the provided code\n",
        "\n",
        "def extract_and_copy_copd(copd_df, source_dir, destination_dir):\n",
        "    \"\"\"\n",
        "    Extracts rows with 'COPD' label and copies corresponding audio files.\n",
        "\n",
        "    Args:\n",
        "        df: DataFrame containing file paths and labels.\n",
        "        source_dir: The directory containing the audio files.\n",
        "        destination_dir: The directory to copy the COPD audio files to.\n",
        "    \"\"\"\n",
        "\n",
        "    if not os.path.exists(destination_dir):\n",
        "        os.makedirs(destination_dir)\n",
        "\n",
        "    for index, row in copd_df.iterrows():\n",
        "        source_path = row['file_path']\n",
        "        # Extract filename from path\n",
        "        filename = \"COPD_\"+os.path.basename(source_path)\n",
        "        print(filename)\n",
        "        #return False\n",
        "        destination_path = os.path.join(destination_dir, filename)\n",
        "\n",
        "        try:\n",
        "            shutil.copy2(source_path, destination_path) # copy2 preserves metadata\n",
        "            print(f\"Copied {filename} to {destination_path}\")\n",
        "        except FileNotFoundError:\n",
        "            print(f\"File not found: {source_path}\")\n",
        "        except Exception as e:\n",
        "            print(f\"Error copying {filename}: {e}\")\n",
        "\n",
        "\n",
        "# Example usage (replace with your actual paths):\n",
        "source_audio_directory = \"/content/drive/MyDrive/ICBHI_final_database/ICBHI_final_database\" # Update with your source directory\n",
        "destination_audio_directory = \"/content/drive/MyDrive/ICBHI_final_database/augmented_audio\" # Update with your destination directory\n",
        "\n",
        "extract_and_copy_copd(df_names, source_audio_directory, destination_audio_directory)\n"
      ],
      "metadata": {
        "colab": {
          "base_uri": "https://localhost:8080/"
        },
        "id": "OmKHlydJ4e_9",
        "outputId": "f5f12ac5-7a36-4b04-e21a-3819e5a6246b"
      },
      "execution_count": null,
      "outputs": [
        {
          "output_type": "stream",
          "name": "stdout",
          "text": [
            "COPD_204_2b5_Al_mc_AKGC417L.wav\n",
            "Copied COPD_204_2b5_Al_mc_AKGC417L.wav to /content/drive/MyDrive/ICBHI_final_database/augmented_audio/COPD_204_2b5_Al_mc_AKGC417L.wav\n",
            "COPD_204_7p5_Ar_mc_AKGC417L.wav\n",
            "Copied COPD_204_7p5_Ar_mc_AKGC417L.wav to /content/drive/MyDrive/ICBHI_final_database/augmented_audio/COPD_204_7p5_Ar_mc_AKGC417L.wav\n",
            "COPD_204_7p5_Ll_mc_AKGC417L.wav\n",
            "Copied COPD_204_7p5_Ll_mc_AKGC417L.wav to /content/drive/MyDrive/ICBHI_final_database/augmented_audio/COPD_204_7p5_Ll_mc_AKGC417L.wav\n",
            "COPD_204_7p5_Lr_mc_AKGC417L.wav\n",
            "Copied COPD_204_7p5_Lr_mc_AKGC417L.wav to /content/drive/MyDrive/ICBHI_final_database/augmented_audio/COPD_204_7p5_Lr_mc_AKGC417L.wav\n",
            "COPD_204_7p5_Tc_mc_AKGC417L.wav\n",
            "Copied COPD_204_7p5_Tc_mc_AKGC417L.wav to /content/drive/MyDrive/ICBHI_final_database/augmented_audio/COPD_204_7p5_Tc_mc_AKGC417L.wav\n",
            "COPD_205_1b3_Al_mc_AKGC417L.wav\n",
            "Copied COPD_205_1b3_Al_mc_AKGC417L.wav to /content/drive/MyDrive/ICBHI_final_database/augmented_audio/COPD_205_1b3_Al_mc_AKGC417L.wav\n",
            "COPD_205_1b3_Ll_mc_AKGC417L.wav\n",
            "Copied COPD_205_1b3_Ll_mc_AKGC417L.wav to /content/drive/MyDrive/ICBHI_final_database/augmented_audio/COPD_205_1b3_Ll_mc_AKGC417L.wav\n",
            "COPD_205_1b3_Lr_mc_AKGC417L.wav\n",
            "Copied COPD_205_1b3_Lr_mc_AKGC417L.wav to /content/drive/MyDrive/ICBHI_final_database/augmented_audio/COPD_205_1b3_Lr_mc_AKGC417L.wav\n",
            "COPD_205_1b3_Pl_mc_AKGC417L.wav\n",
            "Copied COPD_205_1b3_Pl_mc_AKGC417L.wav to /content/drive/MyDrive/ICBHI_final_database/augmented_audio/COPD_205_1b3_Pl_mc_AKGC417L.wav\n",
            "COPD_205_2b2_Pr_mc_AKGC417L.wav\n",
            "Copied COPD_205_2b2_Pr_mc_AKGC417L.wav to /content/drive/MyDrive/ICBHI_final_database/augmented_audio/COPD_205_2b2_Pr_mc_AKGC417L.wav\n",
            "COPD_205_2b3_Ar_mc_AKGC417L.wav\n",
            "Copied COPD_205_2b3_Ar_mc_AKGC417L.wav to /content/drive/MyDrive/ICBHI_final_database/augmented_audio/COPD_205_2b3_Ar_mc_AKGC417L.wav\n",
            "COPD_205_2b4_Pl_mc_AKGC417L.wav\n",
            "Copied COPD_205_2b4_Pl_mc_AKGC417L.wav to /content/drive/MyDrive/ICBHI_final_database/augmented_audio/COPD_205_2b4_Pl_mc_AKGC417L.wav\n",
            "COPD_205_3b4_Al_mc_AKGC417L.wav\n",
            "Copied COPD_205_3b4_Al_mc_AKGC417L.wav to /content/drive/MyDrive/ICBHI_final_database/augmented_audio/COPD_205_3b4_Al_mc_AKGC417L.wav\n",
            "COPD_205_3b4_Pl_mc_AKGC417L.wav\n",
            "Copied COPD_205_3b4_Pl_mc_AKGC417L.wav to /content/drive/MyDrive/ICBHI_final_database/augmented_audio/COPD_205_3b4_Pl_mc_AKGC417L.wav\n",
            "COPD_205_4b2_Pl_mc_AKGC417L.wav\n",
            "Copied COPD_205_4b2_Pl_mc_AKGC417L.wav to /content/drive/MyDrive/ICBHI_final_database/augmented_audio/COPD_205_4b2_Pl_mc_AKGC417L.wav\n",
            "COPD_206_1b1_Ar_sc_Meditron.wav\n",
            "Copied COPD_206_1b1_Ar_sc_Meditron.wav to /content/drive/MyDrive/ICBHI_final_database/augmented_audio/COPD_206_1b1_Ar_sc_Meditron.wav\n",
            "COPD_206_1b1_Pl_sc_Meditron.wav\n",
            "Copied COPD_206_1b1_Pl_sc_Meditron.wav to /content/drive/MyDrive/ICBHI_final_database/augmented_audio/COPD_206_1b1_Pl_sc_Meditron.wav\n",
            "COPD_207_2b2_Ar_mc_AKGC417L.wav\n",
            "Copied COPD_207_2b2_Ar_mc_AKGC417L.wav to /content/drive/MyDrive/ICBHI_final_database/augmented_audio/COPD_207_2b2_Ar_mc_AKGC417L.wav\n",
            "COPD_207_2b2_Pr_mc_AKGC417L.wav\n",
            "Copied COPD_207_2b2_Pr_mc_AKGC417L.wav to /content/drive/MyDrive/ICBHI_final_database/augmented_audio/COPD_207_2b2_Pr_mc_AKGC417L.wav\n",
            "COPD_207_2b2_Tc_mc_AKGC417L.wav\n",
            "Copied COPD_207_2b2_Tc_mc_AKGC417L.wav to /content/drive/MyDrive/ICBHI_final_database/augmented_audio/COPD_207_2b2_Tc_mc_AKGC417L.wav\n",
            "COPD_207_2b3_Ar_mc_AKGC417L.wav\n",
            "Copied COPD_207_2b3_Ar_mc_AKGC417L.wav to /content/drive/MyDrive/ICBHI_final_database/augmented_audio/COPD_207_2b3_Ar_mc_AKGC417L.wav\n",
            "COPD_207_2b3_Pl_mc_AKGC417L.wav\n",
            "Copied COPD_207_2b3_Pl_mc_AKGC417L.wav to /content/drive/MyDrive/ICBHI_final_database/augmented_audio/COPD_207_2b3_Pl_mc_AKGC417L.wav\n",
            "COPD_207_2b3_Pr_mc_AKGC417L.wav\n",
            "Copied COPD_207_2b3_Pr_mc_AKGC417L.wav to /content/drive/MyDrive/ICBHI_final_database/augmented_audio/COPD_207_2b3_Pr_mc_AKGC417L.wav\n",
            "COPD_207_2b3_Tc_mc_AKGC417L.wav\n",
            "Copied COPD_207_2b3_Tc_mc_AKGC417L.wav to /content/drive/MyDrive/ICBHI_final_database/augmented_audio/COPD_207_2b3_Tc_mc_AKGC417L.wav\n",
            "COPD_207_2b4_Al_mc_AKGC417L.wav\n",
            "Copied COPD_207_2b4_Al_mc_AKGC417L.wav to /content/drive/MyDrive/ICBHI_final_database/augmented_audio/COPD_207_2b4_Al_mc_AKGC417L.wav\n",
            "COPD_207_2b4_Ar_mc_AKGC417L.wav\n",
            "Copied COPD_207_2b4_Ar_mc_AKGC417L.wav to /content/drive/MyDrive/ICBHI_final_database/augmented_audio/COPD_207_2b4_Ar_mc_AKGC417L.wav\n",
            "COPD_207_2b4_Pl_mc_AKGC417L.wav\n",
            "Copied COPD_207_2b4_Pl_mc_AKGC417L.wav to /content/drive/MyDrive/ICBHI_final_database/augmented_audio/COPD_207_2b4_Pl_mc_AKGC417L.wav\n",
            "COPD_207_2b4_Tc_mc_AKGC417L.wav\n",
            "Copied COPD_207_2b4_Tc_mc_AKGC417L.wav to /content/drive/MyDrive/ICBHI_final_database/augmented_audio/COPD_207_2b4_Tc_mc_AKGC417L.wav\n",
            "COPD_207_3b2_Ar_mc_AKGC417L.wav\n",
            "Copied COPD_207_3b2_Ar_mc_AKGC417L.wav to /content/drive/MyDrive/ICBHI_final_database/augmented_audio/COPD_207_3b2_Ar_mc_AKGC417L.wav\n",
            "COPD_207_3b2_Lr_mc_AKGC417L.wav\n",
            "Copied COPD_207_3b2_Lr_mc_AKGC417L.wav to /content/drive/MyDrive/ICBHI_final_database/augmented_audio/COPD_207_3b2_Lr_mc_AKGC417L.wav\n",
            "COPD_207_3b2_Pl_mc_AKGC417L.wav\n",
            "Copied COPD_207_3b2_Pl_mc_AKGC417L.wav to /content/drive/MyDrive/ICBHI_final_database/augmented_audio/COPD_207_3b2_Pl_mc_AKGC417L.wav\n",
            "COPD_208_1b1_Ll_sc_Meditron.wav\n",
            "Copied COPD_208_1b1_Ll_sc_Meditron.wav to /content/drive/MyDrive/ICBHI_final_database/augmented_audio/COPD_208_1b1_Ll_sc_Meditron.wav\n",
            "COPD_209_1b1_Tc_sc_Meditron.wav\n",
            "Copied COPD_209_1b1_Tc_sc_Meditron.wav to /content/drive/MyDrive/ICBHI_final_database/augmented_audio/COPD_209_1b1_Tc_sc_Meditron.wav\n",
            "COPD_210_1b1_Al_sc_Meditron.wav\n",
            "Copied COPD_210_1b1_Al_sc_Meditron.wav to /content/drive/MyDrive/ICBHI_final_database/augmented_audio/COPD_210_1b1_Al_sc_Meditron.wav\n",
            "COPD_211_1p2_Ar_mc_AKGC417L.wav\n",
            "Copied COPD_211_1p2_Ar_mc_AKGC417L.wav to /content/drive/MyDrive/ICBHI_final_database/augmented_audio/COPD_211_1p2_Ar_mc_AKGC417L.wav\n",
            "COPD_211_1p3_Ar_mc_AKGC417L.wav\n",
            "Copied COPD_211_1p3_Ar_mc_AKGC417L.wav to /content/drive/MyDrive/ICBHI_final_database/augmented_audio/COPD_211_1p3_Ar_mc_AKGC417L.wav\n",
            "COPD_211_1p5_Ar_mc_AKGC417L.wav\n",
            "Copied COPD_211_1p5_Ar_mc_AKGC417L.wav to /content/drive/MyDrive/ICBHI_final_database/augmented_audio/COPD_211_1p5_Ar_mc_AKGC417L.wav\n",
            "COPD_211_2p3_Tc_mc_AKGC417L.wav\n",
            "Copied COPD_211_2p3_Tc_mc_AKGC417L.wav to /content/drive/MyDrive/ICBHI_final_database/augmented_audio/COPD_211_2p3_Tc_mc_AKGC417L.wav\n",
            "COPD_211_2p4_Tc_mc_AKGC417L.wav\n",
            "Copied COPD_211_2p4_Tc_mc_AKGC417L.wav to /content/drive/MyDrive/ICBHI_final_database/augmented_audio/COPD_211_2p4_Tc_mc_AKGC417L.wav\n",
            "COPD_213_1p2_Al_mc_AKGC417L.wav\n",
            "Copied COPD_213_1p2_Al_mc_AKGC417L.wav to /content/drive/MyDrive/ICBHI_final_database/augmented_audio/COPD_213_1p2_Al_mc_AKGC417L.wav\n",
            "COPD_213_1p2_Ar_mc_AKGC417L.wav\n",
            "Copied COPD_213_1p2_Ar_mc_AKGC417L.wav to /content/drive/MyDrive/ICBHI_final_database/augmented_audio/COPD_213_1p2_Ar_mc_AKGC417L.wav\n",
            "COPD_213_1p2_Lr_mc_AKGC417L.wav\n",
            "Copied COPD_213_1p2_Lr_mc_AKGC417L.wav to /content/drive/MyDrive/ICBHI_final_database/augmented_audio/COPD_213_1p2_Lr_mc_AKGC417L.wav\n",
            "COPD_213_1p2_Tc_mc_AKGC417L.wav\n",
            "Copied COPD_213_1p2_Tc_mc_AKGC417L.wav to /content/drive/MyDrive/ICBHI_final_database/augmented_audio/COPD_213_1p2_Tc_mc_AKGC417L.wav\n",
            "COPD_213_1p3_Al_mc_AKGC417L.wav\n",
            "Copied COPD_213_1p3_Al_mc_AKGC417L.wav to /content/drive/MyDrive/ICBHI_final_database/augmented_audio/COPD_213_1p3_Al_mc_AKGC417L.wav\n",
            "COPD_213_1p3_Pl_mc_AKGC417L.wav\n",
            "Copied COPD_213_1p3_Pl_mc_AKGC417L.wav to /content/drive/MyDrive/ICBHI_final_database/augmented_audio/COPD_213_1p3_Pl_mc_AKGC417L.wav\n",
            "COPD_213_1p5_Al_mc_AKGC417L.wav\n",
            "Copied COPD_213_1p5_Al_mc_AKGC417L.wav to /content/drive/MyDrive/ICBHI_final_database/augmented_audio/COPD_213_1p5_Al_mc_AKGC417L.wav\n",
            "COPD_213_1p5_Pl_mc_AKGC417L.wav\n",
            "Copied COPD_213_1p5_Pl_mc_AKGC417L.wav to /content/drive/MyDrive/ICBHI_final_database/augmented_audio/COPD_213_1p5_Pl_mc_AKGC417L.wav\n",
            "COPD_213_1p5_Pr_mc_AKGC417L.wav\n",
            "Copied COPD_213_1p5_Pr_mc_AKGC417L.wav to /content/drive/MyDrive/ICBHI_final_database/augmented_audio/COPD_213_1p5_Pr_mc_AKGC417L.wav\n",
            "COPD_213_2p2_Al_mc_AKGC417L.wav\n",
            "Copied COPD_213_2p2_Al_mc_AKGC417L.wav to /content/drive/MyDrive/ICBHI_final_database/augmented_audio/COPD_213_2p2_Al_mc_AKGC417L.wav\n",
            "COPD_213_2p2_Ar_mc_AKGC417L.wav\n",
            "Copied COPD_213_2p2_Ar_mc_AKGC417L.wav to /content/drive/MyDrive/ICBHI_final_database/augmented_audio/COPD_213_2p2_Ar_mc_AKGC417L.wav\n",
            "COPD_213_2p2_Pl_mc_AKGC417L.wav\n",
            "Copied COPD_213_2p2_Pl_mc_AKGC417L.wav to /content/drive/MyDrive/ICBHI_final_database/augmented_audio/COPD_213_2p2_Pl_mc_AKGC417L.wav\n",
            "COPD_213_2p2_Pr_mc_AKGC417L.wav\n",
            "Copied COPD_213_2p2_Pr_mc_AKGC417L.wav to /content/drive/MyDrive/ICBHI_final_database/augmented_audio/COPD_213_2p2_Pr_mc_AKGC417L.wav\n",
            "COPD_213_2p2_Tc_mc_AKGC417L.wav\n",
            "Copied COPD_213_2p2_Tc_mc_AKGC417L.wav to /content/drive/MyDrive/ICBHI_final_database/augmented_audio/COPD_213_2p2_Tc_mc_AKGC417L.wav\n",
            "COPD_214_1b1_Ar_sc_Meditron.wav\n",
            "Copied COPD_214_1b1_Ar_sc_Meditron.wav to /content/drive/MyDrive/ICBHI_final_database/augmented_audio/COPD_214_1b1_Ar_sc_Meditron.wav\n",
            "COPD_215_1b2_Ar_sc_Meditron.wav\n",
            "Copied COPD_215_1b2_Ar_sc_Meditron.wav to /content/drive/MyDrive/ICBHI_final_database/augmented_audio/COPD_215_1b2_Ar_sc_Meditron.wav\n",
            "COPD_215_1b3_Tc_sc_Meditron.wav\n",
            "Copied COPD_215_1b3_Tc_sc_Meditron.wav to /content/drive/MyDrive/ICBHI_final_database/augmented_audio/COPD_215_1b3_Tc_sc_Meditron.wav\n",
            "COPD_216_1b1_Pl_sc_Meditron.wav\n",
            "Copied COPD_216_1b1_Pl_sc_Meditron.wav to /content/drive/MyDrive/ICBHI_final_database/augmented_audio/COPD_216_1b1_Pl_sc_Meditron.wav\n",
            "COPD_217_1b1_Tc_sc_Meditron.wav\n",
            "Copied COPD_217_1b1_Tc_sc_Meditron.wav to /content/drive/MyDrive/ICBHI_final_database/augmented_audio/COPD_217_1b1_Tc_sc_Meditron.wav\n",
            "COPD_218_1b1_Al_sc_Meditron.wav\n",
            "Copied COPD_218_1b1_Al_sc_Meditron.wav to /content/drive/MyDrive/ICBHI_final_database/augmented_audio/COPD_218_1b1_Al_sc_Meditron.wav\n",
            "COPD_218_1b1_Pl_sc_Meditron.wav\n",
            "Copied COPD_218_1b1_Pl_sc_Meditron.wav to /content/drive/MyDrive/ICBHI_final_database/augmented_audio/COPD_218_1b1_Pl_sc_Meditron.wav\n",
            "COPD_218_1p1_Ar_sc_Litt3200.wav\n",
            "Copied COPD_218_1p1_Ar_sc_Litt3200.wav to /content/drive/MyDrive/ICBHI_final_database/augmented_audio/COPD_218_1p1_Ar_sc_Litt3200.wav\n",
            "COPD_218_1p1_Pl_sc_Litt3200.wav\n",
            "Copied COPD_218_1p1_Pl_sc_Litt3200.wav to /content/drive/MyDrive/ICBHI_final_database/augmented_audio/COPD_218_1p1_Pl_sc_Litt3200.wav\n",
            "COPD_219_2b1_Tc_mc_LittC2SE.wav\n",
            "Copied COPD_219_2b1_Tc_mc_LittC2SE.wav to /content/drive/MyDrive/ICBHI_final_database/augmented_audio/COPD_219_2b1_Tc_mc_LittC2SE.wav\n",
            "COPD_219_2b2_Tc_mc_LittC2SE.wav\n",
            "Copied COPD_219_2b2_Tc_mc_LittC2SE.wav to /content/drive/MyDrive/ICBHI_final_database/augmented_audio/COPD_219_2b2_Tc_mc_LittC2SE.wav\n",
            "COPD_220_1b2_Al_mc_LittC2SE.wav\n",
            "Copied COPD_220_1b2_Al_mc_LittC2SE.wav to /content/drive/MyDrive/ICBHI_final_database/augmented_audio/COPD_220_1b2_Al_mc_LittC2SE.wav\n",
            "COPD_221_2b1_Lr_mc_LittC2SE.wav\n",
            "Copied COPD_221_2b1_Lr_mc_LittC2SE.wav to /content/drive/MyDrive/ICBHI_final_database/augmented_audio/COPD_221_2b1_Lr_mc_LittC2SE.wav\n",
            "COPD_221_2b1_Pl_mc_LittC2SE.wav\n",
            "Copied COPD_221_2b1_Pl_mc_LittC2SE.wav to /content/drive/MyDrive/ICBHI_final_database/augmented_audio/COPD_221_2b1_Pl_mc_LittC2SE.wav\n",
            "COPD_221_2b2_Al_mc_LittC2SE.wav\n",
            "Copied COPD_221_2b2_Al_mc_LittC2SE.wav to /content/drive/MyDrive/ICBHI_final_database/augmented_audio/COPD_221_2b2_Al_mc_LittC2SE.wav\n",
            "COPD_221_2b2_Lr_mc_LittC2SE.wav\n",
            "Copied COPD_221_2b2_Lr_mc_LittC2SE.wav to /content/drive/MyDrive/ICBHI_final_database/augmented_audio/COPD_221_2b2_Lr_mc_LittC2SE.wav\n",
            "COPD_221_2b2_Pl_mc_LittC2SE.wav\n",
            "Copied COPD_221_2b2_Pl_mc_LittC2SE.wav to /content/drive/MyDrive/ICBHI_final_database/augmented_audio/COPD_221_2b2_Pl_mc_LittC2SE.wav\n",
            "COPD_221_2b3_Lr_mc_LittC2SE.wav\n",
            "Copied COPD_221_2b3_Lr_mc_LittC2SE.wav to /content/drive/MyDrive/ICBHI_final_database/augmented_audio/COPD_221_2b3_Lr_mc_LittC2SE.wav\n",
            "COPD_222_1b1_Ar_sc_Meditron.wav\n",
            "Copied COPD_222_1b1_Ar_sc_Meditron.wav to /content/drive/MyDrive/ICBHI_final_database/augmented_audio/COPD_222_1b1_Ar_sc_Meditron.wav\n",
            "COPD_222_1b1_Lr_sc_Meditron.wav\n",
            "Copied COPD_222_1b1_Lr_sc_Meditron.wav to /content/drive/MyDrive/ICBHI_final_database/augmented_audio/COPD_222_1b1_Lr_sc_Meditron.wav\n",
            "COPD_222_1b1_Pr_sc_Meditron.wav\n",
            "Copied COPD_222_1b1_Pr_sc_Meditron.wav to /content/drive/MyDrive/ICBHI_final_database/augmented_audio/COPD_222_1b1_Pr_sc_Meditron.wav\n",
            "COPD_223_1b1_Lr_sc_Meditron.wav\n",
            "Copied COPD_223_1b1_Lr_sc_Meditron.wav to /content/drive/MyDrive/ICBHI_final_database/augmented_audio/COPD_223_1b1_Lr_sc_Meditron.wav\n",
            "COPD_223_1b1_Pr_sc_Meditron.wav\n",
            "Copied COPD_223_1b1_Pr_sc_Meditron.wav to /content/drive/MyDrive/ICBHI_final_database/augmented_audio/COPD_223_1b1_Pr_sc_Meditron.wav\n",
            "COPD_224_1b2_Al_sc_Meditron.wav\n",
            "Copied COPD_224_1b2_Al_sc_Meditron.wav to /content/drive/MyDrive/ICBHI_final_database/augmented_audio/COPD_224_1b2_Al_sc_Meditron.wav\n",
            "COPD_225_1b1_Pl_sc_Meditron.wav\n",
            "Copied COPD_225_1b1_Pl_sc_Meditron.wav to /content/drive/MyDrive/ICBHI_final_database/augmented_audio/COPD_225_1b1_Pl_sc_Meditron.wav\n",
            "COPD_226_1b1_Al_sc_Meditron.wav\n",
            "Copied COPD_226_1b1_Al_sc_Meditron.wav to /content/drive/MyDrive/ICBHI_final_database/augmented_audio/COPD_226_1b1_Al_sc_Meditron.wav\n",
            "COPD_226_1b1_Pl_sc_LittC2SE.wav\n",
            "Copied COPD_226_1b1_Pl_sc_LittC2SE.wav to /content/drive/MyDrive/ICBHI_final_database/augmented_audio/COPD_226_1b1_Pl_sc_LittC2SE.wav\n",
            "COPD_101_1b1_Pr_sc_Meditron.wav\n",
            "Copied COPD_101_1b1_Pr_sc_Meditron.wav to /content/drive/MyDrive/ICBHI_final_database/augmented_audio/COPD_101_1b1_Pr_sc_Meditron.wav\n",
            "COPD_102_1b1_Ar_sc_Meditron.wav\n",
            "Copied COPD_102_1b1_Ar_sc_Meditron.wav to /content/drive/MyDrive/ICBHI_final_database/augmented_audio/COPD_102_1b1_Ar_sc_Meditron.wav\n",
            "COPD_104_1b1_Pl_sc_Litt3200.wav\n",
            "Copied COPD_104_1b1_Pl_sc_Litt3200.wav to /content/drive/MyDrive/ICBHI_final_database/augmented_audio/COPD_104_1b1_Pl_sc_Litt3200.wav\n",
            "COPD_106_2b1_Pl_mc_LittC2SE.wav\n",
            "Copied COPD_106_2b1_Pl_mc_LittC2SE.wav to /content/drive/MyDrive/ICBHI_final_database/augmented_audio/COPD_106_2b1_Pl_mc_LittC2SE.wav\n",
            "COPD_107_2b3_Al_mc_AKGC417L.wav\n",
            "Copied COPD_107_2b3_Al_mc_AKGC417L.wav to /content/drive/MyDrive/ICBHI_final_database/augmented_audio/COPD_107_2b3_Al_mc_AKGC417L.wav\n",
            "COPD_107_2b3_Ar_mc_AKGC417L.wav\n",
            "Copied COPD_107_2b3_Ar_mc_AKGC417L.wav to /content/drive/MyDrive/ICBHI_final_database/augmented_audio/COPD_107_2b3_Ar_mc_AKGC417L.wav\n",
            "COPD_107_2b3_Pr_mc_AKGC417L.wav\n",
            "Copied COPD_107_2b3_Pr_mc_AKGC417L.wav to /content/drive/MyDrive/ICBHI_final_database/augmented_audio/COPD_107_2b3_Pr_mc_AKGC417L.wav\n",
            "COPD_107_2b4_Ll_mc_AKGC417L.wav\n",
            "Copied COPD_107_2b4_Ll_mc_AKGC417L.wav to /content/drive/MyDrive/ICBHI_final_database/augmented_audio/COPD_107_2b4_Ll_mc_AKGC417L.wav\n",
            "COPD_107_2b4_Pl_mc_AKGC417L.wav\n",
            "Copied COPD_107_2b4_Pl_mc_AKGC417L.wav to /content/drive/MyDrive/ICBHI_final_database/augmented_audio/COPD_107_2b4_Pl_mc_AKGC417L.wav\n",
            "COPD_107_2b4_Tc_mc_AKGC417L.wav\n",
            "Copied COPD_107_2b4_Tc_mc_AKGC417L.wav to /content/drive/MyDrive/ICBHI_final_database/augmented_audio/COPD_107_2b4_Tc_mc_AKGC417L.wav\n",
            "COPD_107_2b5_Ar_mc_AKGC417L.wav\n",
            "Copied COPD_107_2b5_Ar_mc_AKGC417L.wav to /content/drive/MyDrive/ICBHI_final_database/augmented_audio/COPD_107_2b5_Ar_mc_AKGC417L.wav\n",
            "COPD_107_2b5_Ll_mc_AKGC417L.wav\n",
            "Copied COPD_107_2b5_Ll_mc_AKGC417L.wav to /content/drive/MyDrive/ICBHI_final_database/augmented_audio/COPD_107_2b5_Ll_mc_AKGC417L.wav\n",
            "COPD_107_2b5_Lr_mc_AKGC417L.wav\n",
            "Copied COPD_107_2b5_Lr_mc_AKGC417L.wav to /content/drive/MyDrive/ICBHI_final_database/augmented_audio/COPD_107_2b5_Lr_mc_AKGC417L.wav\n",
            "COPD_107_3p2_Ll_mc_AKGC417L.wav\n",
            "Copied COPD_107_3p2_Ll_mc_AKGC417L.wav to /content/drive/MyDrive/ICBHI_final_database/augmented_audio/COPD_107_3p2_Ll_mc_AKGC417L.wav\n",
            "COPD_107_3p2_Lr_mc_AKGC417L.wav\n",
            "Copied COPD_107_3p2_Lr_mc_AKGC417L.wav to /content/drive/MyDrive/ICBHI_final_database/augmented_audio/COPD_107_3p2_Lr_mc_AKGC417L.wav\n",
            "COPD_107_3p2_Pl_mc_AKGC417L.wav\n",
            "Copied COPD_107_3p2_Pl_mc_AKGC417L.wav to /content/drive/MyDrive/ICBHI_final_database/augmented_audio/COPD_107_3p2_Pl_mc_AKGC417L.wav\n",
            "COPD_107_3p2_Tc_mc_AKGC417L.wav\n",
            "Copied COPD_107_3p2_Tc_mc_AKGC417L.wav to /content/drive/MyDrive/ICBHI_final_database/augmented_audio/COPD_107_3p2_Tc_mc_AKGC417L.wav\n",
            "COPD_109_1b1_Al_sc_Litt3200.wav\n",
            "Copied COPD_109_1b1_Al_sc_Litt3200.wav to /content/drive/MyDrive/ICBHI_final_database/augmented_audio/COPD_109_1b1_Al_sc_Litt3200.wav\n",
            "COPD_109_1b1_Ll_sc_Litt3200.wav\n",
            "Copied COPD_109_1b1_Ll_sc_Litt3200.wav to /content/drive/MyDrive/ICBHI_final_database/augmented_audio/COPD_109_1b1_Ll_sc_Litt3200.wav\n",
            "COPD_109_1b1_Lr_sc_Litt3200.wav\n",
            "Copied COPD_109_1b1_Lr_sc_Litt3200.wav to /content/drive/MyDrive/ICBHI_final_database/augmented_audio/COPD_109_1b1_Lr_sc_Litt3200.wav\n",
            "COPD_109_1b1_Pl_sc_Litt3200.wav\n",
            "Copied COPD_109_1b1_Pl_sc_Litt3200.wav to /content/drive/MyDrive/ICBHI_final_database/augmented_audio/COPD_109_1b1_Pl_sc_Litt3200.wav\n",
            "COPD_110_1p1_Al_sc_Meditron.wav\n",
            "Copied COPD_110_1p1_Al_sc_Meditron.wav to /content/drive/MyDrive/ICBHI_final_database/augmented_audio/COPD_110_1p1_Al_sc_Meditron.wav\n",
            "COPD_110_1p1_Ll_sc_Meditron.wav\n",
            "Copied COPD_110_1p1_Ll_sc_Meditron.wav to /content/drive/MyDrive/ICBHI_final_database/augmented_audio/COPD_110_1p1_Ll_sc_Meditron.wav\n",
            "COPD_111_1b2_Tc_sc_Meditron.wav\n",
            "Copied COPD_111_1b2_Tc_sc_Meditron.wav to /content/drive/MyDrive/ICBHI_final_database/augmented_audio/COPD_111_1b2_Tc_sc_Meditron.wav\n",
            "COPD_111_1b3_Tc_sc_Meditron.wav\n",
            "Copied COPD_111_1b3_Tc_sc_Meditron.wav to /content/drive/MyDrive/ICBHI_final_database/augmented_audio/COPD_111_1b3_Tc_sc_Meditron.wav\n",
            "COPD_112_1p1_Pr_sc_Litt3200.wav\n",
            "Copied COPD_112_1p1_Pr_sc_Litt3200.wav to /content/drive/MyDrive/ICBHI_final_database/augmented_audio/COPD_112_1p1_Pr_sc_Litt3200.wav\n",
            "COPD_113_1b1_Ll_sc_Litt3200.wav\n",
            "Copied COPD_113_1b1_Ll_sc_Litt3200.wav to /content/drive/MyDrive/ICBHI_final_database/augmented_audio/COPD_113_1b1_Ll_sc_Litt3200.wav\n",
            "COPD_114_1b4_Al_mc_AKGC417L.wav\n",
            "Copied COPD_114_1b4_Al_mc_AKGC417L.wav to /content/drive/MyDrive/ICBHI_final_database/augmented_audio/COPD_114_1b4_Al_mc_AKGC417L.wav\n",
            "COPD_114_1b4_Pl_mc_AKGC417L.wav\n",
            "Copied COPD_114_1b4_Pl_mc_AKGC417L.wav to /content/drive/MyDrive/ICBHI_final_database/augmented_audio/COPD_114_1b4_Pl_mc_AKGC417L.wav\n",
            "COPD_114_1b4_Pr_mc_AKGC417L.wav\n",
            "Copied COPD_114_1b4_Pr_mc_AKGC417L.wav to /content/drive/MyDrive/ICBHI_final_database/augmented_audio/COPD_114_1b4_Pr_mc_AKGC417L.wav\n",
            "COPD_116_1b2_Pl_sc_Meditron.wav\n",
            "Copied COPD_116_1b2_Pl_sc_Meditron.wav to /content/drive/MyDrive/ICBHI_final_database/augmented_audio/COPD_116_1b2_Pl_sc_Meditron.wav\n",
            "COPD_117_1b3_Tc_mc_LittC2SE.wav\n",
            "Copied COPD_117_1b3_Tc_mc_LittC2SE.wav to /content/drive/MyDrive/ICBHI_final_database/augmented_audio/COPD_117_1b3_Tc_mc_LittC2SE.wav\n",
            "COPD_118_1b1_Ar_sc_Litt3200.wav\n",
            "Copied COPD_118_1b1_Ar_sc_Litt3200.wav to /content/drive/MyDrive/ICBHI_final_database/augmented_audio/COPD_118_1b1_Ar_sc_Litt3200.wav\n",
            "COPD_118_1b1_Lr_sc_Litt3200.wav\n",
            "Copied COPD_118_1b1_Lr_sc_Litt3200.wav to /content/drive/MyDrive/ICBHI_final_database/augmented_audio/COPD_118_1b1_Lr_sc_Litt3200.wav\n",
            "COPD_118_1b1_Pl_sc_Litt3200.wav\n",
            "Copied COPD_118_1b1_Pl_sc_Litt3200.wav to /content/drive/MyDrive/ICBHI_final_database/augmented_audio/COPD_118_1b1_Pl_sc_Litt3200.wav\n",
            "COPD_120_1b1_Pr_sc_Meditron.wav\n",
            "Copied COPD_120_1b1_Pr_sc_Meditron.wav to /content/drive/MyDrive/ICBHI_final_database/augmented_audio/COPD_120_1b1_Pr_sc_Meditron.wav\n",
            "COPD_121_1p1_Tc_sc_Meditron.wav\n",
            "Copied COPD_121_1p1_Tc_sc_Meditron.wav to /content/drive/MyDrive/ICBHI_final_database/augmented_audio/COPD_121_1p1_Tc_sc_Meditron.wav\n",
            "COPD_122_2b3_Tc_mc_LittC2SE.wav\n",
            "Copied COPD_122_2b3_Tc_mc_LittC2SE.wav to /content/drive/MyDrive/ICBHI_final_database/augmented_audio/COPD_122_2b3_Tc_mc_LittC2SE.wav\n",
            "COPD_123_1b1_Al_sc_Meditron.wav\n",
            "Copied COPD_123_1b1_Al_sc_Meditron.wav to /content/drive/MyDrive/ICBHI_final_database/augmented_audio/COPD_123_1b1_Al_sc_Meditron.wav\n",
            "COPD_124_1b1_Ll_sc_Litt3200.wav\n",
            "Copied COPD_124_1b1_Ll_sc_Litt3200.wav to /content/drive/MyDrive/ICBHI_final_database/augmented_audio/COPD_124_1b1_Ll_sc_Litt3200.wav\n",
            "COPD_124_1b1_Pl_sc_Litt3200.wav\n",
            "Copied COPD_124_1b1_Pl_sc_Litt3200.wav to /content/drive/MyDrive/ICBHI_final_database/augmented_audio/COPD_124_1b1_Pl_sc_Litt3200.wav\n",
            "COPD_124_1b1_Pr_sc_Litt3200.wav\n",
            "Copied COPD_124_1b1_Pr_sc_Litt3200.wav to /content/drive/MyDrive/ICBHI_final_database/augmented_audio/COPD_124_1b1_Pr_sc_Litt3200.wav\n",
            "COPD_128_1b3_Tc_mc_LittC2SE.wav\n",
            "Copied COPD_128_1b3_Tc_mc_LittC2SE.wav to /content/drive/MyDrive/ICBHI_final_database/augmented_audio/COPD_128_1b3_Tc_mc_LittC2SE.wav\n",
            "COPD_129_1b1_Ar_sc_Meditron.wav\n",
            "Copied COPD_129_1b1_Ar_sc_Meditron.wav to /content/drive/MyDrive/ICBHI_final_database/augmented_audio/COPD_129_1b1_Ar_sc_Meditron.wav\n",
            "COPD_130_1p2_Tc_mc_AKGC417L.wav\n",
            "Copied COPD_130_1p2_Tc_mc_AKGC417L.wav to /content/drive/MyDrive/ICBHI_final_database/augmented_audio/COPD_130_1p2_Tc_mc_AKGC417L.wav\n",
            "COPD_130_1p3_Lr_mc_AKGC417L.wav\n",
            "Copied COPD_130_1p3_Lr_mc_AKGC417L.wav to /content/drive/MyDrive/ICBHI_final_database/augmented_audio/COPD_130_1p3_Lr_mc_AKGC417L.wav\n",
            "COPD_130_1p3_Pl_mc_AKGC417L.wav\n",
            "Copied COPD_130_1p3_Pl_mc_AKGC417L.wav to /content/drive/MyDrive/ICBHI_final_database/augmented_audio/COPD_130_1p3_Pl_mc_AKGC417L.wav\n",
            "COPD_130_1p3_Pr_mc_AKGC417L.wav\n",
            "Copied COPD_130_1p3_Pr_mc_AKGC417L.wav to /content/drive/MyDrive/ICBHI_final_database/augmented_audio/COPD_130_1p3_Pr_mc_AKGC417L.wav\n",
            "COPD_130_1p3_Tc_mc_AKGC417L.wav\n",
            "Copied COPD_130_1p3_Tc_mc_AKGC417L.wav to /content/drive/MyDrive/ICBHI_final_database/augmented_audio/COPD_130_1p3_Tc_mc_AKGC417L.wav\n",
            "COPD_130_1p4_Al_mc_AKGC417L.wav\n",
            "Copied COPD_130_1p4_Al_mc_AKGC417L.wav to /content/drive/MyDrive/ICBHI_final_database/augmented_audio/COPD_130_1p4_Al_mc_AKGC417L.wav\n",
            "COPD_130_1p4_Lr_mc_AKGC417L.wav\n",
            "Copied COPD_130_1p4_Lr_mc_AKGC417L.wav to /content/drive/MyDrive/ICBHI_final_database/augmented_audio/COPD_130_1p4_Lr_mc_AKGC417L.wav\n",
            "COPD_130_1p4_Pr_mc_AKGC417L.wav\n",
            "Copied COPD_130_1p4_Pr_mc_AKGC417L.wav to /content/drive/MyDrive/ICBHI_final_database/augmented_audio/COPD_130_1p4_Pr_mc_AKGC417L.wav\n",
            "COPD_130_2b2_Ll_mc_AKGC417L.wav\n",
            "Copied COPD_130_2b2_Ll_mc_AKGC417L.wav to /content/drive/MyDrive/ICBHI_final_database/augmented_audio/COPD_130_2b2_Ll_mc_AKGC417L.wav\n",
            "COPD_130_2b2_Pl_mc_AKGC417L.wav\n",
            "Copied COPD_130_2b2_Pl_mc_AKGC417L.wav to /content/drive/MyDrive/ICBHI_final_database/augmented_audio/COPD_130_2b2_Pl_mc_AKGC417L.wav\n",
            "COPD_130_2b2_Pr_mc_AKGC417L.wav\n",
            "Copied COPD_130_2b2_Pr_mc_AKGC417L.wav to /content/drive/MyDrive/ICBHI_final_database/augmented_audio/COPD_130_2b2_Pr_mc_AKGC417L.wav\n",
            "COPD_130_2b2_Tc_mc_AKGC417L.wav\n",
            "Copied COPD_130_2b2_Tc_mc_AKGC417L.wav to /content/drive/MyDrive/ICBHI_final_database/augmented_audio/COPD_130_2b2_Tc_mc_AKGC417L.wav\n",
            "COPD_130_2b3_Pr_mc_AKGC417L.wav\n",
            "Copied COPD_130_2b3_Pr_mc_AKGC417L.wav to /content/drive/MyDrive/ICBHI_final_database/augmented_audio/COPD_130_2b3_Pr_mc_AKGC417L.wav\n",
            "COPD_130_2b4_Al_mc_AKGC417L.wav\n",
            "Copied COPD_130_2b4_Al_mc_AKGC417L.wav to /content/drive/MyDrive/ICBHI_final_database/augmented_audio/COPD_130_2b4_Al_mc_AKGC417L.wav\n",
            "COPD_130_2b4_Ar_mc_AKGC417L.wav\n",
            "Copied COPD_130_2b4_Ar_mc_AKGC417L.wav to /content/drive/MyDrive/ICBHI_final_database/augmented_audio/COPD_130_2b4_Ar_mc_AKGC417L.wav\n",
            "COPD_130_2b4_Pl_mc_AKGC417L.wav\n",
            "Copied COPD_130_2b4_Pl_mc_AKGC417L.wav to /content/drive/MyDrive/ICBHI_final_database/augmented_audio/COPD_130_2b4_Pl_mc_AKGC417L.wav\n",
            "COPD_130_2p5_Pl_mc_AKGC417L.wav\n",
            "Copied COPD_130_2p5_Pl_mc_AKGC417L.wav to /content/drive/MyDrive/ICBHI_final_database/augmented_audio/COPD_130_2p5_Pl_mc_AKGC417L.wav\n",
            "COPD_130_2p5_Pr_mc_AKGC417L.wav\n",
            "Copied COPD_130_2p5_Pr_mc_AKGC417L.wav to /content/drive/MyDrive/ICBHI_final_database/augmented_audio/COPD_130_2p5_Pr_mc_AKGC417L.wav\n",
            "COPD_130_2p5_Tc_mc_AKGC417L.wav\n",
            "Copied COPD_130_2p5_Tc_mc_AKGC417L.wav to /content/drive/MyDrive/ICBHI_final_database/augmented_audio/COPD_130_2p5_Tc_mc_AKGC417L.wav\n",
            "COPD_130_3b4_Lr_mc_AKGC417L.wav\n",
            "Copied COPD_130_3b4_Lr_mc_AKGC417L.wav to /content/drive/MyDrive/ICBHI_final_database/augmented_audio/COPD_130_3b4_Lr_mc_AKGC417L.wav\n",
            "COPD_130_3p2_Al_mc_AKGC417L.wav\n",
            "Copied COPD_130_3p2_Al_mc_AKGC417L.wav to /content/drive/MyDrive/ICBHI_final_database/augmented_audio/COPD_130_3p2_Al_mc_AKGC417L.wav\n",
            "COPD_130_3p2_Ar_mc_AKGC417L.wav\n",
            "Copied COPD_130_3p2_Ar_mc_AKGC417L.wav to /content/drive/MyDrive/ICBHI_final_database/augmented_audio/COPD_130_3p2_Ar_mc_AKGC417L.wav\n",
            "COPD_130_3p2_Pl_mc_AKGC417L.wav\n",
            "Copied COPD_130_3p2_Pl_mc_AKGC417L.wav to /content/drive/MyDrive/ICBHI_final_database/augmented_audio/COPD_130_3p2_Pl_mc_AKGC417L.wav\n",
            "COPD_130_3p2_Tc_mc_AKGC417L.wav\n",
            "Copied COPD_130_3p2_Tc_mc_AKGC417L.wav to /content/drive/MyDrive/ICBHI_final_database/augmented_audio/COPD_130_3p2_Tc_mc_AKGC417L.wav\n",
            "COPD_130_3p3_Al_mc_AKGC417L.wav\n",
            "Copied COPD_130_3p3_Al_mc_AKGC417L.wav to /content/drive/MyDrive/ICBHI_final_database/augmented_audio/COPD_130_3p3_Al_mc_AKGC417L.wav\n",
            "COPD_130_3p3_Tc_mc_AKGC417L.wav\n",
            "Copied COPD_130_3p3_Tc_mc_AKGC417L.wav to /content/drive/MyDrive/ICBHI_final_database/augmented_audio/COPD_130_3p3_Tc_mc_AKGC417L.wav\n",
            "COPD_130_3p4_Tc_mc_AKGC417L.wav\n",
            "Copied COPD_130_3p4_Tc_mc_AKGC417L.wav to /content/drive/MyDrive/ICBHI_final_database/augmented_audio/COPD_130_3p4_Tc_mc_AKGC417L.wav\n",
            "COPD_133_2p2_Tc_mc_AKGC417L.wav\n",
            "Copied COPD_133_2p2_Tc_mc_AKGC417L.wav to /content/drive/MyDrive/ICBHI_final_database/augmented_audio/COPD_133_2p2_Tc_mc_AKGC417L.wav\n",
            "COPD_133_2p3_Al_mc_AKGC417L.wav\n",
            "Copied COPD_133_2p3_Al_mc_AKGC417L.wav to /content/drive/MyDrive/ICBHI_final_database/augmented_audio/COPD_133_2p3_Al_mc_AKGC417L.wav\n",
            "COPD_133_2p3_Pr_mc_AKGC417L.wav\n",
            "Copied COPD_133_2p3_Pr_mc_AKGC417L.wav to /content/drive/MyDrive/ICBHI_final_database/augmented_audio/COPD_133_2p3_Pr_mc_AKGC417L.wav\n",
            "COPD_133_2p4_Ar_mc_AKGC417L.wav\n",
            "Copied COPD_133_2p4_Ar_mc_AKGC417L.wav to /content/drive/MyDrive/ICBHI_final_database/augmented_audio/COPD_133_2p4_Ar_mc_AKGC417L.wav\n",
            "COPD_133_2p4_Pr_mc_AKGC417L.wav\n",
            "Copied COPD_133_2p4_Pr_mc_AKGC417L.wav to /content/drive/MyDrive/ICBHI_final_database/augmented_audio/COPD_133_2p4_Pr_mc_AKGC417L.wav\n",
            "COPD_133_3p2_Al_mc_AKGC417L.wav\n",
            "Copied COPD_133_3p2_Al_mc_AKGC417L.wav to /content/drive/MyDrive/ICBHI_final_database/augmented_audio/COPD_133_3p2_Al_mc_AKGC417L.wav\n",
            "COPD_133_3p2_Pr_mc_AKGC417L.wav\n",
            "Copied COPD_133_3p2_Pr_mc_AKGC417L.wav to /content/drive/MyDrive/ICBHI_final_database/augmented_audio/COPD_133_3p2_Pr_mc_AKGC417L.wav\n",
            "COPD_134_2b1_Al_mc_LittC2SE.wav\n",
            "Copied COPD_134_2b1_Al_mc_LittC2SE.wav to /content/drive/MyDrive/ICBHI_final_database/augmented_audio/COPD_134_2b1_Al_mc_LittC2SE.wav\n",
            "COPD_134_2b2_Al_mc_LittC2SE.wav\n",
            "Copied COPD_134_2b2_Al_mc_LittC2SE.wav to /content/drive/MyDrive/ICBHI_final_database/augmented_audio/COPD_134_2b2_Al_mc_LittC2SE.wav\n",
            "COPD_134_2b2_Ar_mc_LittC2SE.wav\n",
            "Copied COPD_134_2b2_Ar_mc_LittC2SE.wav to /content/drive/MyDrive/ICBHI_final_database/augmented_audio/COPD_134_2b2_Ar_mc_LittC2SE.wav\n",
            "COPD_134_2b3_Ar_mc_LittC2SE.wav\n",
            "Copied COPD_134_2b3_Ar_mc_LittC2SE.wav to /content/drive/MyDrive/ICBHI_final_database/augmented_audio/COPD_134_2b3_Ar_mc_LittC2SE.wav\n",
            "COPD_135_2b1_Pl_mc_LittC2SE.wav\n",
            "Copied COPD_135_2b1_Pl_mc_LittC2SE.wav to /content/drive/MyDrive/ICBHI_final_database/augmented_audio/COPD_135_2b1_Pl_mc_LittC2SE.wav\n",
            "COPD_135_2b1_Tc_mc_LittC2SE.wav\n",
            "Copied COPD_135_2b1_Tc_mc_LittC2SE.wav to /content/drive/MyDrive/ICBHI_final_database/augmented_audio/COPD_135_2b1_Tc_mc_LittC2SE.wav\n",
            "COPD_135_2b2_Pl_mc_LittC2SE.wav\n",
            "Copied COPD_135_2b2_Pl_mc_LittC2SE.wav to /content/drive/MyDrive/ICBHI_final_database/augmented_audio/COPD_135_2b2_Pl_mc_LittC2SE.wav\n",
            "COPD_135_2b2_Tc_mc_LittC2SE.wav\n",
            "Copied COPD_135_2b2_Tc_mc_LittC2SE.wav to /content/drive/MyDrive/ICBHI_final_database/augmented_audio/COPD_135_2b2_Tc_mc_LittC2SE.wav\n",
            "COPD_135_2b3_Al_mc_LittC2SE.wav\n",
            "Copied COPD_135_2b3_Al_mc_LittC2SE.wav to /content/drive/MyDrive/ICBHI_final_database/augmented_audio/COPD_135_2b3_Al_mc_LittC2SE.wav\n",
            "COPD_135_2b3_Ar_mc_LittC2SE.wav\n",
            "Copied COPD_135_2b3_Ar_mc_LittC2SE.wav to /content/drive/MyDrive/ICBHI_final_database/augmented_audio/COPD_135_2b3_Ar_mc_LittC2SE.wav\n",
            "COPD_135_2b3_Pr_mc_LittC2SE.wav\n",
            "Copied COPD_135_2b3_Pr_mc_LittC2SE.wav to /content/drive/MyDrive/ICBHI_final_database/augmented_audio/COPD_135_2b3_Pr_mc_LittC2SE.wav\n",
            "COPD_136_1b1_Ar_sc_Meditron.wav\n",
            "Copied COPD_136_1b1_Ar_sc_Meditron.wav to /content/drive/MyDrive/ICBHI_final_database/augmented_audio/COPD_136_1b1_Ar_sc_Meditron.wav\n",
            "COPD_137_1b1_Ar_sc_Meditron.wav\n",
            "Copied COPD_137_1b1_Ar_sc_Meditron.wav to /content/drive/MyDrive/ICBHI_final_database/augmented_audio/COPD_137_1b1_Ar_sc_Meditron.wav\n",
            "COPD_138_1p2_Ar_mc_AKGC417L.wav\n",
            "Copied COPD_138_1p2_Ar_mc_AKGC417L.wav to /content/drive/MyDrive/ICBHI_final_database/augmented_audio/COPD_138_1p2_Ar_mc_AKGC417L.wav\n",
            "COPD_138_1p2_Lr_mc_AKGC417L.wav\n",
            "Copied COPD_138_1p2_Lr_mc_AKGC417L.wav to /content/drive/MyDrive/ICBHI_final_database/augmented_audio/COPD_138_1p2_Lr_mc_AKGC417L.wav\n",
            "COPD_138_1p2_Pl_mc_AKGC417L.wav\n",
            "Copied COPD_138_1p2_Pl_mc_AKGC417L.wav to /content/drive/MyDrive/ICBHI_final_database/augmented_audio/COPD_138_1p2_Pl_mc_AKGC417L.wav\n",
            "COPD_138_1p3_Al_mc_AKGC417L.wav\n",
            "Copied COPD_138_1p3_Al_mc_AKGC417L.wav to /content/drive/MyDrive/ICBHI_final_database/augmented_audio/COPD_138_1p3_Al_mc_AKGC417L.wav\n",
            "COPD_138_1p3_Ll_mc_AKGC417L.wav\n",
            "Copied COPD_138_1p3_Ll_mc_AKGC417L.wav to /content/drive/MyDrive/ICBHI_final_database/augmented_audio/COPD_138_1p3_Ll_mc_AKGC417L.wav\n",
            "COPD_138_1p3_Lr_mc_AKGC417L.wav\n",
            "Copied COPD_138_1p3_Lr_mc_AKGC417L.wav to /content/drive/MyDrive/ICBHI_final_database/augmented_audio/COPD_138_1p3_Lr_mc_AKGC417L.wav\n",
            "COPD_138_1p3_Pl_mc_AKGC417L.wav\n",
            "Copied COPD_138_1p3_Pl_mc_AKGC417L.wav to /content/drive/MyDrive/ICBHI_final_database/augmented_audio/COPD_138_1p3_Pl_mc_AKGC417L.wav\n",
            "COPD_138_1p4_Lr_mc_AKGC417L.wav\n",
            "Copied COPD_138_1p4_Lr_mc_AKGC417L.wav to /content/drive/MyDrive/ICBHI_final_database/augmented_audio/COPD_138_1p4_Lr_mc_AKGC417L.wav\n",
            "COPD_138_1p4_Pr_mc_AKGC417L.wav\n",
            "Copied COPD_138_1p4_Pr_mc_AKGC417L.wav to /content/drive/MyDrive/ICBHI_final_database/augmented_audio/COPD_138_1p4_Pr_mc_AKGC417L.wav\n",
            "COPD_138_1p4_Tc_mc_AKGC417L.wav\n",
            "Copied COPD_138_1p4_Tc_mc_AKGC417L.wav to /content/drive/MyDrive/ICBHI_final_database/augmented_audio/COPD_138_1p4_Tc_mc_AKGC417L.wav\n",
            "COPD_138_2p2_Ll_mc_AKGC417L.wav\n",
            "Copied COPD_138_2p2_Ll_mc_AKGC417L.wav to /content/drive/MyDrive/ICBHI_final_database/augmented_audio/COPD_138_2p2_Ll_mc_AKGC417L.wav\n",
            "COPD_138_2p2_Pl_mc_AKGC417L.wav\n",
            "Copied COPD_138_2p2_Pl_mc_AKGC417L.wav to /content/drive/MyDrive/ICBHI_final_database/augmented_audio/COPD_138_2p2_Pl_mc_AKGC417L.wav\n",
            "COPD_138_2p2_Pr_mc_AKGC417L.wav\n",
            "Copied COPD_138_2p2_Pr_mc_AKGC417L.wav to /content/drive/MyDrive/ICBHI_final_database/augmented_audio/COPD_138_2p2_Pr_mc_AKGC417L.wav\n",
            "COPD_139_1b1_Al_sc_Litt3200.wav\n",
            "Copied COPD_139_1b1_Al_sc_Litt3200.wav to /content/drive/MyDrive/ICBHI_final_database/augmented_audio/COPD_139_1b1_Al_sc_Litt3200.wav\n",
            "COPD_139_1b1_Ar_sc_Litt3200.wav\n",
            "Copied COPD_139_1b1_Ar_sc_Litt3200.wav to /content/drive/MyDrive/ICBHI_final_database/augmented_audio/COPD_139_1b1_Ar_sc_Litt3200.wav\n",
            "COPD_139_1b1_Ll_sc_Litt3200.wav\n",
            "Copied COPD_139_1b1_Ll_sc_Litt3200.wav to /content/drive/MyDrive/ICBHI_final_database/augmented_audio/COPD_139_1b1_Ll_sc_Litt3200.wav\n",
            "COPD_139_1b1_Lr_sc_Litt3200.wav\n",
            "Copied COPD_139_1b1_Lr_sc_Litt3200.wav to /content/drive/MyDrive/ICBHI_final_database/augmented_audio/COPD_139_1b1_Lr_sc_Litt3200.wav\n",
            "COPD_139_1b1_Pl_sc_Litt3200.wav\n",
            "Copied COPD_139_1b1_Pl_sc_Litt3200.wav to /content/drive/MyDrive/ICBHI_final_database/augmented_audio/COPD_139_1b1_Pl_sc_Litt3200.wav\n",
            "COPD_140_2b2_Ll_mc_LittC2SE.wav\n",
            "Copied COPD_140_2b2_Ll_mc_LittC2SE.wav to /content/drive/MyDrive/ICBHI_final_database/augmented_audio/COPD_140_2b2_Ll_mc_LittC2SE.wav\n",
            "COPD_140_2b2_Tc_mc_LittC2SE.wav\n",
            "Copied COPD_140_2b2_Tc_mc_LittC2SE.wav to /content/drive/MyDrive/ICBHI_final_database/augmented_audio/COPD_140_2b2_Tc_mc_LittC2SE.wav\n",
            "COPD_140_2b3_Tc_mc_LittC2SE.wav\n",
            "Copied COPD_140_2b3_Tc_mc_LittC2SE.wav to /content/drive/MyDrive/ICBHI_final_database/augmented_audio/COPD_140_2b3_Tc_mc_LittC2SE.wav\n",
            "COPD_141_1b1_Pr_mc_LittC2SE.wav\n",
            "Copied COPD_141_1b1_Pr_mc_LittC2SE.wav to /content/drive/MyDrive/ICBHI_final_database/augmented_audio/COPD_141_1b1_Pr_mc_LittC2SE.wav\n",
            "COPD_141_1b2_Lr_mc_LittC2SE.wav\n",
            "Copied COPD_141_1b2_Lr_mc_LittC2SE.wav to /content/drive/MyDrive/ICBHI_final_database/augmented_audio/COPD_141_1b2_Lr_mc_LittC2SE.wav\n",
            "COPD_141_1b2_Tc_mc_LittC2SE.wav\n",
            "Copied COPD_141_1b2_Tc_mc_LittC2SE.wav to /content/drive/MyDrive/ICBHI_final_database/augmented_audio/COPD_141_1b2_Tc_mc_LittC2SE.wav\n",
            "COPD_141_1b3_Ar_mc_LittC2SE.wav\n",
            "Copied COPD_141_1b3_Ar_mc_LittC2SE.wav to /content/drive/MyDrive/ICBHI_final_database/augmented_audio/COPD_141_1b3_Ar_mc_LittC2SE.wav\n",
            "COPD_141_1b3_Pr_mc_LittC2SE.wav\n",
            "Copied COPD_141_1b3_Pr_mc_LittC2SE.wav to /content/drive/MyDrive/ICBHI_final_database/augmented_audio/COPD_141_1b3_Pr_mc_LittC2SE.wav\n",
            "COPD_143_1b1_Al_sc_Meditron.wav\n",
            "Copied COPD_143_1b1_Al_sc_Meditron.wav to /content/drive/MyDrive/ICBHI_final_database/augmented_audio/COPD_143_1b1_Al_sc_Meditron.wav\n",
            "COPD_144_1b1_Tc_sc_Meditron.wav\n",
            "Copied COPD_144_1b1_Tc_sc_Meditron.wav to /content/drive/MyDrive/ICBHI_final_database/augmented_audio/COPD_144_1b1_Tc_sc_Meditron.wav\n",
            "COPD_145_2b2_Lr_mc_AKGC417L.wav\n",
            "Copied COPD_145_2b2_Lr_mc_AKGC417L.wav to /content/drive/MyDrive/ICBHI_final_database/augmented_audio/COPD_145_2b2_Lr_mc_AKGC417L.wav\n",
            "COPD_145_3b2_Lr_mc_AKGC417L.wav\n",
            "Copied COPD_145_3b2_Lr_mc_AKGC417L.wav to /content/drive/MyDrive/ICBHI_final_database/augmented_audio/COPD_145_3b2_Lr_mc_AKGC417L.wav\n",
            "COPD_145_3b4_Pl_mc_AKGC417L.wav\n",
            "Copied COPD_145_3b4_Pl_mc_AKGC417L.wav to /content/drive/MyDrive/ICBHI_final_database/augmented_audio/COPD_145_3b4_Pl_mc_AKGC417L.wav\n",
            "COPD_146_2b4_Ar_mc_AKGC417L.wav\n",
            "Copied COPD_146_2b4_Ar_mc_AKGC417L.wav to /content/drive/MyDrive/ICBHI_final_database/augmented_audio/COPD_146_2b4_Ar_mc_AKGC417L.wav\n",
            "COPD_146_2b4_Pr_mc_AKGC417L.wav\n",
            "Copied COPD_146_2b4_Pr_mc_AKGC417L.wav to /content/drive/MyDrive/ICBHI_final_database/augmented_audio/COPD_146_2b4_Pr_mc_AKGC417L.wav\n",
            "COPD_146_8p3_Ar_mc_AKGC417L.wav\n",
            "Copied COPD_146_8p3_Ar_mc_AKGC417L.wav to /content/drive/MyDrive/ICBHI_final_database/augmented_audio/COPD_146_8p3_Ar_mc_AKGC417L.wav\n",
            "COPD_146_8p3_Lr_mc_AKGC417L.wav\n",
            "Copied COPD_146_8p3_Lr_mc_AKGC417L.wav to /content/drive/MyDrive/ICBHI_final_database/augmented_audio/COPD_146_8p3_Lr_mc_AKGC417L.wav\n",
            "COPD_147_1b2_Tc_mc_AKGC417L.wav\n",
            "Copied COPD_147_1b2_Tc_mc_AKGC417L.wav to /content/drive/MyDrive/ICBHI_final_database/augmented_audio/COPD_147_1b2_Tc_mc_AKGC417L.wav\n",
            "COPD_147_1b3_Tc_mc_AKGC417L.wav\n",
            "Copied COPD_147_1b3_Tc_mc_AKGC417L.wav to /content/drive/MyDrive/ICBHI_final_database/augmented_audio/COPD_147_1b3_Tc_mc_AKGC417L.wav\n",
            "COPD_147_2b2_Pl_mc_AKGC417L.wav\n",
            "Copied COPD_147_2b2_Pl_mc_AKGC417L.wav to /content/drive/MyDrive/ICBHI_final_database/augmented_audio/COPD_147_2b2_Pl_mc_AKGC417L.wav\n",
            "COPD_147_2b4_Ar_mc_AKGC417L.wav\n",
            "Copied COPD_147_2b4_Ar_mc_AKGC417L.wav to /content/drive/MyDrive/ICBHI_final_database/augmented_audio/COPD_147_2b4_Ar_mc_AKGC417L.wav\n",
            "COPD_147_2b4_Ll_mc_AKGC417L.wav\n",
            "Copied COPD_147_2b4_Ll_mc_AKGC417L.wav to /content/drive/MyDrive/ICBHI_final_database/augmented_audio/COPD_147_2b4_Ll_mc_AKGC417L.wav\n",
            "COPD_149_1b1_Pl_sc_Meditron.wav\n",
            "Copied COPD_149_1b1_Pl_sc_Meditron.wav to /content/drive/MyDrive/ICBHI_final_database/augmented_audio/COPD_149_1b1_Pl_sc_Meditron.wav\n",
            "COPD_150_1b2_Al_sc_Meditron.wav\n",
            "Copied COPD_150_1b2_Al_sc_Meditron.wav to /content/drive/MyDrive/ICBHI_final_database/augmented_audio/COPD_150_1b2_Al_sc_Meditron.wav\n",
            "COPD_151_2p2_Ll_mc_AKGC417L.wav\n",
            "Copied COPD_151_2p2_Ll_mc_AKGC417L.wav to /content/drive/MyDrive/ICBHI_final_database/augmented_audio/COPD_151_2p2_Ll_mc_AKGC417L.wav\n",
            "COPD_151_2p2_Pl_mc_AKGC417L.wav\n",
            "Copied COPD_151_2p2_Pl_mc_AKGC417L.wav to /content/drive/MyDrive/ICBHI_final_database/augmented_audio/COPD_151_2p2_Pl_mc_AKGC417L.wav\n",
            "COPD_151_2p2_Tc_mc_AKGC417L.wav\n",
            "Copied COPD_151_2p2_Tc_mc_AKGC417L.wav to /content/drive/MyDrive/ICBHI_final_database/augmented_audio/COPD_151_2p2_Tc_mc_AKGC417L.wav\n",
            "COPD_151_2p3_Al_mc_AKGC417L.wav\n",
            "Copied COPD_151_2p3_Al_mc_AKGC417L.wav to /content/drive/MyDrive/ICBHI_final_database/augmented_audio/COPD_151_2p3_Al_mc_AKGC417L.wav\n",
            "COPD_151_2p3_Ar_mc_AKGC417L.wav\n",
            "Copied COPD_151_2p3_Ar_mc_AKGC417L.wav to /content/drive/MyDrive/ICBHI_final_database/augmented_audio/COPD_151_2p3_Ar_mc_AKGC417L.wav\n",
            "COPD_151_2p4_Pl_mc_AKGC417L.wav\n",
            "Copied COPD_151_2p4_Pl_mc_AKGC417L.wav to /content/drive/MyDrive/ICBHI_final_database/augmented_audio/COPD_151_2p4_Pl_mc_AKGC417L.wav\n",
            "COPD_151_2p4_Pr_mc_AKGC417L.wav\n",
            "Copied COPD_151_2p4_Pr_mc_AKGC417L.wav to /content/drive/MyDrive/ICBHI_final_database/augmented_audio/COPD_151_2p4_Pr_mc_AKGC417L.wav\n",
            "COPD_151_2p4_Tc_mc_AKGC417L.wav\n",
            "Copied COPD_151_2p4_Tc_mc_AKGC417L.wav to /content/drive/MyDrive/ICBHI_final_database/augmented_audio/COPD_151_2p4_Tc_mc_AKGC417L.wav\n",
            "COPD_151_3p2_Al_mc_AKGC417L.wav\n",
            "Copied COPD_151_3p2_Al_mc_AKGC417L.wav to /content/drive/MyDrive/ICBHI_final_database/augmented_audio/COPD_151_3p2_Al_mc_AKGC417L.wav\n",
            "COPD_151_3p2_Lr_mc_AKGC417L.wav\n",
            "Copied COPD_151_3p2_Lr_mc_AKGC417L.wav to /content/drive/MyDrive/ICBHI_final_database/augmented_audio/COPD_151_3p2_Lr_mc_AKGC417L.wav\n",
            "COPD_151_3p2_Pr_mc_AKGC417L.wav\n",
            "Copied COPD_151_3p2_Pr_mc_AKGC417L.wav to /content/drive/MyDrive/ICBHI_final_database/augmented_audio/COPD_151_3p2_Pr_mc_AKGC417L.wav\n",
            "COPD_151_3p3_Ll_mc_AKGC417L.wav\n",
            "Copied COPD_151_3p3_Ll_mc_AKGC417L.wav to /content/drive/MyDrive/ICBHI_final_database/augmented_audio/COPD_151_3p3_Ll_mc_AKGC417L.wav\n",
            "COPD_152_1b1_Al_sc_Meditron.wav\n",
            "Copied COPD_152_1b1_Al_sc_Meditron.wav to /content/drive/MyDrive/ICBHI_final_database/augmented_audio/COPD_152_1b1_Al_sc_Meditron.wav\n",
            "COPD_153_1b1_Al_sc_Meditron.wav\n",
            "Copied COPD_153_1b1_Al_sc_Meditron.wav to /content/drive/MyDrive/ICBHI_final_database/augmented_audio/COPD_153_1b1_Al_sc_Meditron.wav\n",
            "COPD_154_1b3_Al_mc_AKGC417L.wav\n",
            "Copied COPD_154_1b3_Al_mc_AKGC417L.wav to /content/drive/MyDrive/ICBHI_final_database/augmented_audio/COPD_154_1b3_Al_mc_AKGC417L.wav\n",
            "COPD_154_1b3_Ll_mc_AKGC417L.wav\n",
            "Copied COPD_154_1b3_Ll_mc_AKGC417L.wav to /content/drive/MyDrive/ICBHI_final_database/augmented_audio/COPD_154_1b3_Ll_mc_AKGC417L.wav\n",
            "COPD_154_1b3_Lr_mc_AKGC417L.wav\n",
            "Copied COPD_154_1b3_Lr_mc_AKGC417L.wav to /content/drive/MyDrive/ICBHI_final_database/augmented_audio/COPD_154_1b3_Lr_mc_AKGC417L.wav\n",
            "COPD_154_1b3_Pr_mc_AKGC417L.wav\n",
            "Copied COPD_154_1b3_Pr_mc_AKGC417L.wav to /content/drive/MyDrive/ICBHI_final_database/augmented_audio/COPD_154_1b3_Pr_mc_AKGC417L.wav\n",
            "COPD_154_2b4_Al_mc_AKGC417L.wav\n",
            "Copied COPD_154_2b4_Al_mc_AKGC417L.wav to /content/drive/MyDrive/ICBHI_final_database/augmented_audio/COPD_154_2b4_Al_mc_AKGC417L.wav\n",
            "COPD_154_2b4_Ar_mc_AKGC417L.wav\n",
            "Copied COPD_154_2b4_Ar_mc_AKGC417L.wav to /content/drive/MyDrive/ICBHI_final_database/augmented_audio/COPD_154_2b4_Ar_mc_AKGC417L.wav\n",
            "COPD_154_2b4_Pr_mc_AKGC417L.wav\n",
            "Copied COPD_154_2b4_Pr_mc_AKGC417L.wav to /content/drive/MyDrive/ICBHI_final_database/augmented_audio/COPD_154_2b4_Pr_mc_AKGC417L.wav\n",
            "COPD_154_3b3_Al_mc_AKGC417L.wav\n",
            "Copied COPD_154_3b3_Al_mc_AKGC417L.wav to /content/drive/MyDrive/ICBHI_final_database/augmented_audio/COPD_154_3b3_Al_mc_AKGC417L.wav\n",
            "COPD_154_4b4_Al_mc_AKGC417L.wav\n",
            "Copied COPD_154_4b4_Al_mc_AKGC417L.wav to /content/drive/MyDrive/ICBHI_final_database/augmented_audio/COPD_154_4b4_Al_mc_AKGC417L.wav\n",
            "COPD_154_4b4_Ar_mc_AKGC417L.wav\n",
            "Copied COPD_154_4b4_Ar_mc_AKGC417L.wav to /content/drive/MyDrive/ICBHI_final_database/augmented_audio/COPD_154_4b4_Ar_mc_AKGC417L.wav\n",
            "COPD_154_4b4_Lr_mc_AKGC417L.wav\n",
            "Copied COPD_154_4b4_Lr_mc_AKGC417L.wav to /content/drive/MyDrive/ICBHI_final_database/augmented_audio/COPD_154_4b4_Lr_mc_AKGC417L.wav\n",
            "COPD_155_2b1_Al_mc_LittC2SE.wav\n",
            "Copied COPD_155_2b1_Al_mc_LittC2SE.wav to /content/drive/MyDrive/ICBHI_final_database/augmented_audio/COPD_155_2b1_Al_mc_LittC2SE.wav\n",
            "COPD_156_2b3_Al_mc_AKGC417L.wav\n",
            "Copied COPD_156_2b3_Al_mc_AKGC417L.wav to /content/drive/MyDrive/ICBHI_final_database/augmented_audio/COPD_156_2b3_Al_mc_AKGC417L.wav\n",
            "COPD_156_2b3_Ar_mc_AKGC417L.wav\n",
            "Copied COPD_156_2b3_Ar_mc_AKGC417L.wav to /content/drive/MyDrive/ICBHI_final_database/augmented_audio/COPD_156_2b3_Ar_mc_AKGC417L.wav\n",
            "COPD_156_2b3_Lr_mc_AKGC417L.wav\n",
            "Copied COPD_156_2b3_Lr_mc_AKGC417L.wav to /content/drive/MyDrive/ICBHI_final_database/augmented_audio/COPD_156_2b3_Lr_mc_AKGC417L.wav\n",
            "COPD_156_2b3_Pl_mc_AKGC417L.wav\n",
            "Copied COPD_156_2b3_Pl_mc_AKGC417L.wav to /content/drive/MyDrive/ICBHI_final_database/augmented_audio/COPD_156_2b3_Pl_mc_AKGC417L.wav\n",
            "COPD_156_5b3_Ar_mc_AKGC417L.wav\n",
            "Copied COPD_156_5b3_Ar_mc_AKGC417L.wav to /content/drive/MyDrive/ICBHI_final_database/augmented_audio/COPD_156_5b3_Ar_mc_AKGC417L.wav\n",
            "COPD_156_5b3_Pl_mc_AKGC417L.wav\n",
            "Copied COPD_156_5b3_Pl_mc_AKGC417L.wav to /content/drive/MyDrive/ICBHI_final_database/augmented_audio/COPD_156_5b3_Pl_mc_AKGC417L.wav\n",
            "COPD_156_5b3_Pr_mc_AKGC417L.wav\n",
            "Copied COPD_156_5b3_Pr_mc_AKGC417L.wav to /content/drive/MyDrive/ICBHI_final_database/augmented_audio/COPD_156_5b3_Pr_mc_AKGC417L.wav\n",
            "COPD_156_8b3_Al_mc_AKGC417L.wav\n",
            "Copied COPD_156_8b3_Al_mc_AKGC417L.wav to /content/drive/MyDrive/ICBHI_final_database/augmented_audio/COPD_156_8b3_Al_mc_AKGC417L.wav\n",
            "COPD_156_8b3_Ll_mc_AKGC417L.wav\n",
            "Copied COPD_156_8b3_Ll_mc_AKGC417L.wav to /content/drive/MyDrive/ICBHI_final_database/augmented_audio/COPD_156_8b3_Ll_mc_AKGC417L.wav\n",
            "COPD_156_8b3_Lr_mc_AKGC417L.wav\n",
            "Copied COPD_156_8b3_Lr_mc_AKGC417L.wav to /content/drive/MyDrive/ICBHI_final_database/augmented_audio/COPD_156_8b3_Lr_mc_AKGC417L.wav\n",
            "COPD_156_8b3_Pl_mc_AKGC417L.wav\n",
            "Copied COPD_156_8b3_Pl_mc_AKGC417L.wav to /content/drive/MyDrive/ICBHI_final_database/augmented_audio/COPD_156_8b3_Pl_mc_AKGC417L.wav\n",
            "COPD_158_1p2_Al_mc_AKGC417L.wav\n",
            "Copied COPD_158_1p2_Al_mc_AKGC417L.wav to /content/drive/MyDrive/ICBHI_final_database/augmented_audio/COPD_158_1p2_Al_mc_AKGC417L.wav\n",
            "COPD_158_1p2_Ar_mc_AKGC417L.wav\n",
            "Copied COPD_158_1p2_Ar_mc_AKGC417L.wav to /content/drive/MyDrive/ICBHI_final_database/augmented_audio/COPD_158_1p2_Ar_mc_AKGC417L.wav\n",
            "COPD_158_1p2_Lr_mc_AKGC417L.wav\n",
            "Copied COPD_158_1p2_Lr_mc_AKGC417L.wav to /content/drive/MyDrive/ICBHI_final_database/augmented_audio/COPD_158_1p2_Lr_mc_AKGC417L.wav\n",
            "COPD_158_1p2_Pl_mc_AKGC417L.wav\n",
            "Copied COPD_158_1p2_Pl_mc_AKGC417L.wav to /content/drive/MyDrive/ICBHI_final_database/augmented_audio/COPD_158_1p2_Pl_mc_AKGC417L.wav\n",
            "COPD_158_1p2_Pr_mc_AKGC417L.wav\n",
            "Copied COPD_158_1p2_Pr_mc_AKGC417L.wav to /content/drive/MyDrive/ICBHI_final_database/augmented_audio/COPD_158_1p2_Pr_mc_AKGC417L.wav\n",
            "COPD_158_1p3_Al_mc_AKGC417L.wav\n",
            "Copied COPD_158_1p3_Al_mc_AKGC417L.wav to /content/drive/MyDrive/ICBHI_final_database/augmented_audio/COPD_158_1p3_Al_mc_AKGC417L.wav\n",
            "COPD_158_1p3_Ar_mc_AKGC417L.wav\n",
            "Copied COPD_158_1p3_Ar_mc_AKGC417L.wav to /content/drive/MyDrive/ICBHI_final_database/augmented_audio/COPD_158_1p3_Ar_mc_AKGC417L.wav\n",
            "COPD_158_1p3_Ll_mc_AKGC417L.wav\n",
            "Copied COPD_158_1p3_Ll_mc_AKGC417L.wav to /content/drive/MyDrive/ICBHI_final_database/augmented_audio/COPD_158_1p3_Ll_mc_AKGC417L.wav\n",
            "COPD_158_1p3_Pr_mc_AKGC417L.wav\n",
            "Copied COPD_158_1p3_Pr_mc_AKGC417L.wav to /content/drive/MyDrive/ICBHI_final_database/augmented_audio/COPD_158_1p3_Pr_mc_AKGC417L.wav\n",
            "COPD_158_1p4_Lr_mc_AKGC417L.wav\n",
            "Copied COPD_158_1p4_Lr_mc_AKGC417L.wav to /content/drive/MyDrive/ICBHI_final_database/augmented_audio/COPD_158_1p4_Lr_mc_AKGC417L.wav\n",
            "COPD_158_1p4_Tc_mc_AKGC417L.wav\n",
            "Copied COPD_158_1p4_Tc_mc_AKGC417L.wav to /content/drive/MyDrive/ICBHI_final_database/augmented_audio/COPD_158_1p4_Tc_mc_AKGC417L.wav\n",
            "COPD_158_2p3_Tc_mc_AKGC417L.wav\n",
            "Copied COPD_158_2p3_Tc_mc_AKGC417L.wav to /content/drive/MyDrive/ICBHI_final_database/augmented_audio/COPD_158_2p3_Tc_mc_AKGC417L.wav\n",
            "COPD_159_1b1_Ar_sc_Meditron.wav\n",
            "Copied COPD_159_1b1_Ar_sc_Meditron.wav to /content/drive/MyDrive/ICBHI_final_database/augmented_audio/COPD_159_1b1_Ar_sc_Meditron.wav\n",
            "COPD_160_1b2_Al_mc_AKGC417L.wav\n",
            "Copied COPD_160_1b2_Al_mc_AKGC417L.wav to /content/drive/MyDrive/ICBHI_final_database/augmented_audio/COPD_160_1b2_Al_mc_AKGC417L.wav\n",
            "COPD_160_1b2_Ar_mc_AKGC417L.wav\n",
            "Copied COPD_160_1b2_Ar_mc_AKGC417L.wav to /content/drive/MyDrive/ICBHI_final_database/augmented_audio/COPD_160_1b2_Ar_mc_AKGC417L.wav\n",
            "COPD_160_1b2_Lr_mc_AKGC417L.wav\n",
            "Copied COPD_160_1b2_Lr_mc_AKGC417L.wav to /content/drive/MyDrive/ICBHI_final_database/augmented_audio/COPD_160_1b2_Lr_mc_AKGC417L.wav\n",
            "COPD_160_1b2_Pl_mc_AKGC417L.wav\n",
            "Copied COPD_160_1b2_Pl_mc_AKGC417L.wav to /content/drive/MyDrive/ICBHI_final_database/augmented_audio/COPD_160_1b2_Pl_mc_AKGC417L.wav\n",
            "COPD_160_1b3_Ar_mc_AKGC417L.wav\n",
            "Copied COPD_160_1b3_Ar_mc_AKGC417L.wav to /content/drive/MyDrive/ICBHI_final_database/augmented_audio/COPD_160_1b3_Ar_mc_AKGC417L.wav\n",
            "COPD_160_1b3_Lr_mc_AKGC417L.wav\n",
            "Copied COPD_160_1b3_Lr_mc_AKGC417L.wav to /content/drive/MyDrive/ICBHI_final_database/augmented_audio/COPD_160_1b3_Lr_mc_AKGC417L.wav\n",
            "COPD_160_1b3_Tc_mc_AKGC417L.wav\n",
            "Copied COPD_160_1b3_Tc_mc_AKGC417L.wav to /content/drive/MyDrive/ICBHI_final_database/augmented_audio/COPD_160_1b3_Tc_mc_AKGC417L.wav\n",
            "COPD_160_1b4_Al_mc_AKGC417L.wav\n",
            "Copied COPD_160_1b4_Al_mc_AKGC417L.wav to /content/drive/MyDrive/ICBHI_final_database/augmented_audio/COPD_160_1b4_Al_mc_AKGC417L.wav\n",
            "COPD_160_1b4_Pl_mc_AKGC417L.wav\n",
            "Copied COPD_160_1b4_Pl_mc_AKGC417L.wav to /content/drive/MyDrive/ICBHI_final_database/augmented_audio/COPD_160_1b4_Pl_mc_AKGC417L.wav\n",
            "COPD_160_1b4_Tc_mc_AKGC417L.wav\n",
            "Copied COPD_160_1b4_Tc_mc_AKGC417L.wav to /content/drive/MyDrive/ICBHI_final_database/augmented_audio/COPD_160_1b4_Tc_mc_AKGC417L.wav\n",
            "COPD_160_2b3_Lr_mc_AKGC417L.wav\n",
            "Copied COPD_160_2b3_Lr_mc_AKGC417L.wav to /content/drive/MyDrive/ICBHI_final_database/augmented_audio/COPD_160_2b3_Lr_mc_AKGC417L.wav\n",
            "COPD_161_1b1_Al_sc_Meditron.wav\n",
            "Copied COPD_161_1b1_Al_sc_Meditron.wav to /content/drive/MyDrive/ICBHI_final_database/augmented_audio/COPD_161_1b1_Al_sc_Meditron.wav\n",
            "COPD_162_1b2_Ar_mc_AKGC417L.wav\n",
            "Copied COPD_162_1b2_Ar_mc_AKGC417L.wav to /content/drive/MyDrive/ICBHI_final_database/augmented_audio/COPD_162_1b2_Ar_mc_AKGC417L.wav\n",
            "COPD_162_1b2_Ll_mc_AKGC417L.wav\n",
            "Copied COPD_162_1b2_Ll_mc_AKGC417L.wav to /content/drive/MyDrive/ICBHI_final_database/augmented_audio/COPD_162_1b2_Ll_mc_AKGC417L.wav\n",
            "COPD_162_1b2_Lr_mc_AKGC417L.wav\n",
            "Copied COPD_162_1b2_Lr_mc_AKGC417L.wav to /content/drive/MyDrive/ICBHI_final_database/augmented_audio/COPD_162_1b2_Lr_mc_AKGC417L.wav\n",
            "COPD_162_1b2_Tc_mc_AKGC417L.wav\n",
            "Copied COPD_162_1b2_Tc_mc_AKGC417L.wav to /content/drive/MyDrive/ICBHI_final_database/augmented_audio/COPD_162_1b2_Tc_mc_AKGC417L.wav\n",
            "COPD_162_2b2_Al_mc_AKGC417L.wav\n",
            "Copied COPD_162_2b2_Al_mc_AKGC417L.wav to /content/drive/MyDrive/ICBHI_final_database/augmented_audio/COPD_162_2b2_Al_mc_AKGC417L.wav\n",
            "COPD_162_2b2_Pl_mc_AKGC417L.wav\n",
            "Copied COPD_162_2b2_Pl_mc_AKGC417L.wav to /content/drive/MyDrive/ICBHI_final_database/augmented_audio/COPD_162_2b2_Pl_mc_AKGC417L.wav\n",
            "COPD_162_2b3_Al_mc_AKGC417L.wav\n",
            "Copied COPD_162_2b3_Al_mc_AKGC417L.wav to /content/drive/MyDrive/ICBHI_final_database/augmented_audio/COPD_162_2b3_Al_mc_AKGC417L.wav\n",
            "COPD_162_2b3_Ar_mc_AKGC417L.wav\n",
            "Copied COPD_162_2b3_Ar_mc_AKGC417L.wav to /content/drive/MyDrive/ICBHI_final_database/augmented_audio/COPD_162_2b3_Ar_mc_AKGC417L.wav\n",
            "COPD_162_2b3_Lr_mc_AKGC417L.wav\n",
            "Copied COPD_162_2b3_Lr_mc_AKGC417L.wav to /content/drive/MyDrive/ICBHI_final_database/augmented_audio/COPD_162_2b3_Lr_mc_AKGC417L.wav\n",
            "COPD_162_2b3_Tc_mc_AKGC417L.wav\n",
            "Copied COPD_162_2b3_Tc_mc_AKGC417L.wav to /content/drive/MyDrive/ICBHI_final_database/augmented_audio/COPD_162_2b3_Tc_mc_AKGC417L.wav\n",
            "COPD_162_2b4_Al_mc_AKGC417L.wav\n",
            "Copied COPD_162_2b4_Al_mc_AKGC417L.wav to /content/drive/MyDrive/ICBHI_final_database/augmented_audio/COPD_162_2b4_Al_mc_AKGC417L.wav\n",
            "COPD_162_2b4_Lr_mc_AKGC417L.wav\n",
            "Copied COPD_162_2b4_Lr_mc_AKGC417L.wav to /content/drive/MyDrive/ICBHI_final_database/augmented_audio/COPD_162_2b4_Lr_mc_AKGC417L.wav\n",
            "COPD_162_2b4_Pr_mc_AKGC417L.wav\n",
            "Copied COPD_162_2b4_Pr_mc_AKGC417L.wav to /content/drive/MyDrive/ICBHI_final_database/augmented_audio/COPD_162_2b4_Pr_mc_AKGC417L.wav\n",
            "COPD_163_2b2_Al_mc_AKGC417L.wav\n",
            "Copied COPD_163_2b2_Al_mc_AKGC417L.wav to /content/drive/MyDrive/ICBHI_final_database/augmented_audio/COPD_163_2b2_Al_mc_AKGC417L.wav\n",
            "COPD_163_2b2_Ll_mc_AKGC417L.wav\n",
            "Copied COPD_163_2b2_Ll_mc_AKGC417L.wav to /content/drive/MyDrive/ICBHI_final_database/augmented_audio/COPD_163_2b2_Ll_mc_AKGC417L.wav\n",
            "COPD_163_2b2_Tc_mc_AKGC417L.wav\n",
            "Copied COPD_163_2b2_Tc_mc_AKGC417L.wav to /content/drive/MyDrive/ICBHI_final_database/augmented_audio/COPD_163_2b2_Tc_mc_AKGC417L.wav\n",
            "COPD_163_8b3_Al_mc_AKGC417L.wav\n",
            "Copied COPD_163_8b3_Al_mc_AKGC417L.wav to /content/drive/MyDrive/ICBHI_final_database/augmented_audio/COPD_163_8b3_Al_mc_AKGC417L.wav\n",
            "COPD_163_8b3_Ll_mc_AKGC417L.wav\n",
            "Copied COPD_163_8b3_Ll_mc_AKGC417L.wav to /content/drive/MyDrive/ICBHI_final_database/augmented_audio/COPD_163_8b3_Ll_mc_AKGC417L.wav\n",
            "COPD_163_8b3_Lr_mc_AKGC417L.wav\n",
            "Copied COPD_163_8b3_Lr_mc_AKGC417L.wav to /content/drive/MyDrive/ICBHI_final_database/augmented_audio/COPD_163_8b3_Lr_mc_AKGC417L.wav\n",
            "COPD_165_1b1_Ar_sc_Meditron.wav\n",
            "Copied COPD_165_1b1_Ar_sc_Meditron.wav to /content/drive/MyDrive/ICBHI_final_database/augmented_audio/COPD_165_1b1_Ar_sc_Meditron.wav\n",
            "COPD_165_1b1_Pl_sc_Meditron.wav\n",
            "Copied COPD_165_1b1_Pl_sc_Meditron.wav to /content/drive/MyDrive/ICBHI_final_database/augmented_audio/COPD_165_1b1_Pl_sc_Meditron.wav\n",
            "COPD_165_1b1_Pr_sc_Meditron.wav\n",
            "Copied COPD_165_1b1_Pr_sc_Meditron.wav to /content/drive/MyDrive/ICBHI_final_database/augmented_audio/COPD_165_1b1_Pr_sc_Meditron.wav\n",
            "COPD_166_1p1_Al_sc_Meditron.wav\n",
            "Copied COPD_166_1p1_Al_sc_Meditron.wav to /content/drive/MyDrive/ICBHI_final_database/augmented_audio/COPD_166_1p1_Al_sc_Meditron.wav\n",
            "COPD_166_1p1_Ll_sc_Meditron.wav\n",
            "Copied COPD_166_1p1_Ll_sc_Meditron.wav to /content/drive/MyDrive/ICBHI_final_database/augmented_audio/COPD_166_1p1_Ll_sc_Meditron.wav\n",
            "COPD_167_1b1_Al_sc_Meditron.wav\n",
            "Copied COPD_167_1b1_Al_sc_Meditron.wav to /content/drive/MyDrive/ICBHI_final_database/augmented_audio/COPD_167_1b1_Al_sc_Meditron.wav\n",
            "COPD_167_1b1_Pr_sc_Meditron.wav\n",
            "Copied COPD_167_1b1_Pr_sc_Meditron.wav to /content/drive/MyDrive/ICBHI_final_database/augmented_audio/COPD_167_1b1_Pr_sc_Meditron.wav\n",
            "COPD_169_1b2_Ll_sc_Meditron.wav\n",
            "Copied COPD_169_1b2_Ll_sc_Meditron.wav to /content/drive/MyDrive/ICBHI_final_database/augmented_audio/COPD_169_1b2_Ll_sc_Meditron.wav\n",
            "COPD_170_1b2_Ar_mc_AKGC417L.wav\n",
            "Copied COPD_170_1b2_Ar_mc_AKGC417L.wav to /content/drive/MyDrive/ICBHI_final_database/augmented_audio/COPD_170_1b2_Ar_mc_AKGC417L.wav\n",
            "COPD_170_1b2_Pl_mc_AKGC417L.wav\n",
            "Copied COPD_170_1b2_Pl_mc_AKGC417L.wav to /content/drive/MyDrive/ICBHI_final_database/augmented_audio/COPD_170_1b2_Pl_mc_AKGC417L.wav\n",
            "COPD_170_1b2_Pr_mc_AKGC417L.wav\n",
            "Copied COPD_170_1b2_Pr_mc_AKGC417L.wav to /content/drive/MyDrive/ICBHI_final_database/augmented_audio/COPD_170_1b2_Pr_mc_AKGC417L.wav\n",
            "COPD_170_1b3_Al_mc_AKGC417L.wav\n",
            "Copied COPD_170_1b3_Al_mc_AKGC417L.wav to /content/drive/MyDrive/ICBHI_final_database/augmented_audio/COPD_170_1b3_Al_mc_AKGC417L.wav\n",
            "COPD_170_1b3_Ar_mc_AKGC417L.wav\n",
            "Copied COPD_170_1b3_Ar_mc_AKGC417L.wav to /content/drive/MyDrive/ICBHI_final_database/augmented_audio/COPD_170_1b3_Ar_mc_AKGC417L.wav\n",
            "COPD_170_1b3_Ll_mc_AKGC417L.wav\n",
            "Copied COPD_170_1b3_Ll_mc_AKGC417L.wav to /content/drive/MyDrive/ICBHI_final_database/augmented_audio/COPD_170_1b3_Ll_mc_AKGC417L.wav\n",
            "COPD_170_1b3_Pr_mc_AKGC417L.wav\n",
            "Copied COPD_170_1b3_Pr_mc_AKGC417L.wav to /content/drive/MyDrive/ICBHI_final_database/augmented_audio/COPD_170_1b3_Pr_mc_AKGC417L.wav\n",
            "COPD_170_1b4_Ar_mc_AKGC417L.wav\n",
            "Copied COPD_170_1b4_Ar_mc_AKGC417L.wav to /content/drive/MyDrive/ICBHI_final_database/augmented_audio/COPD_170_1b4_Ar_mc_AKGC417L.wav\n",
            "COPD_170_1b4_Tc_mc_AKGC417L.wav\n",
            "Copied COPD_170_1b4_Tc_mc_AKGC417L.wav to /content/drive/MyDrive/ICBHI_final_database/augmented_audio/COPD_170_1b4_Tc_mc_AKGC417L.wav\n",
            "COPD_170_2b2_Al_mc_AKGC417L.wav\n",
            "Copied COPD_170_2b2_Al_mc_AKGC417L.wav to /content/drive/MyDrive/ICBHI_final_database/augmented_audio/COPD_170_2b2_Al_mc_AKGC417L.wav\n",
            "COPD_170_2b2_Ar_mc_AKGC417L.wav\n",
            "Copied COPD_170_2b2_Ar_mc_AKGC417L.wav to /content/drive/MyDrive/ICBHI_final_database/augmented_audio/COPD_170_2b2_Ar_mc_AKGC417L.wav\n",
            "COPD_170_2b2_Pr_mc_AKGC417L.wav\n",
            "Copied COPD_170_2b2_Pr_mc_AKGC417L.wav to /content/drive/MyDrive/ICBHI_final_database/augmented_audio/COPD_170_2b2_Pr_mc_AKGC417L.wav\n",
            "COPD_171_1b1_Al_sc_Meditron.wav\n",
            "Copied COPD_171_1b1_Al_sc_Meditron.wav to /content/drive/MyDrive/ICBHI_final_database/augmented_audio/COPD_171_1b1_Al_sc_Meditron.wav\n",
            "COPD_172_1b3_Ar_mc_AKGC417L.wav\n",
            "Copied COPD_172_1b3_Ar_mc_AKGC417L.wav to /content/drive/MyDrive/ICBHI_final_database/augmented_audio/COPD_172_1b3_Ar_mc_AKGC417L.wav\n",
            "COPD_172_1b3_Ll_mc_AKGC417L.wav\n",
            "Copied COPD_172_1b3_Ll_mc_AKGC417L.wav to /content/drive/MyDrive/ICBHI_final_database/augmented_audio/COPD_172_1b3_Ll_mc_AKGC417L.wav\n",
            "COPD_172_1b3_Pr_mc_AKGC417L.wav\n",
            "Copied COPD_172_1b3_Pr_mc_AKGC417L.wav to /content/drive/MyDrive/ICBHI_final_database/augmented_audio/COPD_172_1b3_Pr_mc_AKGC417L.wav\n",
            "COPD_172_1b3_Tc_mc_AKGC417L.wav\n",
            "Copied COPD_172_1b3_Tc_mc_AKGC417L.wav to /content/drive/MyDrive/ICBHI_final_database/augmented_audio/COPD_172_1b3_Tc_mc_AKGC417L.wav\n",
            "COPD_172_1b4_Pl_mc_AKGC417L.wav\n",
            "Copied COPD_172_1b4_Pl_mc_AKGC417L.wav to /content/drive/MyDrive/ICBHI_final_database/augmented_audio/COPD_172_1b4_Pl_mc_AKGC417L.wav\n",
            "COPD_172_1b4_Pr_mc_AKGC417L.wav\n",
            "Copied COPD_172_1b4_Pr_mc_AKGC417L.wav to /content/drive/MyDrive/ICBHI_final_database/augmented_audio/COPD_172_1b4_Pr_mc_AKGC417L.wav\n",
            "COPD_172_1b4_Tc_mc_AKGC417L.wav\n",
            "Copied COPD_172_1b4_Tc_mc_AKGC417L.wav to /content/drive/MyDrive/ICBHI_final_database/augmented_audio/COPD_172_1b4_Tc_mc_AKGC417L.wav\n",
            "COPD_172_1b5_Al_mc_AKGC417L.wav\n",
            "Copied COPD_172_1b5_Al_mc_AKGC417L.wav to /content/drive/MyDrive/ICBHI_final_database/augmented_audio/COPD_172_1b5_Al_mc_AKGC417L.wav\n",
            "COPD_172_1b5_Ar_mc_AKGC417L.wav\n",
            "Copied COPD_172_1b5_Ar_mc_AKGC417L.wav to /content/drive/MyDrive/ICBHI_final_database/augmented_audio/COPD_172_1b5_Ar_mc_AKGC417L.wav\n",
            "COPD_172_1b5_Pr_mc_AKGC417L.wav\n",
            "Copied COPD_172_1b5_Pr_mc_AKGC417L.wav to /content/drive/MyDrive/ICBHI_final_database/augmented_audio/COPD_172_1b5_Pr_mc_AKGC417L.wav\n",
            "COPD_172_2b5_Ar_mc_AKGC417L.wav\n",
            "Copied COPD_172_2b5_Ar_mc_AKGC417L.wav to /content/drive/MyDrive/ICBHI_final_database/augmented_audio/COPD_172_2b5_Ar_mc_AKGC417L.wav\n",
            "COPD_172_2b5_Pl_mc_AKGC417L.wav\n",
            "Copied COPD_172_2b5_Pl_mc_AKGC417L.wav to /content/drive/MyDrive/ICBHI_final_database/augmented_audio/COPD_172_2b5_Pl_mc_AKGC417L.wav\n",
            "COPD_172_2b5_Pr_mc_AKGC417L.wav\n",
            "Copied COPD_172_2b5_Pr_mc_AKGC417L.wav to /content/drive/MyDrive/ICBHI_final_database/augmented_audio/COPD_172_2b5_Pr_mc_AKGC417L.wav\n",
            "COPD_174_1p2_Pr_mc_AKGC417L.wav\n",
            "Copied COPD_174_1p2_Pr_mc_AKGC417L.wav to /content/drive/MyDrive/ICBHI_final_database/augmented_audio/COPD_174_1p2_Pr_mc_AKGC417L.wav\n",
            "COPD_174_1p2_Tc_mc_AKGC417L.wav\n",
            "Copied COPD_174_1p2_Tc_mc_AKGC417L.wav to /content/drive/MyDrive/ICBHI_final_database/augmented_audio/COPD_174_1p2_Tc_mc_AKGC417L.wav\n",
            "COPD_174_1p3_Ar_mc_AKGC417L.wav\n",
            "Copied COPD_174_1p3_Ar_mc_AKGC417L.wav to /content/drive/MyDrive/ICBHI_final_database/augmented_audio/COPD_174_1p3_Ar_mc_AKGC417L.wav\n",
            "COPD_174_1p3_Ll_mc_AKGC417L.wav\n",
            "Copied COPD_174_1p3_Ll_mc_AKGC417L.wav to /content/drive/MyDrive/ICBHI_final_database/augmented_audio/COPD_174_1p3_Ll_mc_AKGC417L.wav\n",
            "COPD_174_1p3_Lr_mc_AKGC417L.wav\n",
            "Copied COPD_174_1p3_Lr_mc_AKGC417L.wav to /content/drive/MyDrive/ICBHI_final_database/augmented_audio/COPD_174_1p3_Lr_mc_AKGC417L.wav\n",
            "COPD_174_1p3_Pl_mc_AKGC417L.wav\n",
            "Copied COPD_174_1p3_Pl_mc_AKGC417L.wav to /content/drive/MyDrive/ICBHI_final_database/augmented_audio/COPD_174_1p3_Pl_mc_AKGC417L.wav\n",
            "COPD_174_1p3_Pr_mc_AKGC417L.wav\n",
            "Copied COPD_174_1p3_Pr_mc_AKGC417L.wav to /content/drive/MyDrive/ICBHI_final_database/augmented_audio/COPD_174_1p3_Pr_mc_AKGC417L.wav\n",
            "COPD_174_1p4_Pl_mc_AKGC417L.wav\n",
            "Copied COPD_174_1p4_Pl_mc_AKGC417L.wav to /content/drive/MyDrive/ICBHI_final_database/augmented_audio/COPD_174_1p4_Pl_mc_AKGC417L.wav\n",
            "COPD_174_2p3_Pl_mc_AKGC417L.wav\n",
            "Copied COPD_174_2p3_Pl_mc_AKGC417L.wav to /content/drive/MyDrive/ICBHI_final_database/augmented_audio/COPD_174_2p3_Pl_mc_AKGC417L.wav\n",
            "COPD_175_1b1_Al_sc_Litt3200.wav\n",
            "Copied COPD_175_1b1_Al_sc_Litt3200.wav to /content/drive/MyDrive/ICBHI_final_database/augmented_audio/COPD_175_1b1_Al_sc_Litt3200.wav\n",
            "COPD_175_1b1_Lr_sc_Litt3200.wav\n",
            "Copied COPD_175_1b1_Lr_sc_Litt3200.wav to /content/drive/MyDrive/ICBHI_final_database/augmented_audio/COPD_175_1b1_Lr_sc_Litt3200.wav\n",
            "COPD_175_1b1_Pr_sc_Litt3200.wav\n",
            "Copied COPD_175_1b1_Pr_sc_Litt3200.wav to /content/drive/MyDrive/ICBHI_final_database/augmented_audio/COPD_175_1b1_Pr_sc_Litt3200.wav\n",
            "COPD_176_1b3_Al_mc_AKGC417L.wav\n",
            "Copied COPD_176_1b3_Al_mc_AKGC417L.wav to /content/drive/MyDrive/ICBHI_final_database/augmented_audio/COPD_176_1b3_Al_mc_AKGC417L.wav\n",
            "COPD_176_1b3_Ar_mc_AKGC417L.wav\n",
            "Copied COPD_176_1b3_Ar_mc_AKGC417L.wav to /content/drive/MyDrive/ICBHI_final_database/augmented_audio/COPD_176_1b3_Ar_mc_AKGC417L.wav\n",
            "COPD_176_1b3_Ll_mc_AKGC417L.wav\n",
            "Copied COPD_176_1b3_Ll_mc_AKGC417L.wav to /content/drive/MyDrive/ICBHI_final_database/augmented_audio/COPD_176_1b3_Ll_mc_AKGC417L.wav\n",
            "COPD_176_1b3_Lr_mc_AKGC417L.wav\n",
            "Copied COPD_176_1b3_Lr_mc_AKGC417L.wav to /content/drive/MyDrive/ICBHI_final_database/augmented_audio/COPD_176_1b3_Lr_mc_AKGC417L.wav\n",
            "COPD_176_1b3_Pl_mc_AKGC417L.wav\n",
            "Copied COPD_176_1b3_Pl_mc_AKGC417L.wav to /content/drive/MyDrive/ICBHI_final_database/augmented_audio/COPD_176_1b3_Pl_mc_AKGC417L.wav\n",
            "COPD_176_1b3_Pr_mc_AKGC417L.wav\n",
            "Copied COPD_176_1b3_Pr_mc_AKGC417L.wav to /content/drive/MyDrive/ICBHI_final_database/augmented_audio/COPD_176_1b3_Pr_mc_AKGC417L.wav\n",
            "COPD_176_1b3_Tc_mc_AKGC417L.wav\n",
            "Copied COPD_176_1b3_Tc_mc_AKGC417L.wav to /content/drive/MyDrive/ICBHI_final_database/augmented_audio/COPD_176_1b3_Tc_mc_AKGC417L.wav\n",
            "COPD_176_1b4_Lr_mc_AKGC417L.wav\n",
            "Copied COPD_176_1b4_Lr_mc_AKGC417L.wav to /content/drive/MyDrive/ICBHI_final_database/augmented_audio/COPD_176_1b4_Lr_mc_AKGC417L.wav\n",
            "COPD_176_1b4_Pr_mc_AKGC417L.wav\n",
            "Copied COPD_176_1b4_Pr_mc_AKGC417L.wav to /content/drive/MyDrive/ICBHI_final_database/augmented_audio/COPD_176_1b4_Pr_mc_AKGC417L.wav\n",
            "COPD_176_1b4_Tc_mc_AKGC417L.wav\n",
            "Copied COPD_176_1b4_Tc_mc_AKGC417L.wav to /content/drive/MyDrive/ICBHI_final_database/augmented_audio/COPD_176_1b4_Tc_mc_AKGC417L.wav\n",
            "COPD_176_2b3_Ll_mc_AKGC417L.wav\n",
            "Copied COPD_176_2b3_Ll_mc_AKGC417L.wav to /content/drive/MyDrive/ICBHI_final_database/augmented_audio/COPD_176_2b3_Ll_mc_AKGC417L.wav\n",
            "COPD_176_2b3_Lr_mc_AKGC417L.wav\n",
            "Copied COPD_176_2b3_Lr_mc_AKGC417L.wav to /content/drive/MyDrive/ICBHI_final_database/augmented_audio/COPD_176_2b3_Lr_mc_AKGC417L.wav\n",
            "COPD_176_2b3_Pl_mc_AKGC417L.wav\n",
            "Copied COPD_176_2b3_Pl_mc_AKGC417L.wav to /content/drive/MyDrive/ICBHI_final_database/augmented_audio/COPD_176_2b3_Pl_mc_AKGC417L.wav\n",
            "COPD_176_2b3_Pr_mc_AKGC417L.wav\n",
            "Copied COPD_176_2b3_Pr_mc_AKGC417L.wav to /content/drive/MyDrive/ICBHI_final_database/augmented_audio/COPD_176_2b3_Pr_mc_AKGC417L.wav\n",
            "COPD_177_1b2_Al_mc_AKGC417L.wav\n",
            "Copied COPD_177_1b2_Al_mc_AKGC417L.wav to /content/drive/MyDrive/ICBHI_final_database/augmented_audio/COPD_177_1b2_Al_mc_AKGC417L.wav\n",
            "COPD_177_1b2_Ar_mc_AKGC417L.wav\n",
            "Copied COPD_177_1b2_Ar_mc_AKGC417L.wav to /content/drive/MyDrive/ICBHI_final_database/augmented_audio/COPD_177_1b2_Ar_mc_AKGC417L.wav\n",
            "COPD_177_1b2_Pl_mc_AKGC417L.wav\n",
            "Copied COPD_177_1b2_Pl_mc_AKGC417L.wav to /content/drive/MyDrive/ICBHI_final_database/augmented_audio/COPD_177_1b2_Pl_mc_AKGC417L.wav\n",
            "COPD_177_1b2_Pr_mc_AKGC417L.wav\n",
            "Copied COPD_177_1b2_Pr_mc_AKGC417L.wav to /content/drive/MyDrive/ICBHI_final_database/augmented_audio/COPD_177_1b2_Pr_mc_AKGC417L.wav\n",
            "COPD_177_1b2_Tc_mc_AKGC417L.wav\n",
            "Copied COPD_177_1b2_Tc_mc_AKGC417L.wav to /content/drive/MyDrive/ICBHI_final_database/augmented_audio/COPD_177_1b2_Tc_mc_AKGC417L.wav\n",
            "COPD_177_1b4_Ar_mc_AKGC417L.wav\n",
            "Copied COPD_177_1b4_Ar_mc_AKGC417L.wav to /content/drive/MyDrive/ICBHI_final_database/augmented_audio/COPD_177_1b4_Ar_mc_AKGC417L.wav\n",
            "COPD_177_1b4_Lr_mc_AKGC417L.wav\n",
            "Copied COPD_177_1b4_Lr_mc_AKGC417L.wav to /content/drive/MyDrive/ICBHI_final_database/augmented_audio/COPD_177_1b4_Lr_mc_AKGC417L.wav\n",
            "COPD_177_1b4_Tc_mc_AKGC417L.wav\n",
            "Copied COPD_177_1b4_Tc_mc_AKGC417L.wav to /content/drive/MyDrive/ICBHI_final_database/augmented_audio/COPD_177_1b4_Tc_mc_AKGC417L.wav\n",
            "COPD_178_1b2_Al_mc_AKGC417L.wav\n",
            "Copied COPD_178_1b2_Al_mc_AKGC417L.wav to /content/drive/MyDrive/ICBHI_final_database/augmented_audio/COPD_178_1b2_Al_mc_AKGC417L.wav\n",
            "COPD_178_1b2_Lr_mc_AKGC417L.wav\n",
            "Copied COPD_178_1b2_Lr_mc_AKGC417L.wav to /content/drive/MyDrive/ICBHI_final_database/augmented_audio/COPD_178_1b2_Lr_mc_AKGC417L.wav\n",
            "COPD_178_1b2_Pl_mc_AKGC417L.wav\n",
            "Copied COPD_178_1b2_Pl_mc_AKGC417L.wav to /content/drive/MyDrive/ICBHI_final_database/augmented_audio/COPD_178_1b2_Pl_mc_AKGC417L.wav\n",
            "COPD_178_1b2_Tc_mc_AKGC417L.wav\n",
            "Copied COPD_178_1b2_Tc_mc_AKGC417L.wav to /content/drive/MyDrive/ICBHI_final_database/augmented_audio/COPD_178_1b2_Tc_mc_AKGC417L.wav\n",
            "COPD_178_1b3_Ar_mc_AKGC417L.wav\n",
            "Copied COPD_178_1b3_Ar_mc_AKGC417L.wav to /content/drive/MyDrive/ICBHI_final_database/augmented_audio/COPD_178_1b3_Ar_mc_AKGC417L.wav\n",
            "COPD_178_1b6_Ll_mc_AKGC417L.wav\n",
            "Copied COPD_178_1b6_Ll_mc_AKGC417L.wav to /content/drive/MyDrive/ICBHI_final_database/augmented_audio/COPD_178_1b6_Ll_mc_AKGC417L.wav\n",
            "COPD_178_1b6_Pl_mc_AKGC417L.wav\n",
            "Copied COPD_178_1b6_Pl_mc_AKGC417L.wav to /content/drive/MyDrive/ICBHI_final_database/augmented_audio/COPD_178_1b6_Pl_mc_AKGC417L.wav\n",
            "COPD_178_1b6_Pr_mc_AKGC417L.wav\n",
            "Copied COPD_178_1b6_Pr_mc_AKGC417L.wav to /content/drive/MyDrive/ICBHI_final_database/augmented_audio/COPD_178_1b6_Pr_mc_AKGC417L.wav\n",
            "COPD_178_1b6_Tc_mc_AKGC417L.wav\n",
            "Copied COPD_178_1b6_Tc_mc_AKGC417L.wav to /content/drive/MyDrive/ICBHI_final_database/augmented_audio/COPD_178_1b6_Tc_mc_AKGC417L.wav\n",
            "COPD_178_2b2_Al_mc_AKGC417L.wav\n",
            "Copied COPD_178_2b2_Al_mc_AKGC417L.wav to /content/drive/MyDrive/ICBHI_final_database/augmented_audio/COPD_178_2b2_Al_mc_AKGC417L.wav\n",
            "COPD_178_2b2_Ar_mc_AKGC417L.wav\n",
            "Copied COPD_178_2b2_Ar_mc_AKGC417L.wav to /content/drive/MyDrive/ICBHI_final_database/augmented_audio/COPD_178_2b2_Ar_mc_AKGC417L.wav\n",
            "COPD_178_2b2_Pr_mc_AKGC417L.wav\n",
            "Copied COPD_178_2b2_Pr_mc_AKGC417L.wav to /content/drive/MyDrive/ICBHI_final_database/augmented_audio/COPD_178_2b2_Pr_mc_AKGC417L.wav\n",
            "COPD_178_2b2_Tc_mc_AKGC417L.wav\n",
            "Copied COPD_178_2b2_Tc_mc_AKGC417L.wav to /content/drive/MyDrive/ICBHI_final_database/augmented_audio/COPD_178_2b2_Tc_mc_AKGC417L.wav\n",
            "COPD_181_1b1_Ar_mc_LittC2SE.wav\n",
            "Copied COPD_181_1b1_Ar_mc_LittC2SE.wav to /content/drive/MyDrive/ICBHI_final_database/augmented_audio/COPD_181_1b1_Ar_mc_LittC2SE.wav\n",
            "COPD_181_1b1_Tc_mc_LittC2SE.wav\n",
            "Copied COPD_181_1b1_Tc_mc_LittC2SE.wav to /content/drive/MyDrive/ICBHI_final_database/augmented_audio/COPD_181_1b1_Tc_mc_LittC2SE.wav\n",
            "COPD_181_1b2_Ar_mc_LittC2SE.wav\n",
            "Copied COPD_181_1b2_Ar_mc_LittC2SE.wav to /content/drive/MyDrive/ICBHI_final_database/augmented_audio/COPD_181_1b2_Ar_mc_LittC2SE.wav\n",
            "COPD_181_1b3_Tc_mc_LittC2SE.wav\n",
            "Copied COPD_181_1b3_Tc_mc_LittC2SE.wav to /content/drive/MyDrive/ICBHI_final_database/augmented_audio/COPD_181_1b3_Tc_mc_LittC2SE.wav\n",
            "COPD_182_1b1_Tc_sc_Meditron.wav\n",
            "Copied COPD_182_1b1_Tc_sc_Meditron.wav to /content/drive/MyDrive/ICBHI_final_database/augmented_audio/COPD_182_1b1_Tc_sc_Meditron.wav\n",
            "COPD_183_1b1_Pl_sc_Meditron.wav\n",
            "Copied COPD_183_1b1_Pl_sc_Meditron.wav to /content/drive/MyDrive/ICBHI_final_database/augmented_audio/COPD_183_1b1_Pl_sc_Meditron.wav\n",
            "COPD_184_1b1_Ar_sc_Meditron.wav\n",
            "Copied COPD_184_1b1_Ar_sc_Meditron.wav to /content/drive/MyDrive/ICBHI_final_database/augmented_audio/COPD_184_1b1_Ar_sc_Meditron.wav\n",
            "COPD_185_1b1_Al_sc_Litt3200.wav\n",
            "Copied COPD_185_1b1_Al_sc_Litt3200.wav to /content/drive/MyDrive/ICBHI_final_database/augmented_audio/COPD_185_1b1_Al_sc_Litt3200.wav\n",
            "COPD_185_1b1_Ar_sc_Litt3200.wav\n",
            "Copied COPD_185_1b1_Ar_sc_Litt3200.wav to /content/drive/MyDrive/ICBHI_final_database/augmented_audio/COPD_185_1b1_Ar_sc_Litt3200.wav\n",
            "COPD_185_1b1_Ll_sc_Litt3200.wav\n",
            "Copied COPD_185_1b1_Ll_sc_Litt3200.wav to /content/drive/MyDrive/ICBHI_final_database/augmented_audio/COPD_185_1b1_Ll_sc_Litt3200.wav\n",
            "COPD_185_1b1_Lr_sc_Litt3200.wav\n",
            "Copied COPD_185_1b1_Lr_sc_Litt3200.wav to /content/drive/MyDrive/ICBHI_final_database/augmented_audio/COPD_185_1b1_Lr_sc_Litt3200.wav\n",
            "COPD_185_1b1_Pl_sc_Litt3200.wav\n",
            "Copied COPD_185_1b1_Pl_sc_Litt3200.wav to /content/drive/MyDrive/ICBHI_final_database/augmented_audio/COPD_185_1b1_Pl_sc_Litt3200.wav\n",
            "COPD_186_2b2_Ar_mc_AKGC417L.wav\n",
            "Copied COPD_186_2b2_Ar_mc_AKGC417L.wav to /content/drive/MyDrive/ICBHI_final_database/augmented_audio/COPD_186_2b2_Ar_mc_AKGC417L.wav\n",
            "COPD_186_2b3_Al_mc_AKGC417L.wav\n",
            "Copied COPD_186_2b3_Al_mc_AKGC417L.wav to /content/drive/MyDrive/ICBHI_final_database/augmented_audio/COPD_186_2b3_Al_mc_AKGC417L.wav\n",
            "COPD_186_2b3_Ar_mc_AKGC417L.wav\n",
            "Copied COPD_186_2b3_Ar_mc_AKGC417L.wav to /content/drive/MyDrive/ICBHI_final_database/augmented_audio/COPD_186_2b3_Ar_mc_AKGC417L.wav\n",
            "COPD_186_2b3_Lr_mc_AKGC417L.wav\n",
            "Copied COPD_186_2b3_Lr_mc_AKGC417L.wav to /content/drive/MyDrive/ICBHI_final_database/augmented_audio/COPD_186_2b3_Lr_mc_AKGC417L.wav\n",
            "COPD_186_2b3_Pr_mc_AKGC417L.wav\n",
            "Copied COPD_186_2b3_Pr_mc_AKGC417L.wav to /content/drive/MyDrive/ICBHI_final_database/augmented_audio/COPD_186_2b3_Pr_mc_AKGC417L.wav\n",
            "COPD_186_2b4_Al_mc_AKGC417L.wav\n",
            "Copied COPD_186_2b4_Al_mc_AKGC417L.wav to /content/drive/MyDrive/ICBHI_final_database/augmented_audio/COPD_186_2b4_Al_mc_AKGC417L.wav\n",
            "COPD_186_2b4_Lr_mc_AKGC417L.wav\n",
            "Copied COPD_186_2b4_Lr_mc_AKGC417L.wav to /content/drive/MyDrive/ICBHI_final_database/augmented_audio/COPD_186_2b4_Lr_mc_AKGC417L.wav\n",
            "COPD_186_3b3_Al_mc_AKGC417L.wav\n",
            "Copied COPD_186_3b3_Al_mc_AKGC417L.wav to /content/drive/MyDrive/ICBHI_final_database/augmented_audio/COPD_186_3b3_Al_mc_AKGC417L.wav\n",
            "COPD_186_3b3_Ar_mc_AKGC417L.wav\n",
            "Copied COPD_186_3b3_Ar_mc_AKGC417L.wav to /content/drive/MyDrive/ICBHI_final_database/augmented_audio/COPD_186_3b3_Ar_mc_AKGC417L.wav\n",
            "COPD_186_3b3_Lr_mc_AKGC417L.wav\n",
            "Copied COPD_186_3b3_Lr_mc_AKGC417L.wav to /content/drive/MyDrive/ICBHI_final_database/augmented_audio/COPD_186_3b3_Lr_mc_AKGC417L.wav\n",
            "COPD_186_3b3_Pl_mc_AKGC417L.wav\n",
            "Copied COPD_186_3b3_Pl_mc_AKGC417L.wav to /content/drive/MyDrive/ICBHI_final_database/augmented_audio/COPD_186_3b3_Pl_mc_AKGC417L.wav\n",
            "COPD_186_3b3_Pr_mc_AKGC417L.wav\n",
            "Copied COPD_186_3b3_Pr_mc_AKGC417L.wav to /content/drive/MyDrive/ICBHI_final_database/augmented_audio/COPD_186_3b3_Pr_mc_AKGC417L.wav\n",
            "COPD_186_3b3_Tc_mc_AKGC417L.wav\n",
            "Copied COPD_186_3b3_Tc_mc_AKGC417L.wav to /content/drive/MyDrive/ICBHI_final_database/augmented_audio/COPD_186_3b3_Tc_mc_AKGC417L.wav\n",
            "COPD_187_1b1_Ll_sc_Meditron.wav\n",
            "Copied COPD_187_1b1_Ll_sc_Meditron.wav to /content/drive/MyDrive/ICBHI_final_database/augmented_audio/COPD_187_1b1_Ll_sc_Meditron.wav\n",
            "COPD_188_1b1_Tc_sc_Meditron.wav\n",
            "Copied COPD_188_1b1_Tc_sc_Meditron.wav to /content/drive/MyDrive/ICBHI_final_database/augmented_audio/COPD_188_1b1_Tc_sc_Meditron.wav\n",
            "COPD_191_2b1_Pr_mc_LittC2SE.wav\n",
            "Copied COPD_191_2b1_Pr_mc_LittC2SE.wav to /content/drive/MyDrive/ICBHI_final_database/augmented_audio/COPD_191_2b1_Pr_mc_LittC2SE.wav\n",
            "COPD_191_2b2_Tc_mc_LittC2SE.wav\n",
            "Copied COPD_191_2b2_Tc_mc_LittC2SE.wav to /content/drive/MyDrive/ICBHI_final_database/augmented_audio/COPD_191_2b2_Tc_mc_LittC2SE.wav\n",
            "COPD_192_2b1_Al_mc_LittC2SE.wav\n",
            "Copied COPD_192_2b1_Al_mc_LittC2SE.wav to /content/drive/MyDrive/ICBHI_final_database/augmented_audio/COPD_192_2b1_Al_mc_LittC2SE.wav\n",
            "COPD_192_2b2_Ar_mc_LittC2SE.wav\n",
            "Copied COPD_192_2b2_Ar_mc_LittC2SE.wav to /content/drive/MyDrive/ICBHI_final_database/augmented_audio/COPD_192_2b2_Ar_mc_LittC2SE.wav\n",
            "COPD_193_1b2_Ar_mc_AKGC417L.wav\n",
            "Copied COPD_193_1b2_Ar_mc_AKGC417L.wav to /content/drive/MyDrive/ICBHI_final_database/augmented_audio/COPD_193_1b2_Ar_mc_AKGC417L.wav\n",
            "COPD_193_1b2_Ll_mc_AKGC417L.wav\n",
            "Copied COPD_193_1b2_Ll_mc_AKGC417L.wav to /content/drive/MyDrive/ICBHI_final_database/augmented_audio/COPD_193_1b2_Ll_mc_AKGC417L.wav\n",
            "COPD_193_1b2_Tc_mc_AKGC417L.wav\n",
            "Copied COPD_193_1b2_Tc_mc_AKGC417L.wav to /content/drive/MyDrive/ICBHI_final_database/augmented_audio/COPD_193_1b2_Tc_mc_AKGC417L.wav\n",
            "COPD_193_1b4_Lr_mc_AKGC417L.wav\n",
            "Copied COPD_193_1b4_Lr_mc_AKGC417L.wav to /content/drive/MyDrive/ICBHI_final_database/augmented_audio/COPD_193_1b4_Lr_mc_AKGC417L.wav\n",
            "COPD_193_7b3_Al_mc_AKGC417L.wav\n",
            "Copied COPD_193_7b3_Al_mc_AKGC417L.wav to /content/drive/MyDrive/ICBHI_final_database/augmented_audio/COPD_193_7b3_Al_mc_AKGC417L.wav\n",
            "COPD_193_7b3_Ar_mc_AKGC417L.wav\n",
            "Copied COPD_193_7b3_Ar_mc_AKGC417L.wav to /content/drive/MyDrive/ICBHI_final_database/augmented_audio/COPD_193_7b3_Ar_mc_AKGC417L.wav\n",
            "COPD_193_7b3_Ll_mc_AKGC417L.wav\n",
            "Copied COPD_193_7b3_Ll_mc_AKGC417L.wav to /content/drive/MyDrive/ICBHI_final_database/augmented_audio/COPD_193_7b3_Ll_mc_AKGC417L.wav\n",
            "COPD_193_7b3_Lr_mc_AKGC417L.wav\n",
            "Copied COPD_193_7b3_Lr_mc_AKGC417L.wav to /content/drive/MyDrive/ICBHI_final_database/augmented_audio/COPD_193_7b3_Lr_mc_AKGC417L.wav\n",
            "COPD_193_7b3_Pr_mc_AKGC417L.wav\n",
            "Copied COPD_193_7b3_Pr_mc_AKGC417L.wav to /content/drive/MyDrive/ICBHI_final_database/augmented_audio/COPD_193_7b3_Pr_mc_AKGC417L.wav\n",
            "COPD_194_1b1_Lr_sc_Meditron.wav\n",
            "Copied COPD_194_1b1_Lr_sc_Meditron.wav to /content/drive/MyDrive/ICBHI_final_database/augmented_audio/COPD_194_1b1_Lr_sc_Meditron.wav\n",
            "COPD_195_1b1_Pl_sc_Litt3200.wav\n",
            "Copied COPD_195_1b1_Pl_sc_Litt3200.wav to /content/drive/MyDrive/ICBHI_final_database/augmented_audio/COPD_195_1b1_Pl_sc_Litt3200.wav\n",
            "COPD_198_1b5_Lr_mc_AKGC417L.wav\n",
            "Copied COPD_198_1b5_Lr_mc_AKGC417L.wav to /content/drive/MyDrive/ICBHI_final_database/augmented_audio/COPD_198_1b5_Lr_mc_AKGC417L.wav\n",
            "COPD_198_1b5_Pl_mc_AKGC417L.wav\n",
            "Copied COPD_198_1b5_Pl_mc_AKGC417L.wav to /content/drive/MyDrive/ICBHI_final_database/augmented_audio/COPD_198_1b5_Pl_mc_AKGC417L.wav\n",
            "COPD_198_1b5_Pr_mc_AKGC417L.wav\n",
            "Copied COPD_198_1b5_Pr_mc_AKGC417L.wav to /content/drive/MyDrive/ICBHI_final_database/augmented_audio/COPD_198_1b5_Pr_mc_AKGC417L.wav\n",
            "COPD_198_1b5_Tc_mc_AKGC417L.wav\n",
            "Copied COPD_198_1b5_Tc_mc_AKGC417L.wav to /content/drive/MyDrive/ICBHI_final_database/augmented_audio/COPD_198_1b5_Tc_mc_AKGC417L.wav\n",
            "COPD_198_6p1_Al_mc_AKGC417L.wav\n",
            "Copied COPD_198_6p1_Al_mc_AKGC417L.wav to /content/drive/MyDrive/ICBHI_final_database/augmented_audio/COPD_198_6p1_Al_mc_AKGC417L.wav\n",
            "COPD_198_6p1_Ll_mc_AKGC417L.wav\n",
            "Copied COPD_198_6p1_Ll_mc_AKGC417L.wav to /content/drive/MyDrive/ICBHI_final_database/augmented_audio/COPD_198_6p1_Ll_mc_AKGC417L.wav\n",
            "COPD_198_6p1_Pl_mc_AKGC417L.wav\n",
            "Copied COPD_198_6p1_Pl_mc_AKGC417L.wav to /content/drive/MyDrive/ICBHI_final_database/augmented_audio/COPD_198_6p1_Pl_mc_AKGC417L.wav\n",
            "COPD_199_2b3_Ll_mc_LittC2SE.wav\n",
            "Copied COPD_199_2b3_Ll_mc_LittC2SE.wav to /content/drive/MyDrive/ICBHI_final_database/augmented_audio/COPD_199_2b3_Ll_mc_LittC2SE.wav\n",
            "COPD_200_2p2_Al_mc_AKGC417L.wav\n",
            "Copied COPD_200_2p2_Al_mc_AKGC417L.wav to /content/drive/MyDrive/ICBHI_final_database/augmented_audio/COPD_200_2p2_Al_mc_AKGC417L.wav\n",
            "COPD_200_2p2_Ar_mc_AKGC417L.wav\n",
            "Copied COPD_200_2p2_Ar_mc_AKGC417L.wav to /content/drive/MyDrive/ICBHI_final_database/augmented_audio/COPD_200_2p2_Ar_mc_AKGC417L.wav\n",
            "COPD_200_2p2_Pl_mc_AKGC417L.wav\n",
            "Copied COPD_200_2p2_Pl_mc_AKGC417L.wav to /content/drive/MyDrive/ICBHI_final_database/augmented_audio/COPD_200_2p2_Pl_mc_AKGC417L.wav\n",
            "COPD_200_2p2_Tc_mc_AKGC417L.wav\n",
            "Copied COPD_200_2p2_Tc_mc_AKGC417L.wav to /content/drive/MyDrive/ICBHI_final_database/augmented_audio/COPD_200_2p2_Tc_mc_AKGC417L.wav\n",
            "COPD_200_2p3_Al_mc_AKGC417L.wav\n",
            "Copied COPD_200_2p3_Al_mc_AKGC417L.wav to /content/drive/MyDrive/ICBHI_final_database/augmented_audio/COPD_200_2p3_Al_mc_AKGC417L.wav\n",
            "COPD_200_2p3_Ar_mc_AKGC417L.wav\n",
            "Copied COPD_200_2p3_Ar_mc_AKGC417L.wav to /content/drive/MyDrive/ICBHI_final_database/augmented_audio/COPD_200_2p3_Ar_mc_AKGC417L.wav\n",
            "COPD_200_2p3_Pl_mc_AKGC417L.wav\n",
            "Copied COPD_200_2p3_Pl_mc_AKGC417L.wav to /content/drive/MyDrive/ICBHI_final_database/augmented_audio/COPD_200_2p3_Pl_mc_AKGC417L.wav\n",
            "COPD_200_2p4_Al_mc_AKGC417L.wav\n",
            "Copied COPD_200_2p4_Al_mc_AKGC417L.wav to /content/drive/MyDrive/ICBHI_final_database/augmented_audio/COPD_200_2p4_Al_mc_AKGC417L.wav\n",
            "COPD_200_2p4_Ar_mc_AKGC417L.wav\n",
            "Copied COPD_200_2p4_Ar_mc_AKGC417L.wav to /content/drive/MyDrive/ICBHI_final_database/augmented_audio/COPD_200_2p4_Ar_mc_AKGC417L.wav\n",
            "COPD_200_2p4_Pl_mc_AKGC417L.wav\n",
            "Copied COPD_200_2p4_Pl_mc_AKGC417L.wav to /content/drive/MyDrive/ICBHI_final_database/augmented_audio/COPD_200_2p4_Pl_mc_AKGC417L.wav\n",
            "COPD_200_3p4_Al_mc_AKGC417L.wav\n",
            "Copied COPD_200_3p4_Al_mc_AKGC417L.wav to /content/drive/MyDrive/ICBHI_final_database/augmented_audio/COPD_200_3p4_Al_mc_AKGC417L.wav\n",
            "COPD_200_3p4_Ar_mc_AKGC417L.wav\n",
            "Copied COPD_200_3p4_Ar_mc_AKGC417L.wav to /content/drive/MyDrive/ICBHI_final_database/augmented_audio/COPD_200_3p4_Ar_mc_AKGC417L.wav\n",
            "COPD_200_3p4_Tc_mc_AKGC417L.wav\n",
            "Copied COPD_200_3p4_Tc_mc_AKGC417L.wav to /content/drive/MyDrive/ICBHI_final_database/augmented_audio/COPD_200_3p4_Tc_mc_AKGC417L.wav\n",
            "COPD_201_1b3_Ar_sc_Meditron.wav\n",
            "Copied COPD_201_1b3_Ar_sc_Meditron.wav to /content/drive/MyDrive/ICBHI_final_database/augmented_audio/COPD_201_1b3_Ar_sc_Meditron.wav\n",
            "COPD_203_1p2_Al_mc_AKGC417L.wav\n",
            "Copied COPD_203_1p2_Al_mc_AKGC417L.wav to /content/drive/MyDrive/ICBHI_final_database/augmented_audio/COPD_203_1p2_Al_mc_AKGC417L.wav\n",
            "COPD_203_1p2_Lr_mc_AKGC417L.wav\n",
            "Copied COPD_203_1p2_Lr_mc_AKGC417L.wav to /content/drive/MyDrive/ICBHI_final_database/augmented_audio/COPD_203_1p2_Lr_mc_AKGC417L.wav\n",
            "COPD_203_1p2_Pl_mc_AKGC417L.wav\n",
            "Copied COPD_203_1p2_Pl_mc_AKGC417L.wav to /content/drive/MyDrive/ICBHI_final_database/augmented_audio/COPD_203_1p2_Pl_mc_AKGC417L.wav\n",
            "COPD_203_1p2_Pr_mc_AKGC417L.wav\n",
            "Copied COPD_203_1p2_Pr_mc_AKGC417L.wav to /content/drive/MyDrive/ICBHI_final_database/augmented_audio/COPD_203_1p2_Pr_mc_AKGC417L.wav\n",
            "COPD_203_1p2_Tc_mc_AKGC417L.wav\n",
            "Copied COPD_203_1p2_Tc_mc_AKGC417L.wav to /content/drive/MyDrive/ICBHI_final_database/augmented_audio/COPD_203_1p2_Tc_mc_AKGC417L.wav\n",
            "COPD_203_1p3_Ar_mc_AKGC417L.wav\n",
            "Copied COPD_203_1p3_Ar_mc_AKGC417L.wav to /content/drive/MyDrive/ICBHI_final_database/augmented_audio/COPD_203_1p3_Ar_mc_AKGC417L.wav\n",
            "COPD_203_1p3_Pl_mc_AKGC417L.wav\n",
            "Copied COPD_203_1p3_Pl_mc_AKGC417L.wav to /content/drive/MyDrive/ICBHI_final_database/augmented_audio/COPD_203_1p3_Pl_mc_AKGC417L.wav\n",
            "COPD_203_1p4_Pl_mc_AKGC417L.wav\n",
            "Copied COPD_203_1p4_Pl_mc_AKGC417L.wav to /content/drive/MyDrive/ICBHI_final_database/augmented_audio/COPD_203_1p4_Pl_mc_AKGC417L.wav\n",
            "COPD_203_1p4_Pr_mc_AKGC417L.wav\n",
            "Copied COPD_203_1p4_Pr_mc_AKGC417L.wav to /content/drive/MyDrive/ICBHI_final_database/augmented_audio/COPD_203_1p4_Pr_mc_AKGC417L.wav\n",
            "COPD_204_2b5_Ar_mc_AKGC417L.wav\n",
            "Copied COPD_204_2b5_Ar_mc_AKGC417L.wav to /content/drive/MyDrive/ICBHI_final_database/augmented_audio/COPD_204_2b5_Ar_mc_AKGC417L.wav\n",
            "COPD_204_2b5_Ll_mc_AKGC417L.wav\n",
            "Copied COPD_204_2b5_Ll_mc_AKGC417L.wav to /content/drive/MyDrive/ICBHI_final_database/augmented_audio/COPD_204_2b5_Ll_mc_AKGC417L.wav\n",
            "COPD_204_7p5_Al_mc_AKGC417L.wav\n",
            "Copied COPD_204_7p5_Al_mc_AKGC417L.wav to /content/drive/MyDrive/ICBHI_final_database/augmented_audio/COPD_204_7p5_Al_mc_AKGC417L.wav\n",
            "COPD_204_7p5_Pr_mc_AKGC417L.wav\n",
            "Copied COPD_204_7p5_Pr_mc_AKGC417L.wav to /content/drive/MyDrive/ICBHI_final_database/augmented_audio/COPD_204_7p5_Pr_mc_AKGC417L.wav\n",
            "COPD_205_1b3_Ar_mc_AKGC417L.wav\n",
            "Copied COPD_205_1b3_Ar_mc_AKGC417L.wav to /content/drive/MyDrive/ICBHI_final_database/augmented_audio/COPD_205_1b3_Ar_mc_AKGC417L.wav\n",
            "COPD_205_1b3_Pr_mc_AKGC417L.wav\n",
            "Copied COPD_205_1b3_Pr_mc_AKGC417L.wav to /content/drive/MyDrive/ICBHI_final_database/augmented_audio/COPD_205_1b3_Pr_mc_AKGC417L.wav\n",
            "COPD_205_2b3_Al_mc_AKGC417L.wav\n",
            "Copied COPD_205_2b3_Al_mc_AKGC417L.wav to /content/drive/MyDrive/ICBHI_final_database/augmented_audio/COPD_205_2b3_Al_mc_AKGC417L.wav\n",
            "COPD_205_2b3_Ll_mc_AKGC417L.wav\n",
            "Copied COPD_205_2b3_Ll_mc_AKGC417L.wav to /content/drive/MyDrive/ICBHI_final_database/augmented_audio/COPD_205_2b3_Ll_mc_AKGC417L.wav\n",
            "COPD_205_3b4_Ar_mc_AKGC417L.wav\n",
            "Copied COPD_205_3b4_Ar_mc_AKGC417L.wav to /content/drive/MyDrive/ICBHI_final_database/augmented_audio/COPD_205_3b4_Ar_mc_AKGC417L.wav\n",
            "COPD_205_3b4_Pr_mc_AKGC417L.wav\n",
            "Copied COPD_205_3b4_Pr_mc_AKGC417L.wav to /content/drive/MyDrive/ICBHI_final_database/augmented_audio/COPD_205_3b4_Pr_mc_AKGC417L.wav\n",
            "COPD_205_4b2_Al_mc_AKGC417L.wav\n",
            "Copied COPD_205_4b2_Al_mc_AKGC417L.wav to /content/drive/MyDrive/ICBHI_final_database/augmented_audio/COPD_205_4b2_Al_mc_AKGC417L.wav\n",
            "COPD_205_4b2_Ar_mc_AKGC417L.wav\n",
            "Copied COPD_205_4b2_Ar_mc_AKGC417L.wav to /content/drive/MyDrive/ICBHI_final_database/augmented_audio/COPD_205_4b2_Ar_mc_AKGC417L.wav\n",
            "COPD_205_4b2_Lr_mc_AKGC417L.wav\n",
            "Copied COPD_205_4b2_Lr_mc_AKGC417L.wav to /content/drive/MyDrive/ICBHI_final_database/augmented_audio/COPD_205_4b2_Lr_mc_AKGC417L.wav\n",
            "COPD_205_4b2_Pr_mc_AKGC417L.wav\n",
            "Copied COPD_205_4b2_Pr_mc_AKGC417L.wav to /content/drive/MyDrive/ICBHI_final_database/augmented_audio/COPD_205_4b2_Pr_mc_AKGC417L.wav\n",
            "COPD_206_1b1_Lr_sc_Meditron.wav\n",
            "Copied COPD_206_1b1_Lr_sc_Meditron.wav to /content/drive/MyDrive/ICBHI_final_database/augmented_audio/COPD_206_1b1_Lr_sc_Meditron.wav\n",
            "COPD_207_2b2_Al_mc_AKGC417L.wav\n",
            "Copied COPD_207_2b2_Al_mc_AKGC417L.wav to /content/drive/MyDrive/ICBHI_final_database/augmented_audio/COPD_207_2b2_Al_mc_AKGC417L.wav\n",
            "COPD_207_2b2_Pl_mc_AKGC417L.wav\n",
            "Copied COPD_207_2b2_Pl_mc_AKGC417L.wav to /content/drive/MyDrive/ICBHI_final_database/augmented_audio/COPD_207_2b2_Pl_mc_AKGC417L.wav\n",
            "COPD_207_2b3_Al_mc_AKGC417L.wav\n",
            "Copied COPD_207_2b3_Al_mc_AKGC417L.wav to /content/drive/MyDrive/ICBHI_final_database/augmented_audio/COPD_207_2b3_Al_mc_AKGC417L.wav\n",
            "COPD_207_2b4_Pr_mc_AKGC417L.wav\n",
            "Copied COPD_207_2b4_Pr_mc_AKGC417L.wav to /content/drive/MyDrive/ICBHI_final_database/augmented_audio/COPD_207_2b4_Pr_mc_AKGC417L.wav\n",
            "COPD_207_3b2_Al_mc_AKGC417L.wav\n",
            "Copied COPD_207_3b2_Al_mc_AKGC417L.wav to /content/drive/MyDrive/ICBHI_final_database/augmented_audio/COPD_207_3b2_Al_mc_AKGC417L.wav\n",
            "COPD_207_3b2_Pr_mc_AKGC417L.wav\n",
            "Copied COPD_207_3b2_Pr_mc_AKGC417L.wav to /content/drive/MyDrive/ICBHI_final_database/augmented_audio/COPD_207_3b2_Pr_mc_AKGC417L.wav\n",
            "COPD_207_3b2_Tc_mc_AKGC417L.wav\n",
            "Copied COPD_207_3b2_Tc_mc_AKGC417L.wav to /content/drive/MyDrive/ICBHI_final_database/augmented_audio/COPD_207_3b2_Tc_mc_AKGC417L.wav\n",
            "COPD_210_1b1_Ar_sc_Meditron.wav\n",
            "Copied COPD_210_1b1_Ar_sc_Meditron.wav to /content/drive/MyDrive/ICBHI_final_database/augmented_audio/COPD_210_1b1_Ar_sc_Meditron.wav\n",
            "COPD_211_1p2_Pl_mc_AKGC417L.wav\n",
            "Copied COPD_211_1p2_Pl_mc_AKGC417L.wav to /content/drive/MyDrive/ICBHI_final_database/augmented_audio/COPD_211_1p2_Pl_mc_AKGC417L.wav\n",
            "COPD_211_1p2_Pr_mc_AKGC417L.wav\n",
            "Copied COPD_211_1p2_Pr_mc_AKGC417L.wav to /content/drive/MyDrive/ICBHI_final_database/augmented_audio/COPD_211_1p2_Pr_mc_AKGC417L.wav\n",
            "COPD_211_2p2_Tc_mc_AKGC417L.wav\n",
            "Copied COPD_211_2p2_Tc_mc_AKGC417L.wav to /content/drive/MyDrive/ICBHI_final_database/augmented_audio/COPD_211_2p2_Tc_mc_AKGC417L.wav\n",
            "COPD_212_2b2_Tc_mc_LittC2SE.wav\n",
            "Copied COPD_212_2b2_Tc_mc_LittC2SE.wav to /content/drive/MyDrive/ICBHI_final_database/augmented_audio/COPD_212_2b2_Tc_mc_LittC2SE.wav\n",
            "COPD_213_1p2_Pl_mc_AKGC417L.wav\n",
            "Copied COPD_213_1p2_Pl_mc_AKGC417L.wav to /content/drive/MyDrive/ICBHI_final_database/augmented_audio/COPD_213_1p2_Pl_mc_AKGC417L.wav\n",
            "COPD_213_1p2_Pr_mc_AKGC417L.wav\n",
            "Copied COPD_213_1p2_Pr_mc_AKGC417L.wav to /content/drive/MyDrive/ICBHI_final_database/augmented_audio/COPD_213_1p2_Pr_mc_AKGC417L.wav\n",
            "COPD_213_1p3_Ar_mc_AKGC417L.wav\n",
            "Copied COPD_213_1p3_Ar_mc_AKGC417L.wav to /content/drive/MyDrive/ICBHI_final_database/augmented_audio/COPD_213_1p3_Ar_mc_AKGC417L.wav\n",
            "COPD_213_1p3_Pr_mc_AKGC417L.wav\n",
            "Copied COPD_213_1p3_Pr_mc_AKGC417L.wav to /content/drive/MyDrive/ICBHI_final_database/augmented_audio/COPD_213_1p3_Pr_mc_AKGC417L.wav\n",
            "COPD_213_1p5_Ar_mc_AKGC417L.wav\n",
            "Copied COPD_213_1p5_Ar_mc_AKGC417L.wav to /content/drive/MyDrive/ICBHI_final_database/augmented_audio/COPD_213_1p5_Ar_mc_AKGC417L.wav\n",
            "COPD_213_1p5_Tc_mc_AKGC417L.wav\n",
            "Copied COPD_213_1p5_Tc_mc_AKGC417L.wav to /content/drive/MyDrive/ICBHI_final_database/augmented_audio/COPD_213_1p5_Tc_mc_AKGC417L.wav\n",
            "COPD_216_1b1_Al_sc_Meditron.wav\n",
            "Copied COPD_216_1b1_Al_sc_Meditron.wav to /content/drive/MyDrive/ICBHI_final_database/augmented_audio/COPD_216_1b1_Al_sc_Meditron.wav\n",
            "COPD_218_1b1_Ar_sc_Meditron.wav\n",
            "Copied COPD_218_1b1_Ar_sc_Meditron.wav to /content/drive/MyDrive/ICBHI_final_database/augmented_audio/COPD_218_1b1_Ar_sc_Meditron.wav\n",
            "COPD_218_1b1_Lr_sc_Meditron.wav\n",
            "Copied COPD_218_1b1_Lr_sc_Meditron.wav to /content/drive/MyDrive/ICBHI_final_database/augmented_audio/COPD_218_1b1_Lr_sc_Meditron.wav\n",
            "COPD_218_1b1_Pr_sc_Meditron.wav\n",
            "Copied COPD_218_1b1_Pr_sc_Meditron.wav to /content/drive/MyDrive/ICBHI_final_database/augmented_audio/COPD_218_1b1_Pr_sc_Meditron.wav\n",
            "COPD_218_1p1_Pr_sc_Litt3200.wav\n",
            "Copied COPD_218_1p1_Pr_sc_Litt3200.wav to /content/drive/MyDrive/ICBHI_final_database/augmented_audio/COPD_218_1p1_Pr_sc_Litt3200.wav\n",
            "COPD_219_2b1_Ar_mc_LittC2SE.wav\n",
            "Copied COPD_219_2b1_Ar_mc_LittC2SE.wav to /content/drive/MyDrive/ICBHI_final_database/augmented_audio/COPD_219_2b1_Ar_mc_LittC2SE.wav\n",
            "COPD_219_2b2_Ar_mc_LittC2SE.wav\n",
            "Copied COPD_219_2b2_Ar_mc_LittC2SE.wav to /content/drive/MyDrive/ICBHI_final_database/augmented_audio/COPD_219_2b2_Ar_mc_LittC2SE.wav\n",
            "COPD_219_2b3_Tc_mc_LittC2SE.wav\n",
            "Copied COPD_219_2b3_Tc_mc_LittC2SE.wav to /content/drive/MyDrive/ICBHI_final_database/augmented_audio/COPD_219_2b3_Tc_mc_LittC2SE.wav\n",
            "COPD_220_1b1_Tc_mc_LittC2SE.wav\n",
            "Copied COPD_220_1b1_Tc_mc_LittC2SE.wav to /content/drive/MyDrive/ICBHI_final_database/augmented_audio/COPD_220_1b1_Tc_mc_LittC2SE.wav\n",
            "COPD_221_2b1_Al_mc_LittC2SE.wav\n",
            "Copied COPD_221_2b1_Al_mc_LittC2SE.wav to /content/drive/MyDrive/ICBHI_final_database/augmented_audio/COPD_221_2b1_Al_mc_LittC2SE.wav\n",
            "COPD_221_2b1_Ar_mc_LittC2SE.wav\n",
            "Copied COPD_221_2b1_Ar_mc_LittC2SE.wav to /content/drive/MyDrive/ICBHI_final_database/augmented_audio/COPD_221_2b1_Ar_mc_LittC2SE.wav\n",
            "COPD_221_2b2_Ar_mc_LittC2SE.wav\n",
            "Copied COPD_221_2b2_Ar_mc_LittC2SE.wav to /content/drive/MyDrive/ICBHI_final_database/augmented_audio/COPD_221_2b2_Ar_mc_LittC2SE.wav\n",
            "COPD_221_2b3_Al_mc_LittC2SE.wav\n",
            "Copied COPD_221_2b3_Al_mc_LittC2SE.wav to /content/drive/MyDrive/ICBHI_final_database/augmented_audio/COPD_221_2b3_Al_mc_LittC2SE.wav\n",
            "COPD_221_2b3_Ar_mc_LittC2SE.wav\n",
            "Copied COPD_221_2b3_Ar_mc_LittC2SE.wav to /content/drive/MyDrive/ICBHI_final_database/augmented_audio/COPD_221_2b3_Ar_mc_LittC2SE.wav\n",
            "COPD_221_2b3_Pr_mc_LittC2SE.wav\n",
            "Copied COPD_221_2b3_Pr_mc_LittC2SE.wav to /content/drive/MyDrive/ICBHI_final_database/augmented_audio/COPD_221_2b3_Pr_mc_LittC2SE.wav\n",
            "COPD_223_1b1_Al_sc_Meditron.wav\n",
            "Copied COPD_223_1b1_Al_sc_Meditron.wav to /content/drive/MyDrive/ICBHI_final_database/augmented_audio/COPD_223_1b1_Al_sc_Meditron.wav\n",
            "COPD_223_1b1_Ar_sc_Meditron.wav\n",
            "Copied COPD_223_1b1_Ar_sc_Meditron.wav to /content/drive/MyDrive/ICBHI_final_database/augmented_audio/COPD_223_1b1_Ar_sc_Meditron.wav\n",
            "COPD_223_1b1_Ll_sc_Meditron.wav\n",
            "Copied COPD_223_1b1_Ll_sc_Meditron.wav to /content/drive/MyDrive/ICBHI_final_database/augmented_audio/COPD_223_1b1_Ll_sc_Meditron.wav\n",
            "COPD_223_1b1_Pl_sc_Meditron.wav\n",
            "Copied COPD_223_1b1_Pl_sc_Meditron.wav to /content/drive/MyDrive/ICBHI_final_database/augmented_audio/COPD_223_1b1_Pl_sc_Meditron.wav\n",
            "COPD_224_1b1_Tc_sc_Meditron.wav\n",
            "Copied COPD_224_1b1_Tc_sc_Meditron.wav to /content/drive/MyDrive/ICBHI_final_database/augmented_audio/COPD_224_1b1_Tc_sc_Meditron.wav\n",
            "COPD_226_1b1_Ll_sc_Meditron.wav\n",
            "Copied COPD_226_1b1_Ll_sc_Meditron.wav to /content/drive/MyDrive/ICBHI_final_database/augmented_audio/COPD_226_1b1_Ll_sc_Meditron.wav\n",
            "COPD_101_1b1_Al_sc_Meditron.wav\n",
            "Copied COPD_101_1b1_Al_sc_Meditron.wav to /content/drive/MyDrive/ICBHI_final_database/augmented_audio/COPD_101_1b1_Al_sc_Meditron.wav\n",
            "COPD_103_2b2_Ar_mc_LittC2SE.wav\n",
            "Copied COPD_103_2b2_Ar_mc_LittC2SE.wav to /content/drive/MyDrive/ICBHI_final_database/augmented_audio/COPD_103_2b2_Ar_mc_LittC2SE.wav\n",
            "COPD_104_1b1_Al_sc_Litt3200.wav\n",
            "Copied COPD_104_1b1_Al_sc_Litt3200.wav to /content/drive/MyDrive/ICBHI_final_database/augmented_audio/COPD_104_1b1_Al_sc_Litt3200.wav\n",
            "COPD_104_1b1_Ar_sc_Litt3200.wav\n",
            "Copied COPD_104_1b1_Ar_sc_Litt3200.wav to /content/drive/MyDrive/ICBHI_final_database/augmented_audio/COPD_104_1b1_Ar_sc_Litt3200.wav\n",
            "COPD_104_1b1_Ll_sc_Litt3200.wav\n",
            "Copied COPD_104_1b1_Ll_sc_Litt3200.wav to /content/drive/MyDrive/ICBHI_final_database/augmented_audio/COPD_104_1b1_Ll_sc_Litt3200.wav\n",
            "COPD_104_1b1_Lr_sc_Litt3200.wav\n",
            "Copied COPD_104_1b1_Lr_sc_Litt3200.wav to /content/drive/MyDrive/ICBHI_final_database/augmented_audio/COPD_104_1b1_Lr_sc_Litt3200.wav\n",
            "COPD_104_1b1_Pr_sc_Litt3200.wav\n",
            "Copied COPD_104_1b1_Pr_sc_Litt3200.wav to /content/drive/MyDrive/ICBHI_final_database/augmented_audio/COPD_104_1b1_Pr_sc_Litt3200.wav\n",
            "COPD_105_1b1_Tc_sc_Meditron.wav\n",
            "Copied COPD_105_1b1_Tc_sc_Meditron.wav to /content/drive/MyDrive/ICBHI_final_database/augmented_audio/COPD_105_1b1_Tc_sc_Meditron.wav\n",
            "COPD_106_2b1_Pr_mc_LittC2SE.wav\n",
            "Copied COPD_106_2b1_Pr_mc_LittC2SE.wav to /content/drive/MyDrive/ICBHI_final_database/augmented_audio/COPD_106_2b1_Pr_mc_LittC2SE.wav\n",
            "COPD_107_2b3_Ll_mc_AKGC417L.wav\n",
            "Copied COPD_107_2b3_Ll_mc_AKGC417L.wav to /content/drive/MyDrive/ICBHI_final_database/augmented_audio/COPD_107_2b3_Ll_mc_AKGC417L.wav\n",
            "COPD_107_2b3_Lr_mc_AKGC417L.wav\n",
            "Copied COPD_107_2b3_Lr_mc_AKGC417L.wav to /content/drive/MyDrive/ICBHI_final_database/augmented_audio/COPD_107_2b3_Lr_mc_AKGC417L.wav\n",
            "COPD_107_2b3_Pl_mc_AKGC417L.wav\n",
            "Copied COPD_107_2b3_Pl_mc_AKGC417L.wav to /content/drive/MyDrive/ICBHI_final_database/augmented_audio/COPD_107_2b3_Pl_mc_AKGC417L.wav\n",
            "COPD_107_2b3_Tc_mc_AKGC417L.wav\n",
            "Copied COPD_107_2b3_Tc_mc_AKGC417L.wav to /content/drive/MyDrive/ICBHI_final_database/augmented_audio/COPD_107_2b3_Tc_mc_AKGC417L.wav\n",
            "COPD_107_2b4_Al_mc_AKGC417L.wav\n",
            "Copied COPD_107_2b4_Al_mc_AKGC417L.wav to /content/drive/MyDrive/ICBHI_final_database/augmented_audio/COPD_107_2b4_Al_mc_AKGC417L.wav\n",
            "COPD_107_2b4_Ar_mc_AKGC417L.wav\n",
            "Copied COPD_107_2b4_Ar_mc_AKGC417L.wav to /content/drive/MyDrive/ICBHI_final_database/augmented_audio/COPD_107_2b4_Ar_mc_AKGC417L.wav\n",
            "COPD_107_2b4_Lr_mc_AKGC417L.wav\n",
            "Copied COPD_107_2b4_Lr_mc_AKGC417L.wav to /content/drive/MyDrive/ICBHI_final_database/augmented_audio/COPD_107_2b4_Lr_mc_AKGC417L.wav\n",
            "COPD_107_2b4_Pr_mc_AKGC417L.wav\n",
            "Copied COPD_107_2b4_Pr_mc_AKGC417L.wav to /content/drive/MyDrive/ICBHI_final_database/augmented_audio/COPD_107_2b4_Pr_mc_AKGC417L.wav\n",
            "COPD_107_2b5_Al_mc_AKGC417L.wav\n",
            "Copied COPD_107_2b5_Al_mc_AKGC417L.wav to /content/drive/MyDrive/ICBHI_final_database/augmented_audio/COPD_107_2b5_Al_mc_AKGC417L.wav\n",
            "COPD_107_2b5_Pl_mc_AKGC417L.wav\n",
            "Copied COPD_107_2b5_Pl_mc_AKGC417L.wav to /content/drive/MyDrive/ICBHI_final_database/augmented_audio/COPD_107_2b5_Pl_mc_AKGC417L.wav\n",
            "COPD_107_2b5_Pr_mc_AKGC417L.wav\n",
            "Copied COPD_107_2b5_Pr_mc_AKGC417L.wav to /content/drive/MyDrive/ICBHI_final_database/augmented_audio/COPD_107_2b5_Pr_mc_AKGC417L.wav\n",
            "COPD_107_2b5_Tc_mc_AKGC417L.wav\n",
            "Copied COPD_107_2b5_Tc_mc_AKGC417L.wav to /content/drive/MyDrive/ICBHI_final_database/augmented_audio/COPD_107_2b5_Tc_mc_AKGC417L.wav\n",
            "COPD_107_3p2_Al_mc_AKGC417L.wav\n",
            "Copied COPD_107_3p2_Al_mc_AKGC417L.wav to /content/drive/MyDrive/ICBHI_final_database/augmented_audio/COPD_107_3p2_Al_mc_AKGC417L.wav\n",
            "COPD_107_3p2_Ar_mc_AKGC417L.wav\n",
            "Copied COPD_107_3p2_Ar_mc_AKGC417L.wav to /content/drive/MyDrive/ICBHI_final_database/augmented_audio/COPD_107_3p2_Ar_mc_AKGC417L.wav\n",
            "COPD_107_3p2_Pr_mc_AKGC417L.wav\n",
            "Copied COPD_107_3p2_Pr_mc_AKGC417L.wav to /content/drive/MyDrive/ICBHI_final_database/augmented_audio/COPD_107_3p2_Pr_mc_AKGC417L.wav\n",
            "COPD_108_1b1_Al_sc_Meditron.wav\n",
            "Copied COPD_108_1b1_Al_sc_Meditron.wav to /content/drive/MyDrive/ICBHI_final_database/augmented_audio/COPD_108_1b1_Al_sc_Meditron.wav\n",
            "COPD_109_1b1_Ar_sc_Litt3200.wav\n",
            "Copied COPD_109_1b1_Ar_sc_Litt3200.wav to /content/drive/MyDrive/ICBHI_final_database/augmented_audio/COPD_109_1b1_Ar_sc_Litt3200.wav\n",
            "COPD_109_1b1_Pr_sc_Litt3200.wav\n",
            "Copied COPD_109_1b1_Pr_sc_Litt3200.wav to /content/drive/MyDrive/ICBHI_final_database/augmented_audio/COPD_109_1b1_Pr_sc_Litt3200.wav\n",
            "COPD_110_1b1_Pr_sc_Meditron.wav\n",
            "Copied COPD_110_1b1_Pr_sc_Meditron.wav to /content/drive/MyDrive/ICBHI_final_database/augmented_audio/COPD_110_1b1_Pr_sc_Meditron.wav\n",
            "COPD_110_1p1_Lr_sc_Meditron.wav\n",
            "Copied COPD_110_1p1_Lr_sc_Meditron.wav to /content/drive/MyDrive/ICBHI_final_database/augmented_audio/COPD_110_1p1_Lr_sc_Meditron.wav\n",
            "COPD_110_1p1_Pr_sc_Meditron.wav\n",
            "Copied COPD_110_1p1_Pr_sc_Meditron.wav to /content/drive/MyDrive/ICBHI_final_database/augmented_audio/COPD_110_1p1_Pr_sc_Meditron.wav\n",
            "COPD_112_1b1_Ar_sc_Meditron.wav\n",
            "Copied COPD_112_1b1_Ar_sc_Meditron.wav to /content/drive/MyDrive/ICBHI_final_database/augmented_audio/COPD_112_1b1_Ar_sc_Meditron.wav\n",
            "COPD_112_1b1_Lr_sc_Meditron.wav\n",
            "Copied COPD_112_1b1_Lr_sc_Meditron.wav to /content/drive/MyDrive/ICBHI_final_database/augmented_audio/COPD_112_1b1_Lr_sc_Meditron.wav\n",
            "COPD_112_1p1_Ll_sc_Litt3200.wav\n",
            "Copied COPD_112_1p1_Ll_sc_Litt3200.wav to /content/drive/MyDrive/ICBHI_final_database/augmented_audio/COPD_112_1p1_Ll_sc_Litt3200.wav\n",
            "COPD_112_1p1_Pl_sc_Litt3200.wav\n",
            "Copied COPD_112_1p1_Pl_sc_Litt3200.wav to /content/drive/MyDrive/ICBHI_final_database/augmented_audio/COPD_112_1p1_Pl_sc_Litt3200.wav\n",
            "COPD_113_1b1_Al_sc_Litt3200.wav\n",
            "Copied COPD_113_1b1_Al_sc_Litt3200.wav to /content/drive/MyDrive/ICBHI_final_database/augmented_audio/COPD_113_1b1_Al_sc_Litt3200.wav\n",
            "COPD_113_1b1_Ar_sc_Litt3200.wav\n",
            "Copied COPD_113_1b1_Ar_sc_Litt3200.wav to /content/drive/MyDrive/ICBHI_final_database/augmented_audio/COPD_113_1b1_Ar_sc_Litt3200.wav\n",
            "COPD_113_1b1_Lr_sc_Litt3200.wav\n",
            "Copied COPD_113_1b1_Lr_sc_Litt3200.wav to /content/drive/MyDrive/ICBHI_final_database/augmented_audio/COPD_113_1b1_Lr_sc_Litt3200.wav\n",
            "COPD_113_1b1_Pl_sc_Litt3200.wav\n",
            "Copied COPD_113_1b1_Pl_sc_Litt3200.wav to /content/drive/MyDrive/ICBHI_final_database/augmented_audio/COPD_113_1b1_Pl_sc_Litt3200.wav\n",
            "COPD_113_1b1_Pr_sc_Litt3200.wav\n",
            "Copied COPD_113_1b1_Pr_sc_Litt3200.wav to /content/drive/MyDrive/ICBHI_final_database/augmented_audio/COPD_113_1b1_Pr_sc_Litt3200.wav\n",
            "COPD_114_1b4_Ar_mc_AKGC417L.wav\n",
            "Copied COPD_114_1b4_Ar_mc_AKGC417L.wav to /content/drive/MyDrive/ICBHI_final_database/augmented_audio/COPD_114_1b4_Ar_mc_AKGC417L.wav\n",
            "COPD_114_1b4_Lr_mc_AKGC417L.wav\n",
            "Copied COPD_114_1b4_Lr_mc_AKGC417L.wav to /content/drive/MyDrive/ICBHI_final_database/augmented_audio/COPD_114_1b4_Lr_mc_AKGC417L.wav\n",
            "COPD_115_1b1_Ar_sc_Meditron.wav\n",
            "Copied COPD_115_1b1_Ar_sc_Meditron.wav to /content/drive/MyDrive/ICBHI_final_database/augmented_audio/COPD_115_1b1_Ar_sc_Meditron.wav\n",
            "COPD_116_1b2_Tc_sc_Meditron.wav\n",
            "Copied COPD_116_1b2_Tc_sc_Meditron.wav to /content/drive/MyDrive/ICBHI_final_database/augmented_audio/COPD_116_1b2_Tc_sc_Meditron.wav\n",
            "COPD_117_1b2_Tc_mc_LittC2SE.wav\n",
            "Copied COPD_117_1b2_Tc_mc_LittC2SE.wav to /content/drive/MyDrive/ICBHI_final_database/augmented_audio/COPD_117_1b2_Tc_mc_LittC2SE.wav\n",
            "COPD_118_1b1_Al_sc_Litt3200.wav\n",
            "Copied COPD_118_1b1_Al_sc_Litt3200.wav to /content/drive/MyDrive/ICBHI_final_database/augmented_audio/COPD_118_1b1_Al_sc_Litt3200.wav\n",
            "COPD_118_1b1_Ll_sc_Litt3200.wav\n",
            "Copied COPD_118_1b1_Ll_sc_Litt3200.wav to /content/drive/MyDrive/ICBHI_final_database/augmented_audio/COPD_118_1b1_Ll_sc_Litt3200.wav\n",
            "COPD_118_1b1_Pr_sc_Litt3200.wav\n",
            "Copied COPD_118_1b1_Pr_sc_Litt3200.wav to /content/drive/MyDrive/ICBHI_final_database/augmented_audio/COPD_118_1b1_Pr_sc_Litt3200.wav\n",
            "COPD_119_1b1_Ar_sc_Meditron.wav\n",
            "Copied COPD_119_1b1_Ar_sc_Meditron.wav to /content/drive/MyDrive/ICBHI_final_database/augmented_audio/COPD_119_1b1_Ar_sc_Meditron.wav\n",
            "COPD_120_1b1_Al_sc_Meditron.wav\n",
            "Copied COPD_120_1b1_Al_sc_Meditron.wav to /content/drive/MyDrive/ICBHI_final_database/augmented_audio/COPD_120_1b1_Al_sc_Meditron.wav\n",
            "COPD_120_1b1_Ar_sc_Meditron.wav\n",
            "Copied COPD_120_1b1_Ar_sc_Meditron.wav to /content/drive/MyDrive/ICBHI_final_database/augmented_audio/COPD_120_1b1_Ar_sc_Meditron.wav\n",
            "COPD_120_1b1_Lr_sc_Meditron.wav\n",
            "Copied COPD_120_1b1_Lr_sc_Meditron.wav to /content/drive/MyDrive/ICBHI_final_database/augmented_audio/COPD_120_1b1_Lr_sc_Meditron.wav\n",
            "COPD_120_1b1_Pl_sc_Meditron.wav\n",
            "Copied COPD_120_1b1_Pl_sc_Meditron.wav to /content/drive/MyDrive/ICBHI_final_database/augmented_audio/COPD_120_1b1_Pl_sc_Meditron.wav\n",
            "COPD_121_1b1_Tc_sc_Meditron.wav\n",
            "Copied COPD_121_1b1_Tc_sc_Meditron.wav to /content/drive/MyDrive/ICBHI_final_database/augmented_audio/COPD_121_1b1_Tc_sc_Meditron.wav\n",
            "COPD_122_2b1_Al_mc_LittC2SE.wav\n",
            "Copied COPD_122_2b1_Al_mc_LittC2SE.wav to /content/drive/MyDrive/ICBHI_final_database/augmented_audio/COPD_122_2b1_Al_mc_LittC2SE.wav\n",
            "COPD_122_2b1_Ar_mc_LittC2SE.wav\n",
            "Copied COPD_122_2b1_Ar_mc_LittC2SE.wav to /content/drive/MyDrive/ICBHI_final_database/augmented_audio/COPD_122_2b1_Ar_mc_LittC2SE.wav\n",
            "COPD_122_2b1_Tc_mc_LittC2SE.wav\n",
            "Copied COPD_122_2b1_Tc_mc_LittC2SE.wav to /content/drive/MyDrive/ICBHI_final_database/augmented_audio/COPD_122_2b1_Tc_mc_LittC2SE.wav\n",
            "COPD_122_2b2_Al_mc_LittC2SE.wav\n",
            "Copied COPD_122_2b2_Al_mc_LittC2SE.wav to /content/drive/MyDrive/ICBHI_final_database/augmented_audio/COPD_122_2b2_Al_mc_LittC2SE.wav\n",
            "COPD_122_2b2_Ar_mc_LittC2SE.wav\n",
            "Copied COPD_122_2b2_Ar_mc_LittC2SE.wav to /content/drive/MyDrive/ICBHI_final_database/augmented_audio/COPD_122_2b2_Ar_mc_LittC2SE.wav\n",
            "COPD_122_2b2_Tc_mc_LittC2SE.wav\n",
            "Copied COPD_122_2b2_Tc_mc_LittC2SE.wav to /content/drive/MyDrive/ICBHI_final_database/augmented_audio/COPD_122_2b2_Tc_mc_LittC2SE.wav\n",
            "COPD_122_2b3_Al_mc_LittC2SE.wav\n",
            "Copied COPD_122_2b3_Al_mc_LittC2SE.wav to /content/drive/MyDrive/ICBHI_final_database/augmented_audio/COPD_122_2b3_Al_mc_LittC2SE.wav\n",
            "COPD_122_2b3_Ar_mc_LittC2SE.wav\n",
            "Copied COPD_122_2b3_Ar_mc_LittC2SE.wav to /content/drive/MyDrive/ICBHI_final_database/augmented_audio/COPD_122_2b3_Ar_mc_LittC2SE.wav\n",
            "COPD_124_1b1_Al_sc_Litt3200.wav\n",
            "Copied COPD_124_1b1_Al_sc_Litt3200.wav to /content/drive/MyDrive/ICBHI_final_database/augmented_audio/COPD_124_1b1_Al_sc_Litt3200.wav\n",
            "COPD_124_1b1_Ar_sc_Litt3200.wav\n",
            "Copied COPD_124_1b1_Ar_sc_Litt3200.wav to /content/drive/MyDrive/ICBHI_final_database/augmented_audio/COPD_124_1b1_Ar_sc_Litt3200.wav\n",
            "COPD_124_1b1_Lr_sc_Litt3200.wav\n",
            "Copied COPD_124_1b1_Lr_sc_Litt3200.wav to /content/drive/MyDrive/ICBHI_final_database/augmented_audio/COPD_124_1b1_Lr_sc_Litt3200.wav\n",
            "COPD_125_1b1_Tc_sc_Meditron.wav\n",
            "Copied COPD_125_1b1_Tc_sc_Meditron.wav to /content/drive/MyDrive/ICBHI_final_database/augmented_audio/COPD_125_1b1_Tc_sc_Meditron.wav\n",
            "COPD_126_1b1_Al_sc_Meditron.wav\n",
            "Copied COPD_126_1b1_Al_sc_Meditron.wav to /content/drive/MyDrive/ICBHI_final_database/augmented_audio/COPD_126_1b1_Al_sc_Meditron.wav\n",
            "COPD_127_1b1_Ar_sc_Meditron.wav\n",
            "Copied COPD_127_1b1_Ar_sc_Meditron.wav to /content/drive/MyDrive/ICBHI_final_database/augmented_audio/COPD_127_1b1_Ar_sc_Meditron.wav\n",
            "COPD_130_1p2_Al_mc_AKGC417L.wav\n",
            "Copied COPD_130_1p2_Al_mc_AKGC417L.wav to /content/drive/MyDrive/ICBHI_final_database/augmented_audio/COPD_130_1p2_Al_mc_AKGC417L.wav\n",
            "COPD_130_1p2_Ar_mc_AKGC417L.wav\n",
            "Copied COPD_130_1p2_Ar_mc_AKGC417L.wav to /content/drive/MyDrive/ICBHI_final_database/augmented_audio/COPD_130_1p2_Ar_mc_AKGC417L.wav\n",
            "COPD_130_1p2_Ll_mc_AKGC417L.wav\n",
            "Copied COPD_130_1p2_Ll_mc_AKGC417L.wav to /content/drive/MyDrive/ICBHI_final_database/augmented_audio/COPD_130_1p2_Ll_mc_AKGC417L.wav\n",
            "COPD_130_1p2_Lr_mc_AKGC417L.wav\n",
            "Copied COPD_130_1p2_Lr_mc_AKGC417L.wav to /content/drive/MyDrive/ICBHI_final_database/augmented_audio/COPD_130_1p2_Lr_mc_AKGC417L.wav\n",
            "COPD_130_1p2_Pl_mc_AKGC417L.wav\n",
            "Copied COPD_130_1p2_Pl_mc_AKGC417L.wav to /content/drive/MyDrive/ICBHI_final_database/augmented_audio/COPD_130_1p2_Pl_mc_AKGC417L.wav\n",
            "COPD_130_1p2_Pr_mc_AKGC417L.wav\n",
            "Copied COPD_130_1p2_Pr_mc_AKGC417L.wav to /content/drive/MyDrive/ICBHI_final_database/augmented_audio/COPD_130_1p2_Pr_mc_AKGC417L.wav\n",
            "COPD_130_1p3_Al_mc_AKGC417L.wav\n",
            "Copied COPD_130_1p3_Al_mc_AKGC417L.wav to /content/drive/MyDrive/ICBHI_final_database/augmented_audio/COPD_130_1p3_Al_mc_AKGC417L.wav\n",
            "COPD_130_1p3_Ar_mc_AKGC417L.wav\n",
            "Copied COPD_130_1p3_Ar_mc_AKGC417L.wav to /content/drive/MyDrive/ICBHI_final_database/augmented_audio/COPD_130_1p3_Ar_mc_AKGC417L.wav\n",
            "COPD_130_1p3_Ll_mc_AKGC417L.wav\n",
            "Copied COPD_130_1p3_Ll_mc_AKGC417L.wav to /content/drive/MyDrive/ICBHI_final_database/augmented_audio/COPD_130_1p3_Ll_mc_AKGC417L.wav\n",
            "COPD_130_1p4_Ar_mc_AKGC417L.wav\n",
            "Copied COPD_130_1p4_Ar_mc_AKGC417L.wav to /content/drive/MyDrive/ICBHI_final_database/augmented_audio/COPD_130_1p4_Ar_mc_AKGC417L.wav\n",
            "COPD_130_1p4_Ll_mc_AKGC417L.wav\n",
            "Copied COPD_130_1p4_Ll_mc_AKGC417L.wav to /content/drive/MyDrive/ICBHI_final_database/augmented_audio/COPD_130_1p4_Ll_mc_AKGC417L.wav\n",
            "COPD_130_1p4_Pl_mc_AKGC417L.wav\n",
            "Copied COPD_130_1p4_Pl_mc_AKGC417L.wav to /content/drive/MyDrive/ICBHI_final_database/augmented_audio/COPD_130_1p4_Pl_mc_AKGC417L.wav\n",
            "COPD_130_1p4_Tc_mc_AKGC417L.wav\n",
            "Copied COPD_130_1p4_Tc_mc_AKGC417L.wav to /content/drive/MyDrive/ICBHI_final_database/augmented_audio/COPD_130_1p4_Tc_mc_AKGC417L.wav\n",
            "COPD_130_2b2_Al_mc_AKGC417L.wav\n",
            "Copied COPD_130_2b2_Al_mc_AKGC417L.wav to /content/drive/MyDrive/ICBHI_final_database/augmented_audio/COPD_130_2b2_Al_mc_AKGC417L.wav\n",
            "COPD_130_2b2_Ar_mc_AKGC417L.wav\n",
            "Copied COPD_130_2b2_Ar_mc_AKGC417L.wav to /content/drive/MyDrive/ICBHI_final_database/augmented_audio/COPD_130_2b2_Ar_mc_AKGC417L.wav\n",
            "COPD_130_2b2_Lr_mc_AKGC417L.wav\n",
            "Copied COPD_130_2b2_Lr_mc_AKGC417L.wav to /content/drive/MyDrive/ICBHI_final_database/augmented_audio/COPD_130_2b2_Lr_mc_AKGC417L.wav\n",
            "COPD_130_2b3_Al_mc_AKGC417L.wav\n",
            "Copied COPD_130_2b3_Al_mc_AKGC417L.wav to /content/drive/MyDrive/ICBHI_final_database/augmented_audio/COPD_130_2b3_Al_mc_AKGC417L.wav\n",
            "COPD_130_2b3_Ar_mc_AKGC417L.wav\n",
            "Copied COPD_130_2b3_Ar_mc_AKGC417L.wav to /content/drive/MyDrive/ICBHI_final_database/augmented_audio/COPD_130_2b3_Ar_mc_AKGC417L.wav\n",
            "COPD_130_2b3_Ll_mc_AKGC417L.wav\n",
            "Copied COPD_130_2b3_Ll_mc_AKGC417L.wav to /content/drive/MyDrive/ICBHI_final_database/augmented_audio/COPD_130_2b3_Ll_mc_AKGC417L.wav\n",
            "COPD_130_2b3_Lr_mc_AKGC417L.wav\n",
            "Copied COPD_130_2b3_Lr_mc_AKGC417L.wav to /content/drive/MyDrive/ICBHI_final_database/augmented_audio/COPD_130_2b3_Lr_mc_AKGC417L.wav\n",
            "COPD_130_2b3_Pl_mc_AKGC417L.wav\n",
            "Copied COPD_130_2b3_Pl_mc_AKGC417L.wav to /content/drive/MyDrive/ICBHI_final_database/augmented_audio/COPD_130_2b3_Pl_mc_AKGC417L.wav\n",
            "COPD_130_2b3_Tc_mc_AKGC417L.wav\n",
            "Copied COPD_130_2b3_Tc_mc_AKGC417L.wav to /content/drive/MyDrive/ICBHI_final_database/augmented_audio/COPD_130_2b3_Tc_mc_AKGC417L.wav\n",
            "COPD_130_2b4_Ll_mc_AKGC417L.wav\n",
            "Copied COPD_130_2b4_Ll_mc_AKGC417L.wav to /content/drive/MyDrive/ICBHI_final_database/augmented_audio/COPD_130_2b4_Ll_mc_AKGC417L.wav\n",
            "COPD_130_2b4_Lr_mc_AKGC417L.wav\n",
            "Copied COPD_130_2b4_Lr_mc_AKGC417L.wav to /content/drive/MyDrive/ICBHI_final_database/augmented_audio/COPD_130_2b4_Lr_mc_AKGC417L.wav\n",
            "COPD_130_2p3_Pl_mc_AKGC417L.wav\n",
            "Copied COPD_130_2p3_Pl_mc_AKGC417L.wav to /content/drive/MyDrive/ICBHI_final_database/augmented_audio/COPD_130_2p3_Pl_mc_AKGC417L.wav\n",
            "COPD_130_2p5_Al_mc_AKGC417L.wav\n",
            "Copied COPD_130_2p5_Al_mc_AKGC417L.wav to /content/drive/MyDrive/ICBHI_final_database/augmented_audio/COPD_130_2p5_Al_mc_AKGC417L.wav\n",
            "COPD_130_2p5_Ar_mc_AKGC417L.wav\n",
            "Copied COPD_130_2p5_Ar_mc_AKGC417L.wav to /content/drive/MyDrive/ICBHI_final_database/augmented_audio/COPD_130_2p5_Ar_mc_AKGC417L.wav\n",
            "COPD_130_2p5_Lr_mc_AKGC417L.wav\n",
            "Copied COPD_130_2p5_Lr_mc_AKGC417L.wav to /content/drive/MyDrive/ICBHI_final_database/augmented_audio/COPD_130_2p5_Lr_mc_AKGC417L.wav\n",
            "COPD_130_3b3_Ll_mc_AKGC417L.wav\n",
            "Copied COPD_130_3b3_Ll_mc_AKGC417L.wav to /content/drive/MyDrive/ICBHI_final_database/augmented_audio/COPD_130_3b3_Ll_mc_AKGC417L.wav\n",
            "COPD_130_3b4_Al_mc_AKGC417L.wav\n",
            "Copied COPD_130_3b4_Al_mc_AKGC417L.wav to /content/drive/MyDrive/ICBHI_final_database/augmented_audio/COPD_130_3b4_Al_mc_AKGC417L.wav\n",
            "COPD_130_3b4_Ar_mc_AKGC417L.wav\n",
            "Copied COPD_130_3b4_Ar_mc_AKGC417L.wav to /content/drive/MyDrive/ICBHI_final_database/augmented_audio/COPD_130_3b4_Ar_mc_AKGC417L.wav\n",
            "COPD_130_3b4_Pl_mc_AKGC417L.wav\n",
            "Copied COPD_130_3b4_Pl_mc_AKGC417L.wav to /content/drive/MyDrive/ICBHI_final_database/augmented_audio/COPD_130_3b4_Pl_mc_AKGC417L.wav\n",
            "COPD_130_3b4_Pr_mc_AKGC417L.wav\n",
            "Copied COPD_130_3b4_Pr_mc_AKGC417L.wav to /content/drive/MyDrive/ICBHI_final_database/augmented_audio/COPD_130_3b4_Pr_mc_AKGC417L.wav\n",
            "COPD_130_3p2_Pr_mc_AKGC417L.wav\n",
            "Copied COPD_130_3p2_Pr_mc_AKGC417L.wav to /content/drive/MyDrive/ICBHI_final_database/augmented_audio/COPD_130_3p2_Pr_mc_AKGC417L.wav\n",
            "COPD_130_3p3_Pl_mc_AKGC417L.wav\n",
            "Copied COPD_130_3p3_Pl_mc_AKGC417L.wav to /content/drive/MyDrive/ICBHI_final_database/augmented_audio/COPD_130_3p3_Pl_mc_AKGC417L.wav\n",
            "COPD_130_3p3_Pr_mc_AKGC417L.wav\n",
            "Copied COPD_130_3p3_Pr_mc_AKGC417L.wav to /content/drive/MyDrive/ICBHI_final_database/augmented_audio/COPD_130_3p3_Pr_mc_AKGC417L.wav\n",
            "COPD_130_3p4_Al_mc_AKGC417L.wav\n",
            "Copied COPD_130_3p4_Al_mc_AKGC417L.wav to /content/drive/MyDrive/ICBHI_final_database/augmented_audio/COPD_130_3p4_Al_mc_AKGC417L.wav\n",
            "COPD_130_3p4_Pl_mc_AKGC417L.wav\n",
            "Copied COPD_130_3p4_Pl_mc_AKGC417L.wav to /content/drive/MyDrive/ICBHI_final_database/augmented_audio/COPD_130_3p4_Pl_mc_AKGC417L.wav\n",
            "COPD_130_3p4_Pr_mc_AKGC417L.wav\n",
            "Copied COPD_130_3p4_Pr_mc_AKGC417L.wav to /content/drive/MyDrive/ICBHI_final_database/augmented_audio/COPD_130_3p4_Pr_mc_AKGC417L.wav\n",
            "COPD_131_1b1_Al_sc_Meditron.wav\n",
            "Copied COPD_131_1b1_Al_sc_Meditron.wav to /content/drive/MyDrive/ICBHI_final_database/augmented_audio/COPD_131_1b1_Al_sc_Meditron.wav\n",
            "COPD_132_2b1_Lr_mc_LittC2SE.wav\n",
            "Copied COPD_132_2b1_Lr_mc_LittC2SE.wav to /content/drive/MyDrive/ICBHI_final_database/augmented_audio/COPD_132_2b1_Lr_mc_LittC2SE.wav\n",
            "COPD_132_2b2_Lr_mc_LittC2SE.wav\n",
            "Copied COPD_132_2b2_Lr_mc_LittC2SE.wav to /content/drive/MyDrive/ICBHI_final_database/augmented_audio/COPD_132_2b2_Lr_mc_LittC2SE.wav\n",
            "COPD_133_2p2_Al_mc_AKGC417L.wav\n",
            "Copied COPD_133_2p2_Al_mc_AKGC417L.wav to /content/drive/MyDrive/ICBHI_final_database/augmented_audio/COPD_133_2p2_Al_mc_AKGC417L.wav\n",
            "COPD_133_2p2_Ar_mc_AKGC417L.wav\n",
            "Copied COPD_133_2p2_Ar_mc_AKGC417L.wav to /content/drive/MyDrive/ICBHI_final_database/augmented_audio/COPD_133_2p2_Ar_mc_AKGC417L.wav\n",
            "COPD_133_2p2_Pl_mc_AKGC417L.wav\n",
            "Copied COPD_133_2p2_Pl_mc_AKGC417L.wav to /content/drive/MyDrive/ICBHI_final_database/augmented_audio/COPD_133_2p2_Pl_mc_AKGC417L.wav\n",
            "COPD_133_2p3_Ar_mc_AKGC417L.wav\n",
            "Copied COPD_133_2p3_Ar_mc_AKGC417L.wav to /content/drive/MyDrive/ICBHI_final_database/augmented_audio/COPD_133_2p3_Ar_mc_AKGC417L.wav\n",
            "COPD_133_2p3_Pl_mc_AKGC417L.wav\n",
            "Copied COPD_133_2p3_Pl_mc_AKGC417L.wav to /content/drive/MyDrive/ICBHI_final_database/augmented_audio/COPD_133_2p3_Pl_mc_AKGC417L.wav\n",
            "COPD_133_2p3_Tc_mc_AKGC417L.wav\n",
            "Copied COPD_133_2p3_Tc_mc_AKGC417L.wav to /content/drive/MyDrive/ICBHI_final_database/augmented_audio/COPD_133_2p3_Tc_mc_AKGC417L.wav\n",
            "COPD_133_2p4_Al_mc_AKGC417L.wav\n",
            "Copied COPD_133_2p4_Al_mc_AKGC417L.wav to /content/drive/MyDrive/ICBHI_final_database/augmented_audio/COPD_133_2p4_Al_mc_AKGC417L.wav\n",
            "COPD_133_2p4_Pl_mc_AKGC417L.wav\n",
            "Copied COPD_133_2p4_Pl_mc_AKGC417L.wav to /content/drive/MyDrive/ICBHI_final_database/augmented_audio/COPD_133_2p4_Pl_mc_AKGC417L.wav\n",
            "COPD_133_2p4_Tc_mc_AKGC417L.wav\n",
            "Copied COPD_133_2p4_Tc_mc_AKGC417L.wav to /content/drive/MyDrive/ICBHI_final_database/augmented_audio/COPD_133_2p4_Tc_mc_AKGC417L.wav\n",
            "COPD_133_3p2_Ar_mc_AKGC417L.wav\n",
            "Copied COPD_133_3p2_Ar_mc_AKGC417L.wav to /content/drive/MyDrive/ICBHI_final_database/augmented_audio/COPD_133_3p2_Ar_mc_AKGC417L.wav\n",
            "COPD_133_3p2_Pl_mc_AKGC417L.wav\n",
            "Copied COPD_133_3p2_Pl_mc_AKGC417L.wav to /content/drive/MyDrive/ICBHI_final_database/augmented_audio/COPD_133_3p2_Pl_mc_AKGC417L.wav\n",
            "COPD_133_3p4_Tc_mc_AKGC417L.wav\n",
            "Copied COPD_133_3p4_Tc_mc_AKGC417L.wav to /content/drive/MyDrive/ICBHI_final_database/augmented_audio/COPD_133_3p4_Tc_mc_AKGC417L.wav\n",
            "COPD_134_2b1_Ar_mc_LittC2SE.wav\n",
            "Copied COPD_134_2b1_Ar_mc_LittC2SE.wav to /content/drive/MyDrive/ICBHI_final_database/augmented_audio/COPD_134_2b1_Ar_mc_LittC2SE.wav\n",
            "COPD_135_2b1_Al_mc_LittC2SE.wav\n",
            "Copied COPD_135_2b1_Al_mc_LittC2SE.wav to /content/drive/MyDrive/ICBHI_final_database/augmented_audio/COPD_135_2b1_Al_mc_LittC2SE.wav\n",
            "COPD_135_2b1_Ar_mc_LittC2SE.wav\n",
            "Copied COPD_135_2b1_Ar_mc_LittC2SE.wav to /content/drive/MyDrive/ICBHI_final_database/augmented_audio/COPD_135_2b1_Ar_mc_LittC2SE.wav\n",
            "COPD_135_2b2_Al_mc_LittC2SE.wav\n",
            "Copied COPD_135_2b2_Al_mc_LittC2SE.wav to /content/drive/MyDrive/ICBHI_final_database/augmented_audio/COPD_135_2b2_Al_mc_LittC2SE.wav\n",
            "COPD_135_2b2_Ar_mc_LittC2SE.wav\n",
            "Copied COPD_135_2b2_Ar_mc_LittC2SE.wav to /content/drive/MyDrive/ICBHI_final_database/augmented_audio/COPD_135_2b2_Ar_mc_LittC2SE.wav\n",
            "COPD_135_2b3_Pl_mc_LittC2SE.wav\n",
            "Copied COPD_135_2b3_Pl_mc_LittC2SE.wav to /content/drive/MyDrive/ICBHI_final_database/augmented_audio/COPD_135_2b3_Pl_mc_LittC2SE.wav\n",
            "COPD_135_2b3_Tc_mc_LittC2SE.wav\n",
            "Copied COPD_135_2b3_Tc_mc_LittC2SE.wav to /content/drive/MyDrive/ICBHI_final_database/augmented_audio/COPD_135_2b3_Tc_mc_LittC2SE.wav\n",
            "COPD_137_1b1_Ll_sc_Meditron.wav\n",
            "Copied COPD_137_1b1_Ll_sc_Meditron.wav to /content/drive/MyDrive/ICBHI_final_database/augmented_audio/COPD_137_1b1_Ll_sc_Meditron.wav\n",
            "COPD_138_1p2_Al_mc_AKGC417L.wav\n",
            "Copied COPD_138_1p2_Al_mc_AKGC417L.wav to /content/drive/MyDrive/ICBHI_final_database/augmented_audio/COPD_138_1p2_Al_mc_AKGC417L.wav\n",
            "COPD_138_1p2_Ll_mc_AKGC417L.wav\n",
            "Copied COPD_138_1p2_Ll_mc_AKGC417L.wav to /content/drive/MyDrive/ICBHI_final_database/augmented_audio/COPD_138_1p2_Ll_mc_AKGC417L.wav\n",
            "COPD_138_1p2_Pr_mc_AKGC417L.wav\n",
            "Copied COPD_138_1p2_Pr_mc_AKGC417L.wav to /content/drive/MyDrive/ICBHI_final_database/augmented_audio/COPD_138_1p2_Pr_mc_AKGC417L.wav\n",
            "COPD_138_1p2_Tc_mc_AKGC417L.wav\n",
            "Copied COPD_138_1p2_Tc_mc_AKGC417L.wav to /content/drive/MyDrive/ICBHI_final_database/augmented_audio/COPD_138_1p2_Tc_mc_AKGC417L.wav\n",
            "COPD_138_1p3_Ar_mc_AKGC417L.wav\n",
            "Copied COPD_138_1p3_Ar_mc_AKGC417L.wav to /content/drive/MyDrive/ICBHI_final_database/augmented_audio/COPD_138_1p3_Ar_mc_AKGC417L.wav\n",
            "COPD_138_1p3_Pr_mc_AKGC417L.wav\n",
            "Copied COPD_138_1p3_Pr_mc_AKGC417L.wav to /content/drive/MyDrive/ICBHI_final_database/augmented_audio/COPD_138_1p3_Pr_mc_AKGC417L.wav\n",
            "COPD_138_1p3_Tc_mc_AKGC417L.wav\n",
            "Copied COPD_138_1p3_Tc_mc_AKGC417L.wav to /content/drive/MyDrive/ICBHI_final_database/augmented_audio/COPD_138_1p3_Tc_mc_AKGC417L.wav\n",
            "COPD_138_1p4_Ar_mc_AKGC417L.wav\n",
            "Copied COPD_138_1p4_Ar_mc_AKGC417L.wav to /content/drive/MyDrive/ICBHI_final_database/augmented_audio/COPD_138_1p4_Ar_mc_AKGC417L.wav\n",
            "COPD_138_1p4_Ll_mc_AKGC417L.wav\n",
            "Copied COPD_138_1p4_Ll_mc_AKGC417L.wav to /content/drive/MyDrive/ICBHI_final_database/augmented_audio/COPD_138_1p4_Ll_mc_AKGC417L.wav\n",
            "COPD_138_1p4_Pl_mc_AKGC417L.wav\n",
            "Copied COPD_138_1p4_Pl_mc_AKGC417L.wav to /content/drive/MyDrive/ICBHI_final_database/augmented_audio/COPD_138_1p4_Pl_mc_AKGC417L.wav\n",
            "COPD_138_2p2_Al_mc_AKGC417L.wav\n",
            "Copied COPD_138_2p2_Al_mc_AKGC417L.wav to /content/drive/MyDrive/ICBHI_final_database/augmented_audio/COPD_138_2p2_Al_mc_AKGC417L.wav\n",
            "COPD_138_2p2_Ar_mc_AKGC417L.wav\n",
            "Copied COPD_138_2p2_Ar_mc_AKGC417L.wav to /content/drive/MyDrive/ICBHI_final_database/augmented_audio/COPD_138_2p2_Ar_mc_AKGC417L.wav\n",
            "COPD_138_2p2_Lr_mc_AKGC417L.wav\n",
            "Copied COPD_138_2p2_Lr_mc_AKGC417L.wav to /content/drive/MyDrive/ICBHI_final_database/augmented_audio/COPD_138_2p2_Lr_mc_AKGC417L.wav\n",
            "COPD_138_2p2_Tc_mc_AKGC417L.wav\n",
            "Copied COPD_138_2p2_Tc_mc_AKGC417L.wav to /content/drive/MyDrive/ICBHI_final_database/augmented_audio/COPD_138_2p2_Tc_mc_AKGC417L.wav\n",
            "COPD_139_1b1_Pr_sc_Litt3200.wav\n",
            "Copied COPD_139_1b1_Pr_sc_Litt3200.wav to /content/drive/MyDrive/ICBHI_final_database/augmented_audio/COPD_139_1b1_Pr_sc_Litt3200.wav\n",
            "COPD_140_2b3_Ll_mc_LittC2SE.wav\n",
            "Copied COPD_140_2b3_Ll_mc_LittC2SE.wav to /content/drive/MyDrive/ICBHI_final_database/augmented_audio/COPD_140_2b3_Ll_mc_LittC2SE.wav\n",
            "COPD_141_1b2_Ar_mc_LittC2SE.wav\n",
            "Copied COPD_141_1b2_Ar_mc_LittC2SE.wav to /content/drive/MyDrive/ICBHI_final_database/augmented_audio/COPD_141_1b2_Ar_mc_LittC2SE.wav\n",
            "COPD_141_1b2_Pr_mc_LittC2SE.wav\n",
            "Copied COPD_141_1b2_Pr_mc_LittC2SE.wav to /content/drive/MyDrive/ICBHI_final_database/augmented_audio/COPD_141_1b2_Pr_mc_LittC2SE.wav\n",
            "COPD_141_1b3_Al_mc_LittC2SE.wav\n",
            "Copied COPD_141_1b3_Al_mc_LittC2SE.wav to /content/drive/MyDrive/ICBHI_final_database/augmented_audio/COPD_141_1b3_Al_mc_LittC2SE.wav\n",
            "COPD_142_1b1_Pl_mc_LittC2SE.wav\n",
            "Copied COPD_142_1b1_Pl_mc_LittC2SE.wav to /content/drive/MyDrive/ICBHI_final_database/augmented_audio/COPD_142_1b1_Pl_mc_LittC2SE.wav\n",
            "COPD_144_1b1_Al_sc_Meditron.wav\n",
            "Copied COPD_144_1b1_Al_sc_Meditron.wav to /content/drive/MyDrive/ICBHI_final_database/augmented_audio/COPD_144_1b1_Al_sc_Meditron.wav\n",
            "COPD_145_2b2_Al_mc_AKGC417L.wav\n",
            "Copied COPD_145_2b2_Al_mc_AKGC417L.wav to /content/drive/MyDrive/ICBHI_final_database/augmented_audio/COPD_145_2b2_Al_mc_AKGC417L.wav\n",
            "COPD_145_2b2_Ar_mc_AKGC417L.wav\n",
            "Copied COPD_145_2b2_Ar_mc_AKGC417L.wav to /content/drive/MyDrive/ICBHI_final_database/augmented_audio/COPD_145_2b2_Ar_mc_AKGC417L.wav\n",
            "COPD_145_2b2_Pr_mc_AKGC417L.wav\n",
            "Copied COPD_145_2b2_Pr_mc_AKGC417L.wav to /content/drive/MyDrive/ICBHI_final_database/augmented_audio/COPD_145_2b2_Pr_mc_AKGC417L.wav\n",
            "COPD_145_3b2_Ar_mc_AKGC417L.wav\n",
            "Copied COPD_145_3b2_Ar_mc_AKGC417L.wav to /content/drive/MyDrive/ICBHI_final_database/augmented_audio/COPD_145_3b2_Ar_mc_AKGC417L.wav\n",
            "COPD_146_2b2_Pl_mc_AKGC417L.wav\n",
            "Copied COPD_146_2b2_Pl_mc_AKGC417L.wav to /content/drive/MyDrive/ICBHI_final_database/augmented_audio/COPD_146_2b2_Pl_mc_AKGC417L.wav\n",
            "COPD_146_2b4_Al_mc_AKGC417L.wav\n",
            "Copied COPD_146_2b4_Al_mc_AKGC417L.wav to /content/drive/MyDrive/ICBHI_final_database/augmented_audio/COPD_146_2b4_Al_mc_AKGC417L.wav\n",
            "COPD_146_2b4_Ll_mc_AKGC417L.wav\n",
            "Copied COPD_146_2b4_Ll_mc_AKGC417L.wav to /content/drive/MyDrive/ICBHI_final_database/augmented_audio/COPD_146_2b4_Ll_mc_AKGC417L.wav\n",
            "COPD_146_2b4_Lr_mc_AKGC417L.wav\n",
            "Copied COPD_146_2b4_Lr_mc_AKGC417L.wav to /content/drive/MyDrive/ICBHI_final_database/augmented_audio/COPD_146_2b4_Lr_mc_AKGC417L.wav\n",
            "COPD_146_8p3_Al_mc_AKGC417L.wav\n",
            "Copied COPD_146_8p3_Al_mc_AKGC417L.wav to /content/drive/MyDrive/ICBHI_final_database/augmented_audio/COPD_146_8p3_Al_mc_AKGC417L.wav\n",
            "COPD_146_8p3_Pl_mc_AKGC417L.wav\n",
            "Copied COPD_146_8p3_Pl_mc_AKGC417L.wav to /content/drive/MyDrive/ICBHI_final_database/augmented_audio/COPD_146_8p3_Pl_mc_AKGC417L.wav\n",
            "COPD_146_8p3_Pr_mc_AKGC417L.wav\n",
            "Copied COPD_146_8p3_Pr_mc_AKGC417L.wav to /content/drive/MyDrive/ICBHI_final_database/augmented_audio/COPD_146_8p3_Pr_mc_AKGC417L.wav\n",
            "COPD_147_1b4_Tc_mc_AKGC417L.wav\n",
            "Copied COPD_147_1b4_Tc_mc_AKGC417L.wav to /content/drive/MyDrive/ICBHI_final_database/augmented_audio/COPD_147_1b4_Tc_mc_AKGC417L.wav\n",
            "COPD_147_2b2_Al_mc_AKGC417L.wav\n",
            "Copied COPD_147_2b2_Al_mc_AKGC417L.wav to /content/drive/MyDrive/ICBHI_final_database/augmented_audio/COPD_147_2b2_Al_mc_AKGC417L.wav\n",
            "COPD_147_2b2_Ar_mc_AKGC417L.wav\n",
            "Copied COPD_147_2b2_Ar_mc_AKGC417L.wav to /content/drive/MyDrive/ICBHI_final_database/augmented_audio/COPD_147_2b2_Ar_mc_AKGC417L.wav\n",
            "COPD_147_2b3_Al_mc_AKGC417L.wav\n",
            "Copied COPD_147_2b3_Al_mc_AKGC417L.wav to /content/drive/MyDrive/ICBHI_final_database/augmented_audio/COPD_147_2b3_Al_mc_AKGC417L.wav\n",
            "COPD_147_2b3_Ar_mc_AKGC417L.wav\n",
            "Copied COPD_147_2b3_Ar_mc_AKGC417L.wav to /content/drive/MyDrive/ICBHI_final_database/augmented_audio/COPD_147_2b3_Ar_mc_AKGC417L.wav\n",
            "COPD_147_2b3_Ll_mc_AKGC417L.wav\n",
            "Copied COPD_147_2b3_Ll_mc_AKGC417L.wav to /content/drive/MyDrive/ICBHI_final_database/augmented_audio/COPD_147_2b3_Ll_mc_AKGC417L.wav\n",
            "COPD_147_2b3_Lr_mc_AKGC417L.wav\n",
            "Copied COPD_147_2b3_Lr_mc_AKGC417L.wav to /content/drive/MyDrive/ICBHI_final_database/augmented_audio/COPD_147_2b3_Lr_mc_AKGC417L.wav\n",
            "COPD_147_2b3_Pl_mc_AKGC417L.wav\n",
            "Copied COPD_147_2b3_Pl_mc_AKGC417L.wav to /content/drive/MyDrive/ICBHI_final_database/augmented_audio/COPD_147_2b3_Pl_mc_AKGC417L.wav\n",
            "COPD_147_2b4_Al_mc_AKGC417L.wav\n",
            "Copied COPD_147_2b4_Al_mc_AKGC417L.wav to /content/drive/MyDrive/ICBHI_final_database/augmented_audio/COPD_147_2b4_Al_mc_AKGC417L.wav\n",
            "COPD_147_2b4_Lr_mc_AKGC417L.wav\n",
            "Copied COPD_147_2b4_Lr_mc_AKGC417L.wav to /content/drive/MyDrive/ICBHI_final_database/augmented_audio/COPD_147_2b4_Lr_mc_AKGC417L.wav\n",
            "COPD_147_2b4_Pl_mc_AKGC417L.wav\n",
            "Copied COPD_147_2b4_Pl_mc_AKGC417L.wav to /content/drive/MyDrive/ICBHI_final_database/augmented_audio/COPD_147_2b4_Pl_mc_AKGC417L.wav\n",
            "COPD_148_1b1_Al_sc_Meditron.wav\n",
            "Copied COPD_148_1b1_Al_sc_Meditron.wav to /content/drive/MyDrive/ICBHI_final_database/augmented_audio/COPD_148_1b1_Al_sc_Meditron.wav\n",
            "COPD_149_1b1_Al_sc_Meditron.wav\n",
            "Copied COPD_149_1b1_Al_sc_Meditron.wav to /content/drive/MyDrive/ICBHI_final_database/augmented_audio/COPD_149_1b1_Al_sc_Meditron.wav\n",
            "COPD_149_1b1_Lr_sc_Meditron.wav\n",
            "Copied COPD_149_1b1_Lr_sc_Meditron.wav to /content/drive/MyDrive/ICBHI_final_database/augmented_audio/COPD_149_1b1_Lr_sc_Meditron.wav\n",
            "COPD_151_2p2_Al_mc_AKGC417L.wav\n",
            "Copied COPD_151_2p2_Al_mc_AKGC417L.wav to /content/drive/MyDrive/ICBHI_final_database/augmented_audio/COPD_151_2p2_Al_mc_AKGC417L.wav\n",
            "COPD_151_2p2_Ar_mc_AKGC417L.wav\n",
            "Copied COPD_151_2p2_Ar_mc_AKGC417L.wav to /content/drive/MyDrive/ICBHI_final_database/augmented_audio/COPD_151_2p2_Ar_mc_AKGC417L.wav\n",
            "COPD_151_2p2_Lr_mc_AKGC417L.wav\n",
            "Copied COPD_151_2p2_Lr_mc_AKGC417L.wav to /content/drive/MyDrive/ICBHI_final_database/augmented_audio/COPD_151_2p2_Lr_mc_AKGC417L.wav\n",
            "COPD_151_2p2_Pr_mc_AKGC417L.wav\n",
            "Copied COPD_151_2p2_Pr_mc_AKGC417L.wav to /content/drive/MyDrive/ICBHI_final_database/augmented_audio/COPD_151_2p2_Pr_mc_AKGC417L.wav\n",
            "COPD_151_2p3_Ll_mc_AKGC417L.wav\n",
            "Copied COPD_151_2p3_Ll_mc_AKGC417L.wav to /content/drive/MyDrive/ICBHI_final_database/augmented_audio/COPD_151_2p3_Ll_mc_AKGC417L.wav\n",
            "COPD_151_2p3_Lr_mc_AKGC417L.wav\n",
            "Copied COPD_151_2p3_Lr_mc_AKGC417L.wav to /content/drive/MyDrive/ICBHI_final_database/augmented_audio/COPD_151_2p3_Lr_mc_AKGC417L.wav\n",
            "COPD_151_2p3_Pl_mc_AKGC417L.wav\n",
            "Copied COPD_151_2p3_Pl_mc_AKGC417L.wav to /content/drive/MyDrive/ICBHI_final_database/augmented_audio/COPD_151_2p3_Pl_mc_AKGC417L.wav\n",
            "COPD_151_2p3_Pr_mc_AKGC417L.wav\n",
            "Copied COPD_151_2p3_Pr_mc_AKGC417L.wav to /content/drive/MyDrive/ICBHI_final_database/augmented_audio/COPD_151_2p3_Pr_mc_AKGC417L.wav\n",
            "COPD_151_2p3_Tc_mc_AKGC417L.wav\n",
            "Copied COPD_151_2p3_Tc_mc_AKGC417L.wav to /content/drive/MyDrive/ICBHI_final_database/augmented_audio/COPD_151_2p3_Tc_mc_AKGC417L.wav\n",
            "COPD_151_2p4_Al_mc_AKGC417L.wav\n",
            "Copied COPD_151_2p4_Al_mc_AKGC417L.wav to /content/drive/MyDrive/ICBHI_final_database/augmented_audio/COPD_151_2p4_Al_mc_AKGC417L.wav\n",
            "COPD_151_2p4_Ar_mc_AKGC417L.wav\n",
            "Copied COPD_151_2p4_Ar_mc_AKGC417L.wav to /content/drive/MyDrive/ICBHI_final_database/augmented_audio/COPD_151_2p4_Ar_mc_AKGC417L.wav\n",
            "COPD_151_2p4_Ll_mc_AKGC417L.wav\n",
            "Copied COPD_151_2p4_Ll_mc_AKGC417L.wav to /content/drive/MyDrive/ICBHI_final_database/augmented_audio/COPD_151_2p4_Ll_mc_AKGC417L.wav\n",
            "COPD_151_2p4_Lr_mc_AKGC417L.wav\n",
            "Copied COPD_151_2p4_Lr_mc_AKGC417L.wav to /content/drive/MyDrive/ICBHI_final_database/augmented_audio/COPD_151_2p4_Lr_mc_AKGC417L.wav\n",
            "COPD_151_3p2_Ar_mc_AKGC417L.wav\n",
            "Copied COPD_151_3p2_Ar_mc_AKGC417L.wav to /content/drive/MyDrive/ICBHI_final_database/augmented_audio/COPD_151_3p2_Ar_mc_AKGC417L.wav\n",
            "COPD_151_3p2_Pl_mc_AKGC417L.wav\n",
            "Copied COPD_151_3p2_Pl_mc_AKGC417L.wav to /content/drive/MyDrive/ICBHI_final_database/augmented_audio/COPD_151_3p2_Pl_mc_AKGC417L.wav\n",
            "COPD_151_3p2_Tc_mc_AKGC417L.wav\n",
            "Copied COPD_151_3p2_Tc_mc_AKGC417L.wav to /content/drive/MyDrive/ICBHI_final_database/augmented_audio/COPD_151_3p2_Tc_mc_AKGC417L.wav\n",
            "COPD_154_1b3_Ar_mc_AKGC417L.wav\n",
            "Copied COPD_154_1b3_Ar_mc_AKGC417L.wav to /content/drive/MyDrive/ICBHI_final_database/augmented_audio/COPD_154_1b3_Ar_mc_AKGC417L.wav\n",
            "COPD_154_1b3_Pl_mc_AKGC417L.wav\n",
            "Copied COPD_154_1b3_Pl_mc_AKGC417L.wav to /content/drive/MyDrive/ICBHI_final_database/augmented_audio/COPD_154_1b3_Pl_mc_AKGC417L.wav\n",
            "COPD_154_1b3_Tc_mc_AKGC417L.wav\n",
            "Copied COPD_154_1b3_Tc_mc_AKGC417L.wav to /content/drive/MyDrive/ICBHI_final_database/augmented_audio/COPD_154_1b3_Tc_mc_AKGC417L.wav\n",
            "COPD_154_2b4_Ll_mc_AKGC417L.wav\n",
            "Copied COPD_154_2b4_Ll_mc_AKGC417L.wav to /content/drive/MyDrive/ICBHI_final_database/augmented_audio/COPD_154_2b4_Ll_mc_AKGC417L.wav\n",
            "COPD_154_2b4_Lr_mc_AKGC417L.wav\n",
            "Copied COPD_154_2b4_Lr_mc_AKGC417L.wav to /content/drive/MyDrive/ICBHI_final_database/augmented_audio/COPD_154_2b4_Lr_mc_AKGC417L.wav\n",
            "COPD_154_2b4_Pl_mc_AKGC417L.wav\n",
            "Copied COPD_154_2b4_Pl_mc_AKGC417L.wav to /content/drive/MyDrive/ICBHI_final_database/augmented_audio/COPD_154_2b4_Pl_mc_AKGC417L.wav\n",
            "COPD_154_2b4_Tc_mc_AKGC417L.wav\n",
            "Copied COPD_154_2b4_Tc_mc_AKGC417L.wav to /content/drive/MyDrive/ICBHI_final_database/augmented_audio/COPD_154_2b4_Tc_mc_AKGC417L.wav\n",
            "COPD_154_3b3_Ar_mc_AKGC417L.wav\n",
            "Copied COPD_154_3b3_Ar_mc_AKGC417L.wav to /content/drive/MyDrive/ICBHI_final_database/augmented_audio/COPD_154_3b3_Ar_mc_AKGC417L.wav\n",
            "COPD_154_3b3_Ll_mc_AKGC417L.wav\n",
            "Copied COPD_154_3b3_Ll_mc_AKGC417L.wav to /content/drive/MyDrive/ICBHI_final_database/augmented_audio/COPD_154_3b3_Ll_mc_AKGC417L.wav\n",
            "COPD_154_4b4_Ll_mc_AKGC417L.wav\n",
            "Copied COPD_154_4b4_Ll_mc_AKGC417L.wav to /content/drive/MyDrive/ICBHI_final_database/augmented_audio/COPD_154_4b4_Ll_mc_AKGC417L.wav\n",
            "COPD_154_4b4_Pl_mc_AKGC417L.wav\n",
            "Copied COPD_154_4b4_Pl_mc_AKGC417L.wav to /content/drive/MyDrive/ICBHI_final_database/augmented_audio/COPD_154_4b4_Pl_mc_AKGC417L.wav\n",
            "COPD_154_4b4_Pr_mc_AKGC417L.wav\n",
            "Copied COPD_154_4b4_Pr_mc_AKGC417L.wav to /content/drive/MyDrive/ICBHI_final_database/augmented_audio/COPD_154_4b4_Pr_mc_AKGC417L.wav\n",
            "COPD_156_2b3_Ll_mc_AKGC417L.wav\n",
            "Copied COPD_156_2b3_Ll_mc_AKGC417L.wav to /content/drive/MyDrive/ICBHI_final_database/augmented_audio/COPD_156_2b3_Ll_mc_AKGC417L.wav\n",
            "COPD_156_2b3_Pr_mc_AKGC417L.wav\n",
            "Copied COPD_156_2b3_Pr_mc_AKGC417L.wav to /content/drive/MyDrive/ICBHI_final_database/augmented_audio/COPD_156_2b3_Pr_mc_AKGC417L.wav\n",
            "COPD_156_5b3_Al_mc_AKGC417L.wav\n",
            "Copied COPD_156_5b3_Al_mc_AKGC417L.wav to /content/drive/MyDrive/ICBHI_final_database/augmented_audio/COPD_156_5b3_Al_mc_AKGC417L.wav\n",
            "COPD_156_5b3_Ll_mc_AKGC417L.wav\n",
            "Copied COPD_156_5b3_Ll_mc_AKGC417L.wav to /content/drive/MyDrive/ICBHI_final_database/augmented_audio/COPD_156_5b3_Ll_mc_AKGC417L.wav\n",
            "COPD_156_5b3_Lr_mc_AKGC417L.wav\n",
            "Copied COPD_156_5b3_Lr_mc_AKGC417L.wav to /content/drive/MyDrive/ICBHI_final_database/augmented_audio/COPD_156_5b3_Lr_mc_AKGC417L.wav\n",
            "COPD_156_8b3_Ar_mc_AKGC417L.wav\n",
            "Copied COPD_156_8b3_Ar_mc_AKGC417L.wav to /content/drive/MyDrive/ICBHI_final_database/augmented_audio/COPD_156_8b3_Ar_mc_AKGC417L.wav\n",
            "COPD_157_1b1_Al_sc_Meditron.wav\n",
            "Copied COPD_157_1b1_Al_sc_Meditron.wav to /content/drive/MyDrive/ICBHI_final_database/augmented_audio/COPD_157_1b1_Al_sc_Meditron.wav\n",
            "COPD_157_1b1_Ar_sc_Meditron.wav\n",
            "Copied COPD_157_1b1_Ar_sc_Meditron.wav to /content/drive/MyDrive/ICBHI_final_database/augmented_audio/COPD_157_1b1_Ar_sc_Meditron.wav\n",
            "COPD_157_1b1_Lr_sc_Meditron.wav\n",
            "Copied COPD_157_1b1_Lr_sc_Meditron.wav to /content/drive/MyDrive/ICBHI_final_database/augmented_audio/COPD_157_1b1_Lr_sc_Meditron.wav\n",
            "COPD_157_1b1_Pl_sc_Meditron.wav\n",
            "Copied COPD_157_1b1_Pl_sc_Meditron.wav to /content/drive/MyDrive/ICBHI_final_database/augmented_audio/COPD_157_1b1_Pl_sc_Meditron.wav\n",
            "COPD_157_1b1_Pr_sc_Meditron.wav\n",
            "Copied COPD_157_1b1_Pr_sc_Meditron.wav to /content/drive/MyDrive/ICBHI_final_database/augmented_audio/COPD_157_1b1_Pr_sc_Meditron.wav\n",
            "COPD_158_1b3_Ar_mc_LittC2SE.wav\n",
            "Copied COPD_158_1b3_Ar_mc_LittC2SE.wav to /content/drive/MyDrive/ICBHI_final_database/augmented_audio/COPD_158_1b3_Ar_mc_LittC2SE.wav\n",
            "COPD_158_1p2_Ll_mc_AKGC417L.wav\n",
            "Copied COPD_158_1p2_Ll_mc_AKGC417L.wav to /content/drive/MyDrive/ICBHI_final_database/augmented_audio/COPD_158_1p2_Ll_mc_AKGC417L.wav\n",
            "COPD_158_1p2_Tc_mc_AKGC417L.wav\n",
            "Copied COPD_158_1p2_Tc_mc_AKGC417L.wav to /content/drive/MyDrive/ICBHI_final_database/augmented_audio/COPD_158_1p2_Tc_mc_AKGC417L.wav\n",
            "COPD_158_1p3_Lr_mc_AKGC417L.wav\n",
            "Copied COPD_158_1p3_Lr_mc_AKGC417L.wav to /content/drive/MyDrive/ICBHI_final_database/augmented_audio/COPD_158_1p3_Lr_mc_AKGC417L.wav\n",
            "COPD_158_1p3_Pl_mc_AKGC417L.wav\n",
            "Copied COPD_158_1p3_Pl_mc_AKGC417L.wav to /content/drive/MyDrive/ICBHI_final_database/augmented_audio/COPD_158_1p3_Pl_mc_AKGC417L.wav\n",
            "COPD_158_1p3_Tc_mc_AKGC417L.wav\n",
            "Copied COPD_158_1p3_Tc_mc_AKGC417L.wav to /content/drive/MyDrive/ICBHI_final_database/augmented_audio/COPD_158_1p3_Tc_mc_AKGC417L.wav\n",
            "COPD_158_1p4_Al_mc_AKGC417L.wav\n",
            "Copied COPD_158_1p4_Al_mc_AKGC417L.wav to /content/drive/MyDrive/ICBHI_final_database/augmented_audio/COPD_158_1p4_Al_mc_AKGC417L.wav\n",
            "COPD_158_1p4_Ar_mc_AKGC417L.wav\n",
            "Copied COPD_158_1p4_Ar_mc_AKGC417L.wav to /content/drive/MyDrive/ICBHI_final_database/augmented_audio/COPD_158_1p4_Ar_mc_AKGC417L.wav\n",
            "COPD_158_1p4_Pl_mc_AKGC417L.wav\n",
            "Copied COPD_158_1p4_Pl_mc_AKGC417L.wav to /content/drive/MyDrive/ICBHI_final_database/augmented_audio/COPD_158_1p4_Pl_mc_AKGC417L.wav\n",
            "COPD_158_1p4_Pr_mc_AKGC417L.wav\n",
            "Copied COPD_158_1p4_Pr_mc_AKGC417L.wav to /content/drive/MyDrive/ICBHI_final_database/augmented_audio/COPD_158_1p4_Pr_mc_AKGC417L.wav\n",
            "COPD_158_2p2_Ar_mc_AKGC417L.wav\n",
            "Copied COPD_158_2p2_Ar_mc_AKGC417L.wav to /content/drive/MyDrive/ICBHI_final_database/augmented_audio/COPD_158_2p2_Ar_mc_AKGC417L.wav\n",
            "COPD_158_2p3_Lr_mc_AKGC417L.wav\n",
            "Copied COPD_158_2p3_Lr_mc_AKGC417L.wav to /content/drive/MyDrive/ICBHI_final_database/augmented_audio/COPD_158_2p3_Lr_mc_AKGC417L.wav\n",
            "COPD_159_1b1_Al_sc_Meditron.wav\n",
            "Copied COPD_159_1b1_Al_sc_Meditron.wav to /content/drive/MyDrive/ICBHI_final_database/augmented_audio/COPD_159_1b1_Al_sc_Meditron.wav\n",
            "COPD_159_1b1_Ll_sc_Meditron.wav\n",
            "Copied COPD_159_1b1_Ll_sc_Meditron.wav to /content/drive/MyDrive/ICBHI_final_database/augmented_audio/COPD_159_1b1_Ll_sc_Meditron.wav\n",
            "COPD_159_1b1_Pr_sc_Meditron.wav\n",
            "Copied COPD_159_1b1_Pr_sc_Meditron.wav to /content/drive/MyDrive/ICBHI_final_database/augmented_audio/COPD_159_1b1_Pr_sc_Meditron.wav\n",
            "COPD_160_1b2_Pr_mc_AKGC417L.wav\n",
            "Copied COPD_160_1b2_Pr_mc_AKGC417L.wav to /content/drive/MyDrive/ICBHI_final_database/augmented_audio/COPD_160_1b2_Pr_mc_AKGC417L.wav\n",
            "COPD_160_1b2_Tc_mc_AKGC417L.wav\n",
            "Copied COPD_160_1b2_Tc_mc_AKGC417L.wav to /content/drive/MyDrive/ICBHI_final_database/augmented_audio/COPD_160_1b2_Tc_mc_AKGC417L.wav\n",
            "COPD_160_1b3_Al_mc_AKGC417L.wav\n",
            "Copied COPD_160_1b3_Al_mc_AKGC417L.wav to /content/drive/MyDrive/ICBHI_final_database/augmented_audio/COPD_160_1b3_Al_mc_AKGC417L.wav\n",
            "COPD_160_1b3_Pl_mc_AKGC417L.wav\n",
            "Copied COPD_160_1b3_Pl_mc_AKGC417L.wav to /content/drive/MyDrive/ICBHI_final_database/augmented_audio/COPD_160_1b3_Pl_mc_AKGC417L.wav\n",
            "COPD_160_1b3_Pr_mc_AKGC417L.wav\n",
            "Copied COPD_160_1b3_Pr_mc_AKGC417L.wav to /content/drive/MyDrive/ICBHI_final_database/augmented_audio/COPD_160_1b3_Pr_mc_AKGC417L.wav\n",
            "COPD_160_1b4_Ar_mc_AKGC417L.wav\n",
            "Copied COPD_160_1b4_Ar_mc_AKGC417L.wav to /content/drive/MyDrive/ICBHI_final_database/augmented_audio/COPD_160_1b4_Ar_mc_AKGC417L.wav\n",
            "COPD_160_1b4_Lr_mc_AKGC417L.wav\n",
            "Copied COPD_160_1b4_Lr_mc_AKGC417L.wav to /content/drive/MyDrive/ICBHI_final_database/augmented_audio/COPD_160_1b4_Lr_mc_AKGC417L.wav\n",
            "COPD_160_1b4_Pr_mc_AKGC417L.wav\n",
            "Copied COPD_160_1b4_Pr_mc_AKGC417L.wav to /content/drive/MyDrive/ICBHI_final_database/augmented_audio/COPD_160_1b4_Pr_mc_AKGC417L.wav\n",
            "COPD_160_2b4_Ar_mc_AKGC417L.wav\n",
            "Copied COPD_160_2b4_Ar_mc_AKGC417L.wav to /content/drive/MyDrive/ICBHI_final_database/augmented_audio/COPD_160_2b4_Ar_mc_AKGC417L.wav\n",
            "COPD_160_2b4_Pl_mc_AKGC417L.wav\n",
            "Copied COPD_160_2b4_Pl_mc_AKGC417L.wav to /content/drive/MyDrive/ICBHI_final_database/augmented_audio/COPD_160_2b4_Pl_mc_AKGC417L.wav\n",
            "COPD_160_2b4_Pr_mc_AKGC417L.wav\n",
            "Copied COPD_160_2b4_Pr_mc_AKGC417L.wav to /content/drive/MyDrive/ICBHI_final_database/augmented_audio/COPD_160_2b4_Pr_mc_AKGC417L.wav\n",
            "COPD_160_2b4_Tc_mc_AKGC417L.wav\n",
            "Copied COPD_160_2b4_Tc_mc_AKGC417L.wav to /content/drive/MyDrive/ICBHI_final_database/augmented_audio/COPD_160_2b4_Tc_mc_AKGC417L.wav\n",
            "COPD_161_1b1_Pl_sc_Meditron.wav\n",
            "Copied COPD_161_1b1_Pl_sc_Meditron.wav to /content/drive/MyDrive/ICBHI_final_database/augmented_audio/COPD_161_1b1_Pl_sc_Meditron.wav\n",
            "COPD_162_1b2_Al_mc_AKGC417L.wav\n",
            "Copied COPD_162_1b2_Al_mc_AKGC417L.wav to /content/drive/MyDrive/ICBHI_final_database/augmented_audio/COPD_162_1b2_Al_mc_AKGC417L.wav\n",
            "COPD_162_1b2_Pl_mc_AKGC417L.wav\n",
            "Copied COPD_162_1b2_Pl_mc_AKGC417L.wav to /content/drive/MyDrive/ICBHI_final_database/augmented_audio/COPD_162_1b2_Pl_mc_AKGC417L.wav\n",
            "COPD_162_1b2_Pr_mc_AKGC417L.wav\n",
            "Copied COPD_162_1b2_Pr_mc_AKGC417L.wav to /content/drive/MyDrive/ICBHI_final_database/augmented_audio/COPD_162_1b2_Pr_mc_AKGC417L.wav\n",
            "COPD_162_2b2_Ar_mc_AKGC417L.wav\n",
            "Copied COPD_162_2b2_Ar_mc_AKGC417L.wav to /content/drive/MyDrive/ICBHI_final_database/augmented_audio/COPD_162_2b2_Ar_mc_AKGC417L.wav\n",
            "COPD_162_2b2_Pr_mc_AKGC417L.wav\n",
            "Copied COPD_162_2b2_Pr_mc_AKGC417L.wav to /content/drive/MyDrive/ICBHI_final_database/augmented_audio/COPD_162_2b2_Pr_mc_AKGC417L.wav\n",
            "COPD_162_2b2_Tc_mc_AKGC417L.wav\n",
            "Copied COPD_162_2b2_Tc_mc_AKGC417L.wav to /content/drive/MyDrive/ICBHI_final_database/augmented_audio/COPD_162_2b2_Tc_mc_AKGC417L.wav\n",
            "COPD_162_2b3_Pl_mc_AKGC417L.wav\n",
            "Copied COPD_162_2b3_Pl_mc_AKGC417L.wav to /content/drive/MyDrive/ICBHI_final_database/augmented_audio/COPD_162_2b3_Pl_mc_AKGC417L.wav\n",
            "COPD_162_2b3_Pr_mc_AKGC417L.wav\n",
            "Copied COPD_162_2b3_Pr_mc_AKGC417L.wav to /content/drive/MyDrive/ICBHI_final_database/augmented_audio/COPD_162_2b3_Pr_mc_AKGC417L.wav\n",
            "COPD_162_2b4_Ar_mc_AKGC417L.wav\n",
            "Copied COPD_162_2b4_Ar_mc_AKGC417L.wav to /content/drive/MyDrive/ICBHI_final_database/augmented_audio/COPD_162_2b4_Ar_mc_AKGC417L.wav\n",
            "COPD_162_2b4_Pl_mc_AKGC417L.wav\n",
            "Copied COPD_162_2b4_Pl_mc_AKGC417L.wav to /content/drive/MyDrive/ICBHI_final_database/augmented_audio/COPD_162_2b4_Pl_mc_AKGC417L.wav\n",
            "COPD_162_2b4_Tc_mc_AKGC417L.wav\n",
            "Copied COPD_162_2b4_Tc_mc_AKGC417L.wav to /content/drive/MyDrive/ICBHI_final_database/augmented_audio/COPD_162_2b4_Tc_mc_AKGC417L.wav\n",
            "COPD_163_2b2_Ar_mc_AKGC417L.wav\n",
            "Copied COPD_163_2b2_Ar_mc_AKGC417L.wav to /content/drive/MyDrive/ICBHI_final_database/augmented_audio/COPD_163_2b2_Ar_mc_AKGC417L.wav\n",
            "COPD_163_2b2_Lr_mc_AKGC417L.wav\n",
            "Copied COPD_163_2b2_Lr_mc_AKGC417L.wav to /content/drive/MyDrive/ICBHI_final_database/augmented_audio/COPD_163_2b2_Lr_mc_AKGC417L.wav\n",
            "COPD_163_2b2_Pl_mc_AKGC417L.wav\n",
            "Copied COPD_163_2b2_Pl_mc_AKGC417L.wav to /content/drive/MyDrive/ICBHI_final_database/augmented_audio/COPD_163_2b2_Pl_mc_AKGC417L.wav\n",
            "COPD_163_2b2_Pr_mc_AKGC417L.wav\n",
            "Copied COPD_163_2b2_Pr_mc_AKGC417L.wav to /content/drive/MyDrive/ICBHI_final_database/augmented_audio/COPD_163_2b2_Pr_mc_AKGC417L.wav\n",
            "COPD_163_8b3_Ar_mc_AKGC417L.wav\n",
            "Copied COPD_163_8b3_Ar_mc_AKGC417L.wav to /content/drive/MyDrive/ICBHI_final_database/augmented_audio/COPD_163_8b3_Ar_mc_AKGC417L.wav\n",
            "COPD_163_8b3_Pl_mc_AKGC417L.wav\n",
            "Copied COPD_163_8b3_Pl_mc_AKGC417L.wav to /content/drive/MyDrive/ICBHI_final_database/augmented_audio/COPD_163_8b3_Pl_mc_AKGC417L.wav\n",
            "COPD_163_8b3_Pr_mc_AKGC417L.wav\n",
            "Copied COPD_163_8b3_Pr_mc_AKGC417L.wav to /content/drive/MyDrive/ICBHI_final_database/augmented_audio/COPD_163_8b3_Pr_mc_AKGC417L.wav\n",
            "COPD_164_1b1_Ll_sc_Meditron.wav\n",
            "Copied COPD_164_1b1_Ll_sc_Meditron.wav to /content/drive/MyDrive/ICBHI_final_database/augmented_audio/COPD_164_1b1_Ll_sc_Meditron.wav\n",
            "COPD_166_1p1_Ar_sc_Meditron.wav\n",
            "Copied COPD_166_1p1_Ar_sc_Meditron.wav to /content/drive/MyDrive/ICBHI_final_database/augmented_audio/COPD_166_1p1_Ar_sc_Meditron.wav\n",
            "COPD_166_1p1_Pl_sc_Meditron.wav\n",
            "Copied COPD_166_1p1_Pl_sc_Meditron.wav to /content/drive/MyDrive/ICBHI_final_database/augmented_audio/COPD_166_1p1_Pl_sc_Meditron.wav\n",
            "COPD_166_1p1_Pr_sc_Meditron.wav\n",
            "Copied COPD_166_1p1_Pr_sc_Meditron.wav to /content/drive/MyDrive/ICBHI_final_database/augmented_audio/COPD_166_1p1_Pr_sc_Meditron.wav\n",
            "COPD_168_1b1_Al_sc_Meditron.wav\n",
            "Copied COPD_168_1b1_Al_sc_Meditron.wav to /content/drive/MyDrive/ICBHI_final_database/augmented_audio/COPD_168_1b1_Al_sc_Meditron.wav\n",
            "COPD_169_1b1_Lr_sc_Meditron.wav\n",
            "Copied COPD_169_1b1_Lr_sc_Meditron.wav to /content/drive/MyDrive/ICBHI_final_database/augmented_audio/COPD_169_1b1_Lr_sc_Meditron.wav\n",
            "COPD_170_1b2_Al_mc_AKGC417L.wav\n",
            "Copied COPD_170_1b2_Al_mc_AKGC417L.wav to /content/drive/MyDrive/ICBHI_final_database/augmented_audio/COPD_170_1b2_Al_mc_AKGC417L.wav\n",
            "COPD_170_1b2_Lr_mc_AKGC417L.wav\n",
            "Copied COPD_170_1b2_Lr_mc_AKGC417L.wav to /content/drive/MyDrive/ICBHI_final_database/augmented_audio/COPD_170_1b2_Lr_mc_AKGC417L.wav\n",
            "COPD_170_1b2_Tc_mc_AKGC417L.wav\n",
            "Copied COPD_170_1b2_Tc_mc_AKGC417L.wav to /content/drive/MyDrive/ICBHI_final_database/augmented_audio/COPD_170_1b2_Tc_mc_AKGC417L.wav\n",
            "COPD_170_1b3_Lr_mc_AKGC417L.wav\n",
            "Copied COPD_170_1b3_Lr_mc_AKGC417L.wav to /content/drive/MyDrive/ICBHI_final_database/augmented_audio/COPD_170_1b3_Lr_mc_AKGC417L.wav\n",
            "COPD_170_1b3_Pl_mc_AKGC417L.wav\n",
            "Copied COPD_170_1b3_Pl_mc_AKGC417L.wav to /content/drive/MyDrive/ICBHI_final_database/augmented_audio/COPD_170_1b3_Pl_mc_AKGC417L.wav\n",
            "COPD_170_1b3_Tc_mc_AKGC417L.wav\n",
            "Copied COPD_170_1b3_Tc_mc_AKGC417L.wav to /content/drive/MyDrive/ICBHI_final_database/augmented_audio/COPD_170_1b3_Tc_mc_AKGC417L.wav\n",
            "COPD_170_1b4_Al_mc_AKGC417L.wav\n",
            "Copied COPD_170_1b4_Al_mc_AKGC417L.wav to /content/drive/MyDrive/ICBHI_final_database/augmented_audio/COPD_170_1b4_Al_mc_AKGC417L.wav\n",
            "COPD_170_1b4_Lr_mc_AKGC417L.wav\n",
            "Copied COPD_170_1b4_Lr_mc_AKGC417L.wav to /content/drive/MyDrive/ICBHI_final_database/augmented_audio/COPD_170_1b4_Lr_mc_AKGC417L.wav\n",
            "COPD_170_1b4_Pl_mc_AKGC417L.wav\n",
            "Copied COPD_170_1b4_Pl_mc_AKGC417L.wav to /content/drive/MyDrive/ICBHI_final_database/augmented_audio/COPD_170_1b4_Pl_mc_AKGC417L.wav\n",
            "COPD_170_1b4_Pr_mc_AKGC417L.wav\n",
            "Copied COPD_170_1b4_Pr_mc_AKGC417L.wav to /content/drive/MyDrive/ICBHI_final_database/augmented_audio/COPD_170_1b4_Pr_mc_AKGC417L.wav\n",
            "COPD_170_2b2_Lr_mc_AKGC417L.wav\n",
            "Copied COPD_170_2b2_Lr_mc_AKGC417L.wav to /content/drive/MyDrive/ICBHI_final_database/augmented_audio/COPD_170_2b2_Lr_mc_AKGC417L.wav\n",
            "COPD_170_2b2_Pl_mc_AKGC417L.wav\n",
            "Copied COPD_170_2b2_Pl_mc_AKGC417L.wav to /content/drive/MyDrive/ICBHI_final_database/augmented_audio/COPD_170_2b2_Pl_mc_AKGC417L.wav\n",
            "COPD_170_2b2_Tc_mc_AKGC417L.wav\n",
            "Copied COPD_170_2b2_Tc_mc_AKGC417L.wav to /content/drive/MyDrive/ICBHI_final_database/augmented_audio/COPD_170_2b2_Tc_mc_AKGC417L.wav\n",
            "COPD_172_1b3_Al_mc_AKGC417L.wav\n",
            "Copied COPD_172_1b3_Al_mc_AKGC417L.wav to /content/drive/MyDrive/ICBHI_final_database/augmented_audio/COPD_172_1b3_Al_mc_AKGC417L.wav\n",
            "COPD_172_1b3_Lr_mc_AKGC417L.wav\n",
            "Copied COPD_172_1b3_Lr_mc_AKGC417L.wav to /content/drive/MyDrive/ICBHI_final_database/augmented_audio/COPD_172_1b3_Lr_mc_AKGC417L.wav\n",
            "COPD_172_1b3_Pl_mc_AKGC417L.wav\n",
            "Copied COPD_172_1b3_Pl_mc_AKGC417L.wav to /content/drive/MyDrive/ICBHI_final_database/augmented_audio/COPD_172_1b3_Pl_mc_AKGC417L.wav\n",
            "COPD_172_1b4_Al_mc_AKGC417L.wav\n",
            "Copied COPD_172_1b4_Al_mc_AKGC417L.wav to /content/drive/MyDrive/ICBHI_final_database/augmented_audio/COPD_172_1b4_Al_mc_AKGC417L.wav\n",
            "COPD_172_1b4_Ar_mc_AKGC417L.wav\n",
            "Copied COPD_172_1b4_Ar_mc_AKGC417L.wav to /content/drive/MyDrive/ICBHI_final_database/augmented_audio/COPD_172_1b4_Ar_mc_AKGC417L.wav\n",
            "COPD_172_1b4_Ll_mc_AKGC417L.wav\n",
            "Copied COPD_172_1b4_Ll_mc_AKGC417L.wav to /content/drive/MyDrive/ICBHI_final_database/augmented_audio/COPD_172_1b4_Ll_mc_AKGC417L.wav\n",
            "COPD_172_1b4_Lr_mc_AKGC417L.wav\n",
            "Copied COPD_172_1b4_Lr_mc_AKGC417L.wav to /content/drive/MyDrive/ICBHI_final_database/augmented_audio/COPD_172_1b4_Lr_mc_AKGC417L.wav\n",
            "COPD_172_1b5_Ll_mc_AKGC417L.wav\n",
            "Copied COPD_172_1b5_Ll_mc_AKGC417L.wav to /content/drive/MyDrive/ICBHI_final_database/augmented_audio/COPD_172_1b5_Ll_mc_AKGC417L.wav\n",
            "COPD_172_1b5_Lr_mc_AKGC417L.wav\n",
            "Copied COPD_172_1b5_Lr_mc_AKGC417L.wav to /content/drive/MyDrive/ICBHI_final_database/augmented_audio/COPD_172_1b5_Lr_mc_AKGC417L.wav\n",
            "COPD_172_1b5_Pl_mc_AKGC417L.wav\n",
            "Copied COPD_172_1b5_Pl_mc_AKGC417L.wav to /content/drive/MyDrive/ICBHI_final_database/augmented_audio/COPD_172_1b5_Pl_mc_AKGC417L.wav\n",
            "COPD_172_1b5_Tc_mc_AKGC417L.wav\n",
            "Copied COPD_172_1b5_Tc_mc_AKGC417L.wav to /content/drive/MyDrive/ICBHI_final_database/augmented_audio/COPD_172_1b5_Tc_mc_AKGC417L.wav\n",
            "COPD_172_2b5_Al_mc_AKGC417L.wav\n",
            "Copied COPD_172_2b5_Al_mc_AKGC417L.wav to /content/drive/MyDrive/ICBHI_final_database/augmented_audio/COPD_172_2b5_Al_mc_AKGC417L.wav\n",
            "COPD_172_2b5_Lr_mc_AKGC417L.wav\n",
            "Copied COPD_172_2b5_Lr_mc_AKGC417L.wav to /content/drive/MyDrive/ICBHI_final_database/augmented_audio/COPD_172_2b5_Lr_mc_AKGC417L.wav\n",
            "COPD_172_2b5_Tc_mc_AKGC417L.wav\n",
            "Copied COPD_172_2b5_Tc_mc_AKGC417L.wav to /content/drive/MyDrive/ICBHI_final_database/augmented_audio/COPD_172_2b5_Tc_mc_AKGC417L.wav\n",
            "COPD_173_1b1_Al_sc_Meditron.wav\n",
            "Copied COPD_173_1b1_Al_sc_Meditron.wav to /content/drive/MyDrive/ICBHI_final_database/augmented_audio/COPD_173_1b1_Al_sc_Meditron.wav\n",
            "COPD_174_1p2_Ar_mc_AKGC417L.wav\n",
            "Copied COPD_174_1p2_Ar_mc_AKGC417L.wav to /content/drive/MyDrive/ICBHI_final_database/augmented_audio/COPD_174_1p2_Ar_mc_AKGC417L.wav\n",
            "COPD_174_1p2_Ll_mc_AKGC417L.wav\n",
            "Copied COPD_174_1p2_Ll_mc_AKGC417L.wav to /content/drive/MyDrive/ICBHI_final_database/augmented_audio/COPD_174_1p2_Ll_mc_AKGC417L.wav\n",
            "COPD_174_1p2_Lr_mc_AKGC417L.wav\n",
            "Copied COPD_174_1p2_Lr_mc_AKGC417L.wav to /content/drive/MyDrive/ICBHI_final_database/augmented_audio/COPD_174_1p2_Lr_mc_AKGC417L.wav\n",
            "COPD_174_1p2_Pl_mc_AKGC417L.wav\n",
            "Copied COPD_174_1p2_Pl_mc_AKGC417L.wav to /content/drive/MyDrive/ICBHI_final_database/augmented_audio/COPD_174_1p2_Pl_mc_AKGC417L.wav\n",
            "COPD_174_1p3_Tc_mc_AKGC417L.wav\n",
            "Copied COPD_174_1p3_Tc_mc_AKGC417L.wav to /content/drive/MyDrive/ICBHI_final_database/augmented_audio/COPD_174_1p3_Tc_mc_AKGC417L.wav\n",
            "COPD_174_1p4_Ar_mc_AKGC417L.wav\n",
            "Copied COPD_174_1p4_Ar_mc_AKGC417L.wav to /content/drive/MyDrive/ICBHI_final_database/augmented_audio/COPD_174_1p4_Ar_mc_AKGC417L.wav\n",
            "COPD_174_1p4_Ll_mc_AKGC417L.wav\n",
            "Copied COPD_174_1p4_Ll_mc_AKGC417L.wav to /content/drive/MyDrive/ICBHI_final_database/augmented_audio/COPD_174_1p4_Ll_mc_AKGC417L.wav\n",
            "COPD_174_1p4_Lr_mc_AKGC417L.wav\n",
            "Copied COPD_174_1p4_Lr_mc_AKGC417L.wav to /content/drive/MyDrive/ICBHI_final_database/augmented_audio/COPD_174_1p4_Lr_mc_AKGC417L.wav\n",
            "COPD_174_1p4_Pr_mc_AKGC417L.wav\n",
            "Copied COPD_174_1p4_Pr_mc_AKGC417L.wav to /content/drive/MyDrive/ICBHI_final_database/augmented_audio/COPD_174_1p4_Pr_mc_AKGC417L.wav\n",
            "COPD_174_1p4_Tc_mc_AKGC417L.wav\n",
            "Copied COPD_174_1p4_Tc_mc_AKGC417L.wav to /content/drive/MyDrive/ICBHI_final_database/augmented_audio/COPD_174_1p4_Tc_mc_AKGC417L.wav\n",
            "COPD_174_2p3_Al_mc_AKGC417L.wav\n",
            "Copied COPD_174_2p3_Al_mc_AKGC417L.wav to /content/drive/MyDrive/ICBHI_final_database/augmented_audio/COPD_174_2p3_Al_mc_AKGC417L.wav\n",
            "COPD_174_2p3_Ar_mc_AKGC417L.wav\n",
            "Copied COPD_174_2p3_Ar_mc_AKGC417L.wav to /content/drive/MyDrive/ICBHI_final_database/augmented_audio/COPD_174_2p3_Ar_mc_AKGC417L.wav\n",
            "COPD_174_2p3_Pr_mc_AKGC417L.wav\n",
            "Copied COPD_174_2p3_Pr_mc_AKGC417L.wav to /content/drive/MyDrive/ICBHI_final_database/augmented_audio/COPD_174_2p3_Pr_mc_AKGC417L.wav\n",
            "COPD_174_2p3_Tc_mc_AKGC417L.wav\n",
            "Copied COPD_174_2p3_Tc_mc_AKGC417L.wav to /content/drive/MyDrive/ICBHI_final_database/augmented_audio/COPD_174_2p3_Tc_mc_AKGC417L.wav\n",
            "COPD_175_1b1_Ar_sc_Litt3200.wav\n",
            "Copied COPD_175_1b1_Ar_sc_Litt3200.wav to /content/drive/MyDrive/ICBHI_final_database/augmented_audio/COPD_175_1b1_Ar_sc_Litt3200.wav\n",
            "COPD_175_1b1_Ll_sc_Litt3200.wav\n",
            "Copied COPD_175_1b1_Ll_sc_Litt3200.wav to /content/drive/MyDrive/ICBHI_final_database/augmented_audio/COPD_175_1b1_Ll_sc_Litt3200.wav\n",
            "COPD_175_1b1_Pl_sc_Litt3200.wav\n",
            "Copied COPD_175_1b1_Pl_sc_Litt3200.wav to /content/drive/MyDrive/ICBHI_final_database/augmented_audio/COPD_175_1b1_Pl_sc_Litt3200.wav\n",
            "COPD_176_1b4_Al_mc_AKGC417L.wav\n",
            "Copied COPD_176_1b4_Al_mc_AKGC417L.wav to /content/drive/MyDrive/ICBHI_final_database/augmented_audio/COPD_176_1b4_Al_mc_AKGC417L.wav\n",
            "COPD_176_1b4_Ar_mc_AKGC417L.wav\n",
            "Copied COPD_176_1b4_Ar_mc_AKGC417L.wav to /content/drive/MyDrive/ICBHI_final_database/augmented_audio/COPD_176_1b4_Ar_mc_AKGC417L.wav\n",
            "COPD_176_1b4_Ll_mc_AKGC417L.wav\n",
            "Copied COPD_176_1b4_Ll_mc_AKGC417L.wav to /content/drive/MyDrive/ICBHI_final_database/augmented_audio/COPD_176_1b4_Ll_mc_AKGC417L.wav\n",
            "COPD_176_1b4_Pl_mc_AKGC417L.wav\n",
            "Copied COPD_176_1b4_Pl_mc_AKGC417L.wav to /content/drive/MyDrive/ICBHI_final_database/augmented_audio/COPD_176_1b4_Pl_mc_AKGC417L.wav\n",
            "COPD_176_2b3_Al_mc_AKGC417L.wav\n",
            "Copied COPD_176_2b3_Al_mc_AKGC417L.wav to /content/drive/MyDrive/ICBHI_final_database/augmented_audio/COPD_176_2b3_Al_mc_AKGC417L.wav\n",
            "COPD_176_2b3_Ar_mc_AKGC417L.wav\n",
            "Copied COPD_176_2b3_Ar_mc_AKGC417L.wav to /content/drive/MyDrive/ICBHI_final_database/augmented_audio/COPD_176_2b3_Ar_mc_AKGC417L.wav\n",
            "COPD_176_2b3_Tc_mc_AKGC417L.wav\n",
            "Copied COPD_176_2b3_Tc_mc_AKGC417L.wav to /content/drive/MyDrive/ICBHI_final_database/augmented_audio/COPD_176_2b3_Tc_mc_AKGC417L.wav\n",
            "COPD_177_1b2_Lr_mc_AKGC417L.wav\n",
            "Copied COPD_177_1b2_Lr_mc_AKGC417L.wav to /content/drive/MyDrive/ICBHI_final_database/augmented_audio/COPD_177_1b2_Lr_mc_AKGC417L.wav\n",
            "COPD_177_1b4_Al_mc_AKGC417L.wav\n",
            "Copied COPD_177_1b4_Al_mc_AKGC417L.wav to /content/drive/MyDrive/ICBHI_final_database/augmented_audio/COPD_177_1b4_Al_mc_AKGC417L.wav\n",
            "COPD_177_1b4_Pl_mc_AKGC417L.wav\n",
            "Copied COPD_177_1b4_Pl_mc_AKGC417L.wav to /content/drive/MyDrive/ICBHI_final_database/augmented_audio/COPD_177_1b4_Pl_mc_AKGC417L.wav\n",
            "COPD_177_1b4_Pr_mc_AKGC417L.wav\n",
            "Copied COPD_177_1b4_Pr_mc_AKGC417L.wav to /content/drive/MyDrive/ICBHI_final_database/augmented_audio/COPD_177_1b4_Pr_mc_AKGC417L.wav\n",
            "COPD_177_2b4_Al_mc_AKGC417L.wav\n",
            "Copied COPD_177_2b4_Al_mc_AKGC417L.wav to /content/drive/MyDrive/ICBHI_final_database/augmented_audio/COPD_177_2b4_Al_mc_AKGC417L.wav\n",
            "COPD_177_2b4_Lr_mc_AKGC417L.wav\n",
            "Copied COPD_177_2b4_Lr_mc_AKGC417L.wav to /content/drive/MyDrive/ICBHI_final_database/augmented_audio/COPD_177_2b4_Lr_mc_AKGC417L.wav\n",
            "COPD_177_2b4_Pl_mc_AKGC417L.wav\n",
            "Copied COPD_177_2b4_Pl_mc_AKGC417L.wav to /content/drive/MyDrive/ICBHI_final_database/augmented_audio/COPD_177_2b4_Pl_mc_AKGC417L.wav\n",
            "COPD_177_2b4_Pr_mc_AKGC417L.wav\n",
            "Copied COPD_177_2b4_Pr_mc_AKGC417L.wav to /content/drive/MyDrive/ICBHI_final_database/augmented_audio/COPD_177_2b4_Pr_mc_AKGC417L.wav\n",
            "COPD_177_2b4_Tc_mc_AKGC417L.wav\n",
            "Copied COPD_177_2b4_Tc_mc_AKGC417L.wav to /content/drive/MyDrive/ICBHI_final_database/augmented_audio/COPD_177_2b4_Tc_mc_AKGC417L.wav\n",
            "COPD_178_1b2_Ar_mc_AKGC417L.wav\n",
            "Copied COPD_178_1b2_Ar_mc_AKGC417L.wav to /content/drive/MyDrive/ICBHI_final_database/augmented_audio/COPD_178_1b2_Ar_mc_AKGC417L.wav\n",
            "COPD_178_1b2_Pr_mc_AKGC417L.wav\n",
            "Copied COPD_178_1b2_Pr_mc_AKGC417L.wav to /content/drive/MyDrive/ICBHI_final_database/augmented_audio/COPD_178_1b2_Pr_mc_AKGC417L.wav\n",
            "COPD_178_1b3_Al_mc_AKGC417L.wav\n",
            "Copied COPD_178_1b3_Al_mc_AKGC417L.wav to /content/drive/MyDrive/ICBHI_final_database/augmented_audio/COPD_178_1b3_Al_mc_AKGC417L.wav\n",
            "COPD_178_1b3_Lr_mc_AKGC417L.wav\n",
            "Copied COPD_178_1b3_Lr_mc_AKGC417L.wav to /content/drive/MyDrive/ICBHI_final_database/augmented_audio/COPD_178_1b3_Lr_mc_AKGC417L.wav\n",
            "COPD_178_1b3_Pl_mc_AKGC417L.wav\n",
            "Copied COPD_178_1b3_Pl_mc_AKGC417L.wav to /content/drive/MyDrive/ICBHI_final_database/augmented_audio/COPD_178_1b3_Pl_mc_AKGC417L.wav\n",
            "COPD_178_1b3_Pr_mc_AKGC417L.wav\n",
            "Copied COPD_178_1b3_Pr_mc_AKGC417L.wav to /content/drive/MyDrive/ICBHI_final_database/augmented_audio/COPD_178_1b3_Pr_mc_AKGC417L.wav\n",
            "COPD_178_1b3_Tc_mc_AKGC417L.wav\n",
            "Copied COPD_178_1b3_Tc_mc_AKGC417L.wav to /content/drive/MyDrive/ICBHI_final_database/augmented_audio/COPD_178_1b3_Tc_mc_AKGC417L.wav\n",
            "COPD_178_1b6_Al_mc_AKGC417L.wav\n",
            "Copied COPD_178_1b6_Al_mc_AKGC417L.wav to /content/drive/MyDrive/ICBHI_final_database/augmented_audio/COPD_178_1b6_Al_mc_AKGC417L.wav\n",
            "COPD_178_1b6_Ar_mc_AKGC417L.wav\n",
            "Copied COPD_178_1b6_Ar_mc_AKGC417L.wav to /content/drive/MyDrive/ICBHI_final_database/augmented_audio/COPD_178_1b6_Ar_mc_AKGC417L.wav\n",
            "COPD_178_1b6_Lr_mc_AKGC417L.wav\n",
            "Copied COPD_178_1b6_Lr_mc_AKGC417L.wav to /content/drive/MyDrive/ICBHI_final_database/augmented_audio/COPD_178_1b6_Lr_mc_AKGC417L.wav\n",
            "COPD_178_2b2_Lr_mc_AKGC417L.wav\n",
            "Copied COPD_178_2b2_Lr_mc_AKGC417L.wav to /content/drive/MyDrive/ICBHI_final_database/augmented_audio/COPD_178_2b2_Lr_mc_AKGC417L.wav\n",
            "COPD_179_1b1_Al_sc_Meditron.wav\n",
            "Copied COPD_179_1b1_Al_sc_Meditron.wav to /content/drive/MyDrive/ICBHI_final_database/augmented_audio/COPD_179_1b1_Al_sc_Meditron.wav\n",
            "COPD_179_1b1_Tc_sc_Meditron.wav\n",
            "Copied COPD_179_1b1_Tc_sc_Meditron.wav to /content/drive/MyDrive/ICBHI_final_database/augmented_audio/COPD_179_1b1_Tc_sc_Meditron.wav\n",
            "COPD_180_1b4_Al_mc_AKGC417L.wav\n",
            "Copied COPD_180_1b4_Al_mc_AKGC417L.wav to /content/drive/MyDrive/ICBHI_final_database/augmented_audio/COPD_180_1b4_Al_mc_AKGC417L.wav\n",
            "COPD_180_1b4_Ar_mc_AKGC417L.wav\n",
            "Copied COPD_180_1b4_Ar_mc_AKGC417L.wav to /content/drive/MyDrive/ICBHI_final_database/augmented_audio/COPD_180_1b4_Ar_mc_AKGC417L.wav\n",
            "COPD_180_1b4_Lr_mc_AKGC417L.wav\n",
            "Copied COPD_180_1b4_Lr_mc_AKGC417L.wav to /content/drive/MyDrive/ICBHI_final_database/augmented_audio/COPD_180_1b4_Lr_mc_AKGC417L.wav\n",
            "COPD_180_1b4_Pl_mc_AKGC417L.wav\n",
            "Copied COPD_180_1b4_Pl_mc_AKGC417L.wav to /content/drive/MyDrive/ICBHI_final_database/augmented_audio/COPD_180_1b4_Pl_mc_AKGC417L.wav\n",
            "COPD_180_1b4_Pr_mc_AKGC417L.wav\n",
            "Copied COPD_180_1b4_Pr_mc_AKGC417L.wav to /content/drive/MyDrive/ICBHI_final_database/augmented_audio/COPD_180_1b4_Pr_mc_AKGC417L.wav\n",
            "COPD_183_1b1_Tc_sc_Meditron.wav\n",
            "Copied COPD_183_1b1_Tc_sc_Meditron.wav to /content/drive/MyDrive/ICBHI_final_database/augmented_audio/COPD_183_1b1_Tc_sc_Meditron.wav\n",
            "COPD_185_1b1_Pr_sc_Litt3200.wav\n",
            "Copied COPD_185_1b1_Pr_sc_Litt3200.wav to /content/drive/MyDrive/ICBHI_final_database/augmented_audio/COPD_185_1b1_Pr_sc_Litt3200.wav\n",
            "COPD_186_2b2_Al_mc_AKGC417L.wav\n",
            "Copied COPD_186_2b2_Al_mc_AKGC417L.wav to /content/drive/MyDrive/ICBHI_final_database/augmented_audio/COPD_186_2b2_Al_mc_AKGC417L.wav\n",
            "COPD_186_2b2_Lr_mc_AKGC417L.wav\n",
            "Copied COPD_186_2b2_Lr_mc_AKGC417L.wav to /content/drive/MyDrive/ICBHI_final_database/augmented_audio/COPD_186_2b2_Lr_mc_AKGC417L.wav\n",
            "COPD_186_2b2_Pl_mc_AKGC417L.wav\n",
            "Copied COPD_186_2b2_Pl_mc_AKGC417L.wav to /content/drive/MyDrive/ICBHI_final_database/augmented_audio/COPD_186_2b2_Pl_mc_AKGC417L.wav\n",
            "COPD_186_2b2_Pr_mc_AKGC417L.wav\n",
            "Copied COPD_186_2b2_Pr_mc_AKGC417L.wav to /content/drive/MyDrive/ICBHI_final_database/augmented_audio/COPD_186_2b2_Pr_mc_AKGC417L.wav\n",
            "COPD_186_2b2_Tc_mc_AKGC417L.wav\n",
            "Copied COPD_186_2b2_Tc_mc_AKGC417L.wav to /content/drive/MyDrive/ICBHI_final_database/augmented_audio/COPD_186_2b2_Tc_mc_AKGC417L.wav\n",
            "COPD_186_2b3_Pl_mc_AKGC417L.wav\n",
            "Copied COPD_186_2b3_Pl_mc_AKGC417L.wav to /content/drive/MyDrive/ICBHI_final_database/augmented_audio/COPD_186_2b3_Pl_mc_AKGC417L.wav\n",
            "COPD_186_2b3_Tc_mc_AKGC417L.wav\n",
            "Copied COPD_186_2b3_Tc_mc_AKGC417L.wav to /content/drive/MyDrive/ICBHI_final_database/augmented_audio/COPD_186_2b3_Tc_mc_AKGC417L.wav\n",
            "COPD_186_2b4_Ar_mc_AKGC417L.wav\n",
            "Copied COPD_186_2b4_Ar_mc_AKGC417L.wav to /content/drive/MyDrive/ICBHI_final_database/augmented_audio/COPD_186_2b4_Ar_mc_AKGC417L.wav\n",
            "COPD_186_2b4_Pl_mc_AKGC417L.wav\n",
            "Copied COPD_186_2b4_Pl_mc_AKGC417L.wav to /content/drive/MyDrive/ICBHI_final_database/augmented_audio/COPD_186_2b4_Pl_mc_AKGC417L.wav\n",
            "COPD_186_2b4_Pr_mc_AKGC417L.wav\n",
            "Copied COPD_186_2b4_Pr_mc_AKGC417L.wav to /content/drive/MyDrive/ICBHI_final_database/augmented_audio/COPD_186_2b4_Pr_mc_AKGC417L.wav\n",
            "COPD_186_2b4_Tc_mc_AKGC417L.wav\n",
            "Copied COPD_186_2b4_Tc_mc_AKGC417L.wav to /content/drive/MyDrive/ICBHI_final_database/augmented_audio/COPD_186_2b4_Tc_mc_AKGC417L.wav\n",
            "COPD_188_1b1_Al_sc_Meditron.wav\n",
            "Copied COPD_188_1b1_Al_sc_Meditron.wav to /content/drive/MyDrive/ICBHI_final_database/augmented_audio/COPD_188_1b1_Al_sc_Meditron.wav\n",
            "COPD_188_1b1_Ar_sc_Meditron.wav\n",
            "Copied COPD_188_1b1_Ar_sc_Meditron.wav to /content/drive/MyDrive/ICBHI_final_database/augmented_audio/COPD_188_1b1_Ar_sc_Meditron.wav\n",
            "COPD_188_1b1_Pl_sc_Meditron.wav\n",
            "Copied COPD_188_1b1_Pl_sc_Meditron.wav to /content/drive/MyDrive/ICBHI_final_database/augmented_audio/COPD_188_1b1_Pl_sc_Meditron.wav\n",
            "COPD_189_1b2_Lr_mc_LittC2SE.wav\n",
            "Copied COPD_189_1b2_Lr_mc_LittC2SE.wav to /content/drive/MyDrive/ICBHI_final_database/augmented_audio/COPD_189_1b2_Lr_mc_LittC2SE.wav\n",
            "COPD_190_1b1_Tc_sc_Meditron.wav\n",
            "Copied COPD_190_1b1_Tc_sc_Meditron.wav to /content/drive/MyDrive/ICBHI_final_database/augmented_audio/COPD_190_1b1_Tc_sc_Meditron.wav\n",
            "COPD_191_2b1_Pl_mc_LittC2SE.wav\n",
            "Copied COPD_191_2b1_Pl_mc_LittC2SE.wav to /content/drive/MyDrive/ICBHI_final_database/augmented_audio/COPD_191_2b1_Pl_mc_LittC2SE.wav\n",
            "COPD_192_2b1_Ar_mc_LittC2SE.wav\n",
            "Copied COPD_192_2b1_Ar_mc_LittC2SE.wav to /content/drive/MyDrive/ICBHI_final_database/augmented_audio/COPD_192_2b1_Ar_mc_LittC2SE.wav\n",
            "COPD_192_2b2_Al_mc_LittC2SE.wav\n",
            "Copied COPD_192_2b2_Al_mc_LittC2SE.wav to /content/drive/MyDrive/ICBHI_final_database/augmented_audio/COPD_192_2b2_Al_mc_LittC2SE.wav\n",
            "COPD_192_2b3_Al_mc_LittC2SE.wav\n",
            "Copied COPD_192_2b3_Al_mc_LittC2SE.wav to /content/drive/MyDrive/ICBHI_final_database/augmented_audio/COPD_192_2b3_Al_mc_LittC2SE.wav\n",
            "COPD_192_2b3_Ar_mc_LittC2SE.wav\n",
            "Copied COPD_192_2b3_Ar_mc_LittC2SE.wav to /content/drive/MyDrive/ICBHI_final_database/augmented_audio/COPD_192_2b3_Ar_mc_LittC2SE.wav\n",
            "COPD_193_1b2_Al_mc_AKGC417L.wav\n",
            "Copied COPD_193_1b2_Al_mc_AKGC417L.wav to /content/drive/MyDrive/ICBHI_final_database/augmented_audio/COPD_193_1b2_Al_mc_AKGC417L.wav\n",
            "COPD_193_1b2_Pl_mc_AKGC417L.wav\n",
            "Copied COPD_193_1b2_Pl_mc_AKGC417L.wav to /content/drive/MyDrive/ICBHI_final_database/augmented_audio/COPD_193_1b2_Pl_mc_AKGC417L.wav\n",
            "COPD_193_1b2_Pr_mc_AKGC417L.wav\n",
            "Copied COPD_193_1b2_Pr_mc_AKGC417L.wav to /content/drive/MyDrive/ICBHI_final_database/augmented_audio/COPD_193_1b2_Pr_mc_AKGC417L.wav\n",
            "COPD_193_7b3_Pl_mc_AKGC417L.wav\n",
            "Copied COPD_193_7b3_Pl_mc_AKGC417L.wav to /content/drive/MyDrive/ICBHI_final_database/augmented_audio/COPD_193_7b3_Pl_mc_AKGC417L.wav\n",
            "COPD_193_7b3_Tc_mc_AKGC417L.wav\n",
            "Copied COPD_193_7b3_Tc_mc_AKGC417L.wav to /content/drive/MyDrive/ICBHI_final_database/augmented_audio/COPD_193_7b3_Tc_mc_AKGC417L.wav\n",
            "COPD_194_1b1_Pr_sc_Meditron.wav\n",
            "Copied COPD_194_1b1_Pr_sc_Meditron.wav to /content/drive/MyDrive/ICBHI_final_database/augmented_audio/COPD_194_1b1_Pr_sc_Meditron.wav\n",
            "COPD_195_1b1_Al_sc_Litt3200.wav\n",
            "Copied COPD_195_1b1_Al_sc_Litt3200.wav to /content/drive/MyDrive/ICBHI_final_database/augmented_audio/COPD_195_1b1_Al_sc_Litt3200.wav\n",
            "COPD_195_1b1_Ar_sc_Litt3200.wav\n",
            "Copied COPD_195_1b1_Ar_sc_Litt3200.wav to /content/drive/MyDrive/ICBHI_final_database/augmented_audio/COPD_195_1b1_Ar_sc_Litt3200.wav\n",
            "COPD_195_1b1_Ll_sc_Litt3200.wav\n",
            "Copied COPD_195_1b1_Ll_sc_Litt3200.wav to /content/drive/MyDrive/ICBHI_final_database/augmented_audio/COPD_195_1b1_Ll_sc_Litt3200.wav\n",
            "COPD_195_1b1_Lr_sc_Litt3200.wav\n",
            "Copied COPD_195_1b1_Lr_sc_Litt3200.wav to /content/drive/MyDrive/ICBHI_final_database/augmented_audio/COPD_195_1b1_Lr_sc_Litt3200.wav\n",
            "COPD_195_1b1_Pr_sc_Litt3200.wav\n",
            "Copied COPD_195_1b1_Pr_sc_Litt3200.wav to /content/drive/MyDrive/ICBHI_final_database/augmented_audio/COPD_195_1b1_Pr_sc_Litt3200.wav\n",
            "COPD_196_1b1_Pr_sc_Meditron.wav\n",
            "Copied COPD_196_1b1_Pr_sc_Meditron.wav to /content/drive/MyDrive/ICBHI_final_database/augmented_audio/COPD_196_1b1_Pr_sc_Meditron.wav\n",
            "COPD_197_1b1_Al_sc_Meditron.wav\n",
            "Copied COPD_197_1b1_Al_sc_Meditron.wav to /content/drive/MyDrive/ICBHI_final_database/augmented_audio/COPD_197_1b1_Al_sc_Meditron.wav\n",
            "COPD_197_1b1_Tc_sc_Meditron.wav\n",
            "Copied COPD_197_1b1_Tc_sc_Meditron.wav to /content/drive/MyDrive/ICBHI_final_database/augmented_audio/COPD_197_1b1_Tc_sc_Meditron.wav\n",
            "COPD_198_1b5_Al_mc_AKGC417L.wav\n",
            "Copied COPD_198_1b5_Al_mc_AKGC417L.wav to /content/drive/MyDrive/ICBHI_final_database/augmented_audio/COPD_198_1b5_Al_mc_AKGC417L.wav\n",
            "COPD_198_1b5_Ar_mc_AKGC417L.wav\n",
            "Copied COPD_198_1b5_Ar_mc_AKGC417L.wav to /content/drive/MyDrive/ICBHI_final_database/augmented_audio/COPD_198_1b5_Ar_mc_AKGC417L.wav\n",
            "COPD_198_1b5_Ll_mc_AKGC417L.wav\n",
            "Copied COPD_198_1b5_Ll_mc_AKGC417L.wav to /content/drive/MyDrive/ICBHI_final_database/augmented_audio/COPD_198_1b5_Ll_mc_AKGC417L.wav\n",
            "COPD_198_6p1_Ar_mc_AKGC417L.wav\n",
            "Copied COPD_198_6p1_Ar_mc_AKGC417L.wav to /content/drive/MyDrive/ICBHI_final_database/augmented_audio/COPD_198_6p1_Ar_mc_AKGC417L.wav\n",
            "COPD_198_6p1_Lr_mc_AKGC417L.wav\n",
            "Copied COPD_198_6p1_Lr_mc_AKGC417L.wav to /content/drive/MyDrive/ICBHI_final_database/augmented_audio/COPD_198_6p1_Lr_mc_AKGC417L.wav\n",
            "COPD_198_6p1_Pr_mc_AKGC417L.wav\n",
            "Copied COPD_198_6p1_Pr_mc_AKGC417L.wav to /content/drive/MyDrive/ICBHI_final_database/augmented_audio/COPD_198_6p1_Pr_mc_AKGC417L.wav\n",
            "COPD_198_6p1_Tc_mc_AKGC417L.wav\n",
            "Copied COPD_198_6p1_Tc_mc_AKGC417L.wav to /content/drive/MyDrive/ICBHI_final_database/augmented_audio/COPD_198_6p1_Tc_mc_AKGC417L.wav\n",
            "COPD_199_2b1_Ll_mc_LittC2SE.wav\n",
            "Copied COPD_199_2b1_Ll_mc_LittC2SE.wav to /content/drive/MyDrive/ICBHI_final_database/augmented_audio/COPD_199_2b1_Ll_mc_LittC2SE.wav\n",
            "COPD_200_2p2_Lr_mc_AKGC417L.wav\n",
            "Copied COPD_200_2p2_Lr_mc_AKGC417L.wav to /content/drive/MyDrive/ICBHI_final_database/augmented_audio/COPD_200_2p2_Lr_mc_AKGC417L.wav\n",
            "COPD_200_2p2_Pr_mc_AKGC417L.wav\n",
            "Copied COPD_200_2p2_Pr_mc_AKGC417L.wav to /content/drive/MyDrive/ICBHI_final_database/augmented_audio/COPD_200_2p2_Pr_mc_AKGC417L.wav\n",
            "COPD_200_2p3_Lr_mc_AKGC417L.wav\n",
            "Copied COPD_200_2p3_Lr_mc_AKGC417L.wav to /content/drive/MyDrive/ICBHI_final_database/augmented_audio/COPD_200_2p3_Lr_mc_AKGC417L.wav\n",
            "COPD_200_2p3_Pr_mc_AKGC417L.wav\n",
            "Copied COPD_200_2p3_Pr_mc_AKGC417L.wav to /content/drive/MyDrive/ICBHI_final_database/augmented_audio/COPD_200_2p3_Pr_mc_AKGC417L.wav\n",
            "COPD_200_2p3_Tc_mc_AKGC417L.wav\n",
            "Copied COPD_200_2p3_Tc_mc_AKGC417L.wav to /content/drive/MyDrive/ICBHI_final_database/augmented_audio/COPD_200_2p3_Tc_mc_AKGC417L.wav\n",
            "COPD_200_2p4_Lr_mc_AKGC417L.wav\n",
            "Copied COPD_200_2p4_Lr_mc_AKGC417L.wav to /content/drive/MyDrive/ICBHI_final_database/augmented_audio/COPD_200_2p4_Lr_mc_AKGC417L.wav\n",
            "COPD_200_2p4_Pr_mc_AKGC417L.wav\n",
            "Copied COPD_200_2p4_Pr_mc_AKGC417L.wav to /content/drive/MyDrive/ICBHI_final_database/augmented_audio/COPD_200_2p4_Pr_mc_AKGC417L.wav\n",
            "COPD_200_2p4_Tc_mc_AKGC417L.wav\n",
            "Copied COPD_200_2p4_Tc_mc_AKGC417L.wav to /content/drive/MyDrive/ICBHI_final_database/augmented_audio/COPD_200_2p4_Tc_mc_AKGC417L.wav\n",
            "COPD_200_3p4_Pl_mc_AKGC417L.wav\n",
            "Copied COPD_200_3p4_Pl_mc_AKGC417L.wav to /content/drive/MyDrive/ICBHI_final_database/augmented_audio/COPD_200_3p4_Pl_mc_AKGC417L.wav\n",
            "COPD_200_3p4_Pr_mc_AKGC417L.wav\n",
            "Copied COPD_200_3p4_Pr_mc_AKGC417L.wav to /content/drive/MyDrive/ICBHI_final_database/augmented_audio/COPD_200_3p4_Pr_mc_AKGC417L.wav\n",
            "COPD_201_1b1_Al_sc_Meditron.wav\n",
            "Copied COPD_201_1b1_Al_sc_Meditron.wav to /content/drive/MyDrive/ICBHI_final_database/augmented_audio/COPD_201_1b1_Al_sc_Meditron.wav\n",
            "COPD_201_1b1_Ar_sc_Meditron.wav\n",
            "Copied COPD_201_1b1_Ar_sc_Meditron.wav to /content/drive/MyDrive/ICBHI_final_database/augmented_audio/COPD_201_1b1_Ar_sc_Meditron.wav\n",
            "COPD_201_1b2_Al_sc_Meditron.wav\n",
            "Copied COPD_201_1b2_Al_sc_Meditron.wav to /content/drive/MyDrive/ICBHI_final_database/augmented_audio/COPD_201_1b2_Al_sc_Meditron.wav\n",
            "COPD_201_1b2_Ar_sc_Meditron.wav\n",
            "Copied COPD_201_1b2_Ar_sc_Meditron.wav to /content/drive/MyDrive/ICBHI_final_database/augmented_audio/COPD_201_1b2_Ar_sc_Meditron.wav\n",
            "COPD_201_1b3_Al_sc_Meditron.wav\n",
            "Copied COPD_201_1b3_Al_sc_Meditron.wav to /content/drive/MyDrive/ICBHI_final_database/augmented_audio/COPD_201_1b3_Al_sc_Meditron.wav\n",
            "COPD_202_1b1_Ar_sc_Meditron.wav\n",
            "Copied COPD_202_1b1_Ar_sc_Meditron.wav to /content/drive/MyDrive/ICBHI_final_database/augmented_audio/COPD_202_1b1_Ar_sc_Meditron.wav\n",
            "COPD_203_1p2_Ar_mc_AKGC417L.wav\n",
            "Copied COPD_203_1p2_Ar_mc_AKGC417L.wav to /content/drive/MyDrive/ICBHI_final_database/augmented_audio/COPD_203_1p2_Ar_mc_AKGC417L.wav\n",
            "COPD_203_1p3_Al_mc_AKGC417L.wav\n",
            "Copied COPD_203_1p3_Al_mc_AKGC417L.wav to /content/drive/MyDrive/ICBHI_final_database/augmented_audio/COPD_203_1p3_Al_mc_AKGC417L.wav\n",
            "COPD_203_1p3_Pr_mc_AKGC417L.wav\n",
            "Copied COPD_203_1p3_Pr_mc_AKGC417L.wav to /content/drive/MyDrive/ICBHI_final_database/augmented_audio/COPD_203_1p3_Pr_mc_AKGC417L.wav\n",
            "COPD_203_1p3_Tc_mc_AKGC417L.wav\n",
            "Copied COPD_203_1p3_Tc_mc_AKGC417L.wav to /content/drive/MyDrive/ICBHI_final_database/augmented_audio/COPD_203_1p3_Tc_mc_AKGC417L.wav\n",
            "COPD_203_1p4_Al_mc_AKGC417L.wav\n",
            "Copied COPD_203_1p4_Al_mc_AKGC417L.wav to /content/drive/MyDrive/ICBHI_final_database/augmented_audio/COPD_203_1p4_Al_mc_AKGC417L.wav\n",
            "COPD_203_1p4_Ar_mc_AKGC417L.wav\n",
            "Copied COPD_203_1p4_Ar_mc_AKGC417L.wav to /content/drive/MyDrive/ICBHI_final_database/augmented_audio/COPD_203_1p4_Ar_mc_AKGC417L.wav\n",
            "COPD_203_1p4_Tc_mc_AKGC417L.wav\n",
            "Copied COPD_203_1p4_Tc_mc_AKGC417L.wav to /content/drive/MyDrive/ICBHI_final_database/augmented_audio/COPD_203_1p4_Tc_mc_AKGC417L.wav\n",
            "COPD_203_2p3_Al_mc_AKGC417L.wav\n",
            "Copied COPD_203_2p3_Al_mc_AKGC417L.wav to /content/drive/MyDrive/ICBHI_final_database/augmented_audio/COPD_203_2p3_Al_mc_AKGC417L.wav\n",
            "COPD_203_2p3_Ar_mc_AKGC417L.wav\n",
            "Copied COPD_203_2p3_Ar_mc_AKGC417L.wav to /content/drive/MyDrive/ICBHI_final_database/augmented_audio/COPD_203_2p3_Ar_mc_AKGC417L.wav\n",
            "COPD_203_2p3_Pl_mc_AKGC417L.wav\n",
            "Copied COPD_203_2p3_Pl_mc_AKGC417L.wav to /content/drive/MyDrive/ICBHI_final_database/augmented_audio/COPD_203_2p3_Pl_mc_AKGC417L.wav\n",
            "COPD_203_2p3_Pr_mc_AKGC417L.wav\n",
            "Copied COPD_203_2p3_Pr_mc_AKGC417L.wav to /content/drive/MyDrive/ICBHI_final_database/augmented_audio/COPD_203_2p3_Pr_mc_AKGC417L.wav\n",
            "COPD_203_2p3_Tc_mc_AKGC417L.wav\n",
            "Copied COPD_203_2p3_Tc_mc_AKGC417L.wav to /content/drive/MyDrive/ICBHI_final_database/augmented_audio/COPD_203_2p3_Tc_mc_AKGC417L.wav\n"
          ]
        }
      ]
    },
    {
      "cell_type": "markdown",
      "source": [
        "## Audio Embeddings"
      ],
      "metadata": {
        "id": "TAVzu9qWHGNM"
      }
    },
    {
      "cell_type": "code",
      "source": [
        "import os"
      ],
      "metadata": {
        "id": "yRXl965NxgKW"
      },
      "execution_count": null,
      "outputs": []
    },
    {
      "cell_type": "code",
      "execution_count": null,
      "metadata": {
        "colab": {
          "base_uri": "https://localhost:8080/"
        },
        "id": "dC22O13UKRpI",
        "outputId": "021e7a59-35ad-4ccf-b860-985022a93790"
      },
      "outputs": [
        {
          "output_type": "stream",
          "name": "stderr",
          "text": [
            "/usr/local/lib/python3.11/dist-packages/huggingface_hub/utils/_auth.py:94: UserWarning: \n",
            "The secret `HF_TOKEN` does not exist in your Colab secrets.\n",
            "To authenticate with the Hugging Face Hub, create a token in your settings tab (https://huggingface.co/settings/tokens), set it as secret in your Google Colab and restart your session.\n",
            "You will be able to reuse this secret in all of your notebooks.\n",
            "Please note that authentication is recommended but still optional to access public models or datasets.\n",
            "  warnings.warn(\n",
            "Some weights of Wav2Vec2Model were not initialized from the model checkpoint at facebook/wav2vec2-base-960h and are newly initialized: ['masked_spec_embed']\n",
            "You should probably TRAIN this model on a down-stream task to be able to use it for predictions and inference.\n"
          ]
        }
      ],
      "source": [
        "processor = Wav2Vec2Processor.from_pretrained(\"facebook/wav2vec2-base-960h\")\n",
        "wav2vec_model = Wav2Vec2Model.from_pretrained(\"facebook/wav2vec2-base-960h\")"
      ]
    },
    {
      "cell_type": "code",
      "execution_count": null,
      "metadata": {
        "id": "7xDiUsuKUPSf",
        "colab": {
          "base_uri": "https://localhost:8080/"
        },
        "outputId": "7c38cb45-3634-4b62-db87-c4a0bbd84f1c"
      },
      "outputs": [
        {
          "output_type": "stream",
          "name": "stderr",
          "text": [
            "Some weights of Wav2Vec2Model were not initialized from the model checkpoint at facebook/wav2vec2-base-960h and are newly initialized: ['masked_spec_embed']\n",
            "You should probably TRAIN this model on a down-stream task to be able to use it for predictions and inference.\n"
          ]
        }
      ],
      "source": [
        "import os\n",
        "import pandas as pd\n",
        "import torch\n",
        "import torchaudio\n",
        "from transformers import Wav2Vec2Processor, Wav2Vec2Model\n",
        "from tqdm import tqdm\n",
        "\n",
        "# Configuration\n",
        "AUDIO_DIR = \"/content/drive/MyDrive/ICBHI_final_database/augmented_audio\"\n",
        "DEVICE = \"cuda\" if torch.cuda.is_available() else \"cpu\"\n",
        "SAMPLE_RATE = 16000  # Wav2Vec expects 16kHz audio\n",
        "\n",
        "# Initialize Wav2Vec model\n",
        "processor = Wav2Vec2Processor.from_pretrained(\"facebook/wav2vec2-base-960h\")\n",
        "model = Wav2Vec2Model.from_pretrained(\"facebook/wav2vec2-base-960h\").to(DEVICE)\n",
        "\n",
        "def extract_label_from_filename(filename):\n",
        "    \"\"\"Extract class label from filename (part before first underscore)\"\"\"\n",
        "    return filename.split('_')[0]\n",
        "\n",
        "def load_and_resample_audio(filepath, target_sample_rate=SAMPLE_RATE):\n",
        "    \"\"\"Load audio file and resample to target rate\"\"\"\n",
        "    waveform, sample_rate = torchaudio.load(filepath)\n",
        "    if sample_rate != target_sample_rate:\n",
        "        resampler = torchaudio.transforms.Resample(sample_rate, target_sample_rate)\n",
        "        waveform = resampler(waveform)\n",
        "    return waveform.squeeze(), target_sample_rate\n",
        "\n",
        "def get_wav2vec_embedding(waveform, sample_rate):\n",
        "    \"\"\"Generate Wav2Vec embedding for audio waveform\"\"\"\n",
        "    # Process the audio\n",
        "    inputs = processor(waveform, sampling_rate=sample_rate, return_tensors=\"pt\", padding=True)\n",
        "\n",
        "    # Move to device and get embeddings\n",
        "    with torch.no_grad():\n",
        "        inputs = {k: v.to(DEVICE) for k, v in inputs.items()}\n",
        "        outputs = model(**inputs)\n",
        "\n",
        "    # Use last hidden state as embedding (mean across time dimension)\n",
        "    embedding = outputs.last_hidden_state.mean(dim=1).squeeze().cpu().numpy()\n",
        "    return embedding\n",
        "\n",
        "def process_audio_folder(folder_path):\n",
        "    \"\"\"Process all audio files in folder and return DataFrame with embeddings\"\"\"\n",
        "    data = []\n",
        "\n",
        "    # Get all audio files in folder\n",
        "    audio_files = [f for f in os.listdir(folder_path) if f.endswith(('.wav', '.mp3', '.flac'))]\n",
        "\n",
        "    for filename in tqdm(audio_files, desc=\"Processing audio files\"):\n",
        "        try:\n",
        "            # Extract label from filename\n",
        "            label = extract_label_from_filename(filename)\n",
        "\n",
        "            # Load and resample audio\n",
        "            filepath = os.path.join(folder_path, filename)\n",
        "            waveform, sample_rate = load_and_resample_audio(filepath)\n",
        "\n",
        "            # Get embedding\n",
        "            embedding = get_wav2vec_embedding(waveform, sample_rate)\n",
        "\n",
        "            # Store results\n",
        "            data.append({\n",
        "                'filename': filename,\n",
        "                'label': label,\n",
        "                'embedding': embedding\n",
        "            })\n",
        "\n",
        "        except Exception as e:\n",
        "            print(f\"Error processing {filename}: {str(e)}\")\n",
        "            continue\n",
        "\n",
        "    # Create DataFrame\n",
        "    df = pd.DataFrame(data)\n",
        "    return df\n",
        "\n",
        "\n"
      ]
    },
    {
      "cell_type": "code",
      "execution_count": null,
      "metadata": {
        "id": "geSjL3FIPVlX",
        "colab": {
          "base_uri": "https://localhost:8080/"
        },
        "outputId": "b144452f-fb3d-4f7e-e89f-7b27ca38532f"
      },
      "outputs": [
        {
          "output_type": "stream",
          "name": "stderr",
          "text": [
            "Processing audio files: 100%|██████████| 6344/6344 [04:45<00:00, 22.24it/s]\n"
          ]
        }
      ],
      "source": [
        "df = process_audio_folder(AUDIO_DIR)"
      ]
    },
    {
      "cell_type": "code",
      "source": [
        "df.head()"
      ],
      "metadata": {
        "id": "5BpBG5Ltqska"
      },
      "execution_count": null,
      "outputs": []
    },
    {
      "cell_type": "code",
      "source": [],
      "metadata": {
        "id": "i5lAkIwa6QtA"
      },
      "execution_count": null,
      "outputs": []
    },
    {
      "cell_type": "code",
      "execution_count": null,
      "metadata": {
        "id": "G9WYoYMCXBVj"
      },
      "outputs": [],
      "source": [
        "import numpy as np\n",
        "import pandas as pd\n",
        "import os"
      ]
    },
    {
      "cell_type": "code",
      "source": [
        "df_audio = df[['label','embedding']]"
      ],
      "metadata": {
        "id": "nZcfYkLq1cE5"
      },
      "execution_count": null,
      "outputs": []
    },
    {
      "cell_type": "code",
      "source": [
        "%pip install audiomentations torchaudio librosa"
      ],
      "metadata": {
        "colab": {
          "base_uri": "https://localhost:8080/",
          "height": 1000
        },
        "collapsed": true,
        "id": "HjLxYJgARn_t",
        "outputId": "897fab3b-df4e-44bc-bdf9-0f382680360b"
      },
      "execution_count": null,
      "outputs": [
        {
          "output_type": "stream",
          "name": "stdout",
          "text": [
            "Collecting audiomentations\n",
            "  Downloading audiomentations-0.40.0-py3-none-any.whl.metadata (11 kB)\n",
            "Requirement already satisfied: torchaudio in /usr/local/lib/python3.11/dist-packages (2.6.0+cu124)\n",
            "Requirement already satisfied: librosa in /usr/local/lib/python3.11/dist-packages (0.11.0)\n",
            "Collecting numpy<2,>=1.22.0 (from audiomentations)\n",
            "  Downloading numpy-1.26.4-cp311-cp311-manylinux_2_17_x86_64.manylinux2014_x86_64.whl.metadata (61 kB)\n",
            "\u001b[2K     \u001b[90m━━━━━━━━━━━━━━━━━━━━━━━━━━━━━━━━━━━━━━━━\u001b[0m \u001b[32m61.0/61.0 kB\u001b[0m \u001b[31m2.5 MB/s\u001b[0m eta \u001b[36m0:00:00\u001b[0m\n",
            "\u001b[?25hCollecting numpy-minmax<1,>=0.3.0 (from audiomentations)\n",
            "  Downloading numpy_minmax-0.4.0-cp311-cp311-manylinux_2_5_x86_64.manylinux1_x86_64.manylinux_2_17_x86_64.manylinux2014_x86_64.whl.metadata (4.2 kB)\n",
            "Collecting numpy-rms<1,>=0.4.2 (from audiomentations)\n",
            "  Downloading numpy_rms-0.5.0-cp311-cp311-manylinux_2_5_x86_64.manylinux1_x86_64.manylinux_2_17_x86_64.manylinux2014_x86_64.whl.metadata (3.5 kB)\n",
            "Collecting librosa\n",
            "  Downloading librosa-0.10.2.post1-py3-none-any.whl.metadata (8.6 kB)\n",
            "Collecting python-stretch<1,>=0.3.1 (from audiomentations)\n",
            "  Downloading python_stretch-0.3.1-cp311-cp311-manylinux_2_17_x86_64.manylinux2014_x86_64.whl.metadata (3.7 kB)\n",
            "Requirement already satisfied: scipy<2,>=1.4 in /usr/local/lib/python3.11/dist-packages (from audiomentations) (1.14.1)\n",
            "Requirement already satisfied: soxr<1.0.0,>=0.3.2 in /usr/local/lib/python3.11/dist-packages (from audiomentations) (0.5.0.post1)\n",
            "Requirement already satisfied: torch==2.6.0 in /usr/local/lib/python3.11/dist-packages (from torchaudio) (2.6.0+cu124)\n",
            "Requirement already satisfied: filelock in /usr/local/lib/python3.11/dist-packages (from torch==2.6.0->torchaudio) (3.18.0)\n",
            "Requirement already satisfied: typing-extensions>=4.10.0 in /usr/local/lib/python3.11/dist-packages (from torch==2.6.0->torchaudio) (4.13.2)\n",
            "Requirement already satisfied: networkx in /usr/local/lib/python3.11/dist-packages (from torch==2.6.0->torchaudio) (3.4.2)\n",
            "Requirement already satisfied: jinja2 in /usr/local/lib/python3.11/dist-packages (from torch==2.6.0->torchaudio) (3.1.6)\n",
            "Requirement already satisfied: fsspec in /usr/local/lib/python3.11/dist-packages (from torch==2.6.0->torchaudio) (2025.3.2)\n",
            "Collecting nvidia-cuda-nvrtc-cu12==12.4.127 (from torch==2.6.0->torchaudio)\n",
            "  Downloading nvidia_cuda_nvrtc_cu12-12.4.127-py3-none-manylinux2014_x86_64.whl.metadata (1.5 kB)\n",
            "Collecting nvidia-cuda-runtime-cu12==12.4.127 (from torch==2.6.0->torchaudio)\n",
            "  Downloading nvidia_cuda_runtime_cu12-12.4.127-py3-none-manylinux2014_x86_64.whl.metadata (1.5 kB)\n",
            "Collecting nvidia-cuda-cupti-cu12==12.4.127 (from torch==2.6.0->torchaudio)\n",
            "  Downloading nvidia_cuda_cupti_cu12-12.4.127-py3-none-manylinux2014_x86_64.whl.metadata (1.6 kB)\n",
            "Collecting nvidia-cudnn-cu12==9.1.0.70 (from torch==2.6.0->torchaudio)\n",
            "  Downloading nvidia_cudnn_cu12-9.1.0.70-py3-none-manylinux2014_x86_64.whl.metadata (1.6 kB)\n",
            "Collecting nvidia-cublas-cu12==12.4.5.8 (from torch==2.6.0->torchaudio)\n",
            "  Downloading nvidia_cublas_cu12-12.4.5.8-py3-none-manylinux2014_x86_64.whl.metadata (1.5 kB)\n",
            "Collecting nvidia-cufft-cu12==11.2.1.3 (from torch==2.6.0->torchaudio)\n",
            "  Downloading nvidia_cufft_cu12-11.2.1.3-py3-none-manylinux2014_x86_64.whl.metadata (1.5 kB)\n",
            "Collecting nvidia-curand-cu12==10.3.5.147 (from torch==2.6.0->torchaudio)\n",
            "  Downloading nvidia_curand_cu12-10.3.5.147-py3-none-manylinux2014_x86_64.whl.metadata (1.5 kB)\n",
            "Collecting nvidia-cusolver-cu12==11.6.1.9 (from torch==2.6.0->torchaudio)\n",
            "  Downloading nvidia_cusolver_cu12-11.6.1.9-py3-none-manylinux2014_x86_64.whl.metadata (1.6 kB)\n",
            "Collecting nvidia-cusparse-cu12==12.3.1.170 (from torch==2.6.0->torchaudio)\n",
            "  Downloading nvidia_cusparse_cu12-12.3.1.170-py3-none-manylinux2014_x86_64.whl.metadata (1.6 kB)\n",
            "Requirement already satisfied: nvidia-cusparselt-cu12==0.6.2 in /usr/local/lib/python3.11/dist-packages (from torch==2.6.0->torchaudio) (0.6.2)\n",
            "Requirement already satisfied: nvidia-nccl-cu12==2.21.5 in /usr/local/lib/python3.11/dist-packages (from torch==2.6.0->torchaudio) (2.21.5)\n",
            "Requirement already satisfied: nvidia-nvtx-cu12==12.4.127 in /usr/local/lib/python3.11/dist-packages (from torch==2.6.0->torchaudio) (12.4.127)\n",
            "Collecting nvidia-nvjitlink-cu12==12.4.127 (from torch==2.6.0->torchaudio)\n",
            "  Downloading nvidia_nvjitlink_cu12-12.4.127-py3-none-manylinux2014_x86_64.whl.metadata (1.5 kB)\n",
            "Requirement already satisfied: triton==3.2.0 in /usr/local/lib/python3.11/dist-packages (from torch==2.6.0->torchaudio) (3.2.0)\n",
            "Requirement already satisfied: sympy==1.13.1 in /usr/local/lib/python3.11/dist-packages (from torch==2.6.0->torchaudio) (1.13.1)\n",
            "Requirement already satisfied: mpmath<1.4,>=1.1.0 in /usr/local/lib/python3.11/dist-packages (from sympy==1.13.1->torch==2.6.0->torchaudio) (1.3.0)\n",
            "Requirement already satisfied: audioread>=2.1.9 in /usr/local/lib/python3.11/dist-packages (from librosa) (3.0.1)\n",
            "Requirement already satisfied: scikit-learn>=0.20.0 in /usr/local/lib/python3.11/dist-packages (from librosa) (1.6.1)\n",
            "Requirement already satisfied: joblib>=0.14 in /usr/local/lib/python3.11/dist-packages (from librosa) (1.4.2)\n",
            "Requirement already satisfied: decorator>=4.3.0 in /usr/local/lib/python3.11/dist-packages (from librosa) (4.4.2)\n",
            "Requirement already satisfied: numba>=0.51.0 in /usr/local/lib/python3.11/dist-packages (from librosa) (0.60.0)\n",
            "Requirement already satisfied: soundfile>=0.12.1 in /usr/local/lib/python3.11/dist-packages (from librosa) (0.13.1)\n",
            "Requirement already satisfied: pooch>=1.1 in /usr/local/lib/python3.11/dist-packages (from librosa) (1.8.2)\n",
            "Requirement already satisfied: lazy-loader>=0.1 in /usr/local/lib/python3.11/dist-packages (from librosa) (0.4)\n",
            "Requirement already satisfied: msgpack>=1.0 in /usr/local/lib/python3.11/dist-packages (from librosa) (1.1.0)\n",
            "Requirement already satisfied: packaging in /usr/local/lib/python3.11/dist-packages (from lazy-loader>=0.1->librosa) (24.2)\n",
            "Requirement already satisfied: llvmlite<0.44,>=0.43.0dev0 in /usr/local/lib/python3.11/dist-packages (from numba>=0.51.0->librosa) (0.43.0)\n",
            "Requirement already satisfied: cffi>=1.0.0 in /usr/local/lib/python3.11/dist-packages (from numpy-minmax<1,>=0.3.0->audiomentations) (1.17.1)\n",
            "INFO: pip is looking at multiple versions of numpy-minmax to determine which version is compatible with other requirements. This could take a while.\n",
            "Collecting numpy-minmax<1,>=0.3.0 (from audiomentations)\n",
            "  Downloading numpy_minmax-0.3.1-cp311-cp311-manylinux_2_5_x86_64.manylinux1_x86_64.manylinux_2_17_x86_64.manylinux2014_x86_64.whl.metadata (4.0 kB)\n",
            "INFO: pip is looking at multiple versions of numpy-rms to determine which version is compatible with other requirements. This could take a while.\n",
            "Collecting numpy-rms<1,>=0.4.2 (from audiomentations)\n",
            "  Downloading numpy_rms-0.4.2-cp311-cp311-manylinux_2_5_x86_64.manylinux1_x86_64.manylinux_2_17_x86_64.manylinux2014_x86_64.whl.metadata (3.5 kB)\n",
            "Requirement already satisfied: platformdirs>=2.5.0 in /usr/local/lib/python3.11/dist-packages (from pooch>=1.1->librosa) (4.3.7)\n",
            "Requirement already satisfied: requests>=2.19.0 in /usr/local/lib/python3.11/dist-packages (from pooch>=1.1->librosa) (2.32.3)\n",
            "Requirement already satisfied: threadpoolctl>=3.1.0 in /usr/local/lib/python3.11/dist-packages (from scikit-learn>=0.20.0->librosa) (3.6.0)\n",
            "Requirement already satisfied: pycparser in /usr/local/lib/python3.11/dist-packages (from cffi>=1.0.0->numpy-minmax<1,>=0.3.0->audiomentations) (2.22)\n",
            "Requirement already satisfied: charset-normalizer<4,>=2 in /usr/local/lib/python3.11/dist-packages (from requests>=2.19.0->pooch>=1.1->librosa) (3.4.1)\n",
            "Requirement already satisfied: idna<4,>=2.5 in /usr/local/lib/python3.11/dist-packages (from requests>=2.19.0->pooch>=1.1->librosa) (3.10)\n",
            "Requirement already satisfied: urllib3<3,>=1.21.1 in /usr/local/lib/python3.11/dist-packages (from requests>=2.19.0->pooch>=1.1->librosa) (2.3.0)\n",
            "Requirement already satisfied: certifi>=2017.4.17 in /usr/local/lib/python3.11/dist-packages (from requests>=2.19.0->pooch>=1.1->librosa) (2025.1.31)\n",
            "Requirement already satisfied: MarkupSafe>=2.0 in /usr/local/lib/python3.11/dist-packages (from jinja2->torch==2.6.0->torchaudio) (3.0.2)\n",
            "Downloading audiomentations-0.40.0-py3-none-any.whl (83 kB)\n",
            "\u001b[2K   \u001b[90m━━━━━━━━━━━━━━━━━━━━━━━━━━━━━━━━━━━━━━━━\u001b[0m \u001b[32m83.6/83.6 kB\u001b[0m \u001b[31m3.8 MB/s\u001b[0m eta \u001b[36m0:00:00\u001b[0m\n",
            "\u001b[?25hDownloading nvidia_cublas_cu12-12.4.5.8-py3-none-manylinux2014_x86_64.whl (363.4 MB)\n",
            "\u001b[2K   \u001b[90m━━━━━━━━━━━━━━━━━━━━━━━━━━━━━━━━━━━━━━━━\u001b[0m \u001b[32m363.4/363.4 MB\u001b[0m \u001b[31m2.2 MB/s\u001b[0m eta \u001b[36m0:00:00\u001b[0m\n",
            "\u001b[?25hDownloading nvidia_cuda_cupti_cu12-12.4.127-py3-none-manylinux2014_x86_64.whl (13.8 MB)\n",
            "\u001b[2K   \u001b[90m━━━━━━━━━━━━━━━━━━━━━━━━━━━━━━━━━━━━━━━━\u001b[0m \u001b[32m13.8/13.8 MB\u001b[0m \u001b[31m117.1 MB/s\u001b[0m eta \u001b[36m0:00:00\u001b[0m\n",
            "\u001b[?25hDownloading nvidia_cuda_nvrtc_cu12-12.4.127-py3-none-manylinux2014_x86_64.whl (24.6 MB)\n",
            "\u001b[2K   \u001b[90m━━━━━━━━━━━━━━━━━━━━━━━━━━━━━━━━━━━━━━━━\u001b[0m \u001b[32m24.6/24.6 MB\u001b[0m \u001b[31m98.8 MB/s\u001b[0m eta \u001b[36m0:00:00\u001b[0m\n",
            "\u001b[?25hDownloading nvidia_cuda_runtime_cu12-12.4.127-py3-none-manylinux2014_x86_64.whl (883 kB)\n",
            "\u001b[2K   \u001b[90m━━━━━━━━━━━━━━━━━━━━━━━━━━━━━━━━━━━━━━━━\u001b[0m \u001b[32m883.7/883.7 kB\u001b[0m \u001b[31m57.4 MB/s\u001b[0m eta \u001b[36m0:00:00\u001b[0m\n",
            "\u001b[?25hDownloading nvidia_cudnn_cu12-9.1.0.70-py3-none-manylinux2014_x86_64.whl (664.8 MB)\n",
            "\u001b[2K   \u001b[90m━━━━━━━━━━━━━━━━━━━━━━━━━━━━━━━━━━━━━━━━\u001b[0m \u001b[32m664.8/664.8 MB\u001b[0m \u001b[31m1.6 MB/s\u001b[0m eta \u001b[36m0:00:00\u001b[0m\n",
            "\u001b[?25hDownloading nvidia_cufft_cu12-11.2.1.3-py3-none-manylinux2014_x86_64.whl (211.5 MB)\n",
            "\u001b[2K   \u001b[90m━━━━━━━━━━━━━━━━━━━━━━━━━━━━━━━━━━━━━━━━\u001b[0m \u001b[32m211.5/211.5 MB\u001b[0m \u001b[31m9.7 MB/s\u001b[0m eta \u001b[36m0:00:00\u001b[0m\n",
            "\u001b[?25hDownloading nvidia_curand_cu12-10.3.5.147-py3-none-manylinux2014_x86_64.whl (56.3 MB)\n",
            "\u001b[2K   \u001b[90m━━━━━━━━━━━━━━━━━━━━━━━━━━━━━━━━━━━━━━━━\u001b[0m \u001b[32m56.3/56.3 MB\u001b[0m \u001b[31m18.3 MB/s\u001b[0m eta \u001b[36m0:00:00\u001b[0m\n",
            "\u001b[?25hDownloading nvidia_cusolver_cu12-11.6.1.9-py3-none-manylinux2014_x86_64.whl (127.9 MB)\n",
            "\u001b[2K   \u001b[90m━━━━━━━━━━━━━━━━━━━━━━━━━━━━━━━━━━━━━━━━\u001b[0m \u001b[32m127.9/127.9 MB\u001b[0m \u001b[31m12.1 MB/s\u001b[0m eta \u001b[36m0:00:00\u001b[0m\n",
            "\u001b[?25hDownloading nvidia_cusparse_cu12-12.3.1.170-py3-none-manylinux2014_x86_64.whl (207.5 MB)\n",
            "\u001b[2K   \u001b[90m━━━━━━━━━━━━━━━━━━━━━━━━━━━━━━━━━━━━━━━━\u001b[0m \u001b[32m207.5/207.5 MB\u001b[0m \u001b[31m3.4 MB/s\u001b[0m eta \u001b[36m0:00:00\u001b[0m\n",
            "\u001b[?25hDownloading nvidia_nvjitlink_cu12-12.4.127-py3-none-manylinux2014_x86_64.whl (21.1 MB)\n",
            "\u001b[2K   \u001b[90m━━━━━━━━━━━━━━━━━━━━━━━━━━━━━━━━━━━━━━━━\u001b[0m \u001b[32m21.1/21.1 MB\u001b[0m \u001b[31m33.4 MB/s\u001b[0m eta \u001b[36m0:00:00\u001b[0m\n",
            "\u001b[?25hDownloading librosa-0.10.2.post1-py3-none-any.whl (260 kB)\n",
            "\u001b[2K   \u001b[90m━━━━━━━━━━━━━━━━━━━━━━━━━━━━━━━━━━━━━━━━\u001b[0m \u001b[32m260.1/260.1 kB\u001b[0m \u001b[31m19.0 MB/s\u001b[0m eta \u001b[36m0:00:00\u001b[0m\n",
            "\u001b[?25hDownloading numpy-1.26.4-cp311-cp311-manylinux_2_17_x86_64.manylinux2014_x86_64.whl (18.3 MB)\n",
            "\u001b[2K   \u001b[90m━━━━━━━━━━━━━━━━━━━━━━━━━━━━━━━━━━━━━━━━\u001b[0m \u001b[32m18.3/18.3 MB\u001b[0m \u001b[31m32.3 MB/s\u001b[0m eta \u001b[36m0:00:00\u001b[0m\n",
            "\u001b[?25hDownloading numpy_minmax-0.3.1-cp311-cp311-manylinux_2_5_x86_64.manylinux1_x86_64.manylinux_2_17_x86_64.manylinux2014_x86_64.whl (30 kB)\n",
            "Downloading numpy_rms-0.4.2-cp311-cp311-manylinux_2_5_x86_64.manylinux1_x86_64.manylinux_2_17_x86_64.manylinux2014_x86_64.whl (17 kB)\n",
            "Downloading python_stretch-0.3.1-cp311-cp311-manylinux_2_17_x86_64.manylinux2014_x86_64.whl (113 kB)\n",
            "\u001b[2K   \u001b[90m━━━━━━━━━━━━━━━━━━━━━━━━━━━━━━━━━━━━━━━━\u001b[0m \u001b[32m113.4/113.4 kB\u001b[0m \u001b[31m11.3 MB/s\u001b[0m eta \u001b[36m0:00:00\u001b[0m\n",
            "\u001b[?25hInstalling collected packages: python-stretch, nvidia-nvjitlink-cu12, nvidia-curand-cu12, nvidia-cufft-cu12, nvidia-cuda-runtime-cu12, nvidia-cuda-nvrtc-cu12, nvidia-cuda-cupti-cu12, nvidia-cublas-cu12, numpy, nvidia-cusparse-cu12, nvidia-cudnn-cu12, numpy-rms, numpy-minmax, nvidia-cusolver-cu12, librosa, audiomentations\n",
            "  Attempting uninstall: nvidia-nvjitlink-cu12\n",
            "    Found existing installation: nvidia-nvjitlink-cu12 12.5.82\n",
            "    Uninstalling nvidia-nvjitlink-cu12-12.5.82:\n",
            "      Successfully uninstalled nvidia-nvjitlink-cu12-12.5.82\n",
            "  Attempting uninstall: nvidia-curand-cu12\n",
            "    Found existing installation: nvidia-curand-cu12 10.3.6.82\n",
            "    Uninstalling nvidia-curand-cu12-10.3.6.82:\n",
            "      Successfully uninstalled nvidia-curand-cu12-10.3.6.82\n",
            "  Attempting uninstall: nvidia-cufft-cu12\n",
            "    Found existing installation: nvidia-cufft-cu12 11.2.3.61\n",
            "    Uninstalling nvidia-cufft-cu12-11.2.3.61:\n",
            "      Successfully uninstalled nvidia-cufft-cu12-11.2.3.61\n",
            "  Attempting uninstall: nvidia-cuda-runtime-cu12\n",
            "    Found existing installation: nvidia-cuda-runtime-cu12 12.5.82\n",
            "    Uninstalling nvidia-cuda-runtime-cu12-12.5.82:\n",
            "      Successfully uninstalled nvidia-cuda-runtime-cu12-12.5.82\n",
            "  Attempting uninstall: nvidia-cuda-nvrtc-cu12\n",
            "    Found existing installation: nvidia-cuda-nvrtc-cu12 12.5.82\n",
            "    Uninstalling nvidia-cuda-nvrtc-cu12-12.5.82:\n",
            "      Successfully uninstalled nvidia-cuda-nvrtc-cu12-12.5.82\n",
            "  Attempting uninstall: nvidia-cuda-cupti-cu12\n",
            "    Found existing installation: nvidia-cuda-cupti-cu12 12.5.82\n",
            "    Uninstalling nvidia-cuda-cupti-cu12-12.5.82:\n",
            "      Successfully uninstalled nvidia-cuda-cupti-cu12-12.5.82\n",
            "  Attempting uninstall: nvidia-cublas-cu12\n",
            "    Found existing installation: nvidia-cublas-cu12 12.5.3.2\n",
            "    Uninstalling nvidia-cublas-cu12-12.5.3.2:\n",
            "      Successfully uninstalled nvidia-cublas-cu12-12.5.3.2\n",
            "  Attempting uninstall: numpy\n",
            "    Found existing installation: numpy 2.0.2\n",
            "    Uninstalling numpy-2.0.2:\n",
            "      Successfully uninstalled numpy-2.0.2\n",
            "  Attempting uninstall: nvidia-cusparse-cu12\n",
            "    Found existing installation: nvidia-cusparse-cu12 12.5.1.3\n",
            "    Uninstalling nvidia-cusparse-cu12-12.5.1.3:\n",
            "      Successfully uninstalled nvidia-cusparse-cu12-12.5.1.3\n",
            "  Attempting uninstall: nvidia-cudnn-cu12\n",
            "    Found existing installation: nvidia-cudnn-cu12 9.3.0.75\n",
            "    Uninstalling nvidia-cudnn-cu12-9.3.0.75:\n",
            "      Successfully uninstalled nvidia-cudnn-cu12-9.3.0.75\n",
            "  Attempting uninstall: nvidia-cusolver-cu12\n",
            "    Found existing installation: nvidia-cusolver-cu12 11.6.3.83\n",
            "    Uninstalling nvidia-cusolver-cu12-11.6.3.83:\n",
            "      Successfully uninstalled nvidia-cusolver-cu12-11.6.3.83\n",
            "  Attempting uninstall: librosa\n",
            "    Found existing installation: librosa 0.11.0\n",
            "    Uninstalling librosa-0.11.0:\n",
            "      Successfully uninstalled librosa-0.11.0\n",
            "\u001b[31mERROR: pip's dependency resolver does not currently take into account all the packages that are installed. This behaviour is the source of the following dependency conflicts.\n",
            "thinc 8.3.6 requires numpy<3.0.0,>=2.0.0, but you have numpy 1.26.4 which is incompatible.\u001b[0m\u001b[31m\n",
            "\u001b[0mSuccessfully installed audiomentations-0.40.0 librosa-0.10.2.post1 numpy-1.26.4 numpy-minmax-0.3.1 numpy-rms-0.4.2 nvidia-cublas-cu12-12.4.5.8 nvidia-cuda-cupti-cu12-12.4.127 nvidia-cuda-nvrtc-cu12-12.4.127 nvidia-cuda-runtime-cu12-12.4.127 nvidia-cudnn-cu12-9.1.0.70 nvidia-cufft-cu12-11.2.1.3 nvidia-curand-cu12-10.3.5.147 nvidia-cusolver-cu12-11.6.1.9 nvidia-cusparse-cu12-12.3.1.170 nvidia-nvjitlink-cu12-12.4.127 python-stretch-0.3.1\n"
          ]
        },
        {
          "output_type": "display_data",
          "data": {
            "application/vnd.colab-display-data+json": {
              "pip_warning": {
                "packages": [
                  "librosa",
                  "nvidia"
                ]
              },
              "id": "d4da0f838f5a4ac5a82e7d12e65a0a9d"
            }
          },
          "metadata": {}
        }
      ]
    },
    {
      "cell_type": "code",
      "source": [
        "df_audio.head()"
      ],
      "metadata": {
        "colab": {
          "base_uri": "https://localhost:8080/",
          "height": 206
        },
        "id": "0FRovMhWeC6y",
        "outputId": "3a801149-45c1-45e7-e164-93f39d6aa9f3"
      },
      "execution_count": null,
      "outputs": [
        {
          "output_type": "execute_result",
          "data": {
            "text/plain": [
              "  label                                          embedding\n",
              "0  LRTI  [-0.09725039, -0.03294873, 0.25046045, -0.0501...\n",
              "1  LRTI  [-0.119179636, 0.036860026, 0.14773089, -0.045...\n",
              "2  LRTI  [-0.053739958, -0.025142455, 0.16993481, -0.05...\n",
              "3  LRTI  [-0.1108839, 0.029857112, 0.15124863, -0.06170...\n",
              "4  LRTI  [-0.054015238, 0.032014832, -0.04993601, -0.01..."
            ],
            "text/html": [
              "\n",
              "  <div id=\"df-2ea6cead-7f2d-4416-8c7a-d017dc03a27a\" class=\"colab-df-container\">\n",
              "    <div>\n",
              "<style scoped>\n",
              "    .dataframe tbody tr th:only-of-type {\n",
              "        vertical-align: middle;\n",
              "    }\n",
              "\n",
              "    .dataframe tbody tr th {\n",
              "        vertical-align: top;\n",
              "    }\n",
              "\n",
              "    .dataframe thead th {\n",
              "        text-align: right;\n",
              "    }\n",
              "</style>\n",
              "<table border=\"1\" class=\"dataframe\">\n",
              "  <thead>\n",
              "    <tr style=\"text-align: right;\">\n",
              "      <th></th>\n",
              "      <th>label</th>\n",
              "      <th>embedding</th>\n",
              "    </tr>\n",
              "  </thead>\n",
              "  <tbody>\n",
              "    <tr>\n",
              "      <th>0</th>\n",
              "      <td>LRTI</td>\n",
              "      <td>[-0.09725039, -0.03294873, 0.25046045, -0.0501...</td>\n",
              "    </tr>\n",
              "    <tr>\n",
              "      <th>1</th>\n",
              "      <td>LRTI</td>\n",
              "      <td>[-0.119179636, 0.036860026, 0.14773089, -0.045...</td>\n",
              "    </tr>\n",
              "    <tr>\n",
              "      <th>2</th>\n",
              "      <td>LRTI</td>\n",
              "      <td>[-0.053739958, -0.025142455, 0.16993481, -0.05...</td>\n",
              "    </tr>\n",
              "    <tr>\n",
              "      <th>3</th>\n",
              "      <td>LRTI</td>\n",
              "      <td>[-0.1108839, 0.029857112, 0.15124863, -0.06170...</td>\n",
              "    </tr>\n",
              "    <tr>\n",
              "      <th>4</th>\n",
              "      <td>LRTI</td>\n",
              "      <td>[-0.054015238, 0.032014832, -0.04993601, -0.01...</td>\n",
              "    </tr>\n",
              "  </tbody>\n",
              "</table>\n",
              "</div>\n",
              "    <div class=\"colab-df-buttons\">\n",
              "\n",
              "  <div class=\"colab-df-container\">\n",
              "    <button class=\"colab-df-convert\" onclick=\"convertToInteractive('df-2ea6cead-7f2d-4416-8c7a-d017dc03a27a')\"\n",
              "            title=\"Convert this dataframe to an interactive table.\"\n",
              "            style=\"display:none;\">\n",
              "\n",
              "  <svg xmlns=\"http://www.w3.org/2000/svg\" height=\"24px\" viewBox=\"0 -960 960 960\">\n",
              "    <path d=\"M120-120v-720h720v720H120Zm60-500h600v-160H180v160Zm220 220h160v-160H400v160Zm0 220h160v-160H400v160ZM180-400h160v-160H180v160Zm440 0h160v-160H620v160ZM180-180h160v-160H180v160Zm440 0h160v-160H620v160Z\"/>\n",
              "  </svg>\n",
              "    </button>\n",
              "\n",
              "  <style>\n",
              "    .colab-df-container {\n",
              "      display:flex;\n",
              "      gap: 12px;\n",
              "    }\n",
              "\n",
              "    .colab-df-convert {\n",
              "      background-color: #E8F0FE;\n",
              "      border: none;\n",
              "      border-radius: 50%;\n",
              "      cursor: pointer;\n",
              "      display: none;\n",
              "      fill: #1967D2;\n",
              "      height: 32px;\n",
              "      padding: 0 0 0 0;\n",
              "      width: 32px;\n",
              "    }\n",
              "\n",
              "    .colab-df-convert:hover {\n",
              "      background-color: #E2EBFA;\n",
              "      box-shadow: 0px 1px 2px rgba(60, 64, 67, 0.3), 0px 1px 3px 1px rgba(60, 64, 67, 0.15);\n",
              "      fill: #174EA6;\n",
              "    }\n",
              "\n",
              "    .colab-df-buttons div {\n",
              "      margin-bottom: 4px;\n",
              "    }\n",
              "\n",
              "    [theme=dark] .colab-df-convert {\n",
              "      background-color: #3B4455;\n",
              "      fill: #D2E3FC;\n",
              "    }\n",
              "\n",
              "    [theme=dark] .colab-df-convert:hover {\n",
              "      background-color: #434B5C;\n",
              "      box-shadow: 0px 1px 3px 1px rgba(0, 0, 0, 0.15);\n",
              "      filter: drop-shadow(0px 1px 2px rgba(0, 0, 0, 0.3));\n",
              "      fill: #FFFFFF;\n",
              "    }\n",
              "  </style>\n",
              "\n",
              "    <script>\n",
              "      const buttonEl =\n",
              "        document.querySelector('#df-2ea6cead-7f2d-4416-8c7a-d017dc03a27a button.colab-df-convert');\n",
              "      buttonEl.style.display =\n",
              "        google.colab.kernel.accessAllowed ? 'block' : 'none';\n",
              "\n",
              "      async function convertToInteractive(key) {\n",
              "        const element = document.querySelector('#df-2ea6cead-7f2d-4416-8c7a-d017dc03a27a');\n",
              "        const dataTable =\n",
              "          await google.colab.kernel.invokeFunction('convertToInteractive',\n",
              "                                                    [key], {});\n",
              "        if (!dataTable) return;\n",
              "\n",
              "        const docLinkHtml = 'Like what you see? Visit the ' +\n",
              "          '<a target=\"_blank\" href=https://colab.research.google.com/notebooks/data_table.ipynb>data table notebook</a>'\n",
              "          + ' to learn more about interactive tables.';\n",
              "        element.innerHTML = '';\n",
              "        dataTable['output_type'] = 'display_data';\n",
              "        await google.colab.output.renderOutput(dataTable, element);\n",
              "        const docLink = document.createElement('div');\n",
              "        docLink.innerHTML = docLinkHtml;\n",
              "        element.appendChild(docLink);\n",
              "      }\n",
              "    </script>\n",
              "  </div>\n",
              "\n",
              "\n",
              "<div id=\"df-b0109e63-8bdf-4310-8967-4b07ea9b3a4c\">\n",
              "  <button class=\"colab-df-quickchart\" onclick=\"quickchart('df-b0109e63-8bdf-4310-8967-4b07ea9b3a4c')\"\n",
              "            title=\"Suggest charts\"\n",
              "            style=\"display:none;\">\n",
              "\n",
              "<svg xmlns=\"http://www.w3.org/2000/svg\" height=\"24px\"viewBox=\"0 0 24 24\"\n",
              "     width=\"24px\">\n",
              "    <g>\n",
              "        <path d=\"M19 3H5c-1.1 0-2 .9-2 2v14c0 1.1.9 2 2 2h14c1.1 0 2-.9 2-2V5c0-1.1-.9-2-2-2zM9 17H7v-7h2v7zm4 0h-2V7h2v10zm4 0h-2v-4h2v4z\"/>\n",
              "    </g>\n",
              "</svg>\n",
              "  </button>\n",
              "\n",
              "<style>\n",
              "  .colab-df-quickchart {\n",
              "      --bg-color: #E8F0FE;\n",
              "      --fill-color: #1967D2;\n",
              "      --hover-bg-color: #E2EBFA;\n",
              "      --hover-fill-color: #174EA6;\n",
              "      --disabled-fill-color: #AAA;\n",
              "      --disabled-bg-color: #DDD;\n",
              "  }\n",
              "\n",
              "  [theme=dark] .colab-df-quickchart {\n",
              "      --bg-color: #3B4455;\n",
              "      --fill-color: #D2E3FC;\n",
              "      --hover-bg-color: #434B5C;\n",
              "      --hover-fill-color: #FFFFFF;\n",
              "      --disabled-bg-color: #3B4455;\n",
              "      --disabled-fill-color: #666;\n",
              "  }\n",
              "\n",
              "  .colab-df-quickchart {\n",
              "    background-color: var(--bg-color);\n",
              "    border: none;\n",
              "    border-radius: 50%;\n",
              "    cursor: pointer;\n",
              "    display: none;\n",
              "    fill: var(--fill-color);\n",
              "    height: 32px;\n",
              "    padding: 0;\n",
              "    width: 32px;\n",
              "  }\n",
              "\n",
              "  .colab-df-quickchart:hover {\n",
              "    background-color: var(--hover-bg-color);\n",
              "    box-shadow: 0 1px 2px rgba(60, 64, 67, 0.3), 0 1px 3px 1px rgba(60, 64, 67, 0.15);\n",
              "    fill: var(--button-hover-fill-color);\n",
              "  }\n",
              "\n",
              "  .colab-df-quickchart-complete:disabled,\n",
              "  .colab-df-quickchart-complete:disabled:hover {\n",
              "    background-color: var(--disabled-bg-color);\n",
              "    fill: var(--disabled-fill-color);\n",
              "    box-shadow: none;\n",
              "  }\n",
              "\n",
              "  .colab-df-spinner {\n",
              "    border: 2px solid var(--fill-color);\n",
              "    border-color: transparent;\n",
              "    border-bottom-color: var(--fill-color);\n",
              "    animation:\n",
              "      spin 1s steps(1) infinite;\n",
              "  }\n",
              "\n",
              "  @keyframes spin {\n",
              "    0% {\n",
              "      border-color: transparent;\n",
              "      border-bottom-color: var(--fill-color);\n",
              "      border-left-color: var(--fill-color);\n",
              "    }\n",
              "    20% {\n",
              "      border-color: transparent;\n",
              "      border-left-color: var(--fill-color);\n",
              "      border-top-color: var(--fill-color);\n",
              "    }\n",
              "    30% {\n",
              "      border-color: transparent;\n",
              "      border-left-color: var(--fill-color);\n",
              "      border-top-color: var(--fill-color);\n",
              "      border-right-color: var(--fill-color);\n",
              "    }\n",
              "    40% {\n",
              "      border-color: transparent;\n",
              "      border-right-color: var(--fill-color);\n",
              "      border-top-color: var(--fill-color);\n",
              "    }\n",
              "    60% {\n",
              "      border-color: transparent;\n",
              "      border-right-color: var(--fill-color);\n",
              "    }\n",
              "    80% {\n",
              "      border-color: transparent;\n",
              "      border-right-color: var(--fill-color);\n",
              "      border-bottom-color: var(--fill-color);\n",
              "    }\n",
              "    90% {\n",
              "      border-color: transparent;\n",
              "      border-bottom-color: var(--fill-color);\n",
              "    }\n",
              "  }\n",
              "</style>\n",
              "\n",
              "  <script>\n",
              "    async function quickchart(key) {\n",
              "      const quickchartButtonEl =\n",
              "        document.querySelector('#' + key + ' button');\n",
              "      quickchartButtonEl.disabled = true;  // To prevent multiple clicks.\n",
              "      quickchartButtonEl.classList.add('colab-df-spinner');\n",
              "      try {\n",
              "        const charts = await google.colab.kernel.invokeFunction(\n",
              "            'suggestCharts', [key], {});\n",
              "      } catch (error) {\n",
              "        console.error('Error during call to suggestCharts:', error);\n",
              "      }\n",
              "      quickchartButtonEl.classList.remove('colab-df-spinner');\n",
              "      quickchartButtonEl.classList.add('colab-df-quickchart-complete');\n",
              "    }\n",
              "    (() => {\n",
              "      let quickchartButtonEl =\n",
              "        document.querySelector('#df-b0109e63-8bdf-4310-8967-4b07ea9b3a4c button');\n",
              "      quickchartButtonEl.style.display =\n",
              "        google.colab.kernel.accessAllowed ? 'block' : 'none';\n",
              "    })();\n",
              "  </script>\n",
              "</div>\n",
              "\n",
              "    </div>\n",
              "  </div>\n"
            ],
            "application/vnd.google.colaboratory.intrinsic+json": {
              "type": "dataframe",
              "variable_name": "df_audio",
              "summary": "{\n  \"name\": \"df_audio\",\n  \"rows\": 6344,\n  \"fields\": [\n    {\n      \"column\": \"label\",\n      \"properties\": {\n        \"dtype\": \"category\",\n        \"num_unique_values\": 8,\n        \"samples\": [\n          \"Asthma\",\n          \"URTI\",\n          \"LRTI\"\n        ],\n        \"semantic_type\": \"\",\n        \"description\": \"\"\n      }\n    },\n    {\n      \"column\": \"embedding\",\n      \"properties\": {\n        \"dtype\": \"object\",\n        \"semantic_type\": \"\",\n        \"description\": \"\"\n      }\n    }\n  ]\n}"
            }
          },
          "metadata": {},
          "execution_count": 10
        }
      ]
    },
    {
      "cell_type": "code",
      "source": [
        "df_audio['label'].value_counts()\n"
      ],
      "metadata": {
        "colab": {
          "base_uri": "https://localhost:8080/",
          "height": 366
        },
        "id": "lgaWzJeG95pP",
        "outputId": "46edbf89-8d10-40ec-d518-520954d1dd24"
      },
      "execution_count": null,
      "outputs": [
        {
          "output_type": "execute_result",
          "data": {
            "text/plain": [
              "label\n",
              "COPD              920\n",
              "Asthma            792\n",
              "LRTI              791\n",
              "Bronchiolitis     780\n",
              "Bronchiectasis    777\n",
              "URTI              770\n",
              "Healthy           758\n",
              "Pneumonia         756\n",
              "Name: count, dtype: int64"
            ],
            "text/html": [
              "<div>\n",
              "<style scoped>\n",
              "    .dataframe tbody tr th:only-of-type {\n",
              "        vertical-align: middle;\n",
              "    }\n",
              "\n",
              "    .dataframe tbody tr th {\n",
              "        vertical-align: top;\n",
              "    }\n",
              "\n",
              "    .dataframe thead th {\n",
              "        text-align: right;\n",
              "    }\n",
              "</style>\n",
              "<table border=\"1\" class=\"dataframe\">\n",
              "  <thead>\n",
              "    <tr style=\"text-align: right;\">\n",
              "      <th></th>\n",
              "      <th>count</th>\n",
              "    </tr>\n",
              "    <tr>\n",
              "      <th>label</th>\n",
              "      <th></th>\n",
              "    </tr>\n",
              "  </thead>\n",
              "  <tbody>\n",
              "    <tr>\n",
              "      <th>COPD</th>\n",
              "      <td>920</td>\n",
              "    </tr>\n",
              "    <tr>\n",
              "      <th>Asthma</th>\n",
              "      <td>792</td>\n",
              "    </tr>\n",
              "    <tr>\n",
              "      <th>LRTI</th>\n",
              "      <td>791</td>\n",
              "    </tr>\n",
              "    <tr>\n",
              "      <th>Bronchiolitis</th>\n",
              "      <td>780</td>\n",
              "    </tr>\n",
              "    <tr>\n",
              "      <th>Bronchiectasis</th>\n",
              "      <td>777</td>\n",
              "    </tr>\n",
              "    <tr>\n",
              "      <th>URTI</th>\n",
              "      <td>770</td>\n",
              "    </tr>\n",
              "    <tr>\n",
              "      <th>Healthy</th>\n",
              "      <td>758</td>\n",
              "    </tr>\n",
              "    <tr>\n",
              "      <th>Pneumonia</th>\n",
              "      <td>756</td>\n",
              "    </tr>\n",
              "  </tbody>\n",
              "</table>\n",
              "</div><br><label><b>dtype:</b> int64</label>"
            ]
          },
          "metadata": {},
          "execution_count": 11
        }
      ]
    },
    {
      "cell_type": "code",
      "source": [
        "# prompt: convert label to index using label encorder\n",
        "\n",
        "from sklearn.preprocessing import LabelEncoder\n",
        "\n",
        "# Assuming 'df' is your DataFrame with a 'label' column\n",
        "label_encoder = LabelEncoder()\n",
        "df_audio['label'] = label_encoder.fit_transform(df_audio['label'])\n",
        "\n",
        "\n",
        "print(label_encoder.classes_) # This will show you which number corresponds to which label\n",
        "df_audio.head()\n"
      ],
      "metadata": {
        "colab": {
          "base_uri": "https://localhost:8080/",
          "height": 365
        },
        "id": "1FWPZOFm8MQD",
        "outputId": "177d4de0-23e6-4076-a82c-58ce3182f074"
      },
      "execution_count": null,
      "outputs": [
        {
          "output_type": "stream",
          "name": "stdout",
          "text": [
            "['Asthma' 'Bronchiectasis' 'Bronchiolitis' 'Healthy' 'LRTI' 'Pneumonia'\n",
            " 'URTI']\n"
          ]
        },
        {
          "output_type": "stream",
          "name": "stderr",
          "text": [
            "<ipython-input-13-99cee8374f5c>:7: SettingWithCopyWarning: \n",
            "A value is trying to be set on a copy of a slice from a DataFrame.\n",
            "Try using .loc[row_indexer,col_indexer] = value instead\n",
            "\n",
            "See the caveats in the documentation: https://pandas.pydata.org/pandas-docs/stable/user_guide/indexing.html#returning-a-view-versus-a-copy\n",
            "  df_audio['label'] = label_encoder.fit_transform(df_audio['label'])\n"
          ]
        },
        {
          "output_type": "execute_result",
          "data": {
            "text/plain": [
              "   label                                          embedding\n",
              "0      4  [-0.09725039, -0.03294873, 0.25046045, -0.0501...\n",
              "1      4  [-0.119179636, 0.036860026, 0.14773089, -0.045...\n",
              "2      4  [-0.053739958, -0.025142455, 0.16993481, -0.05...\n",
              "3      4  [-0.1108839, 0.029857112, 0.15124863, -0.06170...\n",
              "4      4  [-0.054015238, 0.032014832, -0.04993601, -0.01..."
            ],
            "text/html": [
              "\n",
              "  <div id=\"df-808647b1-6d12-42d0-9ff9-963c1f898af0\" class=\"colab-df-container\">\n",
              "    <div>\n",
              "<style scoped>\n",
              "    .dataframe tbody tr th:only-of-type {\n",
              "        vertical-align: middle;\n",
              "    }\n",
              "\n",
              "    .dataframe tbody tr th {\n",
              "        vertical-align: top;\n",
              "    }\n",
              "\n",
              "    .dataframe thead th {\n",
              "        text-align: right;\n",
              "    }\n",
              "</style>\n",
              "<table border=\"1\" class=\"dataframe\">\n",
              "  <thead>\n",
              "    <tr style=\"text-align: right;\">\n",
              "      <th></th>\n",
              "      <th>label</th>\n",
              "      <th>embedding</th>\n",
              "    </tr>\n",
              "  </thead>\n",
              "  <tbody>\n",
              "    <tr>\n",
              "      <th>0</th>\n",
              "      <td>4</td>\n",
              "      <td>[-0.09725039, -0.03294873, 0.25046045, -0.0501...</td>\n",
              "    </tr>\n",
              "    <tr>\n",
              "      <th>1</th>\n",
              "      <td>4</td>\n",
              "      <td>[-0.119179636, 0.036860026, 0.14773089, -0.045...</td>\n",
              "    </tr>\n",
              "    <tr>\n",
              "      <th>2</th>\n",
              "      <td>4</td>\n",
              "      <td>[-0.053739958, -0.025142455, 0.16993481, -0.05...</td>\n",
              "    </tr>\n",
              "    <tr>\n",
              "      <th>3</th>\n",
              "      <td>4</td>\n",
              "      <td>[-0.1108839, 0.029857112, 0.15124863, -0.06170...</td>\n",
              "    </tr>\n",
              "    <tr>\n",
              "      <th>4</th>\n",
              "      <td>4</td>\n",
              "      <td>[-0.054015238, 0.032014832, -0.04993601, -0.01...</td>\n",
              "    </tr>\n",
              "  </tbody>\n",
              "</table>\n",
              "</div>\n",
              "    <div class=\"colab-df-buttons\">\n",
              "\n",
              "  <div class=\"colab-df-container\">\n",
              "    <button class=\"colab-df-convert\" onclick=\"convertToInteractive('df-808647b1-6d12-42d0-9ff9-963c1f898af0')\"\n",
              "            title=\"Convert this dataframe to an interactive table.\"\n",
              "            style=\"display:none;\">\n",
              "\n",
              "  <svg xmlns=\"http://www.w3.org/2000/svg\" height=\"24px\" viewBox=\"0 -960 960 960\">\n",
              "    <path d=\"M120-120v-720h720v720H120Zm60-500h600v-160H180v160Zm220 220h160v-160H400v160Zm0 220h160v-160H400v160ZM180-400h160v-160H180v160Zm440 0h160v-160H620v160ZM180-180h160v-160H180v160Zm440 0h160v-160H620v160Z\"/>\n",
              "  </svg>\n",
              "    </button>\n",
              "\n",
              "  <style>\n",
              "    .colab-df-container {\n",
              "      display:flex;\n",
              "      gap: 12px;\n",
              "    }\n",
              "\n",
              "    .colab-df-convert {\n",
              "      background-color: #E8F0FE;\n",
              "      border: none;\n",
              "      border-radius: 50%;\n",
              "      cursor: pointer;\n",
              "      display: none;\n",
              "      fill: #1967D2;\n",
              "      height: 32px;\n",
              "      padding: 0 0 0 0;\n",
              "      width: 32px;\n",
              "    }\n",
              "\n",
              "    .colab-df-convert:hover {\n",
              "      background-color: #E2EBFA;\n",
              "      box-shadow: 0px 1px 2px rgba(60, 64, 67, 0.3), 0px 1px 3px 1px rgba(60, 64, 67, 0.15);\n",
              "      fill: #174EA6;\n",
              "    }\n",
              "\n",
              "    .colab-df-buttons div {\n",
              "      margin-bottom: 4px;\n",
              "    }\n",
              "\n",
              "    [theme=dark] .colab-df-convert {\n",
              "      background-color: #3B4455;\n",
              "      fill: #D2E3FC;\n",
              "    }\n",
              "\n",
              "    [theme=dark] .colab-df-convert:hover {\n",
              "      background-color: #434B5C;\n",
              "      box-shadow: 0px 1px 3px 1px rgba(0, 0, 0, 0.15);\n",
              "      filter: drop-shadow(0px 1px 2px rgba(0, 0, 0, 0.3));\n",
              "      fill: #FFFFFF;\n",
              "    }\n",
              "  </style>\n",
              "\n",
              "    <script>\n",
              "      const buttonEl =\n",
              "        document.querySelector('#df-808647b1-6d12-42d0-9ff9-963c1f898af0 button.colab-df-convert');\n",
              "      buttonEl.style.display =\n",
              "        google.colab.kernel.accessAllowed ? 'block' : 'none';\n",
              "\n",
              "      async function convertToInteractive(key) {\n",
              "        const element = document.querySelector('#df-808647b1-6d12-42d0-9ff9-963c1f898af0');\n",
              "        const dataTable =\n",
              "          await google.colab.kernel.invokeFunction('convertToInteractive',\n",
              "                                                    [key], {});\n",
              "        if (!dataTable) return;\n",
              "\n",
              "        const docLinkHtml = 'Like what you see? Visit the ' +\n",
              "          '<a target=\"_blank\" href=https://colab.research.google.com/notebooks/data_table.ipynb>data table notebook</a>'\n",
              "          + ' to learn more about interactive tables.';\n",
              "        element.innerHTML = '';\n",
              "        dataTable['output_type'] = 'display_data';\n",
              "        await google.colab.output.renderOutput(dataTable, element);\n",
              "        const docLink = document.createElement('div');\n",
              "        docLink.innerHTML = docLinkHtml;\n",
              "        element.appendChild(docLink);\n",
              "      }\n",
              "    </script>\n",
              "  </div>\n",
              "\n",
              "\n",
              "<div id=\"df-20ffccd0-fea0-414c-8386-c9e823a67688\">\n",
              "  <button class=\"colab-df-quickchart\" onclick=\"quickchart('df-20ffccd0-fea0-414c-8386-c9e823a67688')\"\n",
              "            title=\"Suggest charts\"\n",
              "            style=\"display:none;\">\n",
              "\n",
              "<svg xmlns=\"http://www.w3.org/2000/svg\" height=\"24px\"viewBox=\"0 0 24 24\"\n",
              "     width=\"24px\">\n",
              "    <g>\n",
              "        <path d=\"M19 3H5c-1.1 0-2 .9-2 2v14c0 1.1.9 2 2 2h14c1.1 0 2-.9 2-2V5c0-1.1-.9-2-2-2zM9 17H7v-7h2v7zm4 0h-2V7h2v10zm4 0h-2v-4h2v4z\"/>\n",
              "    </g>\n",
              "</svg>\n",
              "  </button>\n",
              "\n",
              "<style>\n",
              "  .colab-df-quickchart {\n",
              "      --bg-color: #E8F0FE;\n",
              "      --fill-color: #1967D2;\n",
              "      --hover-bg-color: #E2EBFA;\n",
              "      --hover-fill-color: #174EA6;\n",
              "      --disabled-fill-color: #AAA;\n",
              "      --disabled-bg-color: #DDD;\n",
              "  }\n",
              "\n",
              "  [theme=dark] .colab-df-quickchart {\n",
              "      --bg-color: #3B4455;\n",
              "      --fill-color: #D2E3FC;\n",
              "      --hover-bg-color: #434B5C;\n",
              "      --hover-fill-color: #FFFFFF;\n",
              "      --disabled-bg-color: #3B4455;\n",
              "      --disabled-fill-color: #666;\n",
              "  }\n",
              "\n",
              "  .colab-df-quickchart {\n",
              "    background-color: var(--bg-color);\n",
              "    border: none;\n",
              "    border-radius: 50%;\n",
              "    cursor: pointer;\n",
              "    display: none;\n",
              "    fill: var(--fill-color);\n",
              "    height: 32px;\n",
              "    padding: 0;\n",
              "    width: 32px;\n",
              "  }\n",
              "\n",
              "  .colab-df-quickchart:hover {\n",
              "    background-color: var(--hover-bg-color);\n",
              "    box-shadow: 0 1px 2px rgba(60, 64, 67, 0.3), 0 1px 3px 1px rgba(60, 64, 67, 0.15);\n",
              "    fill: var(--button-hover-fill-color);\n",
              "  }\n",
              "\n",
              "  .colab-df-quickchart-complete:disabled,\n",
              "  .colab-df-quickchart-complete:disabled:hover {\n",
              "    background-color: var(--disabled-bg-color);\n",
              "    fill: var(--disabled-fill-color);\n",
              "    box-shadow: none;\n",
              "  }\n",
              "\n",
              "  .colab-df-spinner {\n",
              "    border: 2px solid var(--fill-color);\n",
              "    border-color: transparent;\n",
              "    border-bottom-color: var(--fill-color);\n",
              "    animation:\n",
              "      spin 1s steps(1) infinite;\n",
              "  }\n",
              "\n",
              "  @keyframes spin {\n",
              "    0% {\n",
              "      border-color: transparent;\n",
              "      border-bottom-color: var(--fill-color);\n",
              "      border-left-color: var(--fill-color);\n",
              "    }\n",
              "    20% {\n",
              "      border-color: transparent;\n",
              "      border-left-color: var(--fill-color);\n",
              "      border-top-color: var(--fill-color);\n",
              "    }\n",
              "    30% {\n",
              "      border-color: transparent;\n",
              "      border-left-color: var(--fill-color);\n",
              "      border-top-color: var(--fill-color);\n",
              "      border-right-color: var(--fill-color);\n",
              "    }\n",
              "    40% {\n",
              "      border-color: transparent;\n",
              "      border-right-color: var(--fill-color);\n",
              "      border-top-color: var(--fill-color);\n",
              "    }\n",
              "    60% {\n",
              "      border-color: transparent;\n",
              "      border-right-color: var(--fill-color);\n",
              "    }\n",
              "    80% {\n",
              "      border-color: transparent;\n",
              "      border-right-color: var(--fill-color);\n",
              "      border-bottom-color: var(--fill-color);\n",
              "    }\n",
              "    90% {\n",
              "      border-color: transparent;\n",
              "      border-bottom-color: var(--fill-color);\n",
              "    }\n",
              "  }\n",
              "</style>\n",
              "\n",
              "  <script>\n",
              "    async function quickchart(key) {\n",
              "      const quickchartButtonEl =\n",
              "        document.querySelector('#' + key + ' button');\n",
              "      quickchartButtonEl.disabled = true;  // To prevent multiple clicks.\n",
              "      quickchartButtonEl.classList.add('colab-df-spinner');\n",
              "      try {\n",
              "        const charts = await google.colab.kernel.invokeFunction(\n",
              "            'suggestCharts', [key], {});\n",
              "      } catch (error) {\n",
              "        console.error('Error during call to suggestCharts:', error);\n",
              "      }\n",
              "      quickchartButtonEl.classList.remove('colab-df-spinner');\n",
              "      quickchartButtonEl.classList.add('colab-df-quickchart-complete');\n",
              "    }\n",
              "    (() => {\n",
              "      let quickchartButtonEl =\n",
              "        document.querySelector('#df-20ffccd0-fea0-414c-8386-c9e823a67688 button');\n",
              "      quickchartButtonEl.style.display =\n",
              "        google.colab.kernel.accessAllowed ? 'block' : 'none';\n",
              "    })();\n",
              "  </script>\n",
              "</div>\n",
              "\n",
              "    </div>\n",
              "  </div>\n"
            ],
            "application/vnd.google.colaboratory.intrinsic+json": {
              "type": "dataframe",
              "variable_name": "df_audio",
              "summary": "{\n  \"name\": \"df_audio\",\n  \"rows\": 5424,\n  \"fields\": [\n    {\n      \"column\": \"label\",\n      \"properties\": {\n        \"dtype\": \"number\",\n        \"std\": 2,\n        \"min\": 0,\n        \"max\": 6,\n        \"num_unique_values\": 7,\n        \"samples\": [\n          4,\n          0,\n          6\n        ],\n        \"semantic_type\": \"\",\n        \"description\": \"\"\n      }\n    },\n    {\n      \"column\": \"embedding\",\n      \"properties\": {\n        \"dtype\": \"object\",\n        \"semantic_type\": \"\",\n        \"description\": \"\"\n      }\n    }\n  ]\n}"
            }
          },
          "metadata": {},
          "execution_count": 13
        }
      ]
    },
    {
      "cell_type": "code",
      "source": [],
      "metadata": {
        "id": "2yRaEZ2A3N0G"
      },
      "execution_count": null,
      "outputs": []
    },
    {
      "cell_type": "code",
      "source": [
        "print(\"Class mapping:\", dict(zip(label_encoder.classes_, label_encoder.transform(label_encoder.classes_))))"
      ],
      "metadata": {
        "colab": {
          "base_uri": "https://localhost:8080/"
        },
        "id": "MbJ2R4m-2723",
        "outputId": "9a131986-4c13-497a-aefd-40cfa82a7904"
      },
      "execution_count": null,
      "outputs": [
        {
          "output_type": "stream",
          "name": "stdout",
          "text": [
            "Class mapping: {'Asthma': 0, 'Bronchiectasis': 1, 'Bronchiolitis': 2, 'Healthy': 3, 'LRTI': 4, 'Pneumonia': 5, 'URTI': 6}\n"
          ]
        }
      ]
    },
    {
      "cell_type": "code",
      "source": [
        "df_audio['label'] = label_encoder.inverse_transform(df_audio['label'])"
      ],
      "metadata": {
        "id": "WAcb6OAS22RQ"
      },
      "execution_count": null,
      "outputs": []
    },
    {
      "cell_type": "code",
      "source": [
        "import torch\n",
        "import torch.nn as nn\n",
        "from transformers import BertModel, BertConfig\n",
        "from torch.utils.data import Dataset, DataLoader\n",
        "import numpy as np\n",
        "import pandas as pd\n",
        "from sklearn.model_selection import train_test_split\n",
        "from tqdm import tqdm\n",
        "\n",
        "class AudioTransformerClassifier(nn.Module):\n",
        "    def __init__(self, input_dim=768, hidden_dim=256, num_classes=8, num_layers=4, num_heads=8):\n",
        "        super().__init__()\n",
        "\n",
        "        # Projection layer to match transformer's expected dimension\n",
        "        self.projection = nn.Linear(input_dim, hidden_dim)\n",
        "\n",
        "        # Transformer configuration\n",
        "        config = BertConfig(\n",
        "            hidden_size=hidden_dim,\n",
        "            num_hidden_layers=num_layers,\n",
        "            num_attention_heads=num_heads,\n",
        "            intermediate_size=hidden_dim*4,\n",
        "            max_position_embeddings=512,  # Can be adjusted\n",
        "            hidden_dropout_prob=0.1,\n",
        "            attention_probs_dropout_prob=0.1\n",
        "        )\n",
        "\n",
        "        # Transformer encoder\n",
        "        self.transformer = BertModel(config)\n",
        "\n",
        "        # Classification head\n",
        "        self.classifier = nn.Sequential(\n",
        "            nn.Linear(hidden_dim, hidden_dim),\n",
        "            nn.ReLU(),\n",
        "            nn.Dropout(0.2),\n",
        "            nn.Linear(hidden_dim, num_classes)\n",
        "        )\n",
        "\n",
        "    def forward(self, x):\n",
        "        # x shape: (batch_size, embedding_dim)\n",
        "\n",
        "        # Add sequence dimension (batch_size, 1, embedding_dim)\n",
        "        x = x.unsqueeze(1)\n",
        "\n",
        "        # Project to hidden dimension\n",
        "        x = self.projection(x)\n",
        "\n",
        "        # Transformer expects (batch_size, seq_len, hidden_dim)\n",
        "        transformer_output = self.transformer(inputs_embeds=x)\n",
        "\n",
        "        # Get the [CLS] token equivalent (mean pooling in our case)\n",
        "        pooled_output = transformer_output.last_hidden_state.mean(dim=1)\n",
        "\n",
        "        # Classify\n",
        "        logits = self.classifier(pooled_output)\n",
        "\n",
        "        return logits"
      ],
      "metadata": {
        "id": "QxAEqHBTtt72"
      },
      "execution_count": null,
      "outputs": []
    },
    {
      "cell_type": "code",
      "source": [
        "class AudioEmbeddingDataset(Dataset):\n",
        "    def __init__(self, dataframe):\n",
        "        self.data = dataframe\n",
        "        self.labels = pd.get_dummies(dataframe['label']).values\n",
        "        self.embeddings = np.stack(dataframe['embedding'].values)\n",
        "\n",
        "    def __len__(self):\n",
        "        return len(self.data)\n",
        "\n",
        "    def __getitem__(self, idx):\n",
        "        embedding = torch.tensor(self.embeddings[idx], dtype=torch.float32)\n",
        "        label = torch.tensor(self.labels[idx], dtype=torch.long)\n",
        "        return embedding, label"
      ],
      "metadata": {
        "id": "jvHIna8utt4d"
      },
      "execution_count": null,
      "outputs": []
    },
    {
      "cell_type": "code",
      "source": [
        "import matplotlib.pyplot as plt\n",
        "from sklearn.metrics import confusion_matrix, classification_report\n",
        "import seaborn as sns\n",
        "\n",
        "def train_model_with_plots(train_dataset, val_dataset, num_epochs=20, batch_size=32, learning_rate=3e-5):\n",
        "    # Initialize tracking\n",
        "    history = {\n",
        "        'train_loss': [],\n",
        "        'train_acc': [],\n",
        "        'val_loss': [],\n",
        "        'val_acc': [],\n",
        "        'all_true': [],\n",
        "        'all_preds': []\n",
        "    }\n",
        "\n",
        "    # Initialize model\n",
        "    device = torch.device(\"cuda\" if torch.cuda.is_available() else \"cpu\")\n",
        "    model = AudioTransformerClassifier().to(device)\n",
        "\n",
        "    # Loss and optimizer\n",
        "    criterion = nn.CrossEntropyLoss()\n",
        "    optimizer = torch.optim.AdamW(model.parameters(), lr=learning_rate)\n",
        "    scheduler = torch.optim.lr_scheduler.CosineAnnealingLR(optimizer, T_max=num_epochs)\n",
        "\n",
        "    # Data loaders\n",
        "    train_loader = DataLoader(train_dataset, batch_size=batch_size, shuffle=True)\n",
        "    val_loader = DataLoader(val_dataset, batch_size=batch_size)\n",
        "\n",
        "    best_val_acc = 0.0\n",
        "\n",
        "    for epoch in range(num_epochs):\n",
        "        model.train()\n",
        "        train_loss = 0.0\n",
        "        correct = 0\n",
        "        total = 0\n",
        "\n",
        "        # Training loop\n",
        "        for embeddings, labels in tqdm(train_loader, desc=f\"Epoch {epoch+1}/{num_epochs}\"):\n",
        "            embeddings = embeddings.to(device)\n",
        "            labels = labels.to(device)\n",
        "\n",
        "            # Forward pass\n",
        "            outputs = model(embeddings)\n",
        "            loss = criterion(outputs, labels.argmax(dim=1))\n",
        "\n",
        "            # Backward pass\n",
        "            optimizer.zero_grad()\n",
        "            loss.backward()\n",
        "            optimizer.step()\n",
        "\n",
        "            # Statistics\n",
        "            train_loss += loss.item()\n",
        "            _, predicted = outputs.max(1)\n",
        "            total += labels.size(0)\n",
        "            correct += predicted.eq(labels.argmax(dim=1)).sum().item()\n",
        "\n",
        "        scheduler.step()\n",
        "        train_acc = 100. * correct / total\n",
        "        train_loss = train_loss / len(train_loader)\n",
        "\n",
        "        # Validation\n",
        "        val_acc, val_loss, val_true, val_preds = evaluate(model, val_loader, criterion, device)\n",
        "\n",
        "        # Update history\n",
        "        history['train_loss'].append(train_loss)\n",
        "        history['train_acc'].append(train_acc)\n",
        "        history['val_loss'].append(val_loss)\n",
        "        history['val_acc'].append(val_acc)\n",
        "        history['all_true'].extend(val_true)\n",
        "        history['all_preds'].extend(val_preds)\n",
        "\n",
        "        print(f\"Epoch {epoch+1}: Train Loss: {train_loss:.4f}, Train Acc: {train_acc:.2f}% | \"\n",
        "              f\"Val Loss: {val_loss:.4f}, Val Acc: {val_acc:.2f}%\")\n",
        "\n",
        "        # Save best model\n",
        "        if val_acc > best_val_acc:\n",
        "            best_val_acc = val_acc\n",
        "            torch.save(model.state_dict(), \"best_model.pth\")\n",
        "\n",
        "    # Generate plots\n",
        "    generate_evaluation_plots(history, class_names=train_dataset.data['label'].unique())\n",
        "\n",
        "    return model, history\n",
        "\n",
        "def evaluate(model, data_loader, criterion, device):\n",
        "    model.eval()\n",
        "    val_loss = 0.0\n",
        "    correct = 0\n",
        "    total = 0\n",
        "    all_true = []\n",
        "    all_preds = []\n",
        "\n",
        "    with torch.no_grad():\n",
        "        for embeddings, labels in data_loader:\n",
        "            embeddings = embeddings.to(device)\n",
        "            labels = labels.to(device)\n",
        "\n",
        "            outputs = model(embeddings)\n",
        "            loss = criterion(outputs, labels.argmax(dim=1))\n",
        "\n",
        "            val_loss += loss.item()\n",
        "            _, predicted = outputs.max(1)\n",
        "            total += labels.size(0)\n",
        "            correct += predicted.eq(labels.argmax(dim=1)).sum().item()\n",
        "\n",
        "            all_true.extend(labels.argmax(dim=1).cpu().numpy())\n",
        "            all_preds.extend(predicted.cpu().numpy())\n",
        "\n",
        "    val_acc = 100. * correct / total\n",
        "    val_loss = val_loss / len(data_loader)\n",
        "    return val_acc, val_loss, all_true, all_preds"
      ],
      "metadata": {
        "id": "zOQfJNritt00"
      },
      "execution_count": null,
      "outputs": []
    },
    {
      "cell_type": "code",
      "source": [
        "def generate_evaluation_plots(history, class_names):\n",
        "    plt.figure(figsize=(15, 10))\n",
        "\n",
        "    # 1. Training & Validation Loss\n",
        "    plt.subplot(2, 2, 1)\n",
        "    plt.plot(history['train_loss'], label='Train Loss')\n",
        "    plt.plot(history['val_loss'], label='Validation Loss')\n",
        "    plt.title('Training & Validation Loss')\n",
        "    plt.xlabel('Epoch')\n",
        "    plt.ylabel('Loss')\n",
        "    plt.legend()\n",
        "    plt.grid(True)\n",
        "\n",
        "    # 2. Training & Validation Accuracy\n",
        "    plt.subplot(2, 2, 2)\n",
        "    plt.plot(history['train_acc'], label='Train Accuracy')\n",
        "    plt.plot(history['val_acc'], label='Validation Accuracy')\n",
        "    plt.title('Training & Validation Accuracy')\n",
        "    plt.xlabel('Epoch')\n",
        "    plt.ylabel('Accuracy (%)')\n",
        "    plt.legend()\n",
        "    plt.grid(True)\n",
        "\n",
        "    # 3. Confusion Matrix\n",
        "    plt.subplot(2, 2, 3)\n",
        "    cm = confusion_matrix(history['all_true'], history['all_preds'])\n",
        "    sns.heatmap(cm, annot=True, fmt='d', cmap='Blues',\n",
        "                xticklabels=class_names, yticklabels=class_names)\n",
        "    plt.title('Confusion Matrix')\n",
        "    plt.xlabel('Predicted')\n",
        "    plt.ylabel('True')\n",
        "    plt.xticks(rotation=45)\n",
        "    plt.yticks(rotation=0)\n",
        "\n",
        "    # 4. Classification Report\n",
        "    plt.subplot(2, 2, 4)\n",
        "    report = classification_report(history['all_true'], history['all_preds'],\n",
        "                                 target_names=class_names, output_dict=True)\n",
        "    sns.heatmap(pd.DataFrame(report).iloc[:-1, :].T, annot=True, cmap='Greens')\n",
        "    plt.title('Classification Report')\n",
        "    plt.tight_layout()\n",
        "\n",
        "    plt.savefig('training_evaluation.png')\n",
        "    plt.show()\n",
        "\n",
        "    # 5. Learning Curves (separate plot)\n",
        "    plt.figure(figsize=(12, 6))\n",
        "    plt.subplot(1, 2, 1)\n",
        "    plt.plot(history['train_loss'], label='Train')\n",
        "    plt.plot(history['val_loss'], label='Validation')\n",
        "    plt.title('Loss Curve')\n",
        "    plt.xlabel('Epochs')\n",
        "    plt.ylabel('Loss')\n",
        "    plt.legend()\n",
        "\n",
        "    plt.subplot(1, 2, 2)\n",
        "    plt.plot(history['train_acc'], label='Train')\n",
        "    plt.plot(history['val_acc'], label='Validation')\n",
        "    plt.title('Accuracy Curve')\n",
        "    plt.xlabel('Epochs')\n",
        "    plt.ylabel('Accuracy')\n",
        "    plt.legend()\n",
        "\n",
        "    plt.savefig('learning_curves.png')\n",
        "    plt.show()"
      ],
      "metadata": {
        "id": "Oro1Y6ZavDKJ"
      },
      "execution_count": null,
      "outputs": []
    },
    {
      "cell_type": "code",
      "source": [],
      "metadata": {
        "id": "14gm8FVevUVa"
      },
      "execution_count": null,
      "outputs": []
    },
    {
      "cell_type": "code",
      "source": [
        "df_train, df_val = train_test_split(df_audio, test_size=0.2, random_state=42)\n",
        "train_dataset = AudioEmbeddingDataset(df_train)\n",
        "val_dataset = AudioEmbeddingDataset(df_val)\n",
        "\n"
      ],
      "metadata": {
        "id": "fhIwWABYttxp"
      },
      "execution_count": null,
      "outputs": []
    },
    {
      "cell_type": "code",
      "source": [
        "# 2. Train with visualization\n",
        "model, history = train_model_with_plots(\n",
        "    train_dataset,\n",
        "    val_dataset,\n",
        "    num_epochs=100,\n",
        "    batch_size=32,\n",
        "    learning_rate=3e-5\n",
        ")"
      ],
      "metadata": {
        "colab": {
          "base_uri": "https://localhost:8080/",
          "height": 1000
        },
        "id": "YaAs3eK3ttub",
        "outputId": "1b28331e-78ff-42e5-8b76-8072fc6508bd"
      },
      "execution_count": null,
      "outputs": [
        {
          "output_type": "stream",
          "name": "stderr",
          "text": [
            "Epoch 1/100: 100%|██████████| 159/159 [00:02<00:00, 75.06it/s]\n"
          ]
        },
        {
          "output_type": "stream",
          "name": "stdout",
          "text": [
            "Epoch 1: Train Loss: 2.0190, Train Acc: 21.71% | Val Loss: 1.8889, Val Acc: 34.20%\n"
          ]
        },
        {
          "output_type": "stream",
          "name": "stderr",
          "text": [
            "Epoch 2/100: 100%|██████████| 159/159 [00:01<00:00, 83.99it/s]\n"
          ]
        },
        {
          "output_type": "stream",
          "name": "stdout",
          "text": [
            "Epoch 2: Train Loss: 1.7755, Train Acc: 35.17% | Val Loss: 1.6356, Val Acc: 39.72%\n"
          ]
        },
        {
          "output_type": "stream",
          "name": "stderr",
          "text": [
            "Epoch 3/100: 100%|██████████| 159/159 [00:01<00:00, 82.71it/s]\n"
          ]
        },
        {
          "output_type": "stream",
          "name": "stdout",
          "text": [
            "Epoch 3: Train Loss: 1.5717, Train Acc: 42.54% | Val Loss: 1.4782, Val Acc: 47.52%\n"
          ]
        },
        {
          "output_type": "stream",
          "name": "stderr",
          "text": [
            "Epoch 4/100: 100%|██████████| 159/159 [00:01<00:00, 83.11it/s]\n"
          ]
        },
        {
          "output_type": "stream",
          "name": "stdout",
          "text": [
            "Epoch 4: Train Loss: 1.4247, Train Acc: 47.90% | Val Loss: 1.3581, Val Acc: 50.51%\n"
          ]
        },
        {
          "output_type": "stream",
          "name": "stderr",
          "text": [
            "Epoch 5/100: 100%|██████████| 159/159 [00:01<00:00, 81.36it/s]\n"
          ]
        },
        {
          "output_type": "stream",
          "name": "stdout",
          "text": [
            "Epoch 5: Train Loss: 1.3240, Train Acc: 52.28% | Val Loss: 1.2750, Val Acc: 53.11%\n"
          ]
        },
        {
          "output_type": "stream",
          "name": "stderr",
          "text": [
            "Epoch 6/100: 100%|██████████| 159/159 [00:01<00:00, 81.97it/s]\n"
          ]
        },
        {
          "output_type": "stream",
          "name": "stdout",
          "text": [
            "Epoch 6: Train Loss: 1.2413, Train Acc: 54.56% | Val Loss: 1.2213, Val Acc: 56.34%\n"
          ]
        },
        {
          "output_type": "stream",
          "name": "stderr",
          "text": [
            "Epoch 7/100: 100%|██████████| 159/159 [00:01<00:00, 82.98it/s]\n"
          ]
        },
        {
          "output_type": "stream",
          "name": "stdout",
          "text": [
            "Epoch 7: Train Loss: 1.1831, Train Acc: 57.06% | Val Loss: 1.1560, Val Acc: 58.39%\n"
          ]
        },
        {
          "output_type": "stream",
          "name": "stderr",
          "text": [
            "Epoch 8/100: 100%|██████████| 159/159 [00:01<00:00, 83.19it/s]\n"
          ]
        },
        {
          "output_type": "stream",
          "name": "stdout",
          "text": [
            "Epoch 8: Train Loss: 1.1287, Train Acc: 59.07% | Val Loss: 1.0946, Val Acc: 59.81%\n"
          ]
        },
        {
          "output_type": "stream",
          "name": "stderr",
          "text": [
            "Epoch 9/100: 100%|██████████| 159/159 [00:01<00:00, 83.17it/s]\n"
          ]
        },
        {
          "output_type": "stream",
          "name": "stdout",
          "text": [
            "Epoch 9: Train Loss: 1.0825, Train Acc: 60.33% | Val Loss: 1.0872, Val Acc: 62.49%\n"
          ]
        },
        {
          "output_type": "stream",
          "name": "stderr",
          "text": [
            "Epoch 10/100: 100%|██████████| 159/159 [00:01<00:00, 82.51it/s]\n"
          ]
        },
        {
          "output_type": "stream",
          "name": "stdout",
          "text": [
            "Epoch 10: Train Loss: 1.0424, Train Acc: 62.25% | Val Loss: 1.0473, Val Acc: 62.49%\n"
          ]
        },
        {
          "output_type": "stream",
          "name": "stderr",
          "text": [
            "Epoch 11/100: 100%|██████████| 159/159 [00:01<00:00, 82.53it/s]\n"
          ]
        },
        {
          "output_type": "stream",
          "name": "stdout",
          "text": [
            "Epoch 11: Train Loss: 0.9997, Train Acc: 63.21% | Val Loss: 1.0083, Val Acc: 63.04%\n"
          ]
        },
        {
          "output_type": "stream",
          "name": "stderr",
          "text": [
            "Epoch 12/100: 100%|██████████| 159/159 [00:01<00:00, 83.89it/s]\n"
          ]
        },
        {
          "output_type": "stream",
          "name": "stdout",
          "text": [
            "Epoch 12: Train Loss: 0.9604, Train Acc: 64.91% | Val Loss: 0.9597, Val Acc: 65.09%\n"
          ]
        },
        {
          "output_type": "stream",
          "name": "stderr",
          "text": [
            "Epoch 13/100: 100%|██████████| 159/159 [00:01<00:00, 83.65it/s]\n"
          ]
        },
        {
          "output_type": "stream",
          "name": "stdout",
          "text": [
            "Epoch 13: Train Loss: 0.9268, Train Acc: 65.71% | Val Loss: 0.9442, Val Acc: 65.80%\n"
          ]
        },
        {
          "output_type": "stream",
          "name": "stderr",
          "text": [
            "Epoch 14/100: 100%|██████████| 159/159 [00:01<00:00, 83.90it/s]\n"
          ]
        },
        {
          "output_type": "stream",
          "name": "stdout",
          "text": [
            "Epoch 14: Train Loss: 0.8999, Train Acc: 67.25% | Val Loss: 0.9148, Val Acc: 66.04%\n"
          ]
        },
        {
          "output_type": "stream",
          "name": "stderr",
          "text": [
            "Epoch 15/100: 100%|██████████| 159/159 [00:01<00:00, 83.29it/s]\n"
          ]
        },
        {
          "output_type": "stream",
          "name": "stdout",
          "text": [
            "Epoch 15: Train Loss: 0.9004, Train Acc: 66.70% | Val Loss: 0.9322, Val Acc: 65.01%\n"
          ]
        },
        {
          "output_type": "stream",
          "name": "stderr",
          "text": [
            "Epoch 16/100: 100%|██████████| 159/159 [00:01<00:00, 83.25it/s]\n"
          ]
        },
        {
          "output_type": "stream",
          "name": "stdout",
          "text": [
            "Epoch 16: Train Loss: 0.8446, Train Acc: 69.28% | Val Loss: 0.8776, Val Acc: 67.45%\n"
          ]
        },
        {
          "output_type": "stream",
          "name": "stderr",
          "text": [
            "Epoch 17/100: 100%|██████████| 159/159 [00:01<00:00, 84.04it/s]\n"
          ]
        },
        {
          "output_type": "stream",
          "name": "stdout",
          "text": [
            "Epoch 17: Train Loss: 0.8287, Train Acc: 69.95% | Val Loss: 0.8507, Val Acc: 67.53%\n"
          ]
        },
        {
          "output_type": "stream",
          "name": "stderr",
          "text": [
            "Epoch 18/100: 100%|██████████| 159/159 [00:01<00:00, 83.01it/s]\n"
          ]
        },
        {
          "output_type": "stream",
          "name": "stdout",
          "text": [
            "Epoch 18: Train Loss: 0.8006, Train Acc: 71.21% | Val Loss: 0.8513, Val Acc: 68.79%\n"
          ]
        },
        {
          "output_type": "stream",
          "name": "stderr",
          "text": [
            "Epoch 19/100: 100%|██████████| 159/159 [00:01<00:00, 84.00it/s]\n"
          ]
        },
        {
          "output_type": "stream",
          "name": "stdout",
          "text": [
            "Epoch 19: Train Loss: 0.7815, Train Acc: 71.43% | Val Loss: 0.8358, Val Acc: 69.11%\n"
          ]
        },
        {
          "output_type": "stream",
          "name": "stderr",
          "text": [
            "Epoch 20/100: 100%|██████████| 159/159 [00:01<00:00, 81.78it/s]\n"
          ]
        },
        {
          "output_type": "stream",
          "name": "stdout",
          "text": [
            "Epoch 20: Train Loss: 0.7713, Train Acc: 71.96% | Val Loss: 0.8120, Val Acc: 71.39%\n"
          ]
        },
        {
          "output_type": "stream",
          "name": "stderr",
          "text": [
            "Epoch 21/100: 100%|██████████| 159/159 [00:01<00:00, 83.56it/s]\n"
          ]
        },
        {
          "output_type": "stream",
          "name": "stdout",
          "text": [
            "Epoch 21: Train Loss: 0.7508, Train Acc: 72.32% | Val Loss: 0.8129, Val Acc: 70.84%\n"
          ]
        },
        {
          "output_type": "stream",
          "name": "stderr",
          "text": [
            "Epoch 22/100: 100%|██████████| 159/159 [00:01<00:00, 81.75it/s]\n"
          ]
        },
        {
          "output_type": "stream",
          "name": "stdout",
          "text": [
            "Epoch 22: Train Loss: 0.7370, Train Acc: 72.69% | Val Loss: 0.7943, Val Acc: 70.45%\n"
          ]
        },
        {
          "output_type": "stream",
          "name": "stderr",
          "text": [
            "Epoch 23/100: 100%|██████████| 159/159 [00:01<00:00, 84.18it/s]\n"
          ]
        },
        {
          "output_type": "stream",
          "name": "stdout",
          "text": [
            "Epoch 23: Train Loss: 0.7143, Train Acc: 74.03% | Val Loss: 0.7796, Val Acc: 70.92%\n"
          ]
        },
        {
          "output_type": "stream",
          "name": "stderr",
          "text": [
            "Epoch 24/100: 100%|██████████| 159/159 [00:01<00:00, 83.49it/s]\n"
          ]
        },
        {
          "output_type": "stream",
          "name": "stdout",
          "text": [
            "Epoch 24: Train Loss: 0.6975, Train Acc: 74.82% | Val Loss: 0.7982, Val Acc: 71.16%\n"
          ]
        },
        {
          "output_type": "stream",
          "name": "stderr",
          "text": [
            "Epoch 25/100: 100%|██████████| 159/159 [00:01<00:00, 83.47it/s]\n"
          ]
        },
        {
          "output_type": "stream",
          "name": "stdout",
          "text": [
            "Epoch 25: Train Loss: 0.6970, Train Acc: 74.19% | Val Loss: 0.7419, Val Acc: 73.29%\n"
          ]
        },
        {
          "output_type": "stream",
          "name": "stderr",
          "text": [
            "Epoch 26/100: 100%|██████████| 159/159 [00:01<00:00, 83.08it/s]\n"
          ]
        },
        {
          "output_type": "stream",
          "name": "stdout",
          "text": [
            "Epoch 26: Train Loss: 0.6580, Train Acc: 76.45% | Val Loss: 0.7663, Val Acc: 72.42%\n"
          ]
        },
        {
          "output_type": "stream",
          "name": "stderr",
          "text": [
            "Epoch 27/100: 100%|██████████| 159/159 [00:01<00:00, 82.79it/s]\n"
          ]
        },
        {
          "output_type": "stream",
          "name": "stdout",
          "text": [
            "Epoch 27: Train Loss: 0.6556, Train Acc: 76.04% | Val Loss: 0.7192, Val Acc: 73.76%\n"
          ]
        },
        {
          "output_type": "stream",
          "name": "stderr",
          "text": [
            "Epoch 28/100: 100%|██████████| 159/159 [00:01<00:00, 82.35it/s]\n"
          ]
        },
        {
          "output_type": "stream",
          "name": "stdout",
          "text": [
            "Epoch 28: Train Loss: 0.6376, Train Acc: 76.18% | Val Loss: 0.7350, Val Acc: 73.44%\n"
          ]
        },
        {
          "output_type": "stream",
          "name": "stderr",
          "text": [
            "Epoch 29/100: 100%|██████████| 159/159 [00:01<00:00, 84.22it/s]\n"
          ]
        },
        {
          "output_type": "stream",
          "name": "stdout",
          "text": [
            "Epoch 29: Train Loss: 0.6301, Train Acc: 76.63% | Val Loss: 0.7207, Val Acc: 74.70%\n"
          ]
        },
        {
          "output_type": "stream",
          "name": "stderr",
          "text": [
            "Epoch 30/100: 100%|██████████| 159/159 [00:01<00:00, 83.85it/s]\n"
          ]
        },
        {
          "output_type": "stream",
          "name": "stdout",
          "text": [
            "Epoch 30: Train Loss: 0.6151, Train Acc: 77.73% | Val Loss: 0.7062, Val Acc: 74.39%\n"
          ]
        },
        {
          "output_type": "stream",
          "name": "stderr",
          "text": [
            "Epoch 31/100: 100%|██████████| 159/159 [00:01<00:00, 83.51it/s]\n"
          ]
        },
        {
          "output_type": "stream",
          "name": "stdout",
          "text": [
            "Epoch 31: Train Loss: 0.6057, Train Acc: 77.34% | Val Loss: 0.7504, Val Acc: 73.29%\n"
          ]
        },
        {
          "output_type": "stream",
          "name": "stderr",
          "text": [
            "Epoch 32/100: 100%|██████████| 159/159 [00:01<00:00, 83.25it/s]\n"
          ]
        },
        {
          "output_type": "stream",
          "name": "stdout",
          "text": [
            "Epoch 32: Train Loss: 0.6070, Train Acc: 77.91% | Val Loss: 0.7617, Val Acc: 72.03%\n"
          ]
        },
        {
          "output_type": "stream",
          "name": "stderr",
          "text": [
            "Epoch 33/100: 100%|██████████| 159/159 [00:01<00:00, 82.19it/s]\n"
          ]
        },
        {
          "output_type": "stream",
          "name": "stdout",
          "text": [
            "Epoch 33: Train Loss: 0.5962, Train Acc: 78.09% | Val Loss: 0.6981, Val Acc: 75.26%\n"
          ]
        },
        {
          "output_type": "stream",
          "name": "stderr",
          "text": [
            "Epoch 34/100: 100%|██████████| 159/159 [00:01<00:00, 82.49it/s]\n"
          ]
        },
        {
          "output_type": "stream",
          "name": "stdout",
          "text": [
            "Epoch 34: Train Loss: 0.5741, Train Acc: 79.27% | Val Loss: 0.7161, Val Acc: 74.23%\n"
          ]
        },
        {
          "output_type": "stream",
          "name": "stderr",
          "text": [
            "Epoch 35/100: 100%|██████████| 159/159 [00:01<00:00, 83.59it/s]\n"
          ]
        },
        {
          "output_type": "stream",
          "name": "stdout",
          "text": [
            "Epoch 35: Train Loss: 0.5771, Train Acc: 78.94% | Val Loss: 0.6680, Val Acc: 76.91%\n"
          ]
        },
        {
          "output_type": "stream",
          "name": "stderr",
          "text": [
            "Epoch 36/100: 100%|██████████| 159/159 [00:01<00:00, 83.63it/s]\n"
          ]
        },
        {
          "output_type": "stream",
          "name": "stdout",
          "text": [
            "Epoch 36: Train Loss: 0.5559, Train Acc: 79.67% | Val Loss: 0.6707, Val Acc: 75.41%\n"
          ]
        },
        {
          "output_type": "stream",
          "name": "stderr",
          "text": [
            "Epoch 37/100: 100%|██████████| 159/159 [00:01<00:00, 83.41it/s]\n"
          ]
        },
        {
          "output_type": "stream",
          "name": "stdout",
          "text": [
            "Epoch 37: Train Loss: 0.5407, Train Acc: 80.77% | Val Loss: 0.6917, Val Acc: 75.10%\n"
          ]
        },
        {
          "output_type": "stream",
          "name": "stderr",
          "text": [
            "Epoch 38/100: 100%|██████████| 159/159 [00:01<00:00, 82.54it/s]\n"
          ]
        },
        {
          "output_type": "stream",
          "name": "stdout",
          "text": [
            "Epoch 38: Train Loss: 0.5437, Train Acc: 79.94% | Val Loss: 0.6536, Val Acc: 76.75%\n"
          ]
        },
        {
          "output_type": "stream",
          "name": "stderr",
          "text": [
            "Epoch 39/100: 100%|██████████| 159/159 [00:01<00:00, 80.86it/s]\n"
          ]
        },
        {
          "output_type": "stream",
          "name": "stdout",
          "text": [
            "Epoch 39: Train Loss: 0.5237, Train Acc: 81.30% | Val Loss: 0.6539, Val Acc: 76.91%\n"
          ]
        },
        {
          "output_type": "stream",
          "name": "stderr",
          "text": [
            "Epoch 40/100: 100%|██████████| 159/159 [00:01<00:00, 84.09it/s]\n"
          ]
        },
        {
          "output_type": "stream",
          "name": "stdout",
          "text": [
            "Epoch 40: Train Loss: 0.5229, Train Acc: 80.61% | Val Loss: 0.6490, Val Acc: 77.15%\n"
          ]
        },
        {
          "output_type": "stream",
          "name": "stderr",
          "text": [
            "Epoch 41/100: 100%|██████████| 159/159 [00:01<00:00, 83.36it/s]\n"
          ]
        },
        {
          "output_type": "stream",
          "name": "stdout",
          "text": [
            "Epoch 41: Train Loss: 0.5127, Train Acc: 81.16% | Val Loss: 0.6449, Val Acc: 77.78%\n"
          ]
        },
        {
          "output_type": "stream",
          "name": "stderr",
          "text": [
            "Epoch 42/100: 100%|██████████| 159/159 [00:01<00:00, 83.18it/s]\n"
          ]
        },
        {
          "output_type": "stream",
          "name": "stdout",
          "text": [
            "Epoch 42: Train Loss: 0.5020, Train Acc: 81.73% | Val Loss: 0.6364, Val Acc: 77.78%\n"
          ]
        },
        {
          "output_type": "stream",
          "name": "stderr",
          "text": [
            "Epoch 43/100: 100%|██████████| 159/159 [00:01<00:00, 83.39it/s]\n"
          ]
        },
        {
          "output_type": "stream",
          "name": "stdout",
          "text": [
            "Epoch 43: Train Loss: 0.4903, Train Acc: 82.56% | Val Loss: 0.6504, Val Acc: 77.15%\n"
          ]
        },
        {
          "output_type": "stream",
          "name": "stderr",
          "text": [
            "Epoch 44/100: 100%|██████████| 159/159 [00:01<00:00, 82.27it/s]\n"
          ]
        },
        {
          "output_type": "stream",
          "name": "stdout",
          "text": [
            "Epoch 44: Train Loss: 0.4893, Train Acc: 82.42% | Val Loss: 0.6659, Val Acc: 76.12%\n"
          ]
        },
        {
          "output_type": "stream",
          "name": "stderr",
          "text": [
            "Epoch 45/100: 100%|██████████| 159/159 [00:01<00:00, 81.30it/s]\n"
          ]
        },
        {
          "output_type": "stream",
          "name": "stdout",
          "text": [
            "Epoch 45: Train Loss: 0.4734, Train Acc: 82.80% | Val Loss: 0.6664, Val Acc: 76.12%\n"
          ]
        },
        {
          "output_type": "stream",
          "name": "stderr",
          "text": [
            "Epoch 46/100: 100%|██████████| 159/159 [00:01<00:00, 83.53it/s]\n"
          ]
        },
        {
          "output_type": "stream",
          "name": "stdout",
          "text": [
            "Epoch 46: Train Loss: 0.4741, Train Acc: 82.82% | Val Loss: 0.6364, Val Acc: 78.25%\n"
          ]
        },
        {
          "output_type": "stream",
          "name": "stderr",
          "text": [
            "Epoch 47/100: 100%|██████████| 159/159 [00:01<00:00, 83.61it/s]\n"
          ]
        },
        {
          "output_type": "stream",
          "name": "stdout",
          "text": [
            "Epoch 47: Train Loss: 0.4629, Train Acc: 83.33% | Val Loss: 0.6357, Val Acc: 77.46%\n"
          ]
        },
        {
          "output_type": "stream",
          "name": "stderr",
          "text": [
            "Epoch 48/100: 100%|██████████| 159/159 [00:01<00:00, 82.81it/s]\n"
          ]
        },
        {
          "output_type": "stream",
          "name": "stdout",
          "text": [
            "Epoch 48: Train Loss: 0.4559, Train Acc: 83.68% | Val Loss: 0.6206, Val Acc: 78.33%\n"
          ]
        },
        {
          "output_type": "stream",
          "name": "stderr",
          "text": [
            "Epoch 49/100: 100%|██████████| 159/159 [00:01<00:00, 83.21it/s]\n"
          ]
        },
        {
          "output_type": "stream",
          "name": "stdout",
          "text": [
            "Epoch 49: Train Loss: 0.4448, Train Acc: 83.67% | Val Loss: 0.6120, Val Acc: 78.64%\n"
          ]
        },
        {
          "output_type": "stream",
          "name": "stderr",
          "text": [
            "Epoch 50/100: 100%|██████████| 159/159 [00:01<00:00, 83.22it/s]\n"
          ]
        },
        {
          "output_type": "stream",
          "name": "stdout",
          "text": [
            "Epoch 50: Train Loss: 0.4405, Train Acc: 83.84% | Val Loss: 0.6648, Val Acc: 77.86%\n"
          ]
        },
        {
          "output_type": "stream",
          "name": "stderr",
          "text": [
            "Epoch 51/100: 100%|██████████| 159/159 [00:01<00:00, 83.53it/s]\n"
          ]
        },
        {
          "output_type": "stream",
          "name": "stdout",
          "text": [
            "Epoch 51: Train Loss: 0.4453, Train Acc: 83.98% | Val Loss: 0.6340, Val Acc: 78.01%\n"
          ]
        },
        {
          "output_type": "stream",
          "name": "stderr",
          "text": [
            "Epoch 52/100: 100%|██████████| 159/159 [00:01<00:00, 82.86it/s]\n"
          ]
        },
        {
          "output_type": "stream",
          "name": "stdout",
          "text": [
            "Epoch 52: Train Loss: 0.4374, Train Acc: 84.30% | Val Loss: 0.6161, Val Acc: 78.80%\n"
          ]
        },
        {
          "output_type": "stream",
          "name": "stderr",
          "text": [
            "Epoch 53/100: 100%|██████████| 159/159 [00:01<00:00, 83.78it/s]\n"
          ]
        },
        {
          "output_type": "stream",
          "name": "stdout",
          "text": [
            "Epoch 53: Train Loss: 0.4295, Train Acc: 84.91% | Val Loss: 0.6133, Val Acc: 78.33%\n"
          ]
        },
        {
          "output_type": "stream",
          "name": "stderr",
          "text": [
            "Epoch 54/100: 100%|██████████| 159/159 [00:01<00:00, 83.82it/s]\n"
          ]
        },
        {
          "output_type": "stream",
          "name": "stdout",
          "text": [
            "Epoch 54: Train Loss: 0.4207, Train Acc: 85.14% | Val Loss: 0.6294, Val Acc: 77.86%\n"
          ]
        },
        {
          "output_type": "stream",
          "name": "stderr",
          "text": [
            "Epoch 55/100: 100%|██████████| 159/159 [00:01<00:00, 83.16it/s]\n"
          ]
        },
        {
          "output_type": "stream",
          "name": "stdout",
          "text": [
            "Epoch 55: Train Loss: 0.4193, Train Acc: 85.16% | Val Loss: 0.6340, Val Acc: 78.49%\n"
          ]
        },
        {
          "output_type": "stream",
          "name": "stderr",
          "text": [
            "Epoch 56/100: 100%|██████████| 159/159 [00:01<00:00, 82.77it/s]\n"
          ]
        },
        {
          "output_type": "stream",
          "name": "stdout",
          "text": [
            "Epoch 56: Train Loss: 0.4138, Train Acc: 85.30% | Val Loss: 0.6237, Val Acc: 78.25%\n"
          ]
        },
        {
          "output_type": "stream",
          "name": "stderr",
          "text": [
            "Epoch 57/100: 100%|██████████| 159/159 [00:01<00:00, 83.13it/s]\n"
          ]
        },
        {
          "output_type": "stream",
          "name": "stdout",
          "text": [
            "Epoch 57: Train Loss: 0.4007, Train Acc: 85.85% | Val Loss: 0.6072, Val Acc: 78.88%\n"
          ]
        },
        {
          "output_type": "stream",
          "name": "stderr",
          "text": [
            "Epoch 58/100: 100%|██████████| 159/159 [00:01<00:00, 83.41it/s]\n"
          ]
        },
        {
          "output_type": "stream",
          "name": "stdout",
          "text": [
            "Epoch 58: Train Loss: 0.3987, Train Acc: 85.42% | Val Loss: 0.6406, Val Acc: 77.62%\n"
          ]
        },
        {
          "output_type": "stream",
          "name": "stderr",
          "text": [
            "Epoch 59/100: 100%|██████████| 159/159 [00:01<00:00, 83.05it/s]\n"
          ]
        },
        {
          "output_type": "stream",
          "name": "stdout",
          "text": [
            "Epoch 59: Train Loss: 0.3928, Train Acc: 85.73% | Val Loss: 0.6282, Val Acc: 79.35%\n"
          ]
        },
        {
          "output_type": "stream",
          "name": "stderr",
          "text": [
            "Epoch 60/100: 100%|██████████| 159/159 [00:01<00:00, 83.38it/s]\n"
          ]
        },
        {
          "output_type": "stream",
          "name": "stdout",
          "text": [
            "Epoch 60: Train Loss: 0.3955, Train Acc: 85.89% | Val Loss: 0.6302, Val Acc: 79.04%\n"
          ]
        },
        {
          "output_type": "stream",
          "name": "stderr",
          "text": [
            "Epoch 61/100: 100%|██████████| 159/159 [00:01<00:00, 82.54it/s]\n"
          ]
        },
        {
          "output_type": "stream",
          "name": "stdout",
          "text": [
            "Epoch 61: Train Loss: 0.3944, Train Acc: 85.91% | Val Loss: 0.6278, Val Acc: 78.80%\n"
          ]
        },
        {
          "output_type": "stream",
          "name": "stderr",
          "text": [
            "Epoch 62/100: 100%|██████████| 159/159 [00:01<00:00, 79.74it/s]\n"
          ]
        },
        {
          "output_type": "stream",
          "name": "stdout",
          "text": [
            "Epoch 62: Train Loss: 0.3847, Train Acc: 85.99% | Val Loss: 0.6057, Val Acc: 79.51%\n"
          ]
        },
        {
          "output_type": "stream",
          "name": "stderr",
          "text": [
            "Epoch 63/100: 100%|██████████| 159/159 [00:01<00:00, 83.40it/s]\n"
          ]
        },
        {
          "output_type": "stream",
          "name": "stdout",
          "text": [
            "Epoch 63: Train Loss: 0.3862, Train Acc: 86.50% | Val Loss: 0.6131, Val Acc: 79.35%\n"
          ]
        },
        {
          "output_type": "stream",
          "name": "stderr",
          "text": [
            "Epoch 64/100: 100%|██████████| 159/159 [00:01<00:00, 83.79it/s]\n"
          ]
        },
        {
          "output_type": "stream",
          "name": "stdout",
          "text": [
            "Epoch 64: Train Loss: 0.3780, Train Acc: 86.42% | Val Loss: 0.6220, Val Acc: 78.88%\n"
          ]
        },
        {
          "output_type": "stream",
          "name": "stderr",
          "text": [
            "Epoch 65/100: 100%|██████████| 159/159 [00:01<00:00, 83.10it/s]\n"
          ]
        },
        {
          "output_type": "stream",
          "name": "stdout",
          "text": [
            "Epoch 65: Train Loss: 0.3729, Train Acc: 86.94% | Val Loss: 0.6087, Val Acc: 79.28%\n"
          ]
        },
        {
          "output_type": "stream",
          "name": "stderr",
          "text": [
            "Epoch 66/100: 100%|██████████| 159/159 [00:01<00:00, 83.21it/s]\n"
          ]
        },
        {
          "output_type": "stream",
          "name": "stdout",
          "text": [
            "Epoch 66: Train Loss: 0.3749, Train Acc: 86.58% | Val Loss: 0.6147, Val Acc: 79.28%\n"
          ]
        },
        {
          "output_type": "stream",
          "name": "stderr",
          "text": [
            "Epoch 67/100: 100%|██████████| 159/159 [00:01<00:00, 82.03it/s]\n"
          ]
        },
        {
          "output_type": "stream",
          "name": "stdout",
          "text": [
            "Epoch 67: Train Loss: 0.3699, Train Acc: 86.70% | Val Loss: 0.6043, Val Acc: 79.75%\n"
          ]
        },
        {
          "output_type": "stream",
          "name": "stderr",
          "text": [
            "Epoch 68/100: 100%|██████████| 159/159 [00:01<00:00, 83.19it/s]\n"
          ]
        },
        {
          "output_type": "stream",
          "name": "stdout",
          "text": [
            "Epoch 68: Train Loss: 0.3650, Train Acc: 87.41% | Val Loss: 0.6209, Val Acc: 79.35%\n"
          ]
        },
        {
          "output_type": "stream",
          "name": "stderr",
          "text": [
            "Epoch 69/100: 100%|██████████| 159/159 [00:01<00:00, 84.22it/s]\n"
          ]
        },
        {
          "output_type": "stream",
          "name": "stdout",
          "text": [
            "Epoch 69: Train Loss: 0.3621, Train Acc: 87.17% | Val Loss: 0.6108, Val Acc: 79.75%\n"
          ]
        },
        {
          "output_type": "stream",
          "name": "stderr",
          "text": [
            "Epoch 70/100: 100%|██████████| 159/159 [00:01<00:00, 84.05it/s]\n"
          ]
        },
        {
          "output_type": "stream",
          "name": "stdout",
          "text": [
            "Epoch 70: Train Loss: 0.3549, Train Acc: 87.65% | Val Loss: 0.6190, Val Acc: 79.35%\n"
          ]
        },
        {
          "output_type": "stream",
          "name": "stderr",
          "text": [
            "Epoch 71/100: 100%|██████████| 159/159 [00:01<00:00, 83.58it/s]\n"
          ]
        },
        {
          "output_type": "stream",
          "name": "stdout",
          "text": [
            "Epoch 71: Train Loss: 0.3452, Train Acc: 87.53% | Val Loss: 0.6095, Val Acc: 79.35%\n"
          ]
        },
        {
          "output_type": "stream",
          "name": "stderr",
          "text": [
            "Epoch 72/100: 100%|██████████| 159/159 [00:01<00:00, 83.19it/s]\n"
          ]
        },
        {
          "output_type": "stream",
          "name": "stdout",
          "text": [
            "Epoch 72: Train Loss: 0.3418, Train Acc: 88.41% | Val Loss: 0.6158, Val Acc: 79.28%\n"
          ]
        },
        {
          "output_type": "stream",
          "name": "stderr",
          "text": [
            "Epoch 73/100: 100%|██████████| 159/159 [00:01<00:00, 81.72it/s]\n"
          ]
        },
        {
          "output_type": "stream",
          "name": "stdout",
          "text": [
            "Epoch 73: Train Loss: 0.3540, Train Acc: 87.29% | Val Loss: 0.6134, Val Acc: 78.88%\n"
          ]
        },
        {
          "output_type": "stream",
          "name": "stderr",
          "text": [
            "Epoch 74/100: 100%|██████████| 159/159 [00:01<00:00, 82.63it/s]\n"
          ]
        },
        {
          "output_type": "stream",
          "name": "stdout",
          "text": [
            "Epoch 74: Train Loss: 0.3463, Train Acc: 87.45% | Val Loss: 0.6208, Val Acc: 79.91%\n"
          ]
        },
        {
          "output_type": "stream",
          "name": "stderr",
          "text": [
            "Epoch 75/100: 100%|██████████| 159/159 [00:01<00:00, 82.94it/s]\n"
          ]
        },
        {
          "output_type": "stream",
          "name": "stdout",
          "text": [
            "Epoch 75: Train Loss: 0.3420, Train Acc: 88.14% | Val Loss: 0.6041, Val Acc: 80.06%\n"
          ]
        },
        {
          "output_type": "stream",
          "name": "stderr",
          "text": [
            "Epoch 76/100: 100%|██████████| 159/159 [00:01<00:00, 83.57it/s]\n"
          ]
        },
        {
          "output_type": "stream",
          "name": "stdout",
          "text": [
            "Epoch 76: Train Loss: 0.3398, Train Acc: 88.33% | Val Loss: 0.6127, Val Acc: 79.59%\n"
          ]
        },
        {
          "output_type": "stream",
          "name": "stderr",
          "text": [
            "Epoch 77/100: 100%|██████████| 159/159 [00:01<00:00, 83.20it/s]\n"
          ]
        },
        {
          "output_type": "stream",
          "name": "stdout",
          "text": [
            "Epoch 77: Train Loss: 0.3379, Train Acc: 88.04% | Val Loss: 0.6088, Val Acc: 79.75%\n"
          ]
        },
        {
          "output_type": "stream",
          "name": "stderr",
          "text": [
            "Epoch 78/100: 100%|██████████| 159/159 [00:01<00:00, 83.44it/s]\n"
          ]
        },
        {
          "output_type": "stream",
          "name": "stdout",
          "text": [
            "Epoch 78: Train Loss: 0.3367, Train Acc: 88.28% | Val Loss: 0.6012, Val Acc: 79.59%\n"
          ]
        },
        {
          "output_type": "stream",
          "name": "stderr",
          "text": [
            "Epoch 79/100: 100%|██████████| 159/159 [00:01<00:00, 80.50it/s]\n"
          ]
        },
        {
          "output_type": "stream",
          "name": "stdout",
          "text": [
            "Epoch 79: Train Loss: 0.3415, Train Acc: 87.65% | Val Loss: 0.6001, Val Acc: 80.61%\n"
          ]
        },
        {
          "output_type": "stream",
          "name": "stderr",
          "text": [
            "Epoch 80/100: 100%|██████████| 159/159 [00:01<00:00, 82.82it/s]\n"
          ]
        },
        {
          "output_type": "stream",
          "name": "stdout",
          "text": [
            "Epoch 80: Train Loss: 0.3295, Train Acc: 88.32% | Val Loss: 0.5991, Val Acc: 80.22%\n"
          ]
        },
        {
          "output_type": "stream",
          "name": "stderr",
          "text": [
            "Epoch 81/100: 100%|██████████| 159/159 [00:01<00:00, 83.36it/s]\n"
          ]
        },
        {
          "output_type": "stream",
          "name": "stdout",
          "text": [
            "Epoch 81: Train Loss: 0.3288, Train Acc: 88.45% | Val Loss: 0.6021, Val Acc: 80.06%\n"
          ]
        },
        {
          "output_type": "stream",
          "name": "stderr",
          "text": [
            "Epoch 82/100: 100%|██████████| 159/159 [00:01<00:00, 82.72it/s]\n"
          ]
        },
        {
          "output_type": "stream",
          "name": "stdout",
          "text": [
            "Epoch 82: Train Loss: 0.3218, Train Acc: 88.87% | Val Loss: 0.6044, Val Acc: 80.38%\n"
          ]
        },
        {
          "output_type": "stream",
          "name": "stderr",
          "text": [
            "Epoch 83/100: 100%|██████████| 159/159 [00:01<00:00, 83.48it/s]\n"
          ]
        },
        {
          "output_type": "stream",
          "name": "stdout",
          "text": [
            "Epoch 83: Train Loss: 0.3224, Train Acc: 88.39% | Val Loss: 0.6184, Val Acc: 79.51%\n"
          ]
        },
        {
          "output_type": "stream",
          "name": "stderr",
          "text": [
            "Epoch 84/100: 100%|██████████| 159/159 [00:01<00:00, 83.44it/s]\n"
          ]
        },
        {
          "output_type": "stream",
          "name": "stdout",
          "text": [
            "Epoch 84: Train Loss: 0.3258, Train Acc: 88.91% | Val Loss: 0.6084, Val Acc: 80.30%\n"
          ]
        },
        {
          "output_type": "stream",
          "name": "stderr",
          "text": [
            "Epoch 85/100: 100%|██████████| 159/159 [00:01<00:00, 82.45it/s]\n"
          ]
        },
        {
          "output_type": "stream",
          "name": "stdout",
          "text": [
            "Epoch 85: Train Loss: 0.3266, Train Acc: 88.83% | Val Loss: 0.6039, Val Acc: 79.67%\n"
          ]
        },
        {
          "output_type": "stream",
          "name": "stderr",
          "text": [
            "Epoch 86/100: 100%|██████████| 159/159 [00:01<00:00, 82.85it/s]\n"
          ]
        },
        {
          "output_type": "stream",
          "name": "stdout",
          "text": [
            "Epoch 86: Train Loss: 0.3159, Train Acc: 89.08% | Val Loss: 0.6046, Val Acc: 80.38%\n"
          ]
        },
        {
          "output_type": "stream",
          "name": "stderr",
          "text": [
            "Epoch 87/100: 100%|██████████| 159/159 [00:01<00:00, 83.76it/s]\n"
          ]
        },
        {
          "output_type": "stream",
          "name": "stdout",
          "text": [
            "Epoch 87: Train Loss: 0.3205, Train Acc: 89.22% | Val Loss: 0.6093, Val Acc: 79.83%\n"
          ]
        },
        {
          "output_type": "stream",
          "name": "stderr",
          "text": [
            "Epoch 88/100: 100%|██████████| 159/159 [00:01<00:00, 82.19it/s]\n"
          ]
        },
        {
          "output_type": "stream",
          "name": "stdout",
          "text": [
            "Epoch 88: Train Loss: 0.3210, Train Acc: 89.02% | Val Loss: 0.6030, Val Acc: 80.38%\n"
          ]
        },
        {
          "output_type": "stream",
          "name": "stderr",
          "text": [
            "Epoch 89/100: 100%|██████████| 159/159 [00:01<00:00, 82.64it/s]\n"
          ]
        },
        {
          "output_type": "stream",
          "name": "stdout",
          "text": [
            "Epoch 89: Train Loss: 0.3227, Train Acc: 88.55% | Val Loss: 0.6069, Val Acc: 79.98%\n"
          ]
        },
        {
          "output_type": "stream",
          "name": "stderr",
          "text": [
            "Epoch 90/100: 100%|██████████| 159/159 [00:01<00:00, 81.13it/s]\n"
          ]
        },
        {
          "output_type": "stream",
          "name": "stdout",
          "text": [
            "Epoch 90: Train Loss: 0.3236, Train Acc: 88.37% | Val Loss: 0.6088, Val Acc: 80.38%\n"
          ]
        },
        {
          "output_type": "stream",
          "name": "stderr",
          "text": [
            "Epoch 91/100: 100%|██████████| 159/159 [00:01<00:00, 80.91it/s]\n"
          ]
        },
        {
          "output_type": "stream",
          "name": "stdout",
          "text": [
            "Epoch 91: Train Loss: 0.3201, Train Acc: 88.99% | Val Loss: 0.6039, Val Acc: 80.46%\n"
          ]
        },
        {
          "output_type": "stream",
          "name": "stderr",
          "text": [
            "Epoch 92/100: 100%|██████████| 159/159 [00:01<00:00, 82.63it/s]\n"
          ]
        },
        {
          "output_type": "stream",
          "name": "stdout",
          "text": [
            "Epoch 92: Train Loss: 0.3192, Train Acc: 88.79% | Val Loss: 0.6050, Val Acc: 80.30%\n"
          ]
        },
        {
          "output_type": "stream",
          "name": "stderr",
          "text": [
            "Epoch 93/100: 100%|██████████| 159/159 [00:01<00:00, 83.26it/s]\n"
          ]
        },
        {
          "output_type": "stream",
          "name": "stdout",
          "text": [
            "Epoch 93: Train Loss: 0.3171, Train Acc: 88.75% | Val Loss: 0.6073, Val Acc: 80.61%\n"
          ]
        },
        {
          "output_type": "stream",
          "name": "stderr",
          "text": [
            "Epoch 94/100: 100%|██████████| 159/159 [00:01<00:00, 83.86it/s]\n"
          ]
        },
        {
          "output_type": "stream",
          "name": "stdout",
          "text": [
            "Epoch 94: Train Loss: 0.3161, Train Acc: 89.02% | Val Loss: 0.6062, Val Acc: 80.46%\n"
          ]
        },
        {
          "output_type": "stream",
          "name": "stderr",
          "text": [
            "Epoch 95/100: 100%|██████████| 159/159 [00:01<00:00, 84.32it/s]\n"
          ]
        },
        {
          "output_type": "stream",
          "name": "stdout",
          "text": [
            "Epoch 95: Train Loss: 0.3184, Train Acc: 89.02% | Val Loss: 0.6059, Val Acc: 80.54%\n"
          ]
        },
        {
          "output_type": "stream",
          "name": "stderr",
          "text": [
            "Epoch 96/100: 100%|██████████| 159/159 [00:01<00:00, 82.04it/s]\n"
          ]
        },
        {
          "output_type": "stream",
          "name": "stdout",
          "text": [
            "Epoch 96: Train Loss: 0.3130, Train Acc: 89.06% | Val Loss: 0.6052, Val Acc: 80.54%\n"
          ]
        },
        {
          "output_type": "stream",
          "name": "stderr",
          "text": [
            "Epoch 97/100: 100%|██████████| 159/159 [00:01<00:00, 83.97it/s]\n"
          ]
        },
        {
          "output_type": "stream",
          "name": "stdout",
          "text": [
            "Epoch 97: Train Loss: 0.3094, Train Acc: 89.91% | Val Loss: 0.6054, Val Acc: 80.46%\n"
          ]
        },
        {
          "output_type": "stream",
          "name": "stderr",
          "text": [
            "Epoch 98/100: 100%|██████████| 159/159 [00:01<00:00, 83.87it/s]\n"
          ]
        },
        {
          "output_type": "stream",
          "name": "stdout",
          "text": [
            "Epoch 98: Train Loss: 0.3086, Train Acc: 89.48% | Val Loss: 0.6054, Val Acc: 80.54%\n"
          ]
        },
        {
          "output_type": "stream",
          "name": "stderr",
          "text": [
            "Epoch 99/100: 100%|██████████| 159/159 [00:01<00:00, 83.82it/s]\n"
          ]
        },
        {
          "output_type": "stream",
          "name": "stdout",
          "text": [
            "Epoch 99: Train Loss: 0.3110, Train Acc: 89.56% | Val Loss: 0.6054, Val Acc: 80.46%\n"
          ]
        },
        {
          "output_type": "stream",
          "name": "stderr",
          "text": [
            "Epoch 100/100: 100%|██████████| 159/159 [00:01<00:00, 83.80it/s]\n"
          ]
        },
        {
          "output_type": "stream",
          "name": "stdout",
          "text": [
            "Epoch 100: Train Loss: 0.3120, Train Acc: 89.18% | Val Loss: 0.6054, Val Acc: 80.46%\n"
          ]
        },
        {
          "output_type": "display_data",
          "data": {
            "text/plain": [
              "<Figure size 1500x1000 with 6 Axes>"
            ],
            "image/png": "[encoded data removed]"
          },
          "metadata": {}
        },
        {
          "output_type": "display_data",
          "data": {
            "text/plain": [
              "<Figure size 1200x600 with 2 Axes>"
            ],
            "image/png": "[encoded data removed]"
          },
          "metadata": {}
        }
      ]
    },
    {
      "cell_type": "code",
      "source": [
        "\n",
        "\n",
        "torch.save(model.state_dict(), \"/content/drive/MyDrive/final_model.pth\")\n"
      ],
      "metadata": {
        "id": "DmY60647uQBU"
      },
      "execution_count": null,
      "outputs": []
    },
    {
      "cell_type": "code",
      "source": [
        "device = torch.device(\"cuda\" if torch.cuda.is_available() else \"cpu\")"
      ],
      "metadata": {
        "id": "y79YGXU3AVu9"
      },
      "execution_count": null,
      "outputs": []
    },
    {
      "cell_type": "code",
      "source": [
        "from sklearn.metrics import precision_recall_curve, roc_curve, auc\n",
        "import numpy as np\n",
        "\n",
        "def plot_roc_curve(true_labels, pred_probs, class_names):\n",
        "    plt.figure(figsize=(10, 8))\n",
        "    for i, class_name in enumerate(class_names):\n",
        "        fpr, tpr, _ = roc_curve((true_labels == i).astype(int), pred_probs[:, i])\n",
        "        roc_auc = auc(fpr, tpr)\n",
        "        plt.plot(fpr, tpr, label=f'{class_name} (AUC = {roc_auc:.2f})')\n",
        "\n",
        "    plt.plot([0, 1], [0, 1], 'k--')\n",
        "    plt.xlim([0.0, 1.0])\n",
        "    plt.ylim([0.0, 1.05])\n",
        "    plt.xlabel('False Positive Rate')\n",
        "    plt.ylabel('True Positive Rate')\n",
        "    plt.title('ROC Curve for Each Class')\n",
        "    plt.legend(loc=\"lower right\")\n",
        "    plt.savefig('roc_curves.png')\n",
        "    plt.show()\n",
        "\n",
        "# Get prediction probabilities for ROC curve\n",
        "def get_pred_probs(model, data_loader, device):\n",
        "    model.eval()\n",
        "    all_probs = []\n",
        "    all_true = []\n",
        "    with torch.no_grad():\n",
        "        for embeddings, labels in data_loader:\n",
        "            embeddings = embeddings.to(device)\n",
        "            outputs = model(embeddings)\n",
        "            probs = torch.softmax(outputs, dim=1)\n",
        "            all_probs.extend(probs.cpu().numpy())\n",
        "            all_true.extend(labels.argmax(dim=1).cpu().numpy())\n",
        "    return np.array(all_probs), np.array(all_true)\n",
        "\n",
        "val_loader = DataLoader(val_dataset, batch_size=32)\n",
        "pred_probs, true_labels = get_pred_probs(model, val_loader, device)\n",
        "plot_roc_curve(true_labels, pred_probs, class_names=df_train['label'].unique())"
      ],
      "metadata": {
        "id": "moZcwWdhA3JD",
        "colab": {
          "base_uri": "https://localhost:8080/",
          "height": 718
        },
        "outputId": "0825fb40-5bbf-43bf-c2ca-448049e51913"
      },
      "execution_count": null,
      "outputs": [
        {
          "output_type": "display_data",
          "data": {
            "text/plain": [
              "<Figure size 1000x800 with 1 Axes>"
            ],
            "image/png": "[encoded data removed]"
          },
          "metadata": {}
        }
      ]
    },
    {
      "cell_type": "markdown",
      "source": [
        "## FPT Dataset"
      ],
      "metadata": {
        "id": "pCdeicJKCfou"
      }
    },
    {
      "cell_type": "code",
      "source": [],
      "metadata": {
        "id": "W_2tignlPusK"
      },
      "execution_count": null,
      "outputs": []
    }
  ]
}